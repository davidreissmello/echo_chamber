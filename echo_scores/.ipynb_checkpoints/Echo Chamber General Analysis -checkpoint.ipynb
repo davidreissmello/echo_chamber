{
 "cells": [
  {
   "cell_type": "code",
   "execution_count": 2,
   "metadata": {},
   "outputs": [],
   "source": [
    "import pandas as pd\n",
    "import numpy as np\n",
    "import matplotlib.pyplot as plt"
   ]
  },
  {
   "cell_type": "code",
   "execution_count": 66,
   "metadata": {},
   "outputs": [],
   "source": [
    "candidate_info = pd.read_csv('Candidates_2018.txt', sep='\\t')\n",
    "raw = pd.read_csv('echo_calculation_raw.csv')"
   ]
  },
  {
   "cell_type": "code",
   "execution_count": 69,
   "metadata": {},
   "outputs": [
    {
     "data": {
      "text/html": [
       "<div>\n",
       "<style scoped>\n",
       "    .dataframe tbody tr th:only-of-type {\n",
       "        vertical-align: middle;\n",
       "    }\n",
       "\n",
       "    .dataframe tbody tr th {\n",
       "        vertical-align: top;\n",
       "    }\n",
       "\n",
       "    .dataframe thead th {\n",
       "        text-align: right;\n",
       "    }\n",
       "</style>\n",
       "<table border=\"1\" class=\"dataframe\">\n",
       "  <thead>\n",
       "    <tr style=\"text-align: right;\">\n",
       "      <th></th>\n",
       "      <th>candidates</th>\n",
       "      <th>followers</th>\n",
       "      <th>f_of_f_candidate_followers</th>\n",
       "      <th>n_f_of_f</th>\n",
       "      <th>ratio</th>\n",
       "      <th>n_candidate_followers</th>\n",
       "      <th>ratio_normalized</th>\n",
       "    </tr>\n",
       "  </thead>\n",
       "  <tbody>\n",
       "    <tr>\n",
       "      <th>0</th>\n",
       "      <td>1477484929</td>\n",
       "      <td>26292603</td>\n",
       "      <td>0</td>\n",
       "      <td>20606</td>\n",
       "      <td>0.0</td>\n",
       "      <td>2</td>\n",
       "      <td>0.0</td>\n",
       "    </tr>\n",
       "    <tr>\n",
       "      <th>1</th>\n",
       "      <td>1477484929</td>\n",
       "      <td>1252381038</td>\n",
       "      <td>0</td>\n",
       "      <td>423</td>\n",
       "      <td>0.0</td>\n",
       "      <td>2</td>\n",
       "      <td>0.0</td>\n",
       "    </tr>\n",
       "    <tr>\n",
       "      <th>2</th>\n",
       "      <td>969648670818811904</td>\n",
       "      <td>937362574814748672</td>\n",
       "      <td>0</td>\n",
       "      <td>446</td>\n",
       "      <td>0.0</td>\n",
       "      <td>10</td>\n",
       "      <td>0.0</td>\n",
       "    </tr>\n",
       "    <tr>\n",
       "      <th>3</th>\n",
       "      <td>969648670818811904</td>\n",
       "      <td>4896017459</td>\n",
       "      <td>0</td>\n",
       "      <td>4864</td>\n",
       "      <td>0.0</td>\n",
       "      <td>10</td>\n",
       "      <td>0.0</td>\n",
       "    </tr>\n",
       "    <tr>\n",
       "      <th>4</th>\n",
       "      <td>969648670818811904</td>\n",
       "      <td>1049645884743606272</td>\n",
       "      <td>0</td>\n",
       "      <td>456</td>\n",
       "      <td>0.0</td>\n",
       "      <td>10</td>\n",
       "      <td>0.0</td>\n",
       "    </tr>\n",
       "  </tbody>\n",
       "</table>\n",
       "</div>"
      ],
      "text/plain": [
       "           candidates            followers  f_of_f_candidate_followers  \\\n",
       "0          1477484929             26292603                           0   \n",
       "1          1477484929           1252381038                           0   \n",
       "2  969648670818811904   937362574814748672                           0   \n",
       "3  969648670818811904           4896017459                           0   \n",
       "4  969648670818811904  1049645884743606272                           0   \n",
       "\n",
       "   n_f_of_f  ratio  n_candidate_followers  ratio_normalized  \n",
       "0     20606    0.0                      2               0.0  \n",
       "1       423    0.0                      2               0.0  \n",
       "2       446    0.0                     10               0.0  \n",
       "3      4864    0.0                     10               0.0  \n",
       "4       456    0.0                     10               0.0  "
      ]
     },
     "execution_count": 69,
     "metadata": {},
     "output_type": "execute_result"
    }
   ],
   "source": [
    "raw.head()"
   ]
  },
  {
   "cell_type": "code",
   "execution_count": 182,
   "metadata": {},
   "outputs": [
    {
     "data": {
      "text/plain": [
       "(275972, 7)"
      ]
     },
     "execution_count": 182,
     "metadata": {},
     "output_type": "execute_result"
    }
   ],
   "source": [
    "raw.shape"
   ]
  },
  {
   "cell_type": "code",
   "execution_count": 183,
   "metadata": {},
   "outputs": [
    {
     "data": {
      "text/plain": [
       "95"
      ]
     },
     "execution_count": 183,
     "metadata": {},
     "output_type": "execute_result"
    }
   ],
   "source": [
    "len(raw.candidates.unique())"
   ]
  },
  {
   "cell_type": "markdown",
   "metadata": {},
   "source": [
    "# Are all the candidates in the echo_computation in the candidate_info?"
   ]
  },
  {
   "cell_type": "code",
   "execution_count": 87,
   "metadata": {},
   "outputs": [
    {
     "data": {
      "text/plain": [
       "[974753842561601536,\n",
       " 985904307017924608,\n",
       " 1004724076810833920,\n",
       " 722092071285207040,\n",
       " 847171099376914432,\n",
       " 956324325556146176,\n",
       " 912402069335805952,\n",
       " 949089035556982784,\n",
       " 902612614634725376,\n",
       " 885364339321954304,\n",
       " 861246117689925632,\n",
       " 958408514807967744]"
      ]
     },
     "execution_count": 87,
     "metadata": {},
     "output_type": "execute_result"
    }
   ],
   "source": [
    "missing = list(set(raw.candidates) - set(candidate_info.UserID))\n",
    "missing"
   ]
  },
  {
   "cell_type": "code",
   "execution_count": 99,
   "metadata": {},
   "outputs": [
    {
     "name": "stdout",
     "output_type": "stream",
     "text": [
      "User not found\n",
      "User not found\n",
      "User not found\n",
      "User not found\n",
      "User not found\n",
      "User not found\n",
      "User not found\n",
      "User not found\n",
      "User not found\n",
      "User not found\n",
      "User not found\n",
      "User not found\n"
     ]
    }
   ],
   "source": [
    "#who are these candidates?\n",
    "import twitter\n",
    "api = twitter.Api(consumer_key= 'RoKyGypNXjkKxAMZ56ZmACAXU',\n",
    "                  consumer_secret='zjEqTC8byFOjuMUPwoiRbBa6iBACglP8Jy4Z9lbTdbX7fbjNFk',\n",
    "                  access_token_key= '825138308426653697-DYieQ0F5GEVzXdwldCiIacmTrK2A8ru',\n",
    "                  access_token_secret= 'mSoV9doa4zaFG6ffOHk5Btw8d30xeW9AIZSXYlyMMAtKq')\n",
    "\n",
    "for missed in missing:\n",
    "    try:\n",
    "        user = api.GetUser(missed)\n",
    "        print(user.name)\n",
    "    except:\n",
    "        print('User not found')"
   ]
  },
  {
   "cell_type": "code",
   "execution_count": 100,
   "metadata": {},
   "outputs": [
    {
     "data": {
      "text/plain": [
       "User(ID=1477484929, ScreenName=paulaoverby)"
      ]
     },
     "execution_count": 100,
     "metadata": {},
     "output_type": "execute_result"
    }
   ],
   "source": [
    "#if user is real:\n",
    "api.GetUser(1477484929)"
   ]
  },
  {
   "cell_type": "code",
   "execution_count": null,
   "metadata": {},
   "outputs": [],
   "source": []
  },
  {
   "cell_type": "markdown",
   "metadata": {},
   "source": [
    "# Which candidates are in the candidate_info but not in the echo computation?"
   ]
  },
  {
   "cell_type": "code",
   "execution_count": 102,
   "metadata": {},
   "outputs": [
    {
     "data": {
      "text/plain": [
       "[747234420676038656,\n",
       " 1163888566079873025,\n",
       " 722092071285207042,\n",
       " 912402069335805954,\n",
       " 956324325556146177,\n",
       " 861246117689925633,\n",
       " 949089035556982786,\n",
       " 985904307017924614,\n",
       " 958408514807967751,\n",
       " 1004724076810833921,\n",
       " 847171099376914433,\n",
       " 974753842561601537,\n",
       " 902612614634725377,\n",
       " 885364339321954305]"
      ]
     },
     "execution_count": 102,
     "metadata": {},
     "output_type": "execute_result"
    }
   ],
   "source": [
    "missing2 = list(set(candidate_info.UserID) - set(raw.candidates))\n",
    "missing2"
   ]
  },
  {
   "cell_type": "code",
   "execution_count": 110,
   "metadata": {},
   "outputs": [
    {
     "data": {
      "text/plain": [
       "7                      Robert Arlett\n",
       "9                Kerri Evelyn Harris\n",
       "13                      Lucy Brenton\n",
       "18                   Zak Ringelstein\n",
       "27                        John James\n",
       "31                     Jim Newberger\n",
       "43                         Tim Hagan\n",
       "45    Barry Michaels For U.S. Senate\n",
       "47        Tricia Flanagan For Senate\n",
       "48           Hoffman for Senate 2019\n",
       "49                         Bob Hugin\n",
       "52                    Natalie Rivera\n",
       "64      Bob Flanders for U.S. Senate\n",
       "72                       Tim Aalders\n",
       "Name: Real Name, dtype: object"
      ]
     },
     "execution_count": 110,
     "metadata": {},
     "output_type": "execute_result"
    }
   ],
   "source": [
    "candidate_info[candidate_info['UserID'].isin(missing2)]['Real Name']"
   ]
  },
  {
   "cell_type": "code",
   "execution_count": null,
   "metadata": {},
   "outputs": [],
   "source": []
  },
  {
   "cell_type": "markdown",
   "metadata": {},
   "source": [
    "# How many followers have 0 of their followers following the candidate?"
   ]
  },
  {
   "cell_type": "code",
   "execution_count": 111,
   "metadata": {},
   "outputs": [],
   "source": [
    "df = pd.merge(raw, candidate_info, left_on='candidates', right_on='UserID')"
   ]
  },
  {
   "cell_type": "code",
   "execution_count": 120,
   "metadata": {},
   "outputs": [
    {
     "name": "stdout",
     "output_type": "stream",
     "text": [
      "Percentage of People Who Follow Candidate A where none of their followers follow Candidate A:\n",
      "0.290175306756522\n"
     ]
    }
   ],
   "source": [
    "print('Percentage of People Who Follow Candidate A where none of their followers follow Candidate A:')\n",
    "print(sum(df.f_of_f_candidate_followers == 0) / df.shape[0])"
   ]
  },
  {
   "cell_type": "code",
   "execution_count": 124,
   "metadata": {
    "scrolled": true
   },
   "outputs": [
    {
     "data": {
      "image/png": "[encoded data removed]",
      "text/plain": [
       "<Figure size 432x288 with 1 Axes>"
      ]
     },
     "metadata": {
      "needs_background": "light"
     },
     "output_type": "display_data"
    }
   ],
   "source": [
    "plt.hist(df.f_of_f_candidate_followers, bins=50)\n",
    "plt.title('Hist of Number of Followers Followers that also follow Candidate')\n",
    "plt.show()"
   ]
  },
  {
   "cell_type": "code",
   "execution_count": 134,
   "metadata": {},
   "outputs": [
    {
     "data": {
      "image/png": "[encoded data removed]",
      "text/plain": [
       "<Figure size 432x288 with 1 Axes>"
      ]
     },
     "metadata": {
      "needs_background": "light"
     },
     "output_type": "display_data"
    }
   ],
   "source": [
    "non_zero = df.f_of_f_candidate_followers[df.f_of_f_candidate_followers != 0]\n",
    "plt.hist(non_zero, bins=50, range=(0,150))\n",
    "plt.title('Not including 0: Hist of Number of Followers Followers that also follow Candidate')\n",
    "plt.show()"
   ]
  },
  {
   "cell_type": "markdown",
   "metadata": {},
   "source": [
    "# Followers with most of their followers following candidate:"
   ]
  },
  {
   "cell_type": "code",
   "execution_count": 142,
   "metadata": {},
   "outputs": [
    {
     "data": {
      "text/html": [
       "<div>\n",
       "<style scoped>\n",
       "    .dataframe tbody tr th:only-of-type {\n",
       "        vertical-align: middle;\n",
       "    }\n",
       "\n",
       "    .dataframe tbody tr th {\n",
       "        vertical-align: top;\n",
       "    }\n",
       "\n",
       "    .dataframe thead th {\n",
       "        text-align: right;\n",
       "    }\n",
       "</style>\n",
       "<table border=\"1\" class=\"dataframe\">\n",
       "  <thead>\n",
       "    <tr style=\"text-align: right;\">\n",
       "      <th></th>\n",
       "      <th>candidates</th>\n",
       "      <th>followers</th>\n",
       "      <th>f_of_f_candidate_followers</th>\n",
       "      <th>n_f_of_f</th>\n",
       "      <th>ratio</th>\n",
       "      <th>n_candidate_followers</th>\n",
       "      <th>ratio_normalized</th>\n",
       "      <th>UserID</th>\n",
       "      <th>Real Name</th>\n",
       "      <th>Screenname</th>\n",
       "      <th>...</th>\n",
       "      <th>Profile Created At</th>\n",
       "      <th>URL</th>\n",
       "      <th>Location</th>\n",
       "      <th>UTC Offset</th>\n",
       "      <th>Time Zone</th>\n",
       "      <th>Favourites Count</th>\n",
       "      <th>Friends Count</th>\n",
       "      <th>Followers Count</th>\n",
       "      <th>Statuses Count</th>\n",
       "      <th>Profile Image URL</th>\n",
       "    </tr>\n",
       "  </thead>\n",
       "  <tbody>\n",
       "    <tr>\n",
       "      <th>39656</th>\n",
       "      <td>567930956</td>\n",
       "      <td>16703058</td>\n",
       "      <td>3553</td>\n",
       "      <td>579127</td>\n",
       "      <td>0.006135</td>\n",
       "      <td>4685</td>\n",
       "      <td>0.000001</td>\n",
       "      <td>567930956</td>\n",
       "      <td>Craig Bowden</td>\n",
       "      <td>Bowden4Senate</td>\n",
       "      <td>...</td>\n",
       "      <td>Tue May 01 06:40:57 +0000 2012</td>\n",
       "      <td>https://t.co/MKXYpgs0hS</td>\n",
       "      <td>North Ogden, UT</td>\n",
       "      <td>None</td>\n",
       "      <td>None</td>\n",
       "      <td>802</td>\n",
       "      <td>6010</td>\n",
       "      <td>6185</td>\n",
       "      <td>55055</td>\n",
       "      <td>http://pbs.twimg.com/profile_images/9549610427...</td>\n",
       "    </tr>\n",
       "    <tr>\n",
       "      <th>38508</th>\n",
       "      <td>567930956</td>\n",
       "      <td>66951419</td>\n",
       "      <td>3413</td>\n",
       "      <td>129741</td>\n",
       "      <td>0.026306</td>\n",
       "      <td>4685</td>\n",
       "      <td>0.000006</td>\n",
       "      <td>567930956</td>\n",
       "      <td>Craig Bowden</td>\n",
       "      <td>Bowden4Senate</td>\n",
       "      <td>...</td>\n",
       "      <td>Tue May 01 06:40:57 +0000 2012</td>\n",
       "      <td>https://t.co/MKXYpgs0hS</td>\n",
       "      <td>North Ogden, UT</td>\n",
       "      <td>None</td>\n",
       "      <td>None</td>\n",
       "      <td>802</td>\n",
       "      <td>6010</td>\n",
       "      <td>6185</td>\n",
       "      <td>55055</td>\n",
       "      <td>http://pbs.twimg.com/profile_images/9549610427...</td>\n",
       "    </tr>\n",
       "    <tr>\n",
       "      <th>40512</th>\n",
       "      <td>567930956</td>\n",
       "      <td>26122639</td>\n",
       "      <td>3372</td>\n",
       "      <td>172977</td>\n",
       "      <td>0.019494</td>\n",
       "      <td>4685</td>\n",
       "      <td>0.000004</td>\n",
       "      <td>567930956</td>\n",
       "      <td>Craig Bowden</td>\n",
       "      <td>Bowden4Senate</td>\n",
       "      <td>...</td>\n",
       "      <td>Tue May 01 06:40:57 +0000 2012</td>\n",
       "      <td>https://t.co/MKXYpgs0hS</td>\n",
       "      <td>North Ogden, UT</td>\n",
       "      <td>None</td>\n",
       "      <td>None</td>\n",
       "      <td>802</td>\n",
       "      <td>6010</td>\n",
       "      <td>6185</td>\n",
       "      <td>55055</td>\n",
       "      <td>http://pbs.twimg.com/profile_images/9549610427...</td>\n",
       "    </tr>\n",
       "    <tr>\n",
       "      <th>39854</th>\n",
       "      <td>567930956</td>\n",
       "      <td>158060289</td>\n",
       "      <td>3370</td>\n",
       "      <td>172565</td>\n",
       "      <td>0.019529</td>\n",
       "      <td>4685</td>\n",
       "      <td>0.000004</td>\n",
       "      <td>567930956</td>\n",
       "      <td>Craig Bowden</td>\n",
       "      <td>Bowden4Senate</td>\n",
       "      <td>...</td>\n",
       "      <td>Tue May 01 06:40:57 +0000 2012</td>\n",
       "      <td>https://t.co/MKXYpgs0hS</td>\n",
       "      <td>North Ogden, UT</td>\n",
       "      <td>None</td>\n",
       "      <td>None</td>\n",
       "      <td>802</td>\n",
       "      <td>6010</td>\n",
       "      <td>6185</td>\n",
       "      <td>55055</td>\n",
       "      <td>http://pbs.twimg.com/profile_images/9549610427...</td>\n",
       "    </tr>\n",
       "    <tr>\n",
       "      <th>42371</th>\n",
       "      <td>567930956</td>\n",
       "      <td>264268489</td>\n",
       "      <td>3296</td>\n",
       "      <td>117339</td>\n",
       "      <td>0.028090</td>\n",
       "      <td>4685</td>\n",
       "      <td>0.000006</td>\n",
       "      <td>567930956</td>\n",
       "      <td>Craig Bowden</td>\n",
       "      <td>Bowden4Senate</td>\n",
       "      <td>...</td>\n",
       "      <td>Tue May 01 06:40:57 +0000 2012</td>\n",
       "      <td>https://t.co/MKXYpgs0hS</td>\n",
       "      <td>North Ogden, UT</td>\n",
       "      <td>None</td>\n",
       "      <td>None</td>\n",
       "      <td>802</td>\n",
       "      <td>6010</td>\n",
       "      <td>6185</td>\n",
       "      <td>55055</td>\n",
       "      <td>http://pbs.twimg.com/profile_images/9549610427...</td>\n",
       "    </tr>\n",
       "  </tbody>\n",
       "</table>\n",
       "<p>5 rows × 21 columns</p>\n",
       "</div>"
      ],
      "text/plain": [
       "       candidates  followers  f_of_f_candidate_followers  n_f_of_f     ratio  \\\n",
       "39656   567930956   16703058                        3553    579127  0.006135   \n",
       "38508   567930956   66951419                        3413    129741  0.026306   \n",
       "40512   567930956   26122639                        3372    172977  0.019494   \n",
       "39854   567930956  158060289                        3370    172565  0.019529   \n",
       "42371   567930956  264268489                        3296    117339  0.028090   \n",
       "\n",
       "       n_candidate_followers  ratio_normalized     UserID     Real Name  \\\n",
       "39656                   4685          0.000001  567930956  Craig Bowden   \n",
       "38508                   4685          0.000006  567930956  Craig Bowden   \n",
       "40512                   4685          0.000004  567930956  Craig Bowden   \n",
       "39854                   4685          0.000004  567930956  Craig Bowden   \n",
       "42371                   4685          0.000006  567930956  Craig Bowden   \n",
       "\n",
       "          Screenname  ...              Profile Created At  \\\n",
       "39656  Bowden4Senate  ...  Tue May 01 06:40:57 +0000 2012   \n",
       "38508  Bowden4Senate  ...  Tue May 01 06:40:57 +0000 2012   \n",
       "40512  Bowden4Senate  ...  Tue May 01 06:40:57 +0000 2012   \n",
       "39854  Bowden4Senate  ...  Tue May 01 06:40:57 +0000 2012   \n",
       "42371  Bowden4Senate  ...  Tue May 01 06:40:57 +0000 2012   \n",
       "\n",
       "                           URL         Location UTC Offset Time Zone  \\\n",
       "39656  https://t.co/MKXYpgs0hS  North Ogden, UT       None      None   \n",
       "38508  https://t.co/MKXYpgs0hS  North Ogden, UT       None      None   \n",
       "40512  https://t.co/MKXYpgs0hS  North Ogden, UT       None      None   \n",
       "39854  https://t.co/MKXYpgs0hS  North Ogden, UT       None      None   \n",
       "42371  https://t.co/MKXYpgs0hS  North Ogden, UT       None      None   \n",
       "\n",
       "      Favourites Count  Friends Count  Followers Count  Statuses Count  \\\n",
       "39656              802           6010             6185           55055   \n",
       "38508              802           6010             6185           55055   \n",
       "40512              802           6010             6185           55055   \n",
       "39854              802           6010             6185           55055   \n",
       "42371              802           6010             6185           55055   \n",
       "\n",
       "                                       Profile Image URL  \n",
       "39656  http://pbs.twimg.com/profile_images/9549610427...  \n",
       "38508  http://pbs.twimg.com/profile_images/9549610427...  \n",
       "40512  http://pbs.twimg.com/profile_images/9549610427...  \n",
       "39854  http://pbs.twimg.com/profile_images/9549610427...  \n",
       "42371  http://pbs.twimg.com/profile_images/9549610427...  \n",
       "\n",
       "[5 rows x 21 columns]"
      ]
     },
     "execution_count": 142,
     "metadata": {},
     "output_type": "execute_result"
    }
   ],
   "source": [
    "most_followers_following_candidate = df.nlargest(20, 'f_of_f_candidate_followers')\n",
    "most_followers_following_candidate.head()"
   ]
  },
  {
   "cell_type": "code",
   "execution_count": 151,
   "metadata": {},
   "outputs": [
    {
     "name": "stdout",
     "output_type": "stream",
     "text": [
      "Markham Robinson 3553 1.3095189854628263e-06\n",
      "Bob Miller 3413 5.614996010811032e-06\n",
      "WashingtonDCTeaParty 3372 4.160922338772264e-06\n",
      "Nat Shupe 3370 4.1683827488202145e-06\n",
      "Bob Gaskin, \"Banzai\" 3296 5.995635537503405e-06\n",
      "LindaPJ 🇺🇸🇮🇱🙏🏻 3127 3.64276525327569e-06\n",
      "ConserValidity 3070 6.072381361689785e-06\n",
      "Lou 3035 4.6171380161133085e-06\n",
      "☠☠BossHoggUSMC☠☠ 3032 9.895442347568372e-06\n",
      "Capt. Dan Porter 3000 4.3179085191061306e-06\n",
      "Stonewall Jackson 2980 3.3070619040960907e-06\n",
      "PolitixGal 2926 8.044546663401925e-06\n",
      "Rob 🇺🇸 🇺🇸 🇺🇸 2900 3.2853363814004554e-06\n",
      "Marty Smith 2894 7.690401444934487e-06\n",
      "Thomas More Law 2860 1.5357456891054682e-05\n",
      "✯✯Gene McVay✯✯ 2860 5.738636278701447e-06\n",
      "occupycorruptDC 2783 1.1894981461160629e-05\n",
      "Dave Blount 2776 1.1306948877683495e-05\n",
      "Code of Vets ™ 2765 4.536990317522818e-06\n",
      "Max Emfinger Patriot 2756 2.7181619730351117e-06\n"
     ]
    }
   ],
   "source": [
    "n_following = most_followers_following_candidate.f_of_f_candidate_followers.tolist()\n",
    "echo_chamber = most_followers_following_candidate.ratio_normalized.tolist()\n",
    "for i, follower in enumerate(most_followers_following_candidate.followers):\n",
    "    user = api.GetUser(follower)\n",
    "    print(user.name, n_following[i], echo_chamber[i])"
   ]
  },
  {
   "cell_type": "code",
   "execution_count": null,
   "metadata": {},
   "outputs": [],
   "source": []
  },
  {
   "cell_type": "markdown",
   "metadata": {},
   "source": [
    "# Most echo-chambered Followers: "
   ]
  },
  {
   "cell_type": "code",
   "execution_count": 152,
   "metadata": {},
   "outputs": [],
   "source": [
    "most_echod_followers = df.nlargest(20, 'ratio_normalized')"
   ]
  },
  {
   "cell_type": "code",
   "execution_count": 153,
   "metadata": {},
   "outputs": [
    {
     "name": "stdout",
     "output_type": "stream",
     "text": [
      "Not Chris McDaniel 0.0015179113539769275\n",
      "An Independent Voice 0.001277139208173691\n",
      "Childers' Moustache 0.0012524601896582574\n",
      "Chuckies Beard 0.0012143290831815425\n",
      "Larry Girouard 0.0010554089709762533\n",
      "Monique Chartier 0.001011433597185576\n",
      "Turned Off Lamp of Liberty 0.0009876543209876543\n",
      "J.H. Snider 0.0008062151861624158\n",
      "John Hill 0.0007859428507269972\n",
      "John Carlevale 0.0007760360080707745\n",
      "Maureen Moakley 0.0007695690413368514\n",
      "ann flanders 0.0007538635506973237\n",
      "Bill Felkner 0.0007378918653011938\n",
      "Roger Clemente For Hawaii State Senate 0.000732421875\n",
      "Make MS Blue 0.0007223535592329919\n",
      "Robert G. Flanders 0.0007036059806508355\n",
      "Larry Berman 0.0006635804907335724\n",
      "RenewRI 0.0006453939750574209\n",
      "Ddrep 0.0005863383172090296\n",
      "Jake Ryann 0.0005787037037037037\n"
     ]
    }
   ],
   "source": [
    "echo_chamber = most_echod_followers.ratio_normalized.tolist()\n",
    "for i, follower in enumerate(most_echod_followers.followers):\n",
    "    user = api.GetUser(follower)\n",
    "    print(user.name, echo_chamber[i])"
   ]
  },
  {
   "cell_type": "code",
   "execution_count": null,
   "metadata": {},
   "outputs": [],
   "source": []
  },
  {
   "cell_type": "markdown",
   "metadata": {},
   "source": [
    "# Most/Least Echo Chambered Candidates "
   ]
  },
  {
   "cell_type": "code",
   "execution_count": 155,
   "metadata": {},
   "outputs": [],
   "source": [
    "candidate_echo = raw.groupby('candidates').mean()"
   ]
  },
  {
   "cell_type": "code",
   "execution_count": 157,
   "metadata": {},
   "outputs": [],
   "source": [
    "candidate_echo = pd.merge(candidate_echo, candidate_info, left_index = True, right_on='UserID')"
   ]
  },
  {
   "cell_type": "code",
   "execution_count": 172,
   "metadata": {},
   "outputs": [],
   "source": [
    "most_echod_candidate = candidate_echo.nlargest(20, 'ratio_normalized').sort_values('ratio_normalized', ascending=True)"
   ]
  },
  {
   "cell_type": "code",
   "execution_count": 174,
   "metadata": {},
   "outputs": [
    {
     "data": {
      "image/png": "[encoded data removed]",
      "text/plain": [
       "<Figure size 432x288 with 1 Axes>"
      ]
     },
     "metadata": {
      "needs_background": "light"
     },
     "output_type": "display_data"
    }
   ],
   "source": [
    "plt.barh(most_echod_candidate['Real Name'], most_echod_candidate.ratio_normalized)\n",
    "plt.title('Most Echo Chambered Candidates')\n",
    "plt.show()"
   ]
  },
  {
   "cell_type": "code",
   "execution_count": 178,
   "metadata": {},
   "outputs": [
    {
     "data": {
      "image/png": "[encoded data removed]",
      "text/plain": [
       "<Figure size 432x288 with 1 Axes>"
      ]
     },
     "metadata": {
      "needs_background": "light"
     },
     "output_type": "display_data"
    }
   ],
   "source": [
    "least_echod_candidate = candidate_echo.nsmallest(20, 'ratio_normalized').sort_values('ratio_normalized', ascending=False)\n",
    "\n",
    "plt.barh(least_echod_candidate['Real Name'], least_echod_candidate.ratio_normalized)\n",
    "plt.title('Least Echo Chambered Candidates')\n",
    "plt.show()"
   ]
  },
  {
   "cell_type": "code",
   "execution_count": null,
   "metadata": {},
   "outputs": [],
   "source": []
  },
  {
   "cell_type": "markdown",
   "metadata": {},
   "source": [
    "# Distribution of Echo Chamberedness for Candidates and Followers "
   ]
  },
  {
   "cell_type": "code",
   "execution_count": 185,
   "metadata": {},
   "outputs": [
    {
     "data": {
      "image/png": "[encoded data removed]",
      "text/plain": [
       "<Figure size 432x288 with 1 Axes>"
      ]
     },
     "metadata": {
      "needs_background": "light"
     },
     "output_type": "display_data"
    }
   ],
   "source": [
    "plt.hist(candidate_echo.ratio_normalized, bins=50)\n",
    "plt.title('Echo Chamberedness of Candidates')\n",
    "plt.show()"
   ]
  },
  {
   "cell_type": "code",
   "execution_count": 187,
   "metadata": {},
   "outputs": [
    {
     "data": {
      "image/png": "[encoded data removed]",
      "text/plain": [
       "<Figure size 432x288 with 1 Axes>"
      ]
     },
     "metadata": {
      "needs_background": "light"
     },
     "output_type": "display_data"
    }
   ],
   "source": [
    "plt.hist(df.ratio_normalized, bins=50)\n",
    "plt.title('Echo Chamberedness of Followers')\n",
    "plt.show()"
   ]
  },
  {
   "cell_type": "code",
   "execution_count": null,
   "metadata": {},
   "outputs": [],
   "source": []
  },
  {
   "cell_type": "markdown",
   "metadata": {},
   "source": [
    "# How many followers do candidates have?"
   ]
  },
  {
   "cell_type": "code",
   "execution_count": 190,
   "metadata": {},
   "outputs": [
    {
     "data": {
      "text/plain": [
       "(array([ 9.,  5.,  5.,  1.,  1.,  1.,  1., 26., 31.,  3.]),\n",
       " array([2.0000e+00, 4.7030e+02, 9.3860e+02, 1.4069e+03, 1.8752e+03,\n",
       "        2.3435e+03, 2.8118e+03, 3.2801e+03, 3.7484e+03, 4.2167e+03,\n",
       "        4.6850e+03]),\n",
       " <a list of 10 Patch objects>)"
      ]
     },
     "execution_count": 190,
     "metadata": {},
     "output_type": "execute_result"
    },
    {
     "data": {
      "image/png": "[encoded data removed]",
      "text/plain": [
       "<Figure size 432x288 with 1 Axes>"
      ]
     },
     "metadata": {
      "needs_background": "light"
     },
     "output_type": "display_data"
    }
   ],
   "source": [
    "plt.hist(candidate_echo.n_candidate_followers)"
   ]
  },
  {
   "cell_type": "code",
   "execution_count": null,
   "metadata": {},
   "outputs": [],
   "source": []
  },
  {
   "cell_type": "markdown",
   "metadata": {},
   "source": [
    "# How does number of followers correlate with echo chamberedness?"
   ]
  },
  {
   "cell_type": "code",
   "execution_count": 211,
   "metadata": {},
   "outputs": [
    {
     "data": {
      "image/png": "[encoded data removed]",
      "text/plain": [
       "<Figure size 432x288 with 1 Axes>"
      ]
     },
     "metadata": {
      "needs_background": "light"
     },
     "output_type": "display_data"
    }
   ],
   "source": [
    "plt.scatter(candidate_echo.n_candidate_followers, candidate_echo.ratio_normalized)\n",
    "plt.title('Number of Followers vs Echo Chamberedness of Candidates')\n",
    "plt.ylim(-0.0001, 0.0003)\n",
    "plt.show()"
   ]
  },
  {
   "cell_type": "code",
   "execution_count": 210,
   "metadata": {},
   "outputs": [
    {
     "data": {
      "image/png": "[encoded data removed]",
      "text/plain": [
       "<Figure size 432x288 with 1 Axes>"
      ]
     },
     "metadata": {
      "needs_background": "light"
     },
     "output_type": "display_data"
    }
   ],
   "source": [
    "plt.scatter(candidate_echo.n_candidate_followers, candidate_echo.ratio)\n",
    "plt.title('Number of Followers vs Echo Chamberedness (Non-Normalized) of Candidates')\n",
    "plt.show()"
   ]
  },
  {
   "cell_type": "code",
   "execution_count": null,
   "metadata": {},
   "outputs": [],
   "source": []
  },
  {
   "cell_type": "markdown",
   "metadata": {},
   "source": [
    "# Do candidates appear twice in dataset?"
   ]
  },
  {
   "cell_type": "code",
   "execution_count": 269,
   "metadata": {},
   "outputs": [
    {
     "data": {
      "text/html": [
       "<div>\n",
       "<style scoped>\n",
       "    .dataframe tbody tr th:only-of-type {\n",
       "        vertical-align: middle;\n",
       "    }\n",
       "\n",
       "    .dataframe tbody tr th {\n",
       "        vertical-align: top;\n",
       "    }\n",
       "\n",
       "    .dataframe thead th {\n",
       "        text-align: right;\n",
       "    }\n",
       "</style>\n",
       "<table border=\"1\" class=\"dataframe\">\n",
       "  <thead>\n",
       "    <tr style=\"text-align: right;\">\n",
       "      <th></th>\n",
       "      <th>followers</th>\n",
       "      <th>f_of_f_candidate_followers</th>\n",
       "      <th>n_f_of_f</th>\n",
       "      <th>ratio</th>\n",
       "      <th>n_candidate_followers</th>\n",
       "      <th>ratio_normalized</th>\n",
       "      <th>UserID</th>\n",
       "      <th>Real Name</th>\n",
       "      <th>Screenname</th>\n",
       "      <th>Profile Description</th>\n",
       "      <th>...</th>\n",
       "      <th>Location</th>\n",
       "      <th>UTC Offset</th>\n",
       "      <th>Time Zone</th>\n",
       "      <th>Favourites Count</th>\n",
       "      <th>Friends Count</th>\n",
       "      <th>Followers Count</th>\n",
       "      <th>Statuses Count</th>\n",
       "      <th>Profile Image URL</th>\n",
       "      <th>candidate_name</th>\n",
       "      <th>names_merge</th>\n",
       "    </tr>\n",
       "  </thead>\n",
       "  <tbody>\n",
       "    <tr>\n",
       "      <th>22</th>\n",
       "      <td>1.110616e+17</td>\n",
       "      <td>13.766706</td>\n",
       "      <td>8330.94959</td>\n",
       "      <td>0.012468</td>\n",
       "      <td>853.0</td>\n",
       "      <td>0.000015</td>\n",
       "      <td>138526050</td>\n",
       "      <td>Arvin Vohra</td>\n",
       "      <td>VoteVohra</td>\n",
       "      <td>Arvin Vohra is a candidate for U.S. Senate, an...</td>\n",
       "      <td>...</td>\n",
       "      <td>Bethesda, MD</td>\n",
       "      <td>None</td>\n",
       "      <td>None</td>\n",
       "      <td>2</td>\n",
       "      <td>1794</td>\n",
       "      <td>983</td>\n",
       "      <td>1771</td>\n",
       "      <td>http://pbs.twimg.com/profile_images/860753740/...</td>\n",
       "      <td>arvin vohra</td>\n",
       "      <td>arvin vohra</td>\n",
       "    </tr>\n",
       "  </tbody>\n",
       "</table>\n",
       "<p>1 rows × 22 columns</p>\n",
       "</div>"
      ],
      "text/plain": [
       "       followers  f_of_f_candidate_followers    n_f_of_f     ratio  \\\n",
       "22  1.110616e+17                   13.766706  8330.94959  0.012468   \n",
       "\n",
       "    n_candidate_followers  ratio_normalized     UserID    Real Name  \\\n",
       "22                  853.0          0.000015  138526050  Arvin Vohra   \n",
       "\n",
       "   Screenname                                Profile Description  ...  \\\n",
       "22  VoteVohra  Arvin Vohra is a candidate for U.S. Senate, an...  ...   \n",
       "\n",
       "        Location UTC Offset Time Zone Favourites Count Friends Count  \\\n",
       "22  Bethesda, MD       None      None                2          1794   \n",
       "\n",
       "    Followers Count  Statuses Count  \\\n",
       "22              983            1771   \n",
       "\n",
       "                                    Profile Image URL  candidate_name  \\\n",
       "22  http://pbs.twimg.com/profile_images/860753740/...     arvin vohra   \n",
       "\n",
       "    names_merge  \n",
       "22  arvin vohra  \n",
       "\n",
       "[1 rows x 22 columns]"
      ]
     },
     "execution_count": 269,
     "metadata": {},
     "output_type": "execute_result"
    }
   ],
   "source": [
    "candidate_echo[candidate_echo['Real Name'].duplicated()]"
   ]
  },
  {
   "cell_type": "code",
   "execution_count": null,
   "metadata": {},
   "outputs": [],
   "source": []
  },
  {
   "cell_type": "code",
   "execution_count": null,
   "metadata": {},
   "outputs": [],
   "source": []
  },
  {
   "cell_type": "code",
   "execution_count": null,
   "metadata": {},
   "outputs": [],
   "source": []
  },
  {
   "cell_type": "code",
   "execution_count": null,
   "metadata": {},
   "outputs": [],
   "source": []
  },
  {
   "cell_type": "markdown",
   "metadata": {},
   "source": [
    "# POLLS"
   ]
  },
  {
   "cell_type": "code",
   "execution_count": 259,
   "metadata": {},
   "outputs": [],
   "source": [
    "polls = pd.read_csv('../poll_variance/poll_variances_2018.csv')"
   ]
  },
  {
   "cell_type": "code",
   "execution_count": 260,
   "metadata": {},
   "outputs": [],
   "source": [
    "from fuzzywuzzy import fuzz\n",
    "\n",
    "def match_name(name, list_names, min_score=0):\n",
    "    # -1 score incase we don't get any matches\n",
    "    max_score = -1\n",
    "    # Returning empty name for no match as well\n",
    "    max_name = \"\"\n",
    "    # Iternating over all names in the other\n",
    "    for name2 in list_names:\n",
    "        #Finding fuzzy match score\n",
    "        score = fuzz.ratio(name, name2)\n",
    "        # Checking if we are above our threshold and have a better score\n",
    "        if (score > min_score) & (score > max_score):\n",
    "            max_name = name2\n",
    "            max_score = score\n",
    "    return (max_name, max_score)"
   ]
  },
  {
   "cell_type": "code",
   "execution_count": 272,
   "metadata": {},
   "outputs": [],
   "source": [
    "# List for dicts for easy dataframe creation\n",
    "dict_list = []\n",
    "# iterating over our players without salaries found above\n",
    "for name in candidate_echo['Real Name']:\n",
    "    # Use our method to find best match, we can set a threshold here\n",
    "    match = match_name(name, polls.candidate_name)\n",
    "    \n",
    "    # New dict for storing data\n",
    "    dict_ = {}\n",
    "    dict_.update({\"twitter_name\" : name})\n",
    "    dict_.update({\"poll_name\" : match[0]})\n",
    "    dict_.update({\"score\" : match[1]})\n",
    "    dict_list.append(dict_)\n",
    "    \n",
    "merge_table = pd.DataFrame(dict_list)\n",
    "# Display results\n"
   ]
  },
  {
   "cell_type": "code",
   "execution_count": 262,
   "metadata": {},
   "outputs": [],
   "source": [
    "polls = pd.merge(polls, merge_table, left_on='candidate_name', right_on='poll_name')\n",
    "polls.to_csv('polls_twitter_names.csv', index=False)"
   ]
  },
  {
   "cell_type": "code",
   "execution_count": 273,
   "metadata": {},
   "outputs": [],
   "source": [
    "polls_new = pd.read_csv('polls_twitter_names_clean.csv')"
   ]
  },
  {
   "cell_type": "code",
   "execution_count": 284,
   "metadata": {},
   "outputs": [],
   "source": [
    "poll_analysis = pd.merge(candidate_echo, polls_new, left_on='Real Name', right_on='twitter_name')"
   ]
  },
  {
   "cell_type": "code",
   "execution_count": 295,
   "metadata": {},
   "outputs": [
    {
     "data": {
      "image/png": "[encoded data removed]",
      "text/plain": [
       "<Figure size 432x288 with 1 Axes>"
      ]
     },
     "metadata": {
      "needs_background": "light"
     },
     "output_type": "display_data"
    }
   ],
   "source": [
    "plt.scatter(poll_analysis.poll_variance, poll_analysis.ratio_normalized)\n",
    "plt.title('Poll Variance (538 Data) vs Normalized Echo Chamber')\n",
    "plt.ylim(-0.00003,0.00025)\n",
    "plt.show()"
   ]
  },
  {
   "cell_type": "code",
   "execution_count": 297,
   "metadata": {},
   "outputs": [
    {
     "data": {
      "image/png": "[encoded data removed]",
      "text/plain": [
       "<Figure size 432x288 with 1 Axes>"
      ]
     },
     "metadata": {
      "needs_background": "light"
     },
     "output_type": "display_data"
    }
   ],
   "source": [
    "plt.scatter(poll_analysis.poll_variance, poll_analysis.ratio)\n",
    "plt.title('Poll Variance (538 Data) vs Normalized Echo Chamber')\n",
    "plt.show()"
   ]
  },
  {
   "cell_type": "markdown",
   "metadata": {},
   "source": [
    "Maybe I made a mistake, but it seems like they aren't related :("
   ]
  },
  {
   "cell_type": "code",
   "execution_count": null,
   "metadata": {},
   "outputs": [],
   "source": []
  },
  {
   "cell_type": "markdown",
   "metadata": {},
   "source": [
    "# VOTER TURNOUT "
   ]
  },
  {
   "cell_type": "markdown",
   "metadata": {},
   "source": [
    "figure out the state for each twitter account"
   ]
  },
  {
   "cell_type": "code",
   "execution_count": 488,
   "metadata": {},
   "outputs": [],
   "source": [
    "election_results = pd.read_csv('election_results.csv')"
   ]
  },
  {
   "cell_type": "code",
   "execution_count": 422,
   "metadata": {},
   "outputs": [],
   "source": [
    "dem_candidates = election_results.candidate_18_dem.dropna()\n",
    "rep_candidates = election_results.candidate_18_rep.dropna()"
   ]
  },
  {
   "cell_type": "code",
   "execution_count": 495,
   "metadata": {},
   "outputs": [],
   "source": [
    "#match democrats, then republicans\n",
    "# List for dicts for easy dataframe creation\n",
    "dict_list = []\n",
    "# iterating over our players without salaries found above\n",
    "#for name in rep_candidates:\n",
    "for name in dem_candidates:\n",
    "    # Use our method to find best match, we can set a threshold here\n",
    "    match = match_name(name, candidate_echo['Real Name'])\n",
    "\n",
    "    # New dict for storing data\n",
    "    dict_ = {}\n",
    "    dict_.update({\"twitter_name\" : name})\n",
    "    dict_.update({\"dem_name\" : match[0]})\n",
    "    dict_.update({\"score\" : match[1]})\n",
    "    dict_list.append(dict_)\n",
    "\n",
    "\n",
    "merge_table = pd.DataFrame(dict_list)\n",
    "# Display results\n",
    "#merge_table.to_csv('rep_candidates_fuzzy.csv', index=False)\n",
    "merge_table.to_csv('dem_candidates_fuzzy1.csv', index=False)\n"
   ]
  },
  {
   "cell_type": "code",
   "execution_count": 504,
   "metadata": {},
   "outputs": [],
   "source": [
    "rep_candidates_fuzzy = pd.read_csv('rep_candidates_fuzzy.csv')\n",
    "rep_candidates_fuzzy.columns = ['rep_twitter_name', 'score', 'rep_name']\n",
    "dem_candidates_fuzzy = pd.read_csv('dem_candidates_fuzzy.csv')\n",
    "dem_candidates_fuzzy.columns = ['dem_twitter_name', 'score', 'dem_name']"
   ]
  },
  {
   "cell_type": "code",
   "execution_count": 425,
   "metadata": {},
   "outputs": [],
   "source": [
    "election_results = pd.merge(election_results, rep_candidates_fuzzy, left_on='candidate_18_rep', right_on='rep_name')\n",
    "election_results = pd.merge(election_results, dem_candidates_fuzzy, left_on='candidate_18_dem', right_on='dem_name')"
   ]
  },
  {
   "cell_type": "code",
   "execution_count": 426,
   "metadata": {},
   "outputs": [],
   "source": [
    "state_candidate_twitter = election_results[['state', 'dem_twitter_name', 'rep_twitter_name']]\n",
    "state_candidate_twitter = pd.melt(state_candidate_twitter, id_vars='state', value_vars=['dem_twitter_name', 'rep_twitter_name'] )\n"
   ]
  },
  {
   "cell_type": "code",
   "execution_count": 427,
   "metadata": {},
   "outputs": [],
   "source": [
    "candidate_echo_vt = pd.merge(candidate_echo, state_candidate_twitter, left_on='Real Name', right_on='value')"
   ]
  },
  {
   "cell_type": "markdown",
   "metadata": {},
   "source": [
    "now use voter turnout data "
   ]
  },
  {
   "cell_type": "code",
   "execution_count": 428,
   "metadata": {},
   "outputs": [],
   "source": [
    "voter_turnout = pd.read_csv('voter_turnout.csv')[['State', 'Estimated or Actual 2018 Total Ballots Counted VEP Turnout Rate']]\n",
    "voter_turnout.columns = ['state','voter_turnout']\n"
   ]
  },
  {
   "cell_type": "code",
   "execution_count": 429,
   "metadata": {},
   "outputs": [],
   "source": [
    "voter_turnout['voter_turnout'] = voter_turnout.voter_turnout.apply(lambda x: float(x.strip('%')))"
   ]
  },
  {
   "cell_type": "code",
   "execution_count": 430,
   "metadata": {},
   "outputs": [],
   "source": [
    "candidate_echo_vt = pd.merge(candidate_echo_vt, voter_turnout, on='state')"
   ]
  },
  {
   "cell_type": "code",
   "execution_count": 431,
   "metadata": {},
   "outputs": [],
   "source": [
    "vt_analysis = candidate_echo_vt.groupby('state').agg({'voter_turnout': 'mean', \n",
    "                                        'ratio_normalized': ['mean', 'min', 'max']})"
   ]
  },
  {
   "cell_type": "code",
   "execution_count": 432,
   "metadata": {},
   "outputs": [],
   "source": [
    "vt_analysis.columns = ['voter_turnout', 'echo_mean', 'echo_min', 'echo_max']"
   ]
  },
  {
   "cell_type": "code",
   "execution_count": 433,
   "metadata": {},
   "outputs": [
    {
     "data": {
      "image/png": "[encoded data removed]",
      "text/plain": [
       "<Figure size 432x288 with 1 Axes>"
      ]
     },
     "metadata": {
      "needs_background": "light"
     },
     "output_type": "display_data"
    }
   ],
   "source": [
    "plt.scatter(vt_analysis.voter_turnout,vt_analysis.echo_mean*10000)\n",
    "plt.title('Voter Turnout vs Mean Echo Chamber')\n",
    "plt.show()"
   ]
  },
  {
   "cell_type": "code",
   "execution_count": 434,
   "metadata": {},
   "outputs": [
    {
     "data": {
      "image/png": "[encoded data removed]",
      "text/plain": [
       "<Figure size 432x288 with 1 Axes>"
      ]
     },
     "metadata": {
      "needs_background": "light"
     },
     "output_type": "display_data"
    }
   ],
   "source": [
    "plt.scatter(vt_analysis.voter_turnout,vt_analysis.echo_max*10000)\n",
    "plt.title('Voter Turnout vs Max Echo Chamber')\n",
    "plt.show()"
   ]
  },
  {
   "cell_type": "code",
   "execution_count": 435,
   "metadata": {},
   "outputs": [
    {
     "data": {
      "image/png": "[encoded data removed]",
      "text/plain": [
       "<Figure size 432x288 with 1 Axes>"
      ]
     },
     "metadata": {
      "needs_background": "light"
     },
     "output_type": "display_data"
    }
   ],
   "source": [
    "plt.scatter(vt_analysis.voter_turnout,vt_analysis.echo_min*10000)\n",
    "plt.title('Voter Turnout vs Min Echo Chamber')\n",
    "plt.show()"
   ]
  },
  {
   "cell_type": "code",
   "execution_count": null,
   "metadata": {},
   "outputs": [],
   "source": []
  },
  {
   "cell_type": "markdown",
   "metadata": {},
   "source": [
    "# ELECTION OUTCOME "
   ]
  },
  {
   "cell_type": "code",
   "execution_count": 436,
   "metadata": {},
   "outputs": [],
   "source": [
    "election_results['dem_winner18'] = (election_results.pct_votes_18_dem > election_results.pct_votes_18_rep)*1"
   ]
  },
  {
   "cell_type": "code",
   "execution_count": 438,
   "metadata": {},
   "outputs": [],
   "source": [
    "candidate_echo_simplified = candidate_echo[['Real Name', 'ratio_normalized']]"
   ]
  },
  {
   "cell_type": "code",
   "execution_count": 439,
   "metadata": {},
   "outputs": [],
   "source": [
    "election_results = pd.merge(election_results, candidate_echo_simplified, \n",
    "                            left_on='dem_twitter_name', right_on='Real Name', \n",
    "                            how='left')"
   ]
  },
  {
   "cell_type": "code",
   "execution_count": 467,
   "metadata": {},
   "outputs": [],
   "source": [
    "tmp = list(election_results.columns)[:-1]\n",
    "tmp.append('echo_dem')\n",
    "election_results.columns = tmp"
   ]
  },
  {
   "cell_type": "code",
   "execution_count": 468,
   "metadata": {},
   "outputs": [],
   "source": [
    "election_results = pd.merge(election_results, candidate_echo_simplified, \n",
    "                            left_on='rep_twitter_name', right_on='Real Name', \n",
    "                            how='left')"
   ]
  },
  {
   "cell_type": "code",
   "execution_count": 469,
   "metadata": {},
   "outputs": [],
   "source": [
    "tmp = list(election_results.columns)[:-1]\n",
    "tmp.append('echo_rep')\n",
    "election_results.columns = tmp"
   ]
  },
  {
   "cell_type": "code",
   "execution_count": 475,
   "metadata": {},
   "outputs": [],
   "source": [
    "election_results['dem_more_echoed'] = (election_results.echo_dem > election_results.echo_rep)*1"
   ]
  },
  {
   "cell_type": "code",
   "execution_count": 479,
   "metadata": {},
   "outputs": [
    {
     "data": {
      "text/plain": [
       "array([0])"
      ]
     },
     "execution_count": 479,
     "metadata": {},
     "output_type": "execute_result"
    }
   ],
   "source": [
    "np.correlate(election_results.dem_winner18, election_results.dem_more_echoed)"
   ]
  },
  {
   "cell_type": "code",
   "execution_count": 481,
   "metadata": {},
   "outputs": [
    {
     "data": {
      "text/html": [
       "<div>\n",
       "<style scoped>\n",
       "    .dataframe tbody tr th:only-of-type {\n",
       "        vertical-align: middle;\n",
       "    }\n",
       "\n",
       "    .dataframe tbody tr th {\n",
       "        vertical-align: top;\n",
       "    }\n",
       "\n",
       "    .dataframe thead th {\n",
       "        text-align: right;\n",
       "    }\n",
       "</style>\n",
       "<table border=\"1\" class=\"dataframe\">\n",
       "  <thead>\n",
       "    <tr style=\"text-align: right;\">\n",
       "      <th></th>\n",
       "      <th>dem_winner18</th>\n",
       "      <th>dem_more_echoed</th>\n",
       "    </tr>\n",
       "  </thead>\n",
       "  <tbody>\n",
       "    <tr>\n",
       "      <th>dem_winner18</th>\n",
       "      <td>1.000000</td>\n",
       "      <td>-0.503322</td>\n",
       "    </tr>\n",
       "    <tr>\n",
       "      <th>dem_more_echoed</th>\n",
       "      <td>-0.503322</td>\n",
       "      <td>1.000000</td>\n",
       "    </tr>\n",
       "  </tbody>\n",
       "</table>\n",
       "</div>"
      ],
      "text/plain": [
       "                 dem_winner18  dem_more_echoed\n",
       "dem_winner18         1.000000        -0.503322\n",
       "dem_more_echoed     -0.503322         1.000000"
      ]
     },
     "execution_count": 481,
     "metadata": {},
     "output_type": "execute_result"
    }
   ],
   "source": [
    "election_results[['dem_winner18', 'dem_more_echoed']].corr()"
   ]
  },
  {
   "cell_type": "code",
   "execution_count": 483,
   "metadata": {},
   "outputs": [
    {
     "data": {
      "text/html": [
       "<div>\n",
       "<style scoped>\n",
       "    .dataframe tbody tr th:only-of-type {\n",
       "        vertical-align: middle;\n",
       "    }\n",
       "\n",
       "    .dataframe tbody tr th {\n",
       "        vertical-align: top;\n",
       "    }\n",
       "\n",
       "    .dataframe thead th {\n",
       "        text-align: right;\n",
       "    }\n",
       "</style>\n",
       "<table border=\"1\" class=\"dataframe\">\n",
       "  <thead>\n",
       "    <tr style=\"text-align: right;\">\n",
       "      <th></th>\n",
       "      <th>pct_votes_18_dem</th>\n",
       "      <th>pct_votes_18_rep</th>\n",
       "      <th>echo_dem</th>\n",
       "      <th>echo_rep</th>\n",
       "    </tr>\n",
       "  </thead>\n",
       "  <tbody>\n",
       "    <tr>\n",
       "      <th>pct_votes_18_dem</th>\n",
       "      <td>1.000000</td>\n",
       "      <td>-0.588872</td>\n",
       "      <td>-0.685266</td>\n",
       "      <td>0.306948</td>\n",
       "    </tr>\n",
       "    <tr>\n",
       "      <th>pct_votes_18_rep</th>\n",
       "      <td>-0.588872</td>\n",
       "      <td>1.000000</td>\n",
       "      <td>0.072468</td>\n",
       "      <td>-0.265957</td>\n",
       "    </tr>\n",
       "    <tr>\n",
       "      <th>echo_dem</th>\n",
       "      <td>-0.685266</td>\n",
       "      <td>0.072468</td>\n",
       "      <td>1.000000</td>\n",
       "      <td>-0.135199</td>\n",
       "    </tr>\n",
       "    <tr>\n",
       "      <th>echo_rep</th>\n",
       "      <td>0.306948</td>\n",
       "      <td>-0.265957</td>\n",
       "      <td>-0.135199</td>\n",
       "      <td>1.000000</td>\n",
       "    </tr>\n",
       "  </tbody>\n",
       "</table>\n",
       "</div>"
      ],
      "text/plain": [
       "                  pct_votes_18_dem  pct_votes_18_rep  echo_dem  echo_rep\n",
       "pct_votes_18_dem          1.000000         -0.588872 -0.685266  0.306948\n",
       "pct_votes_18_rep         -0.588872          1.000000  0.072468 -0.265957\n",
       "echo_dem                 -0.685266          0.072468  1.000000 -0.135199\n",
       "echo_rep                  0.306948         -0.265957 -0.135199  1.000000"
      ]
     },
     "execution_count": 483,
     "metadata": {},
     "output_type": "execute_result"
    }
   ],
   "source": [
    "election_results[['pct_votes_18_dem', 'pct_votes_18_rep', 'echo_dem', 'echo_rep']].corr()"
   ]
  },
  {
   "cell_type": "code",
   "execution_count": null,
   "metadata": {},
   "outputs": [],
   "source": []
  },
  {
   "cell_type": "markdown",
   "metadata": {},
   "source": [
    "# Data Quality "
   ]
  },
  {
   "cell_type": "markdown",
   "metadata": {},
   "source": [
    "how many candidates are missing?"
   ]
  },
  {
   "cell_type": "code",
   "execution_count": 510,
   "metadata": {},
   "outputs": [
    {
     "data": {
      "text/html": [
       "<div>\n",
       "<style scoped>\n",
       "    .dataframe tbody tr th:only-of-type {\n",
       "        vertical-align: middle;\n",
       "    }\n",
       "\n",
       "    .dataframe tbody tr th {\n",
       "        vertical-align: top;\n",
       "    }\n",
       "\n",
       "    .dataframe thead th {\n",
       "        text-align: right;\n",
       "    }\n",
       "</style>\n",
       "<table border=\"1\" class=\"dataframe\">\n",
       "  <thead>\n",
       "    <tr style=\"text-align: right;\">\n",
       "      <th></th>\n",
       "      <th>rep_twitter_name</th>\n",
       "      <th>score</th>\n",
       "      <th>rep_name</th>\n",
       "    </tr>\n",
       "  </thead>\n",
       "  <tbody>\n",
       "    <tr>\n",
       "      <th>0</th>\n",
       "      <td>NaN</td>\n",
       "      <td>53</td>\n",
       "      <td>Martha McSally</td>\n",
       "    </tr>\n",
       "    <tr>\n",
       "      <th>3</th>\n",
       "      <td>NaN</td>\n",
       "      <td>41</td>\n",
       "      <td>Robert B Arlett</td>\n",
       "    </tr>\n",
       "    <tr>\n",
       "      <th>4</th>\n",
       "      <td>NaN</td>\n",
       "      <td>53</td>\n",
       "      <td>Rick Scott</td>\n",
       "    </tr>\n",
       "    <tr>\n",
       "      <th>8</th>\n",
       "      <td>NaN</td>\n",
       "      <td>62</td>\n",
       "      <td>Tony Campbell</td>\n",
       "    </tr>\n",
       "    <tr>\n",
       "      <th>10</th>\n",
       "      <td>NaN</td>\n",
       "      <td>60</td>\n",
       "      <td>John James</td>\n",
       "    </tr>\n",
       "    <tr>\n",
       "      <th>11</th>\n",
       "      <td>NaN</td>\n",
       "      <td>43</td>\n",
       "      <td>Jim Newberger</td>\n",
       "    </tr>\n",
       "    <tr>\n",
       "      <th>12</th>\n",
       "      <td>NaN</td>\n",
       "      <td>38</td>\n",
       "      <td>Roger F. Wicker</td>\n",
       "    </tr>\n",
       "    <tr>\n",
       "      <th>17</th>\n",
       "      <td>NaN</td>\n",
       "      <td>48</td>\n",
       "      <td>Bob Hugin</td>\n",
       "    </tr>\n",
       "    <tr>\n",
       "      <th>20</th>\n",
       "      <td>NaN</td>\n",
       "      <td>67</td>\n",
       "      <td>Kevin Cramer</td>\n",
       "    </tr>\n",
       "    <tr>\n",
       "      <th>22</th>\n",
       "      <td>NaN</td>\n",
       "      <td>43</td>\n",
       "      <td>Louis J. Barletta</td>\n",
       "    </tr>\n",
       "    <tr>\n",
       "      <th>27</th>\n",
       "      <td>NaN</td>\n",
       "      <td>43</td>\n",
       "      <td>Lawrence Zupan</td>\n",
       "    </tr>\n",
       "    <tr>\n",
       "      <th>30</th>\n",
       "      <td>NaN</td>\n",
       "      <td>52</td>\n",
       "      <td>Patrick Morrisey</td>\n",
       "    </tr>\n",
       "  </tbody>\n",
       "</table>\n",
       "</div>"
      ],
      "text/plain": [
       "   rep_twitter_name  score           rep_name\n",
       "0               NaN     53     Martha McSally\n",
       "3               NaN     41    Robert B Arlett\n",
       "4               NaN     53         Rick Scott\n",
       "8               NaN     62      Tony Campbell\n",
       "10              NaN     60         John James\n",
       "11              NaN     43      Jim Newberger\n",
       "12              NaN     38    Roger F. Wicker\n",
       "17              NaN     48          Bob Hugin\n",
       "20              NaN     67       Kevin Cramer\n",
       "22              NaN     43  Louis J. Barletta\n",
       "27              NaN     43     Lawrence Zupan\n",
       "30              NaN     52   Patrick Morrisey"
      ]
     },
     "execution_count": 510,
     "metadata": {},
     "output_type": "execute_result"
    }
   ],
   "source": [
    "rep_candidates_fuzzy[rep_candidates_fuzzy.rep_twitter_name.isna()]"
   ]
  },
  {
   "cell_type": "code",
   "execution_count": 511,
   "metadata": {},
   "outputs": [
    {
     "data": {
      "text/plain": [
       "12"
      ]
     },
     "execution_count": 511,
     "metadata": {},
     "output_type": "execute_result"
    }
   ],
   "source": [
    "rep_candidates_fuzzy.rep_twitter_name.isna().sum()"
   ]
  },
  {
   "cell_type": "code",
   "execution_count": 513,
   "metadata": {},
   "outputs": [
    {
     "data": {
      "text/html": [
       "<div>\n",
       "<style scoped>\n",
       "    .dataframe tbody tr th:only-of-type {\n",
       "        vertical-align: middle;\n",
       "    }\n",
       "\n",
       "    .dataframe tbody tr th {\n",
       "        vertical-align: top;\n",
       "    }\n",
       "\n",
       "    .dataframe thead th {\n",
       "        text-align: right;\n",
       "    }\n",
       "</style>\n",
       "<table border=\"1\" class=\"dataframe\">\n",
       "  <thead>\n",
       "    <tr style=\"text-align: right;\">\n",
       "      <th></th>\n",
       "      <th>dem_twitter_name</th>\n",
       "      <th>score</th>\n",
       "      <th>dem_name</th>\n",
       "    </tr>\n",
       "  </thead>\n",
       "  <tbody>\n",
       "    <tr>\n",
       "      <th>0</th>\n",
       "      <td>NaN</td>\n",
       "      <td>56</td>\n",
       "      <td>Kyrsten Sinema</td>\n",
       "    </tr>\n",
       "    <tr>\n",
       "      <th>7</th>\n",
       "      <td>NaN</td>\n",
       "      <td>51</td>\n",
       "      <td>Zak Ringelstein</td>\n",
       "    </tr>\n",
       "  </tbody>\n",
       "</table>\n",
       "</div>"
      ],
      "text/plain": [
       "  dem_twitter_name  score         dem_name\n",
       "0              NaN     56   Kyrsten Sinema\n",
       "7              NaN     51  Zak Ringelstein"
      ]
     },
     "execution_count": 513,
     "metadata": {},
     "output_type": "execute_result"
    }
   ],
   "source": [
    "dem_candidates_fuzzy[dem_candidates_fuzzy.dem_twitter_name.isna()]"
   ]
  },
  {
   "cell_type": "code",
   "execution_count": null,
   "metadata": {},
   "outputs": [],
   "source": []
  },
  {
   "cell_type": "markdown",
   "metadata": {},
   "source": [
    "which twitter accounts seem off?"
   ]
  },
  {
   "cell_type": "code",
   "execution_count": 519,
   "metadata": {},
   "outputs": [
    {
     "data": {
      "text/html": [
       "<div>\n",
       "<style scoped>\n",
       "    .dataframe tbody tr th:only-of-type {\n",
       "        vertical-align: middle;\n",
       "    }\n",
       "\n",
       "    .dataframe tbody tr th {\n",
       "        vertical-align: top;\n",
       "    }\n",
       "\n",
       "    .dataframe thead th {\n",
       "        text-align: right;\n",
       "    }\n",
       "</style>\n",
       "<table border=\"1\" class=\"dataframe\">\n",
       "  <thead>\n",
       "    <tr style=\"text-align: right;\">\n",
       "      <th></th>\n",
       "      <th>followers</th>\n",
       "      <th>f_of_f_candidate_followers</th>\n",
       "      <th>n_f_of_f</th>\n",
       "      <th>ratio</th>\n",
       "      <th>n_candidate_followers</th>\n",
       "      <th>ratio_normalized</th>\n",
       "      <th>UserID</th>\n",
       "      <th>Real Name</th>\n",
       "      <th>Screenname</th>\n",
       "      <th>Profile Description</th>\n",
       "      <th>...</th>\n",
       "      <th>Location</th>\n",
       "      <th>UTC Offset</th>\n",
       "      <th>Time Zone</th>\n",
       "      <th>Favourites Count</th>\n",
       "      <th>Friends Count</th>\n",
       "      <th>Followers Count</th>\n",
       "      <th>Statuses Count</th>\n",
       "      <th>Profile Image URL</th>\n",
       "      <th>candidate_name</th>\n",
       "      <th>names_merge</th>\n",
       "    </tr>\n",
       "  </thead>\n",
       "  <tbody>\n",
       "    <tr>\n",
       "      <th>32</th>\n",
       "      <td>6.393368e+08</td>\n",
       "      <td>0.000000</td>\n",
       "      <td>10514.500000</td>\n",
       "      <td>0.000000</td>\n",
       "      <td>2.0</td>\n",
       "      <td>0.000000</td>\n",
       "      <td>1477484929</td>\n",
       "      <td>paula overby</td>\n",
       "      <td>paulaoverby</td>\n",
       "      <td></td>\n",
       "      <td>...</td>\n",
       "      <td></td>\n",
       "      <td>None</td>\n",
       "      <td>None</td>\n",
       "      <td>0</td>\n",
       "      <td>0</td>\n",
       "      <td>2</td>\n",
       "      <td>0</td>\n",
       "      <td>http://abs.twimg.com/sticky/default_profile_im...</td>\n",
       "      <td>paula overby</td>\n",
       "      <td>paula overby</td>\n",
       "    </tr>\n",
       "    <tr>\n",
       "      <th>74</th>\n",
       "      <td>5.127620e+17</td>\n",
       "      <td>0.400000</td>\n",
       "      <td>16224.600000</td>\n",
       "      <td>0.000061</td>\n",
       "      <td>10.0</td>\n",
       "      <td>0.000006</td>\n",
       "      <td>969648670818811904</td>\n",
       "      <td>Reed McCandless</td>\n",
       "      <td>McCandlessReed</td>\n",
       "      <td>Happy, Nuisance, Fun, mischievous and always l...</td>\n",
       "      <td>...</td>\n",
       "      <td></td>\n",
       "      <td>None</td>\n",
       "      <td>None</td>\n",
       "      <td>2</td>\n",
       "      <td>41</td>\n",
       "      <td>12</td>\n",
       "      <td>13</td>\n",
       "      <td>http://pbs.twimg.com/profile_images/9722347569...</td>\n",
       "      <td>reed mccandless</td>\n",
       "      <td>reed mccandless</td>\n",
       "    </tr>\n",
       "    <tr>\n",
       "      <th>54</th>\n",
       "      <td>3.327443e+17</td>\n",
       "      <td>0.000000</td>\n",
       "      <td>6497.823529</td>\n",
       "      <td>0.000000</td>\n",
       "      <td>17.0</td>\n",
       "      <td>0.000000</td>\n",
       "      <td>2972291229</td>\n",
       "      <td>Hank Schroeder</td>\n",
       "      <td>hank_schroeder</td>\n",
       "      <td>Official Twitter account of Independent politi...</td>\n",
       "      <td>...</td>\n",
       "      <td>Seagirt, NJ</td>\n",
       "      <td>None</td>\n",
       "      <td>None</td>\n",
       "      <td>2</td>\n",
       "      <td>17</td>\n",
       "      <td>24</td>\n",
       "      <td>96</td>\n",
       "      <td>http://pbs.twimg.com/profile_images/7239159756...</td>\n",
       "      <td>hank schroeder</td>\n",
       "      <td>hank schroeder</td>\n",
       "    </tr>\n",
       "    <tr>\n",
       "      <th>51</th>\n",
       "      <td>5.072906e+17</td>\n",
       "      <td>2.000000</td>\n",
       "      <td>1740.925926</td>\n",
       "      <td>0.003083</td>\n",
       "      <td>27.0</td>\n",
       "      <td>0.000114</td>\n",
       "      <td>873223205292527616</td>\n",
       "      <td>Kevin Kimple</td>\n",
       "      <td>kfkimple</td>\n",
       "      <td>2018 Independent Candidate for U.S. Senate. A ...</td>\n",
       "      <td>...</td>\n",
       "      <td>New Jersey</td>\n",
       "      <td>None</td>\n",
       "      <td>None</td>\n",
       "      <td>91</td>\n",
       "      <td>56</td>\n",
       "      <td>37</td>\n",
       "      <td>211</td>\n",
       "      <td>http://pbs.twimg.com/profile_images/9584283490...</td>\n",
       "      <td>kevin kimple</td>\n",
       "      <td>kevin kimple</td>\n",
       "    </tr>\n",
       "    <tr>\n",
       "      <th>35</th>\n",
       "      <td>2.069926e+16</td>\n",
       "      <td>11.444444</td>\n",
       "      <td>61361.765432</td>\n",
       "      <td>0.014526</td>\n",
       "      <td>81.0</td>\n",
       "      <td>0.000179</td>\n",
       "      <td>2599913002</td>\n",
       "      <td>Shawn O'Hara</td>\n",
       "      <td>OHaraCampaign</td>\n",
       "      <td>Don't call it a comeback. I been here for year...</td>\n",
       "      <td>...</td>\n",
       "      <td>H'burg whudup</td>\n",
       "      <td>None</td>\n",
       "      <td>None</td>\n",
       "      <td>2</td>\n",
       "      <td>560</td>\n",
       "      <td>86</td>\n",
       "      <td>134</td>\n",
       "      <td>http://pbs.twimg.com/profile_images/4765601471...</td>\n",
       "      <td>shawn o'hara</td>\n",
       "      <td>shawn o'hara</td>\n",
       "    </tr>\n",
       "    <tr>\n",
       "      <th>34</th>\n",
       "      <td>2.639202e+17</td>\n",
       "      <td>10.136905</td>\n",
       "      <td>4094.565476</td>\n",
       "      <td>0.011318</td>\n",
       "      <td>168.0</td>\n",
       "      <td>0.000067</td>\n",
       "      <td>761975044549517312</td>\n",
       "      <td>Danny Bedwell</td>\n",
       "      <td>bedwell_guy</td>\n",
       "      <td>Retired Navy Diver. Entrepreneur. Freedom love...</td>\n",
       "      <td>...</td>\n",
       "      <td></td>\n",
       "      <td>None</td>\n",
       "      <td>None</td>\n",
       "      <td>2855</td>\n",
       "      <td>200</td>\n",
       "      <td>206</td>\n",
       "      <td>1331</td>\n",
       "      <td>http://pbs.twimg.com/profile_images/1004765350...</td>\n",
       "      <td>danny bedwell</td>\n",
       "      <td>danny bedwell</td>\n",
       "    </tr>\n",
       "    <tr>\n",
       "      <th>28</th>\n",
       "      <td>1.963508e+17</td>\n",
       "      <td>33.659701</td>\n",
       "      <td>5265.489552</td>\n",
       "      <td>0.014792</td>\n",
       "      <td>335.0</td>\n",
       "      <td>0.000044</td>\n",
       "      <td>2836931870</td>\n",
       "      <td>marcia_marcia</td>\n",
       "      <td>triple_marcia</td>\n",
       "      <td>Running for US Senate in Michigan. Non-corpora...</td>\n",
       "      <td>...</td>\n",
       "      <td>St Clair Shores, MI</td>\n",
       "      <td>None</td>\n",
       "      <td>None</td>\n",
       "      <td>831</td>\n",
       "      <td>58</td>\n",
       "      <td>405</td>\n",
       "      <td>484</td>\n",
       "      <td>http://pbs.twimg.com/profile_images/7663767444...</td>\n",
       "      <td>marcia_marcia</td>\n",
       "      <td>marcia_marcia marcia_marcia</td>\n",
       "    </tr>\n",
       "    <tr>\n",
       "      <th>65</th>\n",
       "      <td>1.025802e+17</td>\n",
       "      <td>38.182058</td>\n",
       "      <td>5241.601583</td>\n",
       "      <td>0.061515</td>\n",
       "      <td>379.0</td>\n",
       "      <td>0.000162</td>\n",
       "      <td>2770085239</td>\n",
       "      <td>Bob Flanders</td>\n",
       "      <td>rgflandersjr</td>\n",
       "      <td>I am a business litigator concentrating on hig...</td>\n",
       "      <td>...</td>\n",
       "      <td>Providence, RI</td>\n",
       "      <td>None</td>\n",
       "      <td>None</td>\n",
       "      <td>18</td>\n",
       "      <td>385</td>\n",
       "      <td>437</td>\n",
       "      <td>78</td>\n",
       "      <td>http://pbs.twimg.com/profile_images/9548651169...</td>\n",
       "      <td>bob flanders</td>\n",
       "      <td>bob flanders</td>\n",
       "    </tr>\n",
       "    <tr>\n",
       "      <th>0</th>\n",
       "      <td>2.983732e+17</td>\n",
       "      <td>10.368932</td>\n",
       "      <td>15142.101942</td>\n",
       "      <td>0.010280</td>\n",
       "      <td>412.0</td>\n",
       "      <td>0.000025</td>\n",
       "      <td>899697830918373376</td>\n",
       "      <td>Eve Reyes-Aguirre</td>\n",
       "      <td>EveForUSSenate</td>\n",
       "      <td>Running for #AZSEN in 2018 #Indigenous Woman. ...</td>\n",
       "      <td>...</td>\n",
       "      <td>Phoenix, AZ</td>\n",
       "      <td>None</td>\n",
       "      <td>None</td>\n",
       "      <td>139</td>\n",
       "      <td>153</td>\n",
       "      <td>517</td>\n",
       "      <td>255</td>\n",
       "      <td>http://pbs.twimg.com/profile_images/9526583387...</td>\n",
       "      <td>eve reyes-aguirre</td>\n",
       "      <td>eve reyes-aguirre</td>\n",
       "    </tr>\n",
       "    <tr>\n",
       "      <th>57</th>\n",
       "      <td>3.175242e+17</td>\n",
       "      <td>19.690363</td>\n",
       "      <td>8010.620853</td>\n",
       "      <td>0.015845</td>\n",
       "      <td>633.0</td>\n",
       "      <td>0.000025</td>\n",
       "      <td>4785136122</td>\n",
       "      <td>Mick Rich</td>\n",
       "      <td>MickRich4Senate</td>\n",
       "      <td>Candidate for U.S. Senator from New Mexico in ...</td>\n",
       "      <td>...</td>\n",
       "      <td>Albuquerque, NM</td>\n",
       "      <td>None</td>\n",
       "      <td>None</td>\n",
       "      <td>6</td>\n",
       "      <td>158</td>\n",
       "      <td>815</td>\n",
       "      <td>547</td>\n",
       "      <td>http://pbs.twimg.com/profile_images/1034834484...</td>\n",
       "      <td>mick rich</td>\n",
       "      <td>mick rich</td>\n",
       "    </tr>\n",
       "  </tbody>\n",
       "</table>\n",
       "<p>10 rows × 22 columns</p>\n",
       "</div>"
      ],
      "text/plain": [
       "       followers  f_of_f_candidate_followers      n_f_of_f     ratio  \\\n",
       "32  6.393368e+08                    0.000000  10514.500000  0.000000   \n",
       "74  5.127620e+17                    0.400000  16224.600000  0.000061   \n",
       "54  3.327443e+17                    0.000000   6497.823529  0.000000   \n",
       "51  5.072906e+17                    2.000000   1740.925926  0.003083   \n",
       "35  2.069926e+16                   11.444444  61361.765432  0.014526   \n",
       "34  2.639202e+17                   10.136905   4094.565476  0.011318   \n",
       "28  1.963508e+17                   33.659701   5265.489552  0.014792   \n",
       "65  1.025802e+17                   38.182058   5241.601583  0.061515   \n",
       "0   2.983732e+17                   10.368932  15142.101942  0.010280   \n",
       "57  3.175242e+17                   19.690363   8010.620853  0.015845   \n",
       "\n",
       "    n_candidate_followers  ratio_normalized              UserID  \\\n",
       "32                    2.0          0.000000          1477484929   \n",
       "74                   10.0          0.000006  969648670818811904   \n",
       "54                   17.0          0.000000          2972291229   \n",
       "51                   27.0          0.000114  873223205292527616   \n",
       "35                   81.0          0.000179          2599913002   \n",
       "34                  168.0          0.000067  761975044549517312   \n",
       "28                  335.0          0.000044          2836931870   \n",
       "65                  379.0          0.000162          2770085239   \n",
       "0                   412.0          0.000025  899697830918373376   \n",
       "57                  633.0          0.000025          4785136122   \n",
       "\n",
       "            Real Name       Screenname  \\\n",
       "32       paula overby      paulaoverby   \n",
       "74    Reed McCandless   McCandlessReed   \n",
       "54     Hank Schroeder   hank_schroeder   \n",
       "51       Kevin Kimple         kfkimple   \n",
       "35       Shawn O'Hara    OHaraCampaign   \n",
       "34      Danny Bedwell      bedwell_guy   \n",
       "28      marcia_marcia    triple_marcia   \n",
       "65       Bob Flanders     rgflandersjr   \n",
       "0   Eve Reyes-Aguirre   EveForUSSenate   \n",
       "57          Mick Rich  MickRich4Senate   \n",
       "\n",
       "                                  Profile Description  ...  \\\n",
       "32                                                     ...   \n",
       "74  Happy, Nuisance, Fun, mischievous and always l...  ...   \n",
       "54  Official Twitter account of Independent politi...  ...   \n",
       "51  2018 Independent Candidate for U.S. Senate. A ...  ...   \n",
       "35  Don't call it a comeback. I been here for year...  ...   \n",
       "34  Retired Navy Diver. Entrepreneur. Freedom love...  ...   \n",
       "28  Running for US Senate in Michigan. Non-corpora...  ...   \n",
       "65  I am a business litigator concentrating on hig...  ...   \n",
       "0   Running for #AZSEN in 2018 #Indigenous Woman. ...  ...   \n",
       "57  Candidate for U.S. Senator from New Mexico in ...  ...   \n",
       "\n",
       "               Location UTC Offset Time Zone Favourites Count Friends Count  \\\n",
       "32                            None      None                0             0   \n",
       "74                            None      None                2            41   \n",
       "54          Seagirt, NJ       None      None                2            17   \n",
       "51           New Jersey       None      None               91            56   \n",
       "35        H'burg whudup       None      None                2           560   \n",
       "34                            None      None             2855           200   \n",
       "28  St Clair Shores, MI       None      None              831            58   \n",
       "65       Providence, RI       None      None               18           385   \n",
       "0           Phoenix, AZ       None      None              139           153   \n",
       "57      Albuquerque, NM       None      None                6           158   \n",
       "\n",
       "    Followers Count  Statuses Count  \\\n",
       "32                2               0   \n",
       "74               12              13   \n",
       "54               24              96   \n",
       "51               37             211   \n",
       "35               86             134   \n",
       "34              206            1331   \n",
       "28              405             484   \n",
       "65              437              78   \n",
       "0               517             255   \n",
       "57              815             547   \n",
       "\n",
       "                                    Profile Image URL     candidate_name  \\\n",
       "32  http://abs.twimg.com/sticky/default_profile_im...       paula overby   \n",
       "74  http://pbs.twimg.com/profile_images/9722347569...    reed mccandless   \n",
       "54  http://pbs.twimg.com/profile_images/7239159756...     hank schroeder   \n",
       "51  http://pbs.twimg.com/profile_images/9584283490...       kevin kimple   \n",
       "35  http://pbs.twimg.com/profile_images/4765601471...       shawn o'hara   \n",
       "34  http://pbs.twimg.com/profile_images/1004765350...      danny bedwell   \n",
       "28  http://pbs.twimg.com/profile_images/7663767444...      marcia_marcia   \n",
       "65  http://pbs.twimg.com/profile_images/9548651169...       bob flanders   \n",
       "0   http://pbs.twimg.com/profile_images/9526583387...  eve reyes-aguirre   \n",
       "57  http://pbs.twimg.com/profile_images/1034834484...          mick rich   \n",
       "\n",
       "                    names_merge  \n",
       "32                 paula overby  \n",
       "74              reed mccandless  \n",
       "54               hank schroeder  \n",
       "51                 kevin kimple  \n",
       "35                 shawn o'hara  \n",
       "34                danny bedwell  \n",
       "28  marcia_marcia marcia_marcia  \n",
       "65                 bob flanders  \n",
       "0             eve reyes-aguirre  \n",
       "57                    mick rich  \n",
       "\n",
       "[10 rows x 22 columns]"
      ]
     },
     "execution_count": 519,
     "metadata": {},
     "output_type": "execute_result"
    }
   ],
   "source": [
    "candidate_echo.sort_values('Followers Count').head(10)"
   ]
  },
  {
   "cell_type": "code",
   "execution_count": 521,
   "metadata": {},
   "outputs": [],
   "source": [
    "#Paula overby: \n",
    "    #the account that we're tracking seems off: https://twitter.com/paulaoverby\n",
    "    #this account seems better: https://twitter.com/PaulaOverby2014\n",
    "\n",
    "#Reed McCandless only got 1.2% of the vote. Not sure if he's relevant for the analysis\n",
    "\n",
    "#Kevin Kimple:\n",
    "    #he got 0.29% of the votes. \n",
    "    #perhaps we should track bob hugin instead, who got 42.8%\n",
    "\n",
    "#Bob Flanders\n",
    "    #this is the account we're tracking: https://twitter.com/rgflandersjr\n",
    "    #this account seems better: https://twitter.com/flanders4senate\n",
    "    \n",
    "#Maybe i should eliminate independents with almost no votes from analysis \n",
    "#Go through other acccounts to make sure there isn't an official campaign one for the person"
   ]
  },
  {
   "cell_type": "code",
   "execution_count": null,
   "metadata": {},
   "outputs": [],
   "source": []
  }
 ],
 "metadata": {
  "kernelspec": {
   "display_name": "Python 3",
   "language": "python",
   "name": "python3"
  },
  "language_info": {
   "codemirror_mode": {
    "name": "ipython",
    "version": 3
   },
   "file_extension": ".py",
   "mimetype": "text/x-python",
   "name": "python",
   "nbconvert_exporter": "python",
   "pygments_lexer": "ipython3",
   "version": "3.7.3"
  }
 },
 "nbformat": 4,
 "nbformat_minor": 2
}
