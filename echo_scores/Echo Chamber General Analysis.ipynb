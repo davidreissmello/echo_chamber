{
 "cells": [
  {
   "cell_type": "code",
   "execution_count": 1,
   "metadata": {},
   "outputs": [],
   "source": [
    "import pandas as pd\n",
    "import numpy as np\n",
    "import matplotlib.pyplot as plt"
   ]
  },
  {
   "cell_type": "code",
   "execution_count": 2,
   "metadata": {},
   "outputs": [],
   "source": [
    "candidate_info = pd.read_csv('Candidates_2018.txt', sep='\\t')\n",
    "raw = pd.read_csv('echo_computation3.csv', low_memory=False)"
   ]
  },
  {
   "cell_type": "code",
   "execution_count": 106,
   "metadata": {},
   "outputs": [],
   "source": [
    "raw['ratio'] = raw.f_of_f_candidate_followers/raw.n_f_of_f\n",
    "raw['ratio_normalized'] = raw.ratio/raw.n_candidate_followers\n",
    "\n",
    "raw['only_candidate'] = raw.f_of_f_candidate_followers - raw.candidate_and_opponent_followers\n",
    "raw['only_opponent'] = raw.opponent_followers - raw.candidate_and_opponent_followers\n",
    "\n",
    "raw['ratio_only_candidate'] = raw.only_candidate / raw.n_f_of_f\n",
    "raw['ratio_only_candidate_normalized'] = raw.ratio_only_candidate / raw.n_candidate_followers\n",
    "\n",
    "raw['ratio_candidate_and_opponent'] = raw.candidate_and_opponent_followers / raw.n_f_of_f\n",
    "raw['ratio_only_candidate_normalized'] = raw.ratio_candidate_and_opponent / raw.n_candidate_followers\n",
    "\n",
    "raw['ratio_opponent_over_candidate_followers'] = raw.opponent_followers / raw.n_f_of_f"
   ]
  },
  {
   "cell_type": "code",
   "execution_count": 155,
   "metadata": {},
   "outputs": [
    {
     "data": {
      "text/html": [
       "<div>\n",
       "<style scoped>\n",
       "    .dataframe tbody tr th:only-of-type {\n",
       "        vertical-align: middle;\n",
       "    }\n",
       "\n",
       "    .dataframe tbody tr th {\n",
       "        vertical-align: top;\n",
       "    }\n",
       "\n",
       "    .dataframe thead th {\n",
       "        text-align: right;\n",
       "    }\n",
       "</style>\n",
       "<table border=\"1\" class=\"dataframe\">\n",
       "  <thead>\n",
       "    <tr style=\"text-align: right;\">\n",
       "      <th></th>\n",
       "      <th>candidates</th>\n",
       "      <th>followers</th>\n",
       "      <th>f_of_f_candidate_followers</th>\n",
       "      <th>n_f_of_f</th>\n",
       "      <th>ratio</th>\n",
       "      <th>n_candidate_followers</th>\n",
       "      <th>ratio_normalized</th>\n",
       "      <th>opponent_followers</th>\n",
       "      <th>candidate_and_opponent_followers</th>\n",
       "      <th>only_candidate</th>\n",
       "      <th>only_opponent</th>\n",
       "      <th>ratio_only_candidate</th>\n",
       "      <th>ratio_only_candidate_normalized</th>\n",
       "      <th>ratio_candidate_and_opponent</th>\n",
       "      <th>ratio_opponent_over_candidate_followers</th>\n",
       "    </tr>\n",
       "  </thead>\n",
       "  <tbody>\n",
       "  </tbody>\n",
       "</table>\n",
       "</div>"
      ],
      "text/plain": [
       "Empty DataFrame\n",
       "Columns: [candidates, followers, f_of_f_candidate_followers, n_f_of_f, ratio, n_candidate_followers, ratio_normalized, opponent_followers, candidate_and_opponent_followers, only_candidate, only_opponent, ratio_only_candidate, ratio_only_candidate_normalized, ratio_candidate_and_opponent, ratio_opponent_over_candidate_followers]\n",
       "Index: []"
      ]
     },
     "execution_count": 155,
     "metadata": {},
     "output_type": "execute_result"
    }
   ],
   "source": [
    "raw[raw.f_of_f_candidate_followers != raw.opponent_followers]"
   ]
  },
  {
   "cell_type": "code",
   "execution_count": null,
   "metadata": {},
   "outputs": [],
   "source": []
  },
  {
   "cell_type": "code",
   "execution_count": null,
   "metadata": {},
   "outputs": [],
   "source": []
  },
  {
   "cell_type": "markdown",
   "metadata": {},
   "source": [
    "# For which candidates do we not know who their followers are?"
   ]
  },
  {
   "cell_type": "code",
   "execution_count": 108,
   "metadata": {},
   "outputs": [],
   "source": [
    "import twitter\n",
    "api = twitter.Api(consumer_key= 'RoKyGypNXjkKxAMZ56ZmACAXU',\n",
    "                  consumer_secret='zjEqTC8byFOjuMUPwoiRbBa6iBACglP8Jy4Z9lbTdbX7fbjNFk',\n",
    "                  access_token_key= '825138308426653697-DYieQ0F5GEVzXdwldCiIacmTrK2A8ru',\n",
    "                  access_token_secret= 'mSoV9doa4zaFG6ffOHk5Btw8d30xeW9AIZSXYlyMMAtKq')"
   ]
  },
  {
   "cell_type": "code",
   "execution_count": 109,
   "metadata": {},
   "outputs": [
    {
     "name": "stderr",
     "output_type": "stream",
     "text": [
      "/Users/davidreissmello/anaconda3/lib/python3.7/site-packages/pandas/core/ops.py:1649: FutureWarning: elementwise comparison failed; returning scalar instead, but in the future will perform elementwise comparison\n",
      "  result = method(y)\n"
     ]
    }
   ],
   "source": [
    "errors = raw[raw['ratio_normalized'] == 'error'].candidates.unique()"
   ]
  },
  {
   "cell_type": "code",
   "execution_count": 110,
   "metadata": {},
   "outputs": [],
   "source": [
    "for error in errors:\n",
    "    try:\n",
    "        print(api.GetUser(error))\n",
    "    except:\n",
    "        print(error)"
   ]
  },
  {
   "cell_type": "code",
   "execution_count": 111,
   "metadata": {},
   "outputs": [],
   "source": [
    "raw = raw[raw['ratio_normalized'] != 'error']"
   ]
  },
  {
   "cell_type": "code",
   "execution_count": 112,
   "metadata": {},
   "outputs": [],
   "source": [
    "raw.ratio = pd.to_numeric(raw.ratio)\n",
    "raw.ratio_normalized = pd.to_numeric(raw.ratio_normalized)"
   ]
  },
  {
   "cell_type": "code",
   "execution_count": 113,
   "metadata": {},
   "outputs": [
    {
     "data": {
      "text/html": [
       "<div>\n",
       "<style scoped>\n",
       "    .dataframe tbody tr th:only-of-type {\n",
       "        vertical-align: middle;\n",
       "    }\n",
       "\n",
       "    .dataframe tbody tr th {\n",
       "        vertical-align: top;\n",
       "    }\n",
       "\n",
       "    .dataframe thead th {\n",
       "        text-align: right;\n",
       "    }\n",
       "</style>\n",
       "<table border=\"1\" class=\"dataframe\">\n",
       "  <thead>\n",
       "    <tr style=\"text-align: right;\">\n",
       "      <th></th>\n",
       "      <th>candidates</th>\n",
       "      <th>followers</th>\n",
       "      <th>f_of_f_candidate_followers</th>\n",
       "      <th>n_f_of_f</th>\n",
       "      <th>ratio</th>\n",
       "      <th>n_candidate_followers</th>\n",
       "      <th>ratio_normalized</th>\n",
       "      <th>opponent_followers</th>\n",
       "      <th>candidate_and_opponent_followers</th>\n",
       "      <th>only_candidate</th>\n",
       "      <th>only_opponent</th>\n",
       "      <th>ratio_only_candidate</th>\n",
       "      <th>ratio_only_candidate_normalized</th>\n",
       "      <th>ratio_candidate_and_opponent</th>\n",
       "      <th>ratio_opponent_over_candidate_followers</th>\n",
       "    </tr>\n",
       "  </thead>\n",
       "  <tbody>\n",
       "    <tr>\n",
       "      <th>0</th>\n",
       "      <td>1477484929</td>\n",
       "      <td>26292603</td>\n",
       "      <td>0</td>\n",
       "      <td>20606</td>\n",
       "      <td>0.0</td>\n",
       "      <td>2</td>\n",
       "      <td>0.0</td>\n",
       "      <td>0</td>\n",
       "      <td>0</td>\n",
       "      <td>0</td>\n",
       "      <td>0</td>\n",
       "      <td>0.0</td>\n",
       "      <td>0.0</td>\n",
       "      <td>0.0</td>\n",
       "      <td>0.0</td>\n",
       "    </tr>\n",
       "    <tr>\n",
       "      <th>1</th>\n",
       "      <td>1477484929</td>\n",
       "      <td>1252381038</td>\n",
       "      <td>0</td>\n",
       "      <td>423</td>\n",
       "      <td>0.0</td>\n",
       "      <td>2</td>\n",
       "      <td>0.0</td>\n",
       "      <td>0</td>\n",
       "      <td>0</td>\n",
       "      <td>0</td>\n",
       "      <td>0</td>\n",
       "      <td>0.0</td>\n",
       "      <td>0.0</td>\n",
       "      <td>0.0</td>\n",
       "      <td>0.0</td>\n",
       "    </tr>\n",
       "    <tr>\n",
       "      <th>2</th>\n",
       "      <td>969648670818811904</td>\n",
       "      <td>937362574814748672</td>\n",
       "      <td>0</td>\n",
       "      <td>446</td>\n",
       "      <td>0.0</td>\n",
       "      <td>12</td>\n",
       "      <td>0.0</td>\n",
       "      <td>0</td>\n",
       "      <td>0</td>\n",
       "      <td>0</td>\n",
       "      <td>0</td>\n",
       "      <td>0.0</td>\n",
       "      <td>0.0</td>\n",
       "      <td>0.0</td>\n",
       "      <td>0.0</td>\n",
       "    </tr>\n",
       "    <tr>\n",
       "      <th>3</th>\n",
       "      <td>969648670818811904</td>\n",
       "      <td>4896017459</td>\n",
       "      <td>0</td>\n",
       "      <td>4864</td>\n",
       "      <td>0.0</td>\n",
       "      <td>12</td>\n",
       "      <td>0.0</td>\n",
       "      <td>0</td>\n",
       "      <td>0</td>\n",
       "      <td>0</td>\n",
       "      <td>0</td>\n",
       "      <td>0.0</td>\n",
       "      <td>0.0</td>\n",
       "      <td>0.0</td>\n",
       "      <td>0.0</td>\n",
       "    </tr>\n",
       "    <tr>\n",
       "      <th>4</th>\n",
       "      <td>969648670818811904</td>\n",
       "      <td>1049645884743606272</td>\n",
       "      <td>0</td>\n",
       "      <td>456</td>\n",
       "      <td>0.0</td>\n",
       "      <td>12</td>\n",
       "      <td>0.0</td>\n",
       "      <td>0</td>\n",
       "      <td>0</td>\n",
       "      <td>0</td>\n",
       "      <td>0</td>\n",
       "      <td>0.0</td>\n",
       "      <td>0.0</td>\n",
       "      <td>0.0</td>\n",
       "      <td>0.0</td>\n",
       "    </tr>\n",
       "  </tbody>\n",
       "</table>\n",
       "</div>"
      ],
      "text/plain": [
       "           candidates            followers  f_of_f_candidate_followers  \\\n",
       "0          1477484929             26292603                           0   \n",
       "1          1477484929           1252381038                           0   \n",
       "2  969648670818811904   937362574814748672                           0   \n",
       "3  969648670818811904           4896017459                           0   \n",
       "4  969648670818811904  1049645884743606272                           0   \n",
       "\n",
       "   n_f_of_f  ratio  n_candidate_followers  ratio_normalized  \\\n",
       "0     20606    0.0                      2               0.0   \n",
       "1       423    0.0                      2               0.0   \n",
       "2       446    0.0                     12               0.0   \n",
       "3      4864    0.0                     12               0.0   \n",
       "4       456    0.0                     12               0.0   \n",
       "\n",
       "   opponent_followers  candidate_and_opponent_followers  only_candidate  \\\n",
       "0                   0                                 0               0   \n",
       "1                   0                                 0               0   \n",
       "2                   0                                 0               0   \n",
       "3                   0                                 0               0   \n",
       "4                   0                                 0               0   \n",
       "\n",
       "   only_opponent  ratio_only_candidate  ratio_only_candidate_normalized  \\\n",
       "0              0                   0.0                              0.0   \n",
       "1              0                   0.0                              0.0   \n",
       "2              0                   0.0                              0.0   \n",
       "3              0                   0.0                              0.0   \n",
       "4              0                   0.0                              0.0   \n",
       "\n",
       "   ratio_candidate_and_opponent  ratio_opponent_over_candidate_followers  \n",
       "0                           0.0                                      0.0  \n",
       "1                           0.0                                      0.0  \n",
       "2                           0.0                                      0.0  \n",
       "3                           0.0                                      0.0  \n",
       "4                           0.0                                      0.0  "
      ]
     },
     "execution_count": 113,
     "metadata": {},
     "output_type": "execute_result"
    }
   ],
   "source": [
    "raw.head()"
   ]
  },
  {
   "cell_type": "code",
   "execution_count": 114,
   "metadata": {},
   "outputs": [
    {
     "data": {
      "text/plain": [
       "(275972, 15)"
      ]
     },
     "execution_count": 114,
     "metadata": {},
     "output_type": "execute_result"
    }
   ],
   "source": [
    "raw.shape"
   ]
  },
  {
   "cell_type": "code",
   "execution_count": 115,
   "metadata": {},
   "outputs": [
    {
     "data": {
      "text/plain": [
       "95"
      ]
     },
     "execution_count": 115,
     "metadata": {},
     "output_type": "execute_result"
    }
   ],
   "source": [
    "len(raw.candidates.unique())"
   ]
  },
  {
   "cell_type": "markdown",
   "metadata": {},
   "source": [
    "# Are all the candidates in the echo_computation in the candidate_info?"
   ]
  },
  {
   "cell_type": "code",
   "execution_count": 116,
   "metadata": {},
   "outputs": [
    {
     "data": {
      "text/plain": [
       "[974753842561601536,\n",
       " 985904307017924608,\n",
       " 1004724076810833920,\n",
       " 722092071285207040,\n",
       " 847171099376914432,\n",
       " 956324325556146176,\n",
       " 912402069335805952,\n",
       " 949089035556982784,\n",
       " 902612614634725376,\n",
       " 885364339321954304,\n",
       " 861246117689925632,\n",
       " 958408514807967744]"
      ]
     },
     "execution_count": 116,
     "metadata": {},
     "output_type": "execute_result"
    }
   ],
   "source": [
    "missing = list(set(raw.candidates) - set(candidate_info.UserID))\n",
    "missing"
   ]
  },
  {
   "cell_type": "code",
   "execution_count": 117,
   "metadata": {},
   "outputs": [
    {
     "name": "stdout",
     "output_type": "stream",
     "text": [
      "User not found\n",
      "User not found\n",
      "User not found\n",
      "User not found\n",
      "User not found\n",
      "User not found\n",
      "User not found\n",
      "User not found\n",
      "User not found\n",
      "User not found\n",
      "User not found\n",
      "User not found\n"
     ]
    }
   ],
   "source": [
    "#who are these candidates?\n",
    "import twitter\n",
    "api = twitter.Api(consumer_key= 'RoKyGypNXjkKxAMZ56ZmACAXU',\n",
    "                  consumer_secret='zjEqTC8byFOjuMUPwoiRbBa6iBACglP8Jy4Z9lbTdbX7fbjNFk',\n",
    "                  access_token_key= '825138308426653697-DYieQ0F5GEVzXdwldCiIacmTrK2A8ru',\n",
    "                  access_token_secret= 'mSoV9doa4zaFG6ffOHk5Btw8d30xeW9AIZSXYlyMMAtKq')\n",
    "\n",
    "for missed in missing:\n",
    "    try:\n",
    "        user = api.GetUser(missed)\n",
    "        print(user.name)\n",
    "    except:\n",
    "        print('User not found')"
   ]
  },
  {
   "cell_type": "code",
   "execution_count": 118,
   "metadata": {},
   "outputs": [
    {
     "data": {
      "text/plain": [
       "User(ID=216776631, ScreenName=BernieSanders)"
      ]
     },
     "execution_count": 118,
     "metadata": {},
     "output_type": "execute_result"
    }
   ],
   "source": [
    "#if user is real:\n",
    "api.GetUser(216776631)"
   ]
  },
  {
   "cell_type": "code",
   "execution_count": null,
   "metadata": {},
   "outputs": [],
   "source": []
  },
  {
   "cell_type": "markdown",
   "metadata": {},
   "source": [
    "# Which candidates are in the candidate_info but not in the echo computation?"
   ]
  },
  {
   "cell_type": "code",
   "execution_count": 119,
   "metadata": {},
   "outputs": [
    {
     "data": {
      "text/plain": [
       "[747234420676038656,\n",
       " 1163888566079873025,\n",
       " 722092071285207042,\n",
       " 912402069335805954,\n",
       " 956324325556146177,\n",
       " 861246117689925633,\n",
       " 949089035556982786,\n",
       " 985904307017924614,\n",
       " 958408514807967751,\n",
       " 1004724076810833921,\n",
       " 847171099376914433,\n",
       " 974753842561601537,\n",
       " 902612614634725377,\n",
       " 885364339321954305]"
      ]
     },
     "execution_count": 119,
     "metadata": {},
     "output_type": "execute_result"
    }
   ],
   "source": [
    "missing2 = list(set(candidate_info.UserID) - set(raw.candidates))\n",
    "missing2"
   ]
  },
  {
   "cell_type": "code",
   "execution_count": 120,
   "metadata": {},
   "outputs": [
    {
     "data": {
      "text/plain": [
       "7                      Robert Arlett\n",
       "9                Kerri Evelyn Harris\n",
       "13                      Lucy Brenton\n",
       "18                   Zak Ringelstein\n",
       "27                        John James\n",
       "31                     Jim Newberger\n",
       "43                         Tim Hagan\n",
       "45    Barry Michaels For U.S. Senate\n",
       "47        Tricia Flanagan For Senate\n",
       "48           Hoffman for Senate 2019\n",
       "49                         Bob Hugin\n",
       "52                    Natalie Rivera\n",
       "64      Bob Flanders for U.S. Senate\n",
       "72                       Tim Aalders\n",
       "Name: Real Name, dtype: object"
      ]
     },
     "execution_count": 120,
     "metadata": {},
     "output_type": "execute_result"
    }
   ],
   "source": [
    "candidate_info[candidate_info['UserID'].isin(missing2)]['Real Name']"
   ]
  },
  {
   "cell_type": "code",
   "execution_count": null,
   "metadata": {},
   "outputs": [],
   "source": []
  },
  {
   "cell_type": "markdown",
   "metadata": {},
   "source": [
    "# How many followers have 0 of their followers following the candidate?"
   ]
  },
  {
   "cell_type": "code",
   "execution_count": 121,
   "metadata": {},
   "outputs": [],
   "source": [
    "df = pd.merge(raw, candidate_info, left_on='candidates', right_on='UserID')"
   ]
  },
  {
   "cell_type": "code",
   "execution_count": 122,
   "metadata": {},
   "outputs": [
    {
     "name": "stdout",
     "output_type": "stream",
     "text": [
      "Percentage of People Who Follow Candidate A where none of their followers follow Candidate A:\n",
      "0.029340347219697062\n"
     ]
    }
   ],
   "source": [
    "print('Percentage of People Who Follow Candidate A where none of their followers follow Candidate A:')\n",
    "print(sum(df.f_of_f_candidate_followers == 0) / df.shape[0])"
   ]
  },
  {
   "cell_type": "code",
   "execution_count": 123,
   "metadata": {
    "scrolled": true
   },
   "outputs": [
    {
     "data": {
      "image/png": "[encoded data removed]",
      "text/plain": [
       "<Figure size 432x288 with 1 Axes>"
      ]
     },
     "metadata": {
      "needs_background": "light"
     },
     "output_type": "display_data"
    }
   ],
   "source": [
    "plt.hist(df.f_of_f_candidate_followers, bins=50)\n",
    "plt.title('Hist of Number of Followers Followers that also follow Candidate')\n",
    "plt.show()"
   ]
  },
  {
   "cell_type": "code",
   "execution_count": 124,
   "metadata": {},
   "outputs": [
    {
     "data": {
      "image/png": "[encoded data removed]",
      "text/plain": [
       "<Figure size 432x288 with 1 Axes>"
      ]
     },
     "metadata": {
      "needs_background": "light"
     },
     "output_type": "display_data"
    }
   ],
   "source": [
    "non_zero = df.f_of_f_candidate_followers[df.f_of_f_candidate_followers != 0]\n",
    "plt.hist(non_zero, bins=50, range=(0,500))\n",
    "plt.title('Not including 0: Hist of Number of Followers Followers that also follow Candidate')\n",
    "plt.show()"
   ]
  },
  {
   "cell_type": "markdown",
   "metadata": {},
   "source": [
    "# Followers with largest number of their followers following candidate:"
   ]
  },
  {
   "cell_type": "code",
   "execution_count": 125,
   "metadata": {},
   "outputs": [
    {
     "data": {
      "text/html": [
       "<div>\n",
       "<style scoped>\n",
       "    .dataframe tbody tr th:only-of-type {\n",
       "        vertical-align: middle;\n",
       "    }\n",
       "\n",
       "    .dataframe tbody tr th {\n",
       "        vertical-align: top;\n",
       "    }\n",
       "\n",
       "    .dataframe thead th {\n",
       "        text-align: right;\n",
       "    }\n",
       "</style>\n",
       "<table border=\"1\" class=\"dataframe\">\n",
       "  <thead>\n",
       "    <tr style=\"text-align: right;\">\n",
       "      <th></th>\n",
       "      <th>candidates</th>\n",
       "      <th>followers</th>\n",
       "      <th>f_of_f_candidate_followers</th>\n",
       "      <th>n_f_of_f</th>\n",
       "      <th>ratio</th>\n",
       "      <th>n_candidate_followers</th>\n",
       "      <th>ratio_normalized</th>\n",
       "      <th>opponent_followers</th>\n",
       "      <th>candidate_and_opponent_followers</th>\n",
       "      <th>only_candidate</th>\n",
       "      <th>...</th>\n",
       "      <th>Profile Created At</th>\n",
       "      <th>URL</th>\n",
       "      <th>Location</th>\n",
       "      <th>UTC Offset</th>\n",
       "      <th>Time Zone</th>\n",
       "      <th>Favourites Count</th>\n",
       "      <th>Friends Count</th>\n",
       "      <th>Followers Count</th>\n",
       "      <th>Statuses Count</th>\n",
       "      <th>Profile Image URL</th>\n",
       "    </tr>\n",
       "  </thead>\n",
       "  <tbody>\n",
       "    <tr>\n",
       "      <th>219764</th>\n",
       "      <td>172858784</td>\n",
       "      <td>33923443</td>\n",
       "      <td>66247</td>\n",
       "      <td>4501892</td>\n",
       "      <td>0.014715</td>\n",
       "      <td>987620</td>\n",
       "      <td>1.489983e-08</td>\n",
       "      <td>66247</td>\n",
       "      <td>66247</td>\n",
       "      <td>0</td>\n",
       "      <td>...</td>\n",
       "      <td>Fri Jul 30 20:00:32 +0000 2010</td>\n",
       "      <td>https://t.co/YNK0Xrmt2G</td>\n",
       "      <td>Richmond, VA</td>\n",
       "      <td>None</td>\n",
       "      <td>None</td>\n",
       "      <td>836</td>\n",
       "      <td>774</td>\n",
       "      <td>987493</td>\n",
       "      <td>10065</td>\n",
       "      <td>http://pbs.twimg.com/profile_images/9224721183...</td>\n",
       "    </tr>\n",
       "    <tr>\n",
       "      <th>242421</th>\n",
       "      <td>970207298</td>\n",
       "      <td>16383523</td>\n",
       "      <td>37618</td>\n",
       "      <td>296251</td>\n",
       "      <td>0.126980</td>\n",
       "      <td>5304955</td>\n",
       "      <td>2.393614e-08</td>\n",
       "      <td>37618</td>\n",
       "      <td>37618</td>\n",
       "      <td>0</td>\n",
       "      <td>...</td>\n",
       "      <td>Sun Nov 25 15:14:27 +0000 2012</td>\n",
       "      <td>http://t.co/wsbNrrUt</td>\n",
       "      <td></td>\n",
       "      <td>None</td>\n",
       "      <td>None</td>\n",
       "      <td>10</td>\n",
       "      <td>493</td>\n",
       "      <td>5305029</td>\n",
       "      <td>4605</td>\n",
       "      <td>http://pbs.twimg.com/profile_images/7220441747...</td>\n",
       "    </tr>\n",
       "    <tr>\n",
       "      <th>218405</th>\n",
       "      <td>172858784</td>\n",
       "      <td>580312540</td>\n",
       "      <td>19398</td>\n",
       "      <td>49601</td>\n",
       "      <td>0.391081</td>\n",
       "      <td>987620</td>\n",
       "      <td>3.959831e-07</td>\n",
       "      <td>19398</td>\n",
       "      <td>19398</td>\n",
       "      <td>0</td>\n",
       "      <td>...</td>\n",
       "      <td>Fri Jul 30 20:00:32 +0000 2010</td>\n",
       "      <td>https://t.co/YNK0Xrmt2G</td>\n",
       "      <td>Richmond, VA</td>\n",
       "      <td>None</td>\n",
       "      <td>None</td>\n",
       "      <td>836</td>\n",
       "      <td>774</td>\n",
       "      <td>987493</td>\n",
       "      <td>10065</td>\n",
       "      <td>http://pbs.twimg.com/profile_images/9224721183...</td>\n",
       "    </tr>\n",
       "    <tr>\n",
       "      <th>222668</th>\n",
       "      <td>1074480192</td>\n",
       "      <td>17171142</td>\n",
       "      <td>18372</td>\n",
       "      <td>54728</td>\n",
       "      <td>0.335697</td>\n",
       "      <td>1284975</td>\n",
       "      <td>2.612475e-07</td>\n",
       "      <td>18372</td>\n",
       "      <td>18372</td>\n",
       "      <td>0</td>\n",
       "      <td>...</td>\n",
       "      <td>Wed Jan 09 18:11:37 +0000 2013</td>\n",
       "      <td>https://t.co/9HWCyvsTvJ</td>\n",
       "      <td>Houston, Texas</td>\n",
       "      <td>None</td>\n",
       "      <td>None</td>\n",
       "      <td>408</td>\n",
       "      <td>6955</td>\n",
       "      <td>1284626</td>\n",
       "      <td>11042</td>\n",
       "      <td>http://pbs.twimg.com/profile_images/1100507943...</td>\n",
       "    </tr>\n",
       "    <tr>\n",
       "      <th>222945</th>\n",
       "      <td>1074480192</td>\n",
       "      <td>2625544698</td>\n",
       "      <td>17374</td>\n",
       "      <td>42561</td>\n",
       "      <td>0.408214</td>\n",
       "      <td>1284975</td>\n",
       "      <td>3.176825e-07</td>\n",
       "      <td>17374</td>\n",
       "      <td>17374</td>\n",
       "      <td>0</td>\n",
       "      <td>...</td>\n",
       "      <td>Wed Jan 09 18:11:37 +0000 2013</td>\n",
       "      <td>https://t.co/9HWCyvsTvJ</td>\n",
       "      <td>Houston, Texas</td>\n",
       "      <td>None</td>\n",
       "      <td>None</td>\n",
       "      <td>408</td>\n",
       "      <td>6955</td>\n",
       "      <td>1284626</td>\n",
       "      <td>11042</td>\n",
       "      <td>http://pbs.twimg.com/profile_images/1100507943...</td>\n",
       "    </tr>\n",
       "  </tbody>\n",
       "</table>\n",
       "<p>5 rows × 29 columns</p>\n",
       "</div>"
      ],
      "text/plain": [
       "        candidates   followers  f_of_f_candidate_followers  n_f_of_f  \\\n",
       "219764   172858784    33923443                       66247   4501892   \n",
       "242421   970207298    16383523                       37618    296251   \n",
       "218405   172858784   580312540                       19398     49601   \n",
       "222668  1074480192    17171142                       18372     54728   \n",
       "222945  1074480192  2625544698                       17374     42561   \n",
       "\n",
       "           ratio  n_candidate_followers  ratio_normalized  opponent_followers  \\\n",
       "219764  0.014715                 987620      1.489983e-08               66247   \n",
       "242421  0.126980                5304955      2.393614e-08               37618   \n",
       "218405  0.391081                 987620      3.959831e-07               19398   \n",
       "222668  0.335697                1284975      2.612475e-07               18372   \n",
       "222945  0.408214                1284975      3.176825e-07               17374   \n",
       "\n",
       "        candidate_and_opponent_followers  only_candidate  ...  \\\n",
       "219764                             66247               0  ...   \n",
       "242421                             37618               0  ...   \n",
       "218405                             19398               0  ...   \n",
       "222668                             18372               0  ...   \n",
       "222945                             17374               0  ...   \n",
       "\n",
       "                    Profile Created At                      URL  \\\n",
       "219764  Fri Jul 30 20:00:32 +0000 2010  https://t.co/YNK0Xrmt2G   \n",
       "242421  Sun Nov 25 15:14:27 +0000 2012     http://t.co/wsbNrrUt   \n",
       "218405  Fri Jul 30 20:00:32 +0000 2010  https://t.co/YNK0Xrmt2G   \n",
       "222668  Wed Jan 09 18:11:37 +0000 2013  https://t.co/9HWCyvsTvJ   \n",
       "222945  Wed Jan 09 18:11:37 +0000 2013  https://t.co/9HWCyvsTvJ   \n",
       "\n",
       "              Location  UTC Offset  Time Zone  Favourites Count Friends Count  \\\n",
       "219764    Richmond, VA        None       None               836           774   \n",
       "242421                        None       None                10           493   \n",
       "218405    Richmond, VA        None       None               836           774   \n",
       "222668  Houston, Texas        None       None               408          6955   \n",
       "222945  Houston, Texas        None       None               408          6955   \n",
       "\n",
       "       Followers Count Statuses Count  \\\n",
       "219764          987493          10065   \n",
       "242421         5305029           4605   \n",
       "218405          987493          10065   \n",
       "222668         1284626          11042   \n",
       "222945         1284626          11042   \n",
       "\n",
       "                                        Profile Image URL  \n",
       "219764  http://pbs.twimg.com/profile_images/9224721183...  \n",
       "242421  http://pbs.twimg.com/profile_images/7220441747...  \n",
       "218405  http://pbs.twimg.com/profile_images/9224721183...  \n",
       "222668  http://pbs.twimg.com/profile_images/1100507943...  \n",
       "222945  http://pbs.twimg.com/profile_images/1100507943...  \n",
       "\n",
       "[5 rows x 29 columns]"
      ]
     },
     "execution_count": 125,
     "metadata": {},
     "output_type": "execute_result"
    }
   ],
   "source": [
    "most_followers_following_candidate = df.nlargest(20, 'f_of_f_candidate_followers')\n",
    "most_followers_following_candidate.head()"
   ]
  },
  {
   "cell_type": "code",
   "execution_count": 126,
   "metadata": {},
   "outputs": [
    {
     "name": "stdout",
     "output_type": "stream",
     "text": [
      "MarQuis Trill Support The Movement with Engagement 66247 1.4899828436641927e-08 Tim Kaine\n",
      "Algernon  Fross 37618 2.393614311380207e-08 Elizabeth Warren\n",
      "Amee Vanderpool 19398 3.959830957082352e-07 Tim Kaine\n",
      "Craig Huey 18372 2.6124752278776737e-07 Senator Ted Cruz\n",
      "♥️👠SassyTrumpChic{⭐️} 17374 3.1768251733612485e-07 Senator Ted Cruz\n",
      "Deplorable Floridian❌ 16674 3.448896433189533e-07 Senator Ted Cruz\n",
      "ᎠᏌNᎬᎷYᎢᎻᎪNᏩ™️ 14961 3.2935186241389677e-07 Tim Kaine\n",
      "Jodi * HR-1 & HR-8 14465 3.405041733569981e-07 Sen Dianne Feinstein\n",
      "Pat Fuller is a Democrat #Antiracist #GutsyWoman 14157 6.034597273288557e-07 Sheldon Whitehouse\n",
      "♥️♥️ Neena ♥️♥️ 🚂🚃🌬 13659 3.733545990471221e-07 Senator Ted Cruz\n",
      "R. Donohue🆘 #Resist #Impeach | arm chair activist 13597 7.038987801683872e-07 Senator Mazie Hirono\n",
      "Vince (pull no punches) Pesce 12964 3.076145744319126e-07 Sen Dianne Feinstein\n",
      "Tipping Point🇺🇸 12430 3.0948745675224026e-07 Senator Ted Cruz\n",
      "Michael Hansen #KAGCaravan 11710 3.308891384841327e-07 Senator Ted Cruz\n",
      "Sensei Ryan 11644 3.4340369689071616e-07 Beto O'Rourke\n",
      "Jim B 11007 3.4832162520775405e-07 Senator Ted Cruz\n",
      "Anonymous Fed 10834 4.75709122786496e-07 Amy Klobuchar\n",
      "Muckmaker™ 10708 3.469136786158369e-07 Senator Ben Cardin\n",
      "Lord Louis 10260 1.0475276739766169e-08 Senator Ted Cruz\n",
      "Lee in Iowa 🆘 #TeamPelosi #Booker2020 9528 2.120647336787246e-06 Dan McCready\n"
     ]
    }
   ],
   "source": [
    "n_following = most_followers_following_candidate.f_of_f_candidate_followers.tolist()\n",
    "echo_chamber = most_followers_following_candidate.ratio_normalized.tolist()\n",
    "candidate_names = most_followers_following_candidate['Real Name'].tolist()\n",
    "\n",
    "for i, follower in enumerate(most_followers_following_candidate.followers):\n",
    "    user = api.GetUser(follower)\n",
    "    print(user.name, n_following[i], echo_chamber[i], candidate_names[i])"
   ]
  },
  {
   "cell_type": "code",
   "execution_count": null,
   "metadata": {},
   "outputs": [],
   "source": []
  },
  {
   "cell_type": "markdown",
   "metadata": {},
   "source": [
    "# Followers who most followers also follow opponent:"
   ]
  },
  {
   "cell_type": "code",
   "execution_count": 127,
   "metadata": {},
   "outputs": [
    {
     "name": "stdout",
     "output_type": "stream",
     "text": [
      "Ready for Presley 0.9583333333333334 0.9583333333333334 Jim Hood\n",
      "Montana CR 0.9333333333333333 0.9333333333333333 Matt Rosendale\n",
      "MSSenate Bill Reader 0.925 0.925 Tate Reeves\n",
      "Ready for Presley 0.9166666666666666 0.9166666666666666 David Baria\n",
      "Jim Moldenhauer 0.9166666666666666 0.9166666666666666 Leah Vukmir\n",
      "Krewe Of John Bel 0.904 0.904 John Bel Edwards\n",
      "prince bb 0.9 0.9 Elizabeth Warren\n",
      "MS4MARCORUBIO 0.8987341772151899 0.8987341772151899 Tate Reeves\n",
      "Samantha Clark 0.8947368421052632 0.8947368421052632 Eric Brakey\n",
      "Carter Campaign 2019 0.8918918918918919 0.8918918918918919 John Bel Edwards\n",
      "Tyrel Fenner 0.8888888888888888 0.8888888888888888 Jon Tester\n",
      "T Rhat 0.875 0.875 Leah Vukmir\n",
      "Patrick Testin 0.8726415094339622 0.8726415094339622 Leah Vukmir\n",
      "Godfrey for Senate 0.8717948717948718 0.8717948717948718 Jim Hood\n",
      "ImproveMississippi 0.8677248677248677 0.8677248677248677 Tate Reeves\n",
      "Katrina Boudreaux 0.8666666666666667 0.8666666666666667 John Bel Edwards\n",
      "Annette dupont-ewing 0.8636363636363636 0.8636363636363636 Governor Matt Bevin\n",
      "Lou Sprague 0.8571428571428571 0.8571428571428571 Eric Brakey\n",
      "louise  spivey 0.8571428571428571 0.8571428571428571 Tate Reeves\n",
      "Milez Bangz 0.8571428571428571 0.8571428571428571 Tate Reeves\n"
     ]
    }
   ],
   "source": [
    "most_followers_also_following_opponent = df.nlargest(20, 'ratio_opponent_over_candidate_followers')\n",
    "\n",
    "n_following = most_followers_also_following_opponent.ratio_opponent_over_candidate_followers.tolist()\n",
    "echo_chamber = most_followers_also_following_opponent.ratio_opponent_over_candidate_followers.tolist()\n",
    "candidate_names = most_followers_also_following_opponent['Real Name'].tolist()\n",
    "\n",
    "for i, follower in enumerate(most_followers_also_following_opponent.followers):\n",
    "    user = api.GetUser(follower)\n",
    "    print(user.name, n_following[i], echo_chamber[i], candidate_names[i])"
   ]
  },
  {
   "cell_type": "code",
   "execution_count": null,
   "metadata": {},
   "outputs": [],
   "source": []
  },
  {
   "cell_type": "code",
   "execution_count": null,
   "metadata": {},
   "outputs": [],
   "source": []
  },
  {
   "cell_type": "code",
   "execution_count": null,
   "metadata": {},
   "outputs": [],
   "source": []
  },
  {
   "cell_type": "markdown",
   "metadata": {},
   "source": [
    "# Most echo-chambered Followers: "
   ]
  },
  {
   "cell_type": "code",
   "execution_count": 36,
   "metadata": {},
   "outputs": [],
   "source": [
    "most_echod_followers = df.nlargest(20, 'ratio_normalized')"
   ]
  },
  {
   "cell_type": "code",
   "execution_count": 37,
   "metadata": {},
   "outputs": [
    {
     "name": "stdout",
     "output_type": "stream",
     "text": [
      "An Independent Voice 0.0016775396085740913 Kevin Kimple\n",
      "Not Chris McDaniel 0.0014296606938619901 Shawn O'Hara\n",
      "Childers' Moustache 0.0011796427367711494 Shawn O'Hara\n",
      "Chuckies Beard 0.001143728555089592 Shawn O'Hara\n",
      "Turned Off Lamp of Liberty 0.0009302325581395349 Shawn O'Hara\n",
      "Larry Girouard 0.0009174311926605505 Bob Flanders\n",
      "Monique Chartier 0.0008792048929663609 Bob Flanders\n",
      "Ken Budris 0.0007477833564790087 Kevin Kimple\n",
      "John Carlevale 0.000704563170834083 Bob Flanders\n",
      "J.H. Snider 0.0007008154943934761 Bob Flanders\n",
      "John Hill 0.0006831934413429631 Bob Flanders\n",
      "Make MS Blue 0.0006803562592775854 Shawn O'Hara\n",
      "Maureen Moakley 0.0006689602446483181 Bob Flanders\n",
      "ann flanders 0.000655307994757536 Bob Flanders\n",
      "Bill Felkner 0.0006414243508008086 Bob Flanders\n",
      "Robert G. Flanders 0.0006116207951070336 Bob Flanders\n",
      "Roger Clemente For Hawaii State Senate 0.0005818463925523662 Ron Curtis\n",
      "Larry Berman 0.000576827995385376 Bob Flanders\n",
      "Chuck Barton 0.0005733944954128441 Bob Flanders\n",
      "RenewRI 0.0005610190746485381 Bob Flanders\n"
     ]
    }
   ],
   "source": [
    "echo_chamber = most_echod_followers.ratio_normalized.tolist()\n",
    "candidate_names = most_echod_followers['Real Name'].tolist()\n",
    "for i, follower in enumerate(most_echod_followers.followers):\n",
    "    user = api.GetUser(follower)\n",
    "    print(user.name, echo_chamber[i], candidate_names[i])"
   ]
  },
  {
   "cell_type": "code",
   "execution_count": null,
   "metadata": {},
   "outputs": [],
   "source": []
  },
  {
   "cell_type": "markdown",
   "metadata": {},
   "source": [
    "# Most/Least Echo Chambered Candidates "
   ]
  },
  {
   "cell_type": "code",
   "execution_count": 47,
   "metadata": {},
   "outputs": [],
   "source": [
    "candidate_echo = raw.groupby('candidates').mean()"
   ]
  },
  {
   "cell_type": "code",
   "execution_count": 48,
   "metadata": {},
   "outputs": [],
   "source": [
    "candidate_echo = pd.merge(candidate_echo, candidate_info, left_index = True, right_on='UserID')"
   ]
  },
  {
   "cell_type": "code",
   "execution_count": 49,
   "metadata": {},
   "outputs": [
    {
     "data": {
      "text/html": [
       "<div>\n",
       "<style scoped>\n",
       "    .dataframe tbody tr th:only-of-type {\n",
       "        vertical-align: middle;\n",
       "    }\n",
       "\n",
       "    .dataframe tbody tr th {\n",
       "        vertical-align: top;\n",
       "    }\n",
       "\n",
       "    .dataframe thead th {\n",
       "        text-align: right;\n",
       "    }\n",
       "</style>\n",
       "<table border=\"1\" class=\"dataframe\">\n",
       "  <thead>\n",
       "    <tr style=\"text-align: right;\">\n",
       "      <th></th>\n",
       "      <th>followers</th>\n",
       "      <th>f_of_f_candidate_followers</th>\n",
       "      <th>n_f_of_f</th>\n",
       "      <th>ratio</th>\n",
       "      <th>n_candidate_followers</th>\n",
       "      <th>ratio_normalized</th>\n",
       "      <th>opponent_followers</th>\n",
       "      <th>candidate_and_opponent_followers</th>\n",
       "      <th>only_candidate</th>\n",
       "      <th>only_opponent</th>\n",
       "      <th>...</th>\n",
       "      <th>Profile Created At</th>\n",
       "      <th>URL</th>\n",
       "      <th>Location</th>\n",
       "      <th>UTC Offset</th>\n",
       "      <th>Time Zone</th>\n",
       "      <th>Favourites Count</th>\n",
       "      <th>Friends Count</th>\n",
       "      <th>Followers Count</th>\n",
       "      <th>Statuses Count</th>\n",
       "      <th>Profile Image URL</th>\n",
       "    </tr>\n",
       "  </thead>\n",
       "  <tbody>\n",
       "    <tr>\n",
       "      <th>77</th>\n",
       "      <td>4.364988e+17</td>\n",
       "      <td>46.327901</td>\n",
       "      <td>456.518685</td>\n",
       "      <td>0.106496</td>\n",
       "      <td>9631743.0</td>\n",
       "      <td>1.105678e-08</td>\n",
       "      <td>46.327901</td>\n",
       "      <td>46.327901</td>\n",
       "      <td>0.0</td>\n",
       "      <td>0.0</td>\n",
       "      <td>...</td>\n",
       "      <td>Wed Nov 17 17:53:52 +0000 2010</td>\n",
       "      <td>https://t.co/jpg8Sp1GhR</td>\n",
       "      <td>Vermont</td>\n",
       "      <td>None</td>\n",
       "      <td>None</td>\n",
       "      <td>980</td>\n",
       "      <td>1389</td>\n",
       "      <td>9630248</td>\n",
       "      <td>14633</td>\n",
       "      <td>http://pbs.twimg.com/profile_images/1097820307...</td>\n",
       "    </tr>\n",
       "    <tr>\n",
       "      <th>26</th>\n",
       "      <td>4.110570e+17</td>\n",
       "      <td>98.175000</td>\n",
       "      <td>602.496111</td>\n",
       "      <td>0.159911</td>\n",
       "      <td>5304955.0</td>\n",
       "      <td>3.014373e-08</td>\n",
       "      <td>98.175000</td>\n",
       "      <td>98.175000</td>\n",
       "      <td>0.0</td>\n",
       "      <td>0.0</td>\n",
       "      <td>...</td>\n",
       "      <td>Sun Nov 25 15:14:27 +0000 2012</td>\n",
       "      <td>http://t.co/wsbNrrUt</td>\n",
       "      <td></td>\n",
       "      <td>None</td>\n",
       "      <td>None</td>\n",
       "      <td>10</td>\n",
       "      <td>493</td>\n",
       "      <td>5305029</td>\n",
       "      <td>4605</td>\n",
       "      <td>http://pbs.twimg.com/profile_images/7220441747...</td>\n",
       "    </tr>\n",
       "    <tr>\n",
       "      <th>75</th>\n",
       "      <td>8.431883e+16</td>\n",
       "      <td>55.844471</td>\n",
       "      <td>652.505468</td>\n",
       "      <td>0.114687</td>\n",
       "      <td>1963534.0</td>\n",
       "      <td>5.840851e-08</td>\n",
       "      <td>55.844471</td>\n",
       "      <td>55.844471</td>\n",
       "      <td>0.0</td>\n",
       "      <td>0.0</td>\n",
       "      <td>...</td>\n",
       "      <td>Tue Jun 23 18:24:04 +0000 2009</td>\n",
       "      <td>https://t.co/dgU6xXHgmU</td>\n",
       "      <td>Holladay, UT</td>\n",
       "      <td>None</td>\n",
       "      <td>None</td>\n",
       "      <td>14</td>\n",
       "      <td>305</td>\n",
       "      <td>1963687</td>\n",
       "      <td>1837</td>\n",
       "      <td>http://pbs.twimg.com/profile_images/9644897166...</td>\n",
       "    </tr>\n",
       "    <tr>\n",
       "      <th>71</th>\n",
       "      <td>1.921010e+17</td>\n",
       "      <td>118.105947</td>\n",
       "      <td>846.133731</td>\n",
       "      <td>0.121272</td>\n",
       "      <td>1571179.0</td>\n",
       "      <td>7.718567e-08</td>\n",
       "      <td>118.105947</td>\n",
       "      <td>118.105947</td>\n",
       "      <td>0.0</td>\n",
       "      <td>0.0</td>\n",
       "      <td>...</td>\n",
       "      <td>Tue Jul 26 18:05:52 +0000 2011</td>\n",
       "      <td>https://t.co/W2jeGJ9ErW</td>\n",
       "      <td>El Paso, TX</td>\n",
       "      <td>None</td>\n",
       "      <td>None</td>\n",
       "      <td>3523</td>\n",
       "      <td>815</td>\n",
       "      <td>1570733</td>\n",
       "      <td>7341</td>\n",
       "      <td>http://pbs.twimg.com/profile_images/1018220845...</td>\n",
       "    </tr>\n",
       "    <tr>\n",
       "      <th>59</th>\n",
       "      <td>4.129130e+17</td>\n",
       "      <td>113.971027</td>\n",
       "      <td>808.302391</td>\n",
       "      <td>0.178652</td>\n",
       "      <td>1463237.0</td>\n",
       "      <td>1.220935e-07</td>\n",
       "      <td>113.971027</td>\n",
       "      <td>113.971027</td>\n",
       "      <td>0.0</td>\n",
       "      <td>0.0</td>\n",
       "      <td>...</td>\n",
       "      <td>Mon Sep 07 03:53:24 +0000 2009</td>\n",
       "      <td>https://t.co/qccoyKkdDN</td>\n",
       "      <td>New York</td>\n",
       "      <td>None</td>\n",
       "      <td>None</td>\n",
       "      <td>733</td>\n",
       "      <td>1064</td>\n",
       "      <td>1463112</td>\n",
       "      <td>19109</td>\n",
       "      <td>http://pbs.twimg.com/profile_images/1139649498...</td>\n",
       "    </tr>\n",
       "  </tbody>\n",
       "</table>\n",
       "<p>5 rows × 27 columns</p>\n",
       "</div>"
      ],
      "text/plain": [
       "       followers  f_of_f_candidate_followers    n_f_of_f     ratio  \\\n",
       "77  4.364988e+17                   46.327901  456.518685  0.106496   \n",
       "26  4.110570e+17                   98.175000  602.496111  0.159911   \n",
       "75  8.431883e+16                   55.844471  652.505468  0.114687   \n",
       "71  1.921010e+17                  118.105947  846.133731  0.121272   \n",
       "59  4.129130e+17                  113.971027  808.302391  0.178652   \n",
       "\n",
       "    n_candidate_followers  ratio_normalized  opponent_followers  \\\n",
       "77              9631743.0      1.105678e-08           46.327901   \n",
       "26              5304955.0      3.014373e-08           98.175000   \n",
       "75              1963534.0      5.840851e-08           55.844471   \n",
       "71              1571179.0      7.718567e-08          118.105947   \n",
       "59              1463237.0      1.220935e-07          113.971027   \n",
       "\n",
       "    candidate_and_opponent_followers  only_candidate  only_opponent  ...  \\\n",
       "77                         46.327901             0.0            0.0  ...   \n",
       "26                         98.175000             0.0            0.0  ...   \n",
       "75                         55.844471             0.0            0.0  ...   \n",
       "71                        118.105947             0.0            0.0  ...   \n",
       "59                        113.971027             0.0            0.0  ...   \n",
       "\n",
       "                Profile Created At                      URL      Location  \\\n",
       "77  Wed Nov 17 17:53:52 +0000 2010  https://t.co/jpg8Sp1GhR       Vermont   \n",
       "26  Sun Nov 25 15:14:27 +0000 2012     http://t.co/wsbNrrUt                 \n",
       "75  Tue Jun 23 18:24:04 +0000 2009  https://t.co/dgU6xXHgmU  Holladay, UT   \n",
       "71  Tue Jul 26 18:05:52 +0000 2011  https://t.co/W2jeGJ9ErW   El Paso, TX   \n",
       "59  Mon Sep 07 03:53:24 +0000 2009  https://t.co/qccoyKkdDN      New York   \n",
       "\n",
       "    UTC Offset Time Zone Favourites Count Friends Count Followers Count  \\\n",
       "77        None      None              980          1389         9630248   \n",
       "26        None      None               10           493         5305029   \n",
       "75        None      None               14           305         1963687   \n",
       "71        None      None             3523           815         1570733   \n",
       "59        None      None              733          1064         1463112   \n",
       "\n",
       "   Statuses Count                                  Profile Image URL  \n",
       "77          14633  http://pbs.twimg.com/profile_images/1097820307...  \n",
       "26           4605  http://pbs.twimg.com/profile_images/7220441747...  \n",
       "75           1837  http://pbs.twimg.com/profile_images/9644897166...  \n",
       "71           7341  http://pbs.twimg.com/profile_images/1018220845...  \n",
       "59          19109  http://pbs.twimg.com/profile_images/1139649498...  \n",
       "\n",
       "[5 rows x 27 columns]"
      ]
     },
     "execution_count": 49,
     "metadata": {},
     "output_type": "execute_result"
    }
   ],
   "source": [
    "candidate_echo.nlargest(20, 'n_candidate_followers').head()"
   ]
  },
  {
   "cell_type": "code",
   "execution_count": 50,
   "metadata": {},
   "outputs": [],
   "source": [
    "most_echod_candidate = candidate_echo.nlargest(20, 'ratio_normalized').sort_values('ratio_normalized', ascending=True)"
   ]
  },
  {
   "cell_type": "code",
   "execution_count": 51,
   "metadata": {},
   "outputs": [
    {
     "data": {
      "image/png": "[encoded data removed]",
      "text/plain": [
       "<Figure size 432x288 with 1 Axes>"
      ]
     },
     "metadata": {
      "needs_background": "light"
     },
     "output_type": "display_data"
    }
   ],
   "source": [
    "plt.barh(most_echod_candidate['Real Name'], most_echod_candidate.ratio_normalized)\n",
    "plt.title('Most Echo Chambered Candidates')\n",
    "plt.show()"
   ]
  },
  {
   "cell_type": "code",
   "execution_count": 52,
   "metadata": {},
   "outputs": [
    {
     "data": {
      "image/png": "[encoded data removed]",
      "text/plain": [
       "<Figure size 432x288 with 1 Axes>"
      ]
     },
     "metadata": {
      "needs_background": "light"
     },
     "output_type": "display_data"
    }
   ],
   "source": [
    "least_echod_candidate = candidate_echo.nsmallest(20, 'ratio_normalized').sort_values('ratio_normalized', ascending=False)\n",
    "\n",
    "plt.barh(least_echod_candidate['Real Name'], least_echod_candidate.ratio_normalized)\n",
    "plt.title('Least Echo Chambered Candidates')\n",
    "plt.show()"
   ]
  },
  {
   "cell_type": "code",
   "execution_count": 53,
   "metadata": {},
   "outputs": [
    {
     "data": {
      "text/html": [
       "<div>\n",
       "<style scoped>\n",
       "    .dataframe tbody tr th:only-of-type {\n",
       "        vertical-align: middle;\n",
       "    }\n",
       "\n",
       "    .dataframe tbody tr th {\n",
       "        vertical-align: top;\n",
       "    }\n",
       "\n",
       "    .dataframe thead th {\n",
       "        text-align: right;\n",
       "    }\n",
       "</style>\n",
       "<table border=\"1\" class=\"dataframe\">\n",
       "  <thead>\n",
       "    <tr style=\"text-align: right;\">\n",
       "      <th></th>\n",
       "      <th>followers</th>\n",
       "      <th>f_of_f_candidate_followers</th>\n",
       "      <th>n_f_of_f</th>\n",
       "      <th>ratio</th>\n",
       "      <th>n_candidate_followers</th>\n",
       "      <th>ratio_normalized</th>\n",
       "      <th>opponent_followers</th>\n",
       "      <th>candidate_and_opponent_followers</th>\n",
       "      <th>only_candidate</th>\n",
       "      <th>only_opponent</th>\n",
       "      <th>...</th>\n",
       "      <th>Profile Created At</th>\n",
       "      <th>URL</th>\n",
       "      <th>Location</th>\n",
       "      <th>UTC Offset</th>\n",
       "      <th>Time Zone</th>\n",
       "      <th>Favourites Count</th>\n",
       "      <th>Friends Count</th>\n",
       "      <th>Followers Count</th>\n",
       "      <th>Statuses Count</th>\n",
       "      <th>Profile Image URL</th>\n",
       "    </tr>\n",
       "  </thead>\n",
       "  <tbody>\n",
       "    <tr>\n",
       "      <th>35</th>\n",
       "      <td>2.069926e+16</td>\n",
       "      <td>11.555556</td>\n",
       "      <td>61361.765432</td>\n",
       "      <td>0.014571</td>\n",
       "      <td>86.0</td>\n",
       "      <td>0.000169</td>\n",
       "      <td>11.555556</td>\n",
       "      <td>11.555556</td>\n",
       "      <td>0.0</td>\n",
       "      <td>0.0</td>\n",
       "      <td>...</td>\n",
       "      <td>Wed Jun 11 02:53:45 +0000 2014</td>\n",
       "      <td>None</td>\n",
       "      <td>H'burg whudup</td>\n",
       "      <td>None</td>\n",
       "      <td>None</td>\n",
       "      <td>2</td>\n",
       "      <td>560</td>\n",
       "      <td>86</td>\n",
       "      <td>134</td>\n",
       "      <td>http://pbs.twimg.com/profile_images/4765601471...</td>\n",
       "    </tr>\n",
       "  </tbody>\n",
       "</table>\n",
       "<p>1 rows × 27 columns</p>\n",
       "</div>"
      ],
      "text/plain": [
       "       followers  f_of_f_candidate_followers      n_f_of_f     ratio  \\\n",
       "35  2.069926e+16                   11.555556  61361.765432  0.014571   \n",
       "\n",
       "    n_candidate_followers  ratio_normalized  opponent_followers  \\\n",
       "35                   86.0          0.000169           11.555556   \n",
       "\n",
       "    candidate_and_opponent_followers  only_candidate  only_opponent  ...  \\\n",
       "35                         11.555556             0.0            0.0  ...   \n",
       "\n",
       "                Profile Created At   URL       Location  UTC Offset Time Zone  \\\n",
       "35  Wed Jun 11 02:53:45 +0000 2014  None  H'burg whudup        None      None   \n",
       "\n",
       "   Favourites Count Friends Count Followers Count Statuses Count  \\\n",
       "35                2           560              86            134   \n",
       "\n",
       "                                    Profile Image URL  \n",
       "35  http://pbs.twimg.com/profile_images/4765601471...  \n",
       "\n",
       "[1 rows x 27 columns]"
      ]
     },
     "execution_count": 53,
     "metadata": {},
     "output_type": "execute_result"
    }
   ],
   "source": [
    "candidate_echo[candidate_echo['Real Name'] == \"Shawn O'Hara\"]"
   ]
  },
  {
   "cell_type": "code",
   "execution_count": null,
   "metadata": {},
   "outputs": [],
   "source": [
    "raw['only_candidate'] = raw.f_of_f_candidate_followers - raw.candidate_and_opponent_followers\n",
    "raw['only_opponent'] = raw.opponent_followers - raw.candidate_and_opponent_followers\n",
    "\n",
    "raw['ratio_only_candidate'] = raw.only_candidate / raw.n_f_of_f\n",
    "raw['ratio_only_candidate_normalized'] = raw.ratio_only_candidate / raw.n_candidate_followers\n",
    "\n",
    "raw['ratio_candidate_and_opponent'] = raw.candidate_and_opponent_followers / raw.n_f_of_f\n",
    "raw['ratio_only_candidate_normalized'] = raw.ratio_candidate_and_opponent / raw.n_candidate_followers\n",
    "\n",
    "raw['ratio_opponent_over_candidate_followers'] = raw.opponent_followers / raw.n_f_of_f"
   ]
  },
  {
   "cell_type": "code",
   "execution_count": 134,
   "metadata": {},
   "outputs": [
    {
     "data": {
      "image/png": "[encoded data removed]",
      "text/plain": [
       "<Figure size 432x288 with 1 Axes>"
      ]
     },
     "metadata": {
      "needs_background": "light"
     },
     "output_type": "display_data"
    },
    {
     "data": {
      "image/png": "[encoded data removed]",
      "text/plain": [
       "<Figure size 432x288 with 1 Axes>"
      ]
     },
     "metadata": {
      "needs_background": "light"
     },
     "output_type": "display_data"
    }
   ],
   "source": [
    "most_echod_candidate = candidate_echo.nlargest(20, 'ratio').sort_values('ratio', ascending=True)\n",
    "plt.barh(most_echod_candidate['Real Name'], most_echod_candidate.ratio)\n",
    "plt.title('Most Echo Chambered Candidates Ratio')\n",
    "plt.show()\n",
    "\n",
    "least_echod_candidate = candidate_echo.nsmallest(20, 'ratio').sort_values('ratio', ascending=False)\n",
    "plt.barh(least_echod_candidate['Real Name'], least_echod_candidate.ratio)\n",
    "plt.title('Least Echo Chambered Candidates Ratio')\n",
    "plt.show()"
   ]
  },
  {
   "cell_type": "code",
   "execution_count": 136,
   "metadata": {},
   "outputs": [
    {
     "data": {
      "image/png": "[encoded data removed]",
      "text/plain": [
       "<Figure size 432x288 with 1 Axes>"
      ]
     },
     "metadata": {
      "needs_background": "light"
     },
     "output_type": "display_data"
    },
    {
     "data": {
      "image/png": "[encoded data removed]",
      "text/plain": [
       "<Figure size 432x288 with 1 Axes>"
      ]
     },
     "metadata": {
      "needs_background": "light"
     },
     "output_type": "display_data"
    }
   ],
   "source": [
    "variable = 'ratio_only_candidate'\n",
    "most_echod_candidate = candidate_echo.nlargest(20, variable).sort_values(variable, ascending=True)\n",
    "plt.barh(most_echod_candidate['Real Name'], most_echod_candidate[variable])\n",
    "plt.title('Most ' + variable)\n",
    "plt.show()\n",
    "\n",
    "least_echod_candidate = candidate_echo.nsmallest(20, variable).sort_values(variable, ascending=False)\n",
    "plt.barh(least_echod_candidate['Real Name'], least_echod_candidate[variable])\n",
    "plt.title('Least '+variable)\n",
    "plt.show()"
   ]
  },
  {
   "cell_type": "code",
   "execution_count": 140,
   "metadata": {},
   "outputs": [
    {
     "data": {
      "text/plain": [
       "38    0.0\n",
       "63    0.0\n",
       "12    0.0\n",
       "59    0.0\n",
       "67    0.0\n",
       "75    0.0\n",
       "44    0.0\n",
       "30    0.0\n",
       "33    0.0\n",
       "2     0.0\n",
       "84    0.0\n",
       "87    0.0\n",
       "61    0.0\n",
       "10    0.0\n",
       "36    0.0\n",
       "29    0.0\n",
       "1     0.0\n",
       "40    0.0\n",
       "55    0.0\n",
       "23    0.0\n",
       "Name: ratio_only_candidate, dtype: float64"
      ]
     },
     "execution_count": 140,
     "metadata": {},
     "output_type": "execute_result"
    }
   ],
   "source": [
    "variable = 'ratio_only_candidate'\n",
    "most_echod_candidate = candidate_echo.nlargest(20, variable).sort_values(variable, ascending=True)\n",
    "#plt.barh(most_echod_candidate['Real Name'], most_echod_candidate[variable])\n",
    "most_echod_candidate[variable]"
   ]
  },
  {
   "cell_type": "code",
   "execution_count": null,
   "metadata": {},
   "outputs": [],
   "source": []
  },
  {
   "cell_type": "markdown",
   "metadata": {},
   "source": [
    "# Distribution of Echo Chamberedness for Candidates and Followers "
   ]
  },
  {
   "cell_type": "code",
   "execution_count": 54,
   "metadata": {},
   "outputs": [
    {
     "data": {
      "image/png": "[encoded data removed]",
      "text/plain": [
       "<Figure size 432x288 with 1 Axes>"
      ]
     },
     "metadata": {
      "needs_background": "light"
     },
     "output_type": "display_data"
    }
   ],
   "source": [
    "plt.hist(candidate_echo.ratio_normalized, bins=50)\n",
    "plt.title('Echo Chamberedness of Candidates')\n",
    "plt.show()"
   ]
  },
  {
   "cell_type": "code",
   "execution_count": 55,
   "metadata": {},
   "outputs": [
    {
     "data": {
      "image/png": "[encoded data removed]",
      "text/plain": [
       "<Figure size 432x288 with 1 Axes>"
      ]
     },
     "metadata": {
      "needs_background": "light"
     },
     "output_type": "display_data"
    }
   ],
   "source": [
    "plt.hist(df.ratio_normalized, bins=50)\n",
    "plt.title('Echo Chamberedness of Followers')\n",
    "plt.show()"
   ]
  },
  {
   "cell_type": "code",
   "execution_count": null,
   "metadata": {},
   "outputs": [],
   "source": []
  },
  {
   "cell_type": "markdown",
   "metadata": {},
   "source": [
    "# How many followers do candidates have?"
   ]
  },
  {
   "cell_type": "code",
   "execution_count": 56,
   "metadata": {},
   "outputs": [
    {
     "data": {
      "text/plain": [
       "(array([75.,  5.,  1.,  0.,  0.,  1.,  0.,  0.,  0.,  1.]),\n",
       " array([2.0000000e+00, 9.6317610e+05, 1.9263502e+06, 2.8895243e+06,\n",
       "        3.8526984e+06, 4.8158725e+06, 5.7790466e+06, 6.7422207e+06,\n",
       "        7.7053948e+06, 8.6685689e+06, 9.6317430e+06]),\n",
       " <a list of 10 Patch objects>)"
      ]
     },
     "execution_count": 56,
     "metadata": {},
     "output_type": "execute_result"
    },
    {
     "data": {
      "image/png": "[encoded data removed]",
      "text/plain": [
       "<Figure size 432x288 with 1 Axes>"
      ]
     },
     "metadata": {
      "needs_background": "light"
     },
     "output_type": "display_data"
    }
   ],
   "source": [
    "plt.hist(candidate_echo.n_candidate_followers)"
   ]
  },
  {
   "cell_type": "code",
   "execution_count": null,
   "metadata": {},
   "outputs": [],
   "source": []
  },
  {
   "cell_type": "markdown",
   "metadata": {},
   "source": [
    "# How does number of followers correlate with echo chamberedness?"
   ]
  },
  {
   "cell_type": "code",
   "execution_count": 57,
   "metadata": {},
   "outputs": [
    {
     "data": {
      "image/png": "[encoded data removed]",
      "text/plain": [
       "<Figure size 432x288 with 1 Axes>"
      ]
     },
     "metadata": {
      "needs_background": "light"
     },
     "output_type": "display_data"
    }
   ],
   "source": [
    "plt.scatter(candidate_echo.n_candidate_followers, candidate_echo.ratio_normalized)\n",
    "plt.title('Number of Followers vs Echo Chamberedness of Candidates')\n",
    "plt.ylim(-0.0001, 0.0003)\n",
    "plt.show()"
   ]
  },
  {
   "cell_type": "code",
   "execution_count": 58,
   "metadata": {},
   "outputs": [
    {
     "data": {
      "image/png": "[encoded data removed]",
      "text/plain": [
       "<Figure size 432x288 with 1 Axes>"
      ]
     },
     "metadata": {
      "needs_background": "light"
     },
     "output_type": "display_data"
    }
   ],
   "source": [
    "plt.scatter(candidate_echo.n_candidate_followers, candidate_echo.ratio)\n",
    "plt.title('Number of Followers vs Echo Chamberedness (Non-Normalized) of Candidates')\n",
    "plt.show()"
   ]
  },
  {
   "cell_type": "code",
   "execution_count": null,
   "metadata": {},
   "outputs": [],
   "source": []
  },
  {
   "cell_type": "markdown",
   "metadata": {},
   "source": [
    "# Do candidates appear twice in dataset?"
   ]
  },
  {
   "cell_type": "code",
   "execution_count": 59,
   "metadata": {},
   "outputs": [
    {
     "data": {
      "text/html": [
       "<div>\n",
       "<style scoped>\n",
       "    .dataframe tbody tr th:only-of-type {\n",
       "        vertical-align: middle;\n",
       "    }\n",
       "\n",
       "    .dataframe tbody tr th {\n",
       "        vertical-align: top;\n",
       "    }\n",
       "\n",
       "    .dataframe thead th {\n",
       "        text-align: right;\n",
       "    }\n",
       "</style>\n",
       "<table border=\"1\" class=\"dataframe\">\n",
       "  <thead>\n",
       "    <tr style=\"text-align: right;\">\n",
       "      <th></th>\n",
       "      <th>followers</th>\n",
       "      <th>f_of_f_candidate_followers</th>\n",
       "      <th>n_f_of_f</th>\n",
       "      <th>ratio</th>\n",
       "      <th>n_candidate_followers</th>\n",
       "      <th>ratio_normalized</th>\n",
       "      <th>opponent_followers</th>\n",
       "      <th>candidate_and_opponent_followers</th>\n",
       "      <th>only_candidate</th>\n",
       "      <th>only_opponent</th>\n",
       "      <th>...</th>\n",
       "      <th>Profile Created At</th>\n",
       "      <th>URL</th>\n",
       "      <th>Location</th>\n",
       "      <th>UTC Offset</th>\n",
       "      <th>Time Zone</th>\n",
       "      <th>Favourites Count</th>\n",
       "      <th>Friends Count</th>\n",
       "      <th>Followers Count</th>\n",
       "      <th>Statuses Count</th>\n",
       "      <th>Profile Image URL</th>\n",
       "    </tr>\n",
       "  </thead>\n",
       "  <tbody>\n",
       "    <tr>\n",
       "      <th>22</th>\n",
       "      <td>1.110616e+17</td>\n",
       "      <td>14.760844</td>\n",
       "      <td>8330.94959</td>\n",
       "      <td>0.013286</td>\n",
       "      <td>983.0</td>\n",
       "      <td>0.000014</td>\n",
       "      <td>14.760844</td>\n",
       "      <td>14.760844</td>\n",
       "      <td>0.0</td>\n",
       "      <td>0.0</td>\n",
       "      <td>...</td>\n",
       "      <td>Thu Apr 29 20:13:25 +0000 2010</td>\n",
       "      <td>http://t.co/nDS7siDrPo</td>\n",
       "      <td>Bethesda, MD</td>\n",
       "      <td>None</td>\n",
       "      <td>None</td>\n",
       "      <td>2</td>\n",
       "      <td>1794</td>\n",
       "      <td>983</td>\n",
       "      <td>1771</td>\n",
       "      <td>http://pbs.twimg.com/profile_images/860753740/...</td>\n",
       "    </tr>\n",
       "  </tbody>\n",
       "</table>\n",
       "<p>1 rows × 27 columns</p>\n",
       "</div>"
      ],
      "text/plain": [
       "       followers  f_of_f_candidate_followers    n_f_of_f     ratio  \\\n",
       "22  1.110616e+17                   14.760844  8330.94959  0.013286   \n",
       "\n",
       "    n_candidate_followers  ratio_normalized  opponent_followers  \\\n",
       "22                  983.0          0.000014           14.760844   \n",
       "\n",
       "    candidate_and_opponent_followers  only_candidate  only_opponent  ...  \\\n",
       "22                         14.760844             0.0            0.0  ...   \n",
       "\n",
       "                Profile Created At                     URL      Location  \\\n",
       "22  Thu Apr 29 20:13:25 +0000 2010  http://t.co/nDS7siDrPo  Bethesda, MD   \n",
       "\n",
       "    UTC Offset Time Zone Favourites Count Friends Count Followers Count  \\\n",
       "22        None      None                2          1794             983   \n",
       "\n",
       "   Statuses Count                                  Profile Image URL  \n",
       "22           1771  http://pbs.twimg.com/profile_images/860753740/...  \n",
       "\n",
       "[1 rows x 27 columns]"
      ]
     },
     "execution_count": 59,
     "metadata": {},
     "output_type": "execute_result"
    }
   ],
   "source": [
    "candidate_echo[candidate_echo['Real Name'].duplicated()]"
   ]
  },
  {
   "cell_type": "code",
   "execution_count": null,
   "metadata": {},
   "outputs": [],
   "source": []
  },
  {
   "cell_type": "code",
   "execution_count": null,
   "metadata": {},
   "outputs": [],
   "source": []
  },
  {
   "cell_type": "code",
   "execution_count": null,
   "metadata": {},
   "outputs": [],
   "source": []
  },
  {
   "cell_type": "code",
   "execution_count": null,
   "metadata": {},
   "outputs": [],
   "source": []
  },
  {
   "cell_type": "markdown",
   "metadata": {},
   "source": [
    "# POLLS"
   ]
  },
  {
   "cell_type": "code",
   "execution_count": 60,
   "metadata": {},
   "outputs": [],
   "source": [
    "#polls = pd.read_csv('../poll_variance/poll_variances_2018.csv')"
   ]
  },
  {
   "cell_type": "code",
   "execution_count": 61,
   "metadata": {},
   "outputs": [],
   "source": [
    "from fuzzywuzzy import fuzz\n",
    "\n",
    "def match_name(name, list_names, min_score=0):\n",
    "    # -1 score incase we don't get any matches\n",
    "    max_score = -1\n",
    "    # Returning empty name for no match as well\n",
    "    max_name = \"\"\n",
    "    # Iternating over all names in the other\n",
    "    for name2 in list_names:\n",
    "        #Finding fuzzy match score\n",
    "        score = fuzz.ratio(name, name2)\n",
    "        # Checking if we are above our threshold and have a better score\n",
    "        if (score > min_score) & (score > max_score):\n",
    "            max_name = name2\n",
    "            max_score = score\n",
    "    return (max_name, max_score)"
   ]
  },
  {
   "cell_type": "code",
   "execution_count": 62,
   "metadata": {
    "collapsed": true
   },
   "outputs": [
    {
     "ename": "NameError",
     "evalue": "name 'polls' is not defined",
     "output_type": "error",
     "traceback": [
      "\u001b[0;31m---------------------------------------------------------------------------\u001b[0m",
      "\u001b[0;31mNameError\u001b[0m                                 Traceback (most recent call last)",
      "\u001b[0;32m<ipython-input-62-ad308fc634de>\u001b[0m in \u001b[0;36m<module>\u001b[0;34m\u001b[0m\n\u001b[1;32m      4\u001b[0m \u001b[0;32mfor\u001b[0m \u001b[0mname\u001b[0m \u001b[0;32min\u001b[0m \u001b[0mcandidate_echo\u001b[0m\u001b[0;34m[\u001b[0m\u001b[0;34m'Real Name'\u001b[0m\u001b[0;34m]\u001b[0m\u001b[0;34m:\u001b[0m\u001b[0;34m\u001b[0m\u001b[0;34m\u001b[0m\u001b[0m\n\u001b[1;32m      5\u001b[0m     \u001b[0;31m# Use our method to find best match, we can set a threshold here\u001b[0m\u001b[0;34m\u001b[0m\u001b[0;34m\u001b[0m\u001b[0;34m\u001b[0m\u001b[0m\n\u001b[0;32m----> 6\u001b[0;31m     \u001b[0mmatch\u001b[0m \u001b[0;34m=\u001b[0m \u001b[0mmatch_name\u001b[0m\u001b[0;34m(\u001b[0m\u001b[0mname\u001b[0m\u001b[0;34m,\u001b[0m \u001b[0mpolls\u001b[0m\u001b[0;34m.\u001b[0m\u001b[0mcandidate_name\u001b[0m\u001b[0;34m)\u001b[0m\u001b[0;34m\u001b[0m\u001b[0;34m\u001b[0m\u001b[0m\n\u001b[0m\u001b[1;32m      7\u001b[0m \u001b[0;34m\u001b[0m\u001b[0m\n\u001b[1;32m      8\u001b[0m     \u001b[0;31m# New dict for storing data\u001b[0m\u001b[0;34m\u001b[0m\u001b[0;34m\u001b[0m\u001b[0;34m\u001b[0m\u001b[0m\n",
      "\u001b[0;31mNameError\u001b[0m: name 'polls' is not defined"
     ]
    }
   ],
   "source": [
    "# List for dicts for easy dataframe creation\n",
    "dict_list = []\n",
    "# iterating over our players without salaries found above\n",
    "for name in candidate_echo['Real Name']:\n",
    "    # Use our method to find best match, we can set a threshold here\n",
    "    match = match_name(name, polls.candidate_name)\n",
    "    \n",
    "    # New dict for storing data\n",
    "    dict_ = {}\n",
    "    dict_.update({\"twitter_name\" : name})\n",
    "    dict_.update({\"poll_name\" : match[0]})\n",
    "    dict_.update({\"score\" : match[1]})\n",
    "    dict_list.append(dict_)\n",
    "    \n",
    "merge_table = pd.DataFrame(dict_list)\n",
    "# Display results\n"
   ]
  },
  {
   "cell_type": "code",
   "execution_count": 64,
   "metadata": {
    "collapsed": true
   },
   "outputs": [
    {
     "ename": "NameError",
     "evalue": "name 'polls' is not defined",
     "output_type": "error",
     "traceback": [
      "\u001b[0;31m---------------------------------------------------------------------------\u001b[0m",
      "\u001b[0;31mNameError\u001b[0m                                 Traceback (most recent call last)",
      "\u001b[0;32m<ipython-input-64-affe11b6a58a>\u001b[0m in \u001b[0;36m<module>\u001b[0;34m\u001b[0m\n\u001b[0;32m----> 1\u001b[0;31m \u001b[0mpolls\u001b[0m \u001b[0;34m=\u001b[0m \u001b[0mpd\u001b[0m\u001b[0;34m.\u001b[0m\u001b[0mmerge\u001b[0m\u001b[0;34m(\u001b[0m\u001b[0mpolls\u001b[0m\u001b[0;34m,\u001b[0m \u001b[0mmerge_table\u001b[0m\u001b[0;34m,\u001b[0m \u001b[0mleft_on\u001b[0m\u001b[0;34m=\u001b[0m\u001b[0;34m'candidate_name'\u001b[0m\u001b[0;34m,\u001b[0m \u001b[0mright_on\u001b[0m\u001b[0;34m=\u001b[0m\u001b[0;34m'poll_name'\u001b[0m\u001b[0;34m)\u001b[0m\u001b[0;34m\u001b[0m\u001b[0;34m\u001b[0m\u001b[0m\n\u001b[0m\u001b[1;32m      2\u001b[0m \u001b[0mpolls\u001b[0m\u001b[0;34m.\u001b[0m\u001b[0mto_csv\u001b[0m\u001b[0;34m(\u001b[0m\u001b[0;34m'polls_twitter_names.csv'\u001b[0m\u001b[0;34m,\u001b[0m \u001b[0mindex\u001b[0m\u001b[0;34m=\u001b[0m\u001b[0;32mFalse\u001b[0m\u001b[0;34m)\u001b[0m\u001b[0;34m\u001b[0m\u001b[0;34m\u001b[0m\u001b[0m\n",
      "\u001b[0;31mNameError\u001b[0m: name 'polls' is not defined"
     ]
    }
   ],
   "source": [
    "polls = pd.merge(polls, merge_table, left_on='candidate_name', right_on='poll_name')\n",
    "polls.to_csv('polls_twitter_names.csv', index=False)"
   ]
  },
  {
   "cell_type": "code",
   "execution_count": 65,
   "metadata": {},
   "outputs": [],
   "source": [
    "polls_new = pd.read_csv('polls_twitter_names_clean.csv')"
   ]
  },
  {
   "cell_type": "code",
   "execution_count": 66,
   "metadata": {},
   "outputs": [],
   "source": [
    "poll_analysis = pd.merge(candidate_echo, polls_new, left_on='Real Name', right_on='twitter_name')"
   ]
  },
  {
   "cell_type": "code",
   "execution_count": 67,
   "metadata": {},
   "outputs": [
    {
     "data": {
      "image/png": "[encoded data removed]",
      "text/plain": [
       "<Figure size 432x288 with 1 Axes>"
      ]
     },
     "metadata": {
      "needs_background": "light"
     },
     "output_type": "display_data"
    }
   ],
   "source": [
    "plt.scatter(poll_analysis.poll_variance, poll_analysis.ratio_normalized)\n",
    "plt.title('Poll Variance (538 Data) vs Normalized Echo Chamber')\n",
    "plt.ylim(-0.00003,0.00025)\n",
    "plt.show()"
   ]
  },
  {
   "cell_type": "code",
   "execution_count": 68,
   "metadata": {},
   "outputs": [
    {
     "data": {
      "image/png": "[encoded data removed]",
      "text/plain": [
       "<Figure size 432x288 with 1 Axes>"
      ]
     },
     "metadata": {
      "needs_background": "light"
     },
     "output_type": "display_data"
    }
   ],
   "source": [
    "plt.scatter(poll_analysis.poll_variance, poll_analysis.ratio)\n",
    "plt.title('Poll Variance (538 Data) vs Echo Chamber')\n",
    "plt.show()"
   ]
  },
  {
   "cell_type": "markdown",
   "metadata": {},
   "source": [
    "Maybe I made a mistake, but it seems like they aren't related :("
   ]
  },
  {
   "cell_type": "code",
   "execution_count": null,
   "metadata": {},
   "outputs": [],
   "source": []
  },
  {
   "cell_type": "markdown",
   "metadata": {},
   "source": [
    "# VOTER TURNOUT "
   ]
  },
  {
   "cell_type": "markdown",
   "metadata": {},
   "source": [
    "figure out the state for each twitter account"
   ]
  },
  {
   "cell_type": "code",
   "execution_count": 69,
   "metadata": {},
   "outputs": [],
   "source": [
    "election_results = pd.read_csv('election_results.csv')"
   ]
  },
  {
   "cell_type": "code",
   "execution_count": 70,
   "metadata": {},
   "outputs": [],
   "source": [
    "dem_candidates = election_results.candidate_18_dem.dropna()\n",
    "rep_candidates = election_results.candidate_18_rep.dropna()"
   ]
  },
  {
   "cell_type": "code",
   "execution_count": 71,
   "metadata": {},
   "outputs": [],
   "source": [
    "#match democrats, then republicans\n",
    "# List for dicts for easy dataframe creation\n",
    "dict_list = []\n",
    "# iterating over our players without salaries found above\n",
    "#for name in rep_candidates:\n",
    "for name in dem_candidates:\n",
    "    # Use our method to find best match, we can set a threshold here\n",
    "    match = match_name(name, candidate_echo['Real Name'])\n",
    "\n",
    "    # New dict for storing data\n",
    "    dict_ = {}\n",
    "    dict_.update({\"twitter_name\" : name})\n",
    "    dict_.update({\"dem_name\" : match[0]})\n",
    "    dict_.update({\"score\" : match[1]})\n",
    "    dict_list.append(dict_)\n",
    "\n",
    "\n",
    "merge_table = pd.DataFrame(dict_list)\n",
    "# Display results\n",
    "#merge_table.to_csv('rep_candidates_fuzzy.csv', index=False)\n",
    "merge_table.to_csv('dem_candidates_fuzzy1.csv', index=False)\n"
   ]
  },
  {
   "cell_type": "code",
   "execution_count": 72,
   "metadata": {},
   "outputs": [],
   "source": [
    "rep_candidates_fuzzy = pd.read_csv('rep_candidates_fuzzy.csv')\n",
    "rep_candidates_fuzzy.columns = ['rep_twitter_name', 'score', 'rep_name']\n",
    "dem_candidates_fuzzy = pd.read_csv('dem_candidates_fuzzy.csv')\n",
    "dem_candidates_fuzzy.columns = ['dem_twitter_name', 'score', 'dem_name']"
   ]
  },
  {
   "cell_type": "code",
   "execution_count": 73,
   "metadata": {},
   "outputs": [],
   "source": [
    "election_results = pd.merge(election_results, rep_candidates_fuzzy, left_on='candidate_18_rep', right_on='rep_name')\n",
    "election_results = pd.merge(election_results, dem_candidates_fuzzy, left_on='candidate_18_dem', right_on='dem_name')"
   ]
  },
  {
   "cell_type": "code",
   "execution_count": 74,
   "metadata": {},
   "outputs": [],
   "source": [
    "state_candidate_twitter = election_results[['state', 'dem_twitter_name', 'rep_twitter_name']]\n",
    "state_candidate_twitter = pd.melt(state_candidate_twitter, id_vars='state', value_vars=['dem_twitter_name', 'rep_twitter_name'] )\n"
   ]
  },
  {
   "cell_type": "code",
   "execution_count": 75,
   "metadata": {},
   "outputs": [],
   "source": [
    "candidate_echo_vt = pd.merge(candidate_echo, state_candidate_twitter, left_on='Real Name', right_on='value')"
   ]
  },
  {
   "cell_type": "code",
   "execution_count": null,
   "metadata": {},
   "outputs": [],
   "source": []
  },
  {
   "cell_type": "markdown",
   "metadata": {},
   "source": [
    "now use voter turnout data "
   ]
  },
  {
   "cell_type": "code",
   "execution_count": 76,
   "metadata": {},
   "outputs": [],
   "source": [
    "voter_turnout = pd.read_csv('voter_turnout.csv')[['State', 'Estimated or Actual 2018 Total Ballots Counted VEP Turnout Rate']]\n",
    "voter_turnout.columns = ['state','voter_turnout']\n"
   ]
  },
  {
   "cell_type": "code",
   "execution_count": 77,
   "metadata": {},
   "outputs": [],
   "source": [
    "voter_turnout['voter_turnout'] = voter_turnout.voter_turnout.apply(lambda x: float(x.strip('%')))"
   ]
  },
  {
   "cell_type": "code",
   "execution_count": 78,
   "metadata": {},
   "outputs": [],
   "source": [
    "candidate_echo_vt = pd.merge(candidate_echo_vt, voter_turnout, on='state')"
   ]
  },
  {
   "cell_type": "code",
   "execution_count": 79,
   "metadata": {},
   "outputs": [],
   "source": [
    "vt_analysis = candidate_echo_vt.groupby('state').agg({'voter_turnout': 'mean', \n",
    "                                        'ratio_normalized': ['mean', 'min', 'max']})"
   ]
  },
  {
   "cell_type": "code",
   "execution_count": 80,
   "metadata": {},
   "outputs": [],
   "source": [
    "vt_analysis.columns = ['voter_turnout', 'echo_mean', 'echo_min', 'echo_max']"
   ]
  },
  {
   "cell_type": "code",
   "execution_count": 81,
   "metadata": {},
   "outputs": [
    {
     "data": {
      "text/html": [
       "<div>\n",
       "<style scoped>\n",
       "    .dataframe tbody tr th:only-of-type {\n",
       "        vertical-align: middle;\n",
       "    }\n",
       "\n",
       "    .dataframe tbody tr th {\n",
       "        vertical-align: top;\n",
       "    }\n",
       "\n",
       "    .dataframe thead th {\n",
       "        text-align: right;\n",
       "    }\n",
       "</style>\n",
       "<table border=\"1\" class=\"dataframe\">\n",
       "  <thead>\n",
       "    <tr style=\"text-align: right;\">\n",
       "      <th></th>\n",
       "      <th>voter_turnout</th>\n",
       "      <th>echo_mean</th>\n",
       "      <th>echo_min</th>\n",
       "      <th>echo_max</th>\n",
       "    </tr>\n",
       "    <tr>\n",
       "      <th>state</th>\n",
       "      <th></th>\n",
       "      <th></th>\n",
       "      <th></th>\n",
       "      <th></th>\n",
       "    </tr>\n",
       "  </thead>\n",
       "  <tbody>\n",
       "    <tr>\n",
       "      <th>California</th>\n",
       "      <td>49.6</td>\n",
       "      <td>8.879648e-07</td>\n",
       "      <td>1.027903e-07</td>\n",
       "      <td>1.673139e-06</td>\n",
       "    </tr>\n",
       "    <tr>\n",
       "      <th>Connecticut</th>\n",
       "      <td>54.4</td>\n",
       "      <td>7.862120e-06</td>\n",
       "      <td>2.216335e-07</td>\n",
       "      <td>1.550261e-05</td>\n",
       "    </tr>\n",
       "    <tr>\n",
       "      <th>Delaware</th>\n",
       "      <td>51.4</td>\n",
       "      <td>1.072510e-06</td>\n",
       "      <td>1.072510e-06</td>\n",
       "      <td>1.072510e-06</td>\n",
       "    </tr>\n",
       "    <tr>\n",
       "      <th>Florida</th>\n",
       "      <td>54.9</td>\n",
       "      <td>3.047101e-07</td>\n",
       "      <td>3.047101e-07</td>\n",
       "      <td>3.047101e-07</td>\n",
       "    </tr>\n",
       "    <tr>\n",
       "      <th>Hawaii</th>\n",
       "      <td>39.3</td>\n",
       "      <td>6.080964e-06</td>\n",
       "      <td>3.568869e-07</td>\n",
       "      <td>1.180504e-05</td>\n",
       "    </tr>\n",
       "  </tbody>\n",
       "</table>\n",
       "</div>"
      ],
      "text/plain": [
       "             voter_turnout     echo_mean      echo_min      echo_max\n",
       "state                                                               \n",
       "California            49.6  8.879648e-07  1.027903e-07  1.673139e-06\n",
       "Connecticut           54.4  7.862120e-06  2.216335e-07  1.550261e-05\n",
       "Delaware              51.4  1.072510e-06  1.072510e-06  1.072510e-06\n",
       "Florida               54.9  3.047101e-07  3.047101e-07  3.047101e-07\n",
       "Hawaii                39.3  6.080964e-06  3.568869e-07  1.180504e-05"
      ]
     },
     "execution_count": 81,
     "metadata": {},
     "output_type": "execute_result"
    }
   ],
   "source": [
    "vt_analysis.head()"
   ]
  },
  {
   "cell_type": "code",
   "execution_count": 82,
   "metadata": {},
   "outputs": [
    {
     "data": {
      "image/png": "[encoded data removed]",
      "text/plain": [
       "<Figure size 432x288 with 1 Axes>"
      ]
     },
     "metadata": {
      "needs_background": "light"
     },
     "output_type": "display_data"
    }
   ],
   "source": [
    "plt.scatter(vt_analysis.voter_turnout,vt_analysis.echo_mean*10000)\n",
    "plt.title('Voter Turnout vs Mean Echo Chamber')\n",
    "plt.show()"
   ]
  },
  {
   "cell_type": "code",
   "execution_count": 83,
   "metadata": {},
   "outputs": [
    {
     "data": {
      "image/png": "[encoded data removed]",
      "text/plain": [
       "<Figure size 432x288 with 1 Axes>"
      ]
     },
     "metadata": {
      "needs_background": "light"
     },
     "output_type": "display_data"
    }
   ],
   "source": [
    "plt.scatter(vt_analysis.voter_turnout,vt_analysis.echo_max*10000)\n",
    "plt.title('Voter Turnout vs Max Echo Chamber')\n",
    "plt.show()"
   ]
  },
  {
   "cell_type": "code",
   "execution_count": 84,
   "metadata": {},
   "outputs": [
    {
     "data": {
      "image/png": "[encoded data removed]",
      "text/plain": [
       "<Figure size 432x288 with 1 Axes>"
      ]
     },
     "metadata": {
      "needs_background": "light"
     },
     "output_type": "display_data"
    }
   ],
   "source": [
    "plt.scatter(vt_analysis.voter_turnout,vt_analysis.echo_min*10000)\n",
    "plt.title('Voter Turnout vs Min Echo Chamber')\n",
    "plt.show()"
   ]
  },
  {
   "cell_type": "code",
   "execution_count": null,
   "metadata": {},
   "outputs": [],
   "source": []
  },
  {
   "cell_type": "markdown",
   "metadata": {},
   "source": [
    "# ELECTION OUTCOME "
   ]
  },
  {
   "cell_type": "code",
   "execution_count": 85,
   "metadata": {},
   "outputs": [],
   "source": [
    "election_results['dem_winner18'] = (election_results.pct_votes_18_dem > election_results.pct_votes_18_rep)*1"
   ]
  },
  {
   "cell_type": "code",
   "execution_count": 86,
   "metadata": {},
   "outputs": [],
   "source": [
    "candidate_echo_simplified = candidate_echo[['Real Name', 'ratio_normalized']]"
   ]
  },
  {
   "cell_type": "code",
   "execution_count": 87,
   "metadata": {},
   "outputs": [],
   "source": [
    "election_results = pd.merge(election_results, candidate_echo_simplified, \n",
    "                            left_on='dem_twitter_name', right_on='Real Name', \n",
    "                            how='left')"
   ]
  },
  {
   "cell_type": "code",
   "execution_count": 88,
   "metadata": {},
   "outputs": [],
   "source": [
    "tmp = list(election_results.columns)[:-1]\n",
    "tmp.append('echo_dem')\n",
    "election_results.columns = tmp"
   ]
  },
  {
   "cell_type": "code",
   "execution_count": 89,
   "metadata": {},
   "outputs": [],
   "source": [
    "election_results = pd.merge(election_results, candidate_echo_simplified, \n",
    "                            left_on='rep_twitter_name', right_on='Real Name', \n",
    "                            how='left')"
   ]
  },
  {
   "cell_type": "code",
   "execution_count": 90,
   "metadata": {},
   "outputs": [],
   "source": [
    "tmp = list(election_results.columns)[:-1]\n",
    "tmp.append('echo_rep')\n",
    "election_results.columns = tmp"
   ]
  },
  {
   "cell_type": "code",
   "execution_count": 91,
   "metadata": {},
   "outputs": [],
   "source": [
    "election_results['dem_more_echoed'] = (election_results.echo_dem > election_results.echo_rep)*1"
   ]
  },
  {
   "cell_type": "code",
   "execution_count": 92,
   "metadata": {},
   "outputs": [
    {
     "data": {
      "text/plain": [
       "array([0])"
      ]
     },
     "execution_count": 92,
     "metadata": {},
     "output_type": "execute_result"
    }
   ],
   "source": [
    "np.correlate(election_results.dem_winner18, election_results.dem_more_echoed)"
   ]
  },
  {
   "cell_type": "code",
   "execution_count": 93,
   "metadata": {},
   "outputs": [
    {
     "data": {
      "text/html": [
       "<div>\n",
       "<style scoped>\n",
       "    .dataframe tbody tr th:only-of-type {\n",
       "        vertical-align: middle;\n",
       "    }\n",
       "\n",
       "    .dataframe tbody tr th {\n",
       "        vertical-align: top;\n",
       "    }\n",
       "\n",
       "    .dataframe thead th {\n",
       "        text-align: right;\n",
       "    }\n",
       "</style>\n",
       "<table border=\"1\" class=\"dataframe\">\n",
       "  <thead>\n",
       "    <tr style=\"text-align: right;\">\n",
       "      <th></th>\n",
       "      <th>dem_winner18</th>\n",
       "      <th>dem_more_echoed</th>\n",
       "    </tr>\n",
       "  </thead>\n",
       "  <tbody>\n",
       "    <tr>\n",
       "      <th>dem_winner18</th>\n",
       "      <td>1.000000</td>\n",
       "      <td>-0.377964</td>\n",
       "    </tr>\n",
       "    <tr>\n",
       "      <th>dem_more_echoed</th>\n",
       "      <td>-0.377964</td>\n",
       "      <td>1.000000</td>\n",
       "    </tr>\n",
       "  </tbody>\n",
       "</table>\n",
       "</div>"
      ],
      "text/plain": [
       "                 dem_winner18  dem_more_echoed\n",
       "dem_winner18         1.000000        -0.377964\n",
       "dem_more_echoed     -0.377964         1.000000"
      ]
     },
     "execution_count": 93,
     "metadata": {},
     "output_type": "execute_result"
    }
   ],
   "source": [
    "election_results[['dem_winner18', 'dem_more_echoed']].corr()"
   ]
  },
  {
   "cell_type": "code",
   "execution_count": 94,
   "metadata": {
    "scrolled": true
   },
   "outputs": [
    {
     "data": {
      "text/html": [
       "<div>\n",
       "<style scoped>\n",
       "    .dataframe tbody tr th:only-of-type {\n",
       "        vertical-align: middle;\n",
       "    }\n",
       "\n",
       "    .dataframe tbody tr th {\n",
       "        vertical-align: top;\n",
       "    }\n",
       "\n",
       "    .dataframe thead th {\n",
       "        text-align: right;\n",
       "    }\n",
       "</style>\n",
       "<table border=\"1\" class=\"dataframe\">\n",
       "  <thead>\n",
       "    <tr style=\"text-align: right;\">\n",
       "      <th></th>\n",
       "      <th>pct_votes_18_dem</th>\n",
       "      <th>pct_votes_18_rep</th>\n",
       "      <th>echo_dem</th>\n",
       "      <th>echo_rep</th>\n",
       "    </tr>\n",
       "  </thead>\n",
       "  <tbody>\n",
       "    <tr>\n",
       "      <th>pct_votes_18_dem</th>\n",
       "      <td>1.000000</td>\n",
       "      <td>-0.378212</td>\n",
       "      <td>-0.734315</td>\n",
       "      <td>0.272032</td>\n",
       "    </tr>\n",
       "    <tr>\n",
       "      <th>pct_votes_18_rep</th>\n",
       "      <td>-0.378212</td>\n",
       "      <td>1.000000</td>\n",
       "      <td>0.133676</td>\n",
       "      <td>-0.245412</td>\n",
       "    </tr>\n",
       "    <tr>\n",
       "      <th>echo_dem</th>\n",
       "      <td>-0.734315</td>\n",
       "      <td>0.133676</td>\n",
       "      <td>1.000000</td>\n",
       "      <td>-0.114771</td>\n",
       "    </tr>\n",
       "    <tr>\n",
       "      <th>echo_rep</th>\n",
       "      <td>0.272032</td>\n",
       "      <td>-0.245412</td>\n",
       "      <td>-0.114771</td>\n",
       "      <td>1.000000</td>\n",
       "    </tr>\n",
       "  </tbody>\n",
       "</table>\n",
       "</div>"
      ],
      "text/plain": [
       "                  pct_votes_18_dem  pct_votes_18_rep  echo_dem  echo_rep\n",
       "pct_votes_18_dem          1.000000         -0.378212 -0.734315  0.272032\n",
       "pct_votes_18_rep         -0.378212          1.000000  0.133676 -0.245412\n",
       "echo_dem                 -0.734315          0.133676  1.000000 -0.114771\n",
       "echo_rep                  0.272032         -0.245412 -0.114771  1.000000"
      ]
     },
     "execution_count": 94,
     "metadata": {},
     "output_type": "execute_result"
    }
   ],
   "source": [
    "election_results[['pct_votes_18_dem', 'pct_votes_18_rep', 'echo_dem', 'echo_rep']].corr()"
   ]
  },
  {
   "cell_type": "markdown",
   "metadata": {},
   "source": [
    "# Compile List of Candidates and Opponents "
   ]
  },
  {
   "cell_type": "code",
   "execution_count": 95,
   "metadata": {
    "scrolled": true
   },
   "outputs": [
    {
     "data": {
      "text/html": [
       "<div>\n",
       "<style scoped>\n",
       "    .dataframe tbody tr th:only-of-type {\n",
       "        vertical-align: middle;\n",
       "    }\n",
       "\n",
       "    .dataframe tbody tr th {\n",
       "        vertical-align: top;\n",
       "    }\n",
       "\n",
       "    .dataframe thead th {\n",
       "        text-align: right;\n",
       "    }\n",
       "</style>\n",
       "<table border=\"1\" class=\"dataframe\">\n",
       "  <thead>\n",
       "    <tr style=\"text-align: right;\">\n",
       "      <th></th>\n",
       "      <th>rep_twitter_name</th>\n",
       "      <th>dem_twitter_name</th>\n",
       "    </tr>\n",
       "  </thead>\n",
       "  <tbody>\n",
       "    <tr>\n",
       "      <th>0</th>\n",
       "      <td>NaN</td>\n",
       "      <td>NaN</td>\n",
       "    </tr>\n",
       "    <tr>\n",
       "      <th>1</th>\n",
       "      <td>Kevin de Leόn</td>\n",
       "      <td>Sen Dianne Feinstein</td>\n",
       "    </tr>\n",
       "    <tr>\n",
       "      <th>2</th>\n",
       "      <td>Matthew Corey</td>\n",
       "      <td>Chris Murphy</td>\n",
       "    </tr>\n",
       "    <tr>\n",
       "      <th>3</th>\n",
       "      <td>NaN</td>\n",
       "      <td>Senator Tom Carper</td>\n",
       "    </tr>\n",
       "    <tr>\n",
       "      <th>4</th>\n",
       "      <td>NaN</td>\n",
       "      <td>Bill Nelson</td>\n",
       "    </tr>\n",
       "  </tbody>\n",
       "</table>\n",
       "</div>"
      ],
      "text/plain": [
       "  rep_twitter_name      dem_twitter_name\n",
       "0              NaN                   NaN\n",
       "1    Kevin de Leόn  Sen Dianne Feinstein\n",
       "2    Matthew Corey          Chris Murphy\n",
       "3              NaN    Senator Tom Carper\n",
       "4              NaN           Bill Nelson"
      ]
     },
     "execution_count": 95,
     "metadata": {},
     "output_type": "execute_result"
    }
   ],
   "source": [
    "candidates_opponents = election_results[['rep_twitter_name', 'dem_twitter_name']]\n",
    "candidates_opponents.head()"
   ]
  },
  {
   "cell_type": "code",
   "execution_count": 96,
   "metadata": {},
   "outputs": [],
   "source": [
    "candidate_opponents_id = list()\n",
    "for i in candidates_opponents.index:\n",
    "    r = candidates_opponents.iloc[i,0]\n",
    "    d = candidates_opponents.iloc[i,1]\n",
    "    \n",
    "    try:\n",
    "        r_id =candidate_echo[candidate_echo['Real Name'] == r].UserID.tolist()[0]\n",
    "    except:\n",
    "        r_id = None\n",
    "        \n",
    "    try:\n",
    "        d_id =candidate_echo[candidate_echo['Real Name'] == d].UserID.tolist()[0]\n",
    "    except:\n",
    "        d_id = None\n",
    "    \n",
    "    candidate_opponents_id.append((r_id, d_id))"
   ]
  },
  {
   "cell_type": "code",
   "execution_count": 97,
   "metadata": {},
   "outputs": [],
   "source": [
    "candidate_opponents_id_df = pd.DataFrame(candidate_opponents_id, columns=['republican_id', 'democrat_id'])"
   ]
  },
  {
   "cell_type": "code",
   "execution_count": 98,
   "metadata": {},
   "outputs": [
    {
     "data": {
      "text/html": [
       "<div>\n",
       "<style scoped>\n",
       "    .dataframe tbody tr th:only-of-type {\n",
       "        vertical-align: middle;\n",
       "    }\n",
       "\n",
       "    .dataframe tbody tr th {\n",
       "        vertical-align: top;\n",
       "    }\n",
       "\n",
       "    .dataframe thead th {\n",
       "        text-align: right;\n",
       "    }\n",
       "</style>\n",
       "<table border=\"1\" class=\"dataframe\">\n",
       "  <thead>\n",
       "    <tr style=\"text-align: right;\">\n",
       "      <th></th>\n",
       "      <th>republican_id</th>\n",
       "      <th>democrat_id</th>\n",
       "    </tr>\n",
       "  </thead>\n",
       "  <tbody>\n",
       "    <tr>\n",
       "      <th>0</th>\n",
       "      <td>NaN</td>\n",
       "      <td>NaN</td>\n",
       "    </tr>\n",
       "    <tr>\n",
       "      <th>1</th>\n",
       "      <td>3.081594e+07</td>\n",
       "      <td>476256944.0</td>\n",
       "    </tr>\n",
       "    <tr>\n",
       "      <th>2</th>\n",
       "      <td>2.497704e+09</td>\n",
       "      <td>150078976.0</td>\n",
       "    </tr>\n",
       "    <tr>\n",
       "      <th>3</th>\n",
       "      <td>NaN</td>\n",
       "      <td>249787913.0</td>\n",
       "    </tr>\n",
       "    <tr>\n",
       "      <th>4</th>\n",
       "      <td>NaN</td>\n",
       "      <td>20597460.0</td>\n",
       "    </tr>\n",
       "  </tbody>\n",
       "</table>\n",
       "</div>"
      ],
      "text/plain": [
       "   republican_id  democrat_id\n",
       "0            NaN          NaN\n",
       "1   3.081594e+07  476256944.0\n",
       "2   2.497704e+09  150078976.0\n",
       "3            NaN  249787913.0\n",
       "4            NaN   20597460.0"
      ]
     },
     "execution_count": 98,
     "metadata": {},
     "output_type": "execute_result"
    }
   ],
   "source": [
    "candidate_opponents_id_df.head()"
   ]
  },
  {
   "cell_type": "code",
   "execution_count": 99,
   "metadata": {},
   "outputs": [],
   "source": [
    "candidate_opponents_id_df.to_csv('opponents.csv', index=False)"
   ]
  },
  {
   "cell_type": "code",
   "execution_count": 100,
   "metadata": {},
   "outputs": [
    {
     "data": {
      "text/html": [
       "<div>\n",
       "<style scoped>\n",
       "    .dataframe tbody tr th:only-of-type {\n",
       "        vertical-align: middle;\n",
       "    }\n",
       "\n",
       "    .dataframe tbody tr th {\n",
       "        vertical-align: top;\n",
       "    }\n",
       "\n",
       "    .dataframe thead th {\n",
       "        text-align: right;\n",
       "    }\n",
       "</style>\n",
       "<table border=\"1\" class=\"dataframe\">\n",
       "  <thead>\n",
       "    <tr style=\"text-align: right;\">\n",
       "      <th></th>\n",
       "      <th>republican_id</th>\n",
       "      <th>democrat_id</th>\n",
       "    </tr>\n",
       "  </thead>\n",
       "  <tbody>\n",
       "    <tr>\n",
       "      <th>0</th>\n",
       "      <td>NaN</td>\n",
       "      <td>NaN</td>\n",
       "    </tr>\n",
       "    <tr>\n",
       "      <th>1</th>\n",
       "      <td>3.081594e+07</td>\n",
       "      <td>476256944.0</td>\n",
       "    </tr>\n",
       "    <tr>\n",
       "      <th>2</th>\n",
       "      <td>2.497704e+09</td>\n",
       "      <td>150078976.0</td>\n",
       "    </tr>\n",
       "    <tr>\n",
       "      <th>3</th>\n",
       "      <td>NaN</td>\n",
       "      <td>249787913.0</td>\n",
       "    </tr>\n",
       "    <tr>\n",
       "      <th>4</th>\n",
       "      <td>NaN</td>\n",
       "      <td>20597460.0</td>\n",
       "    </tr>\n",
       "  </tbody>\n",
       "</table>\n",
       "</div>"
      ],
      "text/plain": [
       "   republican_id  democrat_id\n",
       "0            NaN          NaN\n",
       "1   3.081594e+07  476256944.0\n",
       "2   2.497704e+09  150078976.0\n",
       "3            NaN  249787913.0\n",
       "4            NaN   20597460.0"
      ]
     },
     "execution_count": 100,
     "metadata": {},
     "output_type": "execute_result"
    }
   ],
   "source": [
    "candidate_opponents_id_df = pd.read_csv('opponents.csv')\n",
    "candidate_opponents_id_df.head()"
   ]
  },
  {
   "cell_type": "markdown",
   "metadata": {},
   "source": [
    "# Data Quality "
   ]
  },
  {
   "cell_type": "markdown",
   "metadata": {},
   "source": [
    "how many candidates are missing?"
   ]
  },
  {
   "cell_type": "code",
   "execution_count": 101,
   "metadata": {},
   "outputs": [
    {
     "data": {
      "text/html": [
       "<div>\n",
       "<style scoped>\n",
       "    .dataframe tbody tr th:only-of-type {\n",
       "        vertical-align: middle;\n",
       "    }\n",
       "\n",
       "    .dataframe tbody tr th {\n",
       "        vertical-align: top;\n",
       "    }\n",
       "\n",
       "    .dataframe thead th {\n",
       "        text-align: right;\n",
       "    }\n",
       "</style>\n",
       "<table border=\"1\" class=\"dataframe\">\n",
       "  <thead>\n",
       "    <tr style=\"text-align: right;\">\n",
       "      <th></th>\n",
       "      <th>rep_twitter_name</th>\n",
       "      <th>score</th>\n",
       "      <th>rep_name</th>\n",
       "    </tr>\n",
       "  </thead>\n",
       "  <tbody>\n",
       "    <tr>\n",
       "      <th>0</th>\n",
       "      <td>NaN</td>\n",
       "      <td>53</td>\n",
       "      <td>Martha McSally</td>\n",
       "    </tr>\n",
       "    <tr>\n",
       "      <th>3</th>\n",
       "      <td>NaN</td>\n",
       "      <td>41</td>\n",
       "      <td>Robert B Arlett</td>\n",
       "    </tr>\n",
       "    <tr>\n",
       "      <th>4</th>\n",
       "      <td>NaN</td>\n",
       "      <td>53</td>\n",
       "      <td>Rick Scott</td>\n",
       "    </tr>\n",
       "    <tr>\n",
       "      <th>8</th>\n",
       "      <td>NaN</td>\n",
       "      <td>62</td>\n",
       "      <td>Tony Campbell</td>\n",
       "    </tr>\n",
       "    <tr>\n",
       "      <th>10</th>\n",
       "      <td>NaN</td>\n",
       "      <td>60</td>\n",
       "      <td>John James</td>\n",
       "    </tr>\n",
       "    <tr>\n",
       "      <th>11</th>\n",
       "      <td>NaN</td>\n",
       "      <td>43</td>\n",
       "      <td>Jim Newberger</td>\n",
       "    </tr>\n",
       "    <tr>\n",
       "      <th>12</th>\n",
       "      <td>NaN</td>\n",
       "      <td>38</td>\n",
       "      <td>Roger F. Wicker</td>\n",
       "    </tr>\n",
       "    <tr>\n",
       "      <th>17</th>\n",
       "      <td>NaN</td>\n",
       "      <td>48</td>\n",
       "      <td>Bob Hugin</td>\n",
       "    </tr>\n",
       "    <tr>\n",
       "      <th>20</th>\n",
       "      <td>NaN</td>\n",
       "      <td>67</td>\n",
       "      <td>Kevin Cramer</td>\n",
       "    </tr>\n",
       "    <tr>\n",
       "      <th>22</th>\n",
       "      <td>NaN</td>\n",
       "      <td>43</td>\n",
       "      <td>Louis J. Barletta</td>\n",
       "    </tr>\n",
       "    <tr>\n",
       "      <th>27</th>\n",
       "      <td>NaN</td>\n",
       "      <td>43</td>\n",
       "      <td>Lawrence Zupan</td>\n",
       "    </tr>\n",
       "    <tr>\n",
       "      <th>30</th>\n",
       "      <td>NaN</td>\n",
       "      <td>52</td>\n",
       "      <td>Patrick Morrisey</td>\n",
       "    </tr>\n",
       "  </tbody>\n",
       "</table>\n",
       "</div>"
      ],
      "text/plain": [
       "   rep_twitter_name  score           rep_name\n",
       "0               NaN     53     Martha McSally\n",
       "3               NaN     41    Robert B Arlett\n",
       "4               NaN     53         Rick Scott\n",
       "8               NaN     62      Tony Campbell\n",
       "10              NaN     60         John James\n",
       "11              NaN     43      Jim Newberger\n",
       "12              NaN     38    Roger F. Wicker\n",
       "17              NaN     48          Bob Hugin\n",
       "20              NaN     67       Kevin Cramer\n",
       "22              NaN     43  Louis J. Barletta\n",
       "27              NaN     43     Lawrence Zupan\n",
       "30              NaN     52   Patrick Morrisey"
      ]
     },
     "execution_count": 101,
     "metadata": {},
     "output_type": "execute_result"
    }
   ],
   "source": [
    "rep_candidates_fuzzy[rep_candidates_fuzzy.rep_twitter_name.isna()]"
   ]
  },
  {
   "cell_type": "code",
   "execution_count": 102,
   "metadata": {},
   "outputs": [
    {
     "data": {
      "text/plain": [
       "12"
      ]
     },
     "execution_count": 102,
     "metadata": {},
     "output_type": "execute_result"
    }
   ],
   "source": [
    "rep_candidates_fuzzy.rep_twitter_name.isna().sum()"
   ]
  },
  {
   "cell_type": "code",
   "execution_count": 103,
   "metadata": {},
   "outputs": [
    {
     "data": {
      "text/html": [
       "<div>\n",
       "<style scoped>\n",
       "    .dataframe tbody tr th:only-of-type {\n",
       "        vertical-align: middle;\n",
       "    }\n",
       "\n",
       "    .dataframe tbody tr th {\n",
       "        vertical-align: top;\n",
       "    }\n",
       "\n",
       "    .dataframe thead th {\n",
       "        text-align: right;\n",
       "    }\n",
       "</style>\n",
       "<table border=\"1\" class=\"dataframe\">\n",
       "  <thead>\n",
       "    <tr style=\"text-align: right;\">\n",
       "      <th></th>\n",
       "      <th>dem_twitter_name</th>\n",
       "      <th>score</th>\n",
       "      <th>dem_name</th>\n",
       "    </tr>\n",
       "  </thead>\n",
       "  <tbody>\n",
       "    <tr>\n",
       "      <th>0</th>\n",
       "      <td>NaN</td>\n",
       "      <td>56</td>\n",
       "      <td>Kyrsten Sinema</td>\n",
       "    </tr>\n",
       "    <tr>\n",
       "      <th>7</th>\n",
       "      <td>NaN</td>\n",
       "      <td>51</td>\n",
       "      <td>Zak Ringelstein</td>\n",
       "    </tr>\n",
       "  </tbody>\n",
       "</table>\n",
       "</div>"
      ],
      "text/plain": [
       "  dem_twitter_name  score         dem_name\n",
       "0              NaN     56   Kyrsten Sinema\n",
       "7              NaN     51  Zak Ringelstein"
      ]
     },
     "execution_count": 103,
     "metadata": {},
     "output_type": "execute_result"
    }
   ],
   "source": [
    "dem_candidates_fuzzy[dem_candidates_fuzzy.dem_twitter_name.isna()]"
   ]
  },
  {
   "cell_type": "code",
   "execution_count": null,
   "metadata": {},
   "outputs": [],
   "source": []
  },
  {
   "cell_type": "markdown",
   "metadata": {},
   "source": [
    "which twitter accounts seem off?"
   ]
  },
  {
   "cell_type": "code",
   "execution_count": 104,
   "metadata": {},
   "outputs": [
    {
     "data": {
      "text/html": [
       "<div>\n",
       "<style scoped>\n",
       "    .dataframe tbody tr th:only-of-type {\n",
       "        vertical-align: middle;\n",
       "    }\n",
       "\n",
       "    .dataframe tbody tr th {\n",
       "        vertical-align: top;\n",
       "    }\n",
       "\n",
       "    .dataframe thead th {\n",
       "        text-align: right;\n",
       "    }\n",
       "</style>\n",
       "<table border=\"1\" class=\"dataframe\">\n",
       "  <thead>\n",
       "    <tr style=\"text-align: right;\">\n",
       "      <th></th>\n",
       "      <th>followers</th>\n",
       "      <th>f_of_f_candidate_followers</th>\n",
       "      <th>n_f_of_f</th>\n",
       "      <th>ratio</th>\n",
       "      <th>n_candidate_followers</th>\n",
       "      <th>ratio_normalized</th>\n",
       "      <th>opponent_followers</th>\n",
       "      <th>candidate_and_opponent_followers</th>\n",
       "      <th>only_candidate</th>\n",
       "      <th>only_opponent</th>\n",
       "      <th>...</th>\n",
       "      <th>Profile Created At</th>\n",
       "      <th>URL</th>\n",
       "      <th>Location</th>\n",
       "      <th>UTC Offset</th>\n",
       "      <th>Time Zone</th>\n",
       "      <th>Favourites Count</th>\n",
       "      <th>Friends Count</th>\n",
       "      <th>Followers Count</th>\n",
       "      <th>Statuses Count</th>\n",
       "      <th>Profile Image URL</th>\n",
       "    </tr>\n",
       "  </thead>\n",
       "  <tbody>\n",
       "    <tr>\n",
       "      <th>32</th>\n",
       "      <td>6.393368e+08</td>\n",
       "      <td>0.000000</td>\n",
       "      <td>10514.500000</td>\n",
       "      <td>0.000000</td>\n",
       "      <td>2.0</td>\n",
       "      <td>0.000000</td>\n",
       "      <td>0.000000</td>\n",
       "      <td>0.000000</td>\n",
       "      <td>0.0</td>\n",
       "      <td>0.0</td>\n",
       "      <td>...</td>\n",
       "      <td>Sun Jun 02 14:42:30 +0000 2013</td>\n",
       "      <td>None</td>\n",
       "      <td></td>\n",
       "      <td>None</td>\n",
       "      <td>None</td>\n",
       "      <td>0</td>\n",
       "      <td>0</td>\n",
       "      <td>2</td>\n",
       "      <td>0</td>\n",
       "      <td>http://abs.twimg.com/sticky/default_profile_im...</td>\n",
       "    </tr>\n",
       "    <tr>\n",
       "      <th>74</th>\n",
       "      <td>5.127620e+17</td>\n",
       "      <td>0.400000</td>\n",
       "      <td>16224.600000</td>\n",
       "      <td>0.000061</td>\n",
       "      <td>12.0</td>\n",
       "      <td>0.000005</td>\n",
       "      <td>0.400000</td>\n",
       "      <td>0.400000</td>\n",
       "      <td>0.0</td>\n",
       "      <td>0.0</td>\n",
       "      <td>...</td>\n",
       "      <td>Fri Mar 02 19:00:33 +0000 2018</td>\n",
       "      <td>None</td>\n",
       "      <td></td>\n",
       "      <td>None</td>\n",
       "      <td>None</td>\n",
       "      <td>2</td>\n",
       "      <td>41</td>\n",
       "      <td>12</td>\n",
       "      <td>13</td>\n",
       "      <td>http://pbs.twimg.com/profile_images/9722347569...</td>\n",
       "    </tr>\n",
       "    <tr>\n",
       "      <th>54</th>\n",
       "      <td>3.327443e+17</td>\n",
       "      <td>0.000000</td>\n",
       "      <td>6497.823529</td>\n",
       "      <td>0.000000</td>\n",
       "      <td>24.0</td>\n",
       "      <td>0.000000</td>\n",
       "      <td>0.000000</td>\n",
       "      <td>0.000000</td>\n",
       "      <td>0.0</td>\n",
       "      <td>0.0</td>\n",
       "      <td>...</td>\n",
       "      <td>Sun Jan 11 00:44:11 +0000 2015</td>\n",
       "      <td>https://t.co/8qjPiv2NPG</td>\n",
       "      <td>Seagirt, NJ</td>\n",
       "      <td>None</td>\n",
       "      <td>None</td>\n",
       "      <td>2</td>\n",
       "      <td>17</td>\n",
       "      <td>24</td>\n",
       "      <td>96</td>\n",
       "      <td>http://pbs.twimg.com/profile_images/7239159756...</td>\n",
       "    </tr>\n",
       "    <tr>\n",
       "      <th>51</th>\n",
       "      <td>5.072906e+17</td>\n",
       "      <td>3.407407</td>\n",
       "      <td>1740.925926</td>\n",
       "      <td>0.005505</td>\n",
       "      <td>37.0</td>\n",
       "      <td>0.000149</td>\n",
       "      <td>3.407407</td>\n",
       "      <td>3.407407</td>\n",
       "      <td>0.0</td>\n",
       "      <td>0.0</td>\n",
       "      <td>...</td>\n",
       "      <td>Fri Jun 09 17:00:10 +0000 2017</td>\n",
       "      <td>None</td>\n",
       "      <td>New Jersey</td>\n",
       "      <td>None</td>\n",
       "      <td>None</td>\n",
       "      <td>91</td>\n",
       "      <td>56</td>\n",
       "      <td>37</td>\n",
       "      <td>211</td>\n",
       "      <td>http://pbs.twimg.com/profile_images/9584283490...</td>\n",
       "    </tr>\n",
       "    <tr>\n",
       "      <th>35</th>\n",
       "      <td>2.069926e+16</td>\n",
       "      <td>11.555556</td>\n",
       "      <td>61361.765432</td>\n",
       "      <td>0.014571</td>\n",
       "      <td>86.0</td>\n",
       "      <td>0.000169</td>\n",
       "      <td>11.555556</td>\n",
       "      <td>11.555556</td>\n",
       "      <td>0.0</td>\n",
       "      <td>0.0</td>\n",
       "      <td>...</td>\n",
       "      <td>Wed Jun 11 02:53:45 +0000 2014</td>\n",
       "      <td>None</td>\n",
       "      <td>H'burg whudup</td>\n",
       "      <td>None</td>\n",
       "      <td>None</td>\n",
       "      <td>2</td>\n",
       "      <td>560</td>\n",
       "      <td>86</td>\n",
       "      <td>134</td>\n",
       "      <td>http://pbs.twimg.com/profile_images/4765601471...</td>\n",
       "    </tr>\n",
       "    <tr>\n",
       "      <th>34</th>\n",
       "      <td>2.639202e+17</td>\n",
       "      <td>11.738095</td>\n",
       "      <td>4094.565476</td>\n",
       "      <td>0.012997</td>\n",
       "      <td>206.0</td>\n",
       "      <td>0.000063</td>\n",
       "      <td>11.738095</td>\n",
       "      <td>11.738095</td>\n",
       "      <td>0.0</td>\n",
       "      <td>0.0</td>\n",
       "      <td>...</td>\n",
       "      <td>Sat Aug 06 17:19:42 +0000 2016</td>\n",
       "      <td>https://t.co/tULcJOQDWF</td>\n",
       "      <td></td>\n",
       "      <td>None</td>\n",
       "      <td>None</td>\n",
       "      <td>2855</td>\n",
       "      <td>200</td>\n",
       "      <td>206</td>\n",
       "      <td>1331</td>\n",
       "      <td>http://pbs.twimg.com/profile_images/1004765350...</td>\n",
       "    </tr>\n",
       "    <tr>\n",
       "      <th>28</th>\n",
       "      <td>1.963508e+17</td>\n",
       "      <td>37.492537</td>\n",
       "      <td>5265.489552</td>\n",
       "      <td>0.016774</td>\n",
       "      <td>404.0</td>\n",
       "      <td>0.000042</td>\n",
       "      <td>37.492537</td>\n",
       "      <td>37.492537</td>\n",
       "      <td>0.0</td>\n",
       "      <td>0.0</td>\n",
       "      <td>...</td>\n",
       "      <td>Wed Oct 01 16:43:07 +0000 2014</td>\n",
       "      <td>https://t.co/MGWQ6FKhNJ</td>\n",
       "      <td>St Clair Shores, MI</td>\n",
       "      <td>None</td>\n",
       "      <td>None</td>\n",
       "      <td>831</td>\n",
       "      <td>58</td>\n",
       "      <td>405</td>\n",
       "      <td>484</td>\n",
       "      <td>http://pbs.twimg.com/profile_images/7663767444...</td>\n",
       "    </tr>\n",
       "    <tr>\n",
       "      <th>65</th>\n",
       "      <td>1.025802e+17</td>\n",
       "      <td>39.810026</td>\n",
       "      <td>5241.601583</td>\n",
       "      <td>0.063831</td>\n",
       "      <td>436.0</td>\n",
       "      <td>0.000146</td>\n",
       "      <td>39.810026</td>\n",
       "      <td>39.810026</td>\n",
       "      <td>0.0</td>\n",
       "      <td>0.0</td>\n",
       "      <td>...</td>\n",
       "      <td>Tue Aug 26 14:27:37 +0000 2014</td>\n",
       "      <td>https://t.co/VgOSJF9YUu</td>\n",
       "      <td>Providence, RI</td>\n",
       "      <td>None</td>\n",
       "      <td>None</td>\n",
       "      <td>18</td>\n",
       "      <td>385</td>\n",
       "      <td>437</td>\n",
       "      <td>78</td>\n",
       "      <td>http://pbs.twimg.com/profile_images/9548651169...</td>\n",
       "    </tr>\n",
       "    <tr>\n",
       "      <th>0</th>\n",
       "      <td>2.983732e+17</td>\n",
       "      <td>11.769417</td>\n",
       "      <td>15142.101942</td>\n",
       "      <td>0.011844</td>\n",
       "      <td>517.0</td>\n",
       "      <td>0.000023</td>\n",
       "      <td>11.769417</td>\n",
       "      <td>11.769417</td>\n",
       "      <td>0.0</td>\n",
       "      <td>0.0</td>\n",
       "      <td>...</td>\n",
       "      <td>Mon Aug 21 18:20:53 +0000 2017</td>\n",
       "      <td>https://t.co/LUSeUll12Z</td>\n",
       "      <td>Phoenix, AZ</td>\n",
       "      <td>None</td>\n",
       "      <td>None</td>\n",
       "      <td>139</td>\n",
       "      <td>153</td>\n",
       "      <td>517</td>\n",
       "      <td>255</td>\n",
       "      <td>http://pbs.twimg.com/profile_images/9526583387...</td>\n",
       "    </tr>\n",
       "    <tr>\n",
       "      <th>57</th>\n",
       "      <td>3.175242e+17</td>\n",
       "      <td>23.600316</td>\n",
       "      <td>8010.620853</td>\n",
       "      <td>0.018951</td>\n",
       "      <td>816.0</td>\n",
       "      <td>0.000023</td>\n",
       "      <td>23.600316</td>\n",
       "      <td>23.600316</td>\n",
       "      <td>0.0</td>\n",
       "      <td>0.0</td>\n",
       "      <td>...</td>\n",
       "      <td>Tue Jan 19 19:29:41 +0000 2016</td>\n",
       "      <td>https://t.co/Z3g49Hkdjp</td>\n",
       "      <td>Albuquerque, NM</td>\n",
       "      <td>None</td>\n",
       "      <td>None</td>\n",
       "      <td>6</td>\n",
       "      <td>158</td>\n",
       "      <td>815</td>\n",
       "      <td>547</td>\n",
       "      <td>http://pbs.twimg.com/profile_images/1034834484...</td>\n",
       "    </tr>\n",
       "  </tbody>\n",
       "</table>\n",
       "<p>10 rows × 27 columns</p>\n",
       "</div>"
      ],
      "text/plain": [
       "       followers  f_of_f_candidate_followers      n_f_of_f     ratio  \\\n",
       "32  6.393368e+08                    0.000000  10514.500000  0.000000   \n",
       "74  5.127620e+17                    0.400000  16224.600000  0.000061   \n",
       "54  3.327443e+17                    0.000000   6497.823529  0.000000   \n",
       "51  5.072906e+17                    3.407407   1740.925926  0.005505   \n",
       "35  2.069926e+16                   11.555556  61361.765432  0.014571   \n",
       "34  2.639202e+17                   11.738095   4094.565476  0.012997   \n",
       "28  1.963508e+17                   37.492537   5265.489552  0.016774   \n",
       "65  1.025802e+17                   39.810026   5241.601583  0.063831   \n",
       "0   2.983732e+17                   11.769417  15142.101942  0.011844   \n",
       "57  3.175242e+17                   23.600316   8010.620853  0.018951   \n",
       "\n",
       "    n_candidate_followers  ratio_normalized  opponent_followers  \\\n",
       "32                    2.0          0.000000            0.000000   \n",
       "74                   12.0          0.000005            0.400000   \n",
       "54                   24.0          0.000000            0.000000   \n",
       "51                   37.0          0.000149            3.407407   \n",
       "35                   86.0          0.000169           11.555556   \n",
       "34                  206.0          0.000063           11.738095   \n",
       "28                  404.0          0.000042           37.492537   \n",
       "65                  436.0          0.000146           39.810026   \n",
       "0                   517.0          0.000023           11.769417   \n",
       "57                  816.0          0.000023           23.600316   \n",
       "\n",
       "    candidate_and_opponent_followers  only_candidate  only_opponent  ...  \\\n",
       "32                          0.000000             0.0            0.0  ...   \n",
       "74                          0.400000             0.0            0.0  ...   \n",
       "54                          0.000000             0.0            0.0  ...   \n",
       "51                          3.407407             0.0            0.0  ...   \n",
       "35                         11.555556             0.0            0.0  ...   \n",
       "34                         11.738095             0.0            0.0  ...   \n",
       "28                         37.492537             0.0            0.0  ...   \n",
       "65                         39.810026             0.0            0.0  ...   \n",
       "0                          11.769417             0.0            0.0  ...   \n",
       "57                         23.600316             0.0            0.0  ...   \n",
       "\n",
       "                Profile Created At                      URL  \\\n",
       "32  Sun Jun 02 14:42:30 +0000 2013                     None   \n",
       "74  Fri Mar 02 19:00:33 +0000 2018                     None   \n",
       "54  Sun Jan 11 00:44:11 +0000 2015  https://t.co/8qjPiv2NPG   \n",
       "51  Fri Jun 09 17:00:10 +0000 2017                     None   \n",
       "35  Wed Jun 11 02:53:45 +0000 2014                     None   \n",
       "34  Sat Aug 06 17:19:42 +0000 2016  https://t.co/tULcJOQDWF   \n",
       "28  Wed Oct 01 16:43:07 +0000 2014  https://t.co/MGWQ6FKhNJ   \n",
       "65  Tue Aug 26 14:27:37 +0000 2014  https://t.co/VgOSJF9YUu   \n",
       "0   Mon Aug 21 18:20:53 +0000 2017  https://t.co/LUSeUll12Z   \n",
       "57  Tue Jan 19 19:29:41 +0000 2016  https://t.co/Z3g49Hkdjp   \n",
       "\n",
       "               Location  UTC Offset Time Zone Favourites Count Friends Count  \\\n",
       "32                             None      None                0             0   \n",
       "74                             None      None                2            41   \n",
       "54          Seagirt, NJ        None      None                2            17   \n",
       "51           New Jersey        None      None               91            56   \n",
       "35        H'burg whudup        None      None                2           560   \n",
       "34                             None      None             2855           200   \n",
       "28  St Clair Shores, MI        None      None              831            58   \n",
       "65       Providence, RI        None      None               18           385   \n",
       "0           Phoenix, AZ        None      None              139           153   \n",
       "57      Albuquerque, NM        None      None                6           158   \n",
       "\n",
       "   Followers Count Statuses Count  \\\n",
       "32               2              0   \n",
       "74              12             13   \n",
       "54              24             96   \n",
       "51              37            211   \n",
       "35              86            134   \n",
       "34             206           1331   \n",
       "28             405            484   \n",
       "65             437             78   \n",
       "0              517            255   \n",
       "57             815            547   \n",
       "\n",
       "                                    Profile Image URL  \n",
       "32  http://abs.twimg.com/sticky/default_profile_im...  \n",
       "74  http://pbs.twimg.com/profile_images/9722347569...  \n",
       "54  http://pbs.twimg.com/profile_images/7239159756...  \n",
       "51  http://pbs.twimg.com/profile_images/9584283490...  \n",
       "35  http://pbs.twimg.com/profile_images/4765601471...  \n",
       "34  http://pbs.twimg.com/profile_images/1004765350...  \n",
       "28  http://pbs.twimg.com/profile_images/7663767444...  \n",
       "65  http://pbs.twimg.com/profile_images/9548651169...  \n",
       "0   http://pbs.twimg.com/profile_images/9526583387...  \n",
       "57  http://pbs.twimg.com/profile_images/1034834484...  \n",
       "\n",
       "[10 rows x 27 columns]"
      ]
     },
     "execution_count": 104,
     "metadata": {},
     "output_type": "execute_result"
    }
   ],
   "source": [
    "candidate_echo.sort_values('Followers Count').head(10)"
   ]
  },
  {
   "cell_type": "code",
   "execution_count": 105,
   "metadata": {},
   "outputs": [],
   "source": [
    "#Paula overby: \n",
    "    #the account that we're tracking seems off: https://twitter.com/paulaoverby\n",
    "    #this account seems better: https://twitter.com/PaulaOverby2014\n",
    "\n",
    "#Reed McCandless only got 1.2% of the vote. Not sure if he's relevant for the analysis\n",
    "\n",
    "#Kevin Kimple:\n",
    "    #he got 0.29% of the votes. \n",
    "    #perhaps we should track bob hugin instead, who got 42.8%\n",
    "\n",
    "#Bob Flanders\n",
    "    #this is the account we're tracking: https://twitter.com/rgflandersjr\n",
    "    #this account seems better: https://twitter.com/flanders4senate\n",
    "    \n",
    "#Maybe i should eliminate independents with almost no votes from analysis \n",
    "#Go through other acccounts to make sure there isn't an official campaign one for the person"
   ]
  },
  {
   "cell_type": "code",
   "execution_count": null,
   "metadata": {},
   "outputs": [],
   "source": []
  },
  {
   "cell_type": "code",
   "execution_count": null,
   "metadata": {},
   "outputs": [],
   "source": []
  }
 ],
 "metadata": {
  "kernelspec": {
   "display_name": "Python 3",
   "language": "python",
   "name": "python3"
  },
  "language_info": {
   "codemirror_mode": {
    "name": "ipython",
    "version": 3
   },
   "file_extension": ".py",
   "mimetype": "text/x-python",
   "name": "python",
   "nbconvert_exporter": "python",
   "pygments_lexer": "ipython3",
   "version": "3.7.3"
  }
 },
 "nbformat": 4,
 "nbformat_minor": 2
}
