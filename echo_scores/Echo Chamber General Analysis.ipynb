{
 "cells": [
  {
   "cell_type": "code",
   "execution_count": 1,
   "metadata": {},
   "outputs": [],
   "source": [
    "import pandas as pd\n",
    "import numpy as np\n",
    "import matplotlib.pyplot as plt"
   ]
  },
  {
   "cell_type": "code",
   "execution_count": 2,
   "metadata": {},
   "outputs": [],
   "source": [
    "candidate_info = pd.read_csv('Candidates_2018.txt', sep='\\t')\n",
    "raw = pd.read_csv('echo_computation3.csv', low_memory=False)"
   ]
  },
  {
   "cell_type": "code",
   "execution_count": 3,
   "metadata": {},
   "outputs": [],
   "source": [
    "raw['ratio'] = raw.f_of_f_candidate_followers/raw.n_f_of_f\n",
    "raw['ratio_normalized'] = raw.ratio/raw.n_candidate_followers\n",
    "#divide by number of followers in state (state population)\n",
    "#divide by number of followers + opponent followers \n",
    "#divide by log(number of candidate followers)\n",
    "\n",
    "#raw['ratio_normalized'] = raw.ratio/ state followers\n",
    "\n",
    "\n",
    "raw['only_candidate'] = raw.f_of_f_candidate_followers - raw.candidate_and_opponent_followers\n",
    "raw['only_opponent'] = raw.opponent_followers - raw.candidate_and_opponent_followers\n",
    "\n",
    "raw['ratio_only_candidate'] = raw.only_candidate / raw.n_f_of_f\n",
    "raw['ratio_only_candidate_normalized'] = raw.ratio_only_candidate / raw.n_candidate_followers\n",
    "\n",
    "raw['ratio_only_opponent'] = raw.only_opponent / raw.n_f_of_f\n",
    "raw['ratio_only_opponent_normalized'] = raw.ratio_only_opponent / raw.n_candidate_followers\n",
    "\n",
    "raw['ratio_candidate_and_opponent'] = raw.candidate_and_opponent_followers / raw.n_f_of_f\n",
    "raw['ratio_candidate_and_opponent_normalized'] = raw.ratio_candidate_and_opponent / raw.n_candidate_followers\n",
    "\n",
    "raw['ratio_opponent_over_candidate_followers'] = raw.opponent_followers / raw.n_f_of_f"
   ]
  },
  {
   "cell_type": "code",
   "execution_count": null,
   "metadata": {},
   "outputs": [],
   "source": []
  },
  {
   "cell_type": "code",
   "execution_count": null,
   "metadata": {},
   "outputs": [],
   "source": [
    "#Candidate: Oded\n",
    "#Candidate Followers: Verena and David\n",
    "\n",
    "#echo chamber =  "
   ]
  },
  {
   "cell_type": "code",
   "execution_count": null,
   "metadata": {},
   "outputs": [],
   "source": []
  },
  {
   "cell_type": "code",
   "execution_count": 4,
   "metadata": {},
   "outputs": [
    {
     "data": {
      "text/plain": [
       "count    275972.000000\n",
       "mean         93.919738\n",
       "std         335.056405\n",
       "min           0.000000\n",
       "25%           5.000000\n",
       "50%          21.000000\n",
       "75%          69.000000\n",
       "max       65607.000000\n",
       "Name: only_candidate, dtype: float64"
      ]
     },
     "execution_count": 4,
     "metadata": {},
     "output_type": "execute_result"
    }
   ],
   "source": [
    "raw.only_candidate.describe()"
   ]
  },
  {
   "cell_type": "code",
   "execution_count": 5,
   "metadata": {},
   "outputs": [
    {
     "data": {
      "text/plain": [
       "count    275972.000000\n",
       "mean         16.642482\n",
       "std         234.748860\n",
       "min           0.000000\n",
       "25%           0.000000\n",
       "50%           0.000000\n",
       "75%           1.000000\n",
       "max       95029.000000\n",
       "Name: only_opponent, dtype: float64"
      ]
     },
     "execution_count": 5,
     "metadata": {},
     "output_type": "execute_result"
    }
   ],
   "source": [
    "raw.only_opponent.describe()"
   ]
  },
  {
   "cell_type": "code",
   "execution_count": null,
   "metadata": {},
   "outputs": [],
   "source": []
  },
  {
   "cell_type": "code",
   "execution_count": null,
   "metadata": {},
   "outputs": [],
   "source": []
  },
  {
   "cell_type": "code",
   "execution_count": null,
   "metadata": {},
   "outputs": [],
   "source": []
  },
  {
   "cell_type": "markdown",
   "metadata": {},
   "source": [
    "# For which candidates do we not know who their followers are?"
   ]
  },
  {
   "cell_type": "code",
   "execution_count": 5,
   "metadata": {},
   "outputs": [],
   "source": [
    "import twitter\n",
    "api = twitter.Api(consumer_key= 'RoKyGypNXjkKxAMZ56ZmACAXU',\n",
    "                  consumer_secret='zjEqTC8byFOjuMUPwoiRbBa6iBACglP8Jy4Z9lbTdbX7fbjNFk',\n",
    "                  access_token_key= '825138308426653697-DYieQ0F5GEVzXdwldCiIacmTrK2A8ru',\n",
    "                  access_token_secret= 'mSoV9doa4zaFG6ffOHk5Btw8d30xeW9AIZSXYlyMMAtKq')"
   ]
  },
  {
   "cell_type": "code",
   "execution_count": 6,
   "metadata": {},
   "outputs": [
    {
     "name": "stderr",
     "output_type": "stream",
     "text": [
      "/Users/davidreissmello/anaconda3/lib/python3.7/site-packages/pandas/core/ops.py:1649: FutureWarning: elementwise comparison failed; returning scalar instead, but in the future will perform elementwise comparison\n",
      "  result = method(y)\n"
     ]
    }
   ],
   "source": [
    "errors = raw[raw['ratio_normalized'] == 'error'].candidates.unique()"
   ]
  },
  {
   "cell_type": "code",
   "execution_count": 7,
   "metadata": {},
   "outputs": [],
   "source": [
    "for error in errors:\n",
    "    try:\n",
    "        print(api.GetUser(error))\n",
    "    except:\n",
    "        print(error)"
   ]
  },
  {
   "cell_type": "code",
   "execution_count": 8,
   "metadata": {},
   "outputs": [],
   "source": [
    "raw = raw[raw['ratio_normalized'] != 'error']"
   ]
  },
  {
   "cell_type": "code",
   "execution_count": 9,
   "metadata": {},
   "outputs": [],
   "source": [
    "raw.ratio = pd.to_numeric(raw.ratio)\n",
    "raw.ratio_normalized = pd.to_numeric(raw.ratio_normalized)"
   ]
  },
  {
   "cell_type": "code",
   "execution_count": 10,
   "metadata": {},
   "outputs": [
    {
     "data": {
      "text/html": [
       "<div>\n",
       "<style scoped>\n",
       "    .dataframe tbody tr th:only-of-type {\n",
       "        vertical-align: middle;\n",
       "    }\n",
       "\n",
       "    .dataframe tbody tr th {\n",
       "        vertical-align: top;\n",
       "    }\n",
       "\n",
       "    .dataframe thead th {\n",
       "        text-align: right;\n",
       "    }\n",
       "</style>\n",
       "<table border=\"1\" class=\"dataframe\">\n",
       "  <thead>\n",
       "    <tr style=\"text-align: right;\">\n",
       "      <th></th>\n",
       "      <th>candidates</th>\n",
       "      <th>followers</th>\n",
       "      <th>f_of_f_candidate_followers</th>\n",
       "      <th>n_f_of_f</th>\n",
       "      <th>ratio</th>\n",
       "      <th>n_candidate_followers</th>\n",
       "      <th>ratio_normalized</th>\n",
       "      <th>opponent_followers</th>\n",
       "      <th>candidate_and_opponent_followers</th>\n",
       "      <th>only_candidate</th>\n",
       "      <th>only_opponent</th>\n",
       "      <th>ratio_only_candidate</th>\n",
       "      <th>ratio_only_candidate_normalized</th>\n",
       "      <th>ratio_candidate_and_opponent</th>\n",
       "      <th>ratio_opponent_over_candidate_followers</th>\n",
       "    </tr>\n",
       "  </thead>\n",
       "  <tbody>\n",
       "    <tr>\n",
       "      <th>0</th>\n",
       "      <td>1477484929</td>\n",
       "      <td>26292603</td>\n",
       "      <td>0</td>\n",
       "      <td>20606</td>\n",
       "      <td>0.0</td>\n",
       "      <td>2</td>\n",
       "      <td>0.0</td>\n",
       "      <td>0</td>\n",
       "      <td>0</td>\n",
       "      <td>0</td>\n",
       "      <td>0</td>\n",
       "      <td>0.0</td>\n",
       "      <td>0.0</td>\n",
       "      <td>0.0</td>\n",
       "      <td>0.0</td>\n",
       "    </tr>\n",
       "    <tr>\n",
       "      <th>1</th>\n",
       "      <td>1477484929</td>\n",
       "      <td>1252381038</td>\n",
       "      <td>0</td>\n",
       "      <td>423</td>\n",
       "      <td>0.0</td>\n",
       "      <td>2</td>\n",
       "      <td>0.0</td>\n",
       "      <td>0</td>\n",
       "      <td>0</td>\n",
       "      <td>0</td>\n",
       "      <td>0</td>\n",
       "      <td>0.0</td>\n",
       "      <td>0.0</td>\n",
       "      <td>0.0</td>\n",
       "      <td>0.0</td>\n",
       "    </tr>\n",
       "    <tr>\n",
       "      <th>2</th>\n",
       "      <td>969648670818811904</td>\n",
       "      <td>937362574814748672</td>\n",
       "      <td>0</td>\n",
       "      <td>446</td>\n",
       "      <td>0.0</td>\n",
       "      <td>12</td>\n",
       "      <td>0.0</td>\n",
       "      <td>0</td>\n",
       "      <td>0</td>\n",
       "      <td>0</td>\n",
       "      <td>0</td>\n",
       "      <td>0.0</td>\n",
       "      <td>0.0</td>\n",
       "      <td>0.0</td>\n",
       "      <td>0.0</td>\n",
       "    </tr>\n",
       "    <tr>\n",
       "      <th>3</th>\n",
       "      <td>969648670818811904</td>\n",
       "      <td>4896017459</td>\n",
       "      <td>0</td>\n",
       "      <td>4864</td>\n",
       "      <td>0.0</td>\n",
       "      <td>12</td>\n",
       "      <td>0.0</td>\n",
       "      <td>0</td>\n",
       "      <td>0</td>\n",
       "      <td>0</td>\n",
       "      <td>0</td>\n",
       "      <td>0.0</td>\n",
       "      <td>0.0</td>\n",
       "      <td>0.0</td>\n",
       "      <td>0.0</td>\n",
       "    </tr>\n",
       "    <tr>\n",
       "      <th>4</th>\n",
       "      <td>969648670818811904</td>\n",
       "      <td>1049645884743606272</td>\n",
       "      <td>0</td>\n",
       "      <td>456</td>\n",
       "      <td>0.0</td>\n",
       "      <td>12</td>\n",
       "      <td>0.0</td>\n",
       "      <td>0</td>\n",
       "      <td>0</td>\n",
       "      <td>0</td>\n",
       "      <td>0</td>\n",
       "      <td>0.0</td>\n",
       "      <td>0.0</td>\n",
       "      <td>0.0</td>\n",
       "      <td>0.0</td>\n",
       "    </tr>\n",
       "  </tbody>\n",
       "</table>\n",
       "</div>"
      ],
      "text/plain": [
       "           candidates            followers  f_of_f_candidate_followers  \\\n",
       "0          1477484929             26292603                           0   \n",
       "1          1477484929           1252381038                           0   \n",
       "2  969648670818811904   937362574814748672                           0   \n",
       "3  969648670818811904           4896017459                           0   \n",
       "4  969648670818811904  1049645884743606272                           0   \n",
       "\n",
       "   n_f_of_f  ratio  n_candidate_followers  ratio_normalized  \\\n",
       "0     20606    0.0                      2               0.0   \n",
       "1       423    0.0                      2               0.0   \n",
       "2       446    0.0                     12               0.0   \n",
       "3      4864    0.0                     12               0.0   \n",
       "4       456    0.0                     12               0.0   \n",
       "\n",
       "   opponent_followers  candidate_and_opponent_followers  only_candidate  \\\n",
       "0                   0                                 0               0   \n",
       "1                   0                                 0               0   \n",
       "2                   0                                 0               0   \n",
       "3                   0                                 0               0   \n",
       "4                   0                                 0               0   \n",
       "\n",
       "   only_opponent  ratio_only_candidate  ratio_only_candidate_normalized  \\\n",
       "0              0                   0.0                              0.0   \n",
       "1              0                   0.0                              0.0   \n",
       "2              0                   0.0                              0.0   \n",
       "3              0                   0.0                              0.0   \n",
       "4              0                   0.0                              0.0   \n",
       "\n",
       "   ratio_candidate_and_opponent  ratio_opponent_over_candidate_followers  \n",
       "0                           0.0                                      0.0  \n",
       "1                           0.0                                      0.0  \n",
       "2                           0.0                                      0.0  \n",
       "3                           0.0                                      0.0  \n",
       "4                           0.0                                      0.0  "
      ]
     },
     "execution_count": 10,
     "metadata": {},
     "output_type": "execute_result"
    }
   ],
   "source": [
    "raw.head()"
   ]
  },
  {
   "cell_type": "code",
   "execution_count": 11,
   "metadata": {},
   "outputs": [
    {
     "data": {
      "text/plain": [
       "(275972, 15)"
      ]
     },
     "execution_count": 11,
     "metadata": {},
     "output_type": "execute_result"
    }
   ],
   "source": [
    "raw.shape"
   ]
  },
  {
   "cell_type": "code",
   "execution_count": 12,
   "metadata": {},
   "outputs": [
    {
     "data": {
      "text/plain": [
       "95"
      ]
     },
     "execution_count": 12,
     "metadata": {},
     "output_type": "execute_result"
    }
   ],
   "source": [
    "len(raw.candidates.unique())"
   ]
  },
  {
   "cell_type": "markdown",
   "metadata": {},
   "source": [
    "# Are all the candidates in the echo_computation in the candidate_info?"
   ]
  },
  {
   "cell_type": "code",
   "execution_count": 13,
   "metadata": {},
   "outputs": [
    {
     "data": {
      "text/plain": [
       "[974753842561601536,\n",
       " 985904307017924608,\n",
       " 1004724076810833920,\n",
       " 722092071285207040,\n",
       " 847171099376914432,\n",
       " 956324325556146176,\n",
       " 912402069335805952,\n",
       " 949089035556982784,\n",
       " 902612614634725376,\n",
       " 885364339321954304,\n",
       " 861246117689925632,\n",
       " 958408514807967744]"
      ]
     },
     "execution_count": 13,
     "metadata": {},
     "output_type": "execute_result"
    }
   ],
   "source": [
    "missing = list(set(raw.candidates) - set(candidate_info.UserID))\n",
    "missing"
   ]
  },
  {
   "cell_type": "code",
   "execution_count": 14,
   "metadata": {},
   "outputs": [
    {
     "name": "stdout",
     "output_type": "stream",
     "text": [
      "User not found\n",
      "User not found\n",
      "User not found\n",
      "User not found\n",
      "User not found\n",
      "User not found\n",
      "User not found\n",
      "User not found\n",
      "User not found\n",
      "User not found\n",
      "User not found\n",
      "User not found\n"
     ]
    }
   ],
   "source": [
    "#who are these candidates?\n",
    "import twitter\n",
    "api = twitter.Api(consumer_key= 'RoKyGypNXjkKxAMZ56ZmACAXU',\n",
    "                  consumer_secret='zjEqTC8byFOjuMUPwoiRbBa6iBACglP8Jy4Z9lbTdbX7fbjNFk',\n",
    "                  access_token_key= '825138308426653697-DYieQ0F5GEVzXdwldCiIacmTrK2A8ru',\n",
    "                  access_token_secret= 'mSoV9doa4zaFG6ffOHk5Btw8d30xeW9AIZSXYlyMMAtKq')\n",
    "\n",
    "for missed in missing:\n",
    "    try:\n",
    "        user = api.GetUser(missed)\n",
    "        print(user.name)\n",
    "    except:\n",
    "        print('User not found')"
   ]
  },
  {
   "cell_type": "code",
   "execution_count": 15,
   "metadata": {},
   "outputs": [
    {
     "data": {
      "text/plain": [
       "User(ID=216776631, ScreenName=BernieSanders)"
      ]
     },
     "execution_count": 15,
     "metadata": {},
     "output_type": "execute_result"
    }
   ],
   "source": [
    "#if user is real:\n",
    "api.GetUser(216776631)"
   ]
  },
  {
   "cell_type": "code",
   "execution_count": null,
   "metadata": {},
   "outputs": [],
   "source": []
  },
  {
   "cell_type": "markdown",
   "metadata": {},
   "source": [
    "# Which candidates are in the candidate_info but not in the echo computation?"
   ]
  },
  {
   "cell_type": "code",
   "execution_count": 16,
   "metadata": {},
   "outputs": [
    {
     "data": {
      "text/plain": [
       "[747234420676038656,\n",
       " 1163888566079873025,\n",
       " 722092071285207042,\n",
       " 912402069335805954,\n",
       " 956324325556146177,\n",
       " 861246117689925633,\n",
       " 949089035556982786,\n",
       " 985904307017924614,\n",
       " 958408514807967751,\n",
       " 1004724076810833921,\n",
       " 847171099376914433,\n",
       " 974753842561601537,\n",
       " 902612614634725377,\n",
       " 885364339321954305]"
      ]
     },
     "execution_count": 16,
     "metadata": {},
     "output_type": "execute_result"
    }
   ],
   "source": [
    "missing2 = list(set(candidate_info.UserID) - set(raw.candidates))\n",
    "missing2"
   ]
  },
  {
   "cell_type": "code",
   "execution_count": 17,
   "metadata": {},
   "outputs": [
    {
     "data": {
      "text/plain": [
       "7                      Robert Arlett\n",
       "9                Kerri Evelyn Harris\n",
       "13                      Lucy Brenton\n",
       "18                   Zak Ringelstein\n",
       "27                        John James\n",
       "31                     Jim Newberger\n",
       "43                         Tim Hagan\n",
       "45    Barry Michaels For U.S. Senate\n",
       "47        Tricia Flanagan For Senate\n",
       "48           Hoffman for Senate 2019\n",
       "49                         Bob Hugin\n",
       "52                    Natalie Rivera\n",
       "64      Bob Flanders for U.S. Senate\n",
       "72                       Tim Aalders\n",
       "Name: Real Name, dtype: object"
      ]
     },
     "execution_count": 17,
     "metadata": {},
     "output_type": "execute_result"
    }
   ],
   "source": [
    "candidate_info[candidate_info['UserID'].isin(missing2)]['Real Name']"
   ]
  },
  {
   "cell_type": "code",
   "execution_count": null,
   "metadata": {},
   "outputs": [],
   "source": []
  },
  {
   "cell_type": "markdown",
   "metadata": {},
   "source": [
    "# How many followers have 0 of their followers following the candidate?"
   ]
  },
  {
   "cell_type": "code",
   "execution_count": 6,
   "metadata": {},
   "outputs": [],
   "source": [
    "df = pd.merge(raw, candidate_info, left_on='candidates', right_on='UserID')"
   ]
  },
  {
   "cell_type": "code",
   "execution_count": 7,
   "metadata": {},
   "outputs": [
    {
     "name": "stdout",
     "output_type": "stream",
     "text": [
      "Percentage of People Who Follow Candidate A where none of their followers follow Candidate A:\n",
      "0.029340347219697062\n"
     ]
    }
   ],
   "source": [
    "print('Percentage of People Who Follow Candidate A where none of their followers follow Candidate A:')\n",
    "print(sum(df.f_of_f_candidate_followers == 0) / df.shape[0])"
   ]
  },
  {
   "cell_type": "code",
   "execution_count": 8,
   "metadata": {
    "scrolled": true
   },
   "outputs": [
    {
     "data": {
      "image/png": "[encoded data removed]",
      "text/plain": [
       "<Figure size 432x288 with 1 Axes>"
      ]
     },
     "metadata": {
      "needs_background": "light"
     },
     "output_type": "display_data"
    }
   ],
   "source": [
    "plt.hist(df.f_of_f_candidate_followers, bins=50)\n",
    "plt.title('Hist of Number of Followers Followers that also follow Candidate')\n",
    "plt.show()"
   ]
  },
  {
   "cell_type": "code",
   "execution_count": 9,
   "metadata": {},
   "outputs": [
    {
     "data": {
      "image/png": "[encoded data removed]",
      "text/plain": [
       "<Figure size 432x288 with 1 Axes>"
      ]
     },
     "metadata": {
      "needs_background": "light"
     },
     "output_type": "display_data"
    }
   ],
   "source": [
    "non_zero = df.f_of_f_candidate_followers[df.f_of_f_candidate_followers != 0]\n",
    "plt.hist(non_zero, bins=50, range=(0,500))\n",
    "plt.title('Not including 0: Hist of Number of Followers Followers that also follow Candidate')\n",
    "plt.show()"
   ]
  },
  {
   "cell_type": "markdown",
   "metadata": {},
   "source": [
    "# Followers with largest number of their followers following candidate:"
   ]
  },
  {
   "cell_type": "code",
   "execution_count": 10,
   "metadata": {},
   "outputs": [
    {
     "data": {
      "text/html": [
       "<div>\n",
       "<style scoped>\n",
       "    .dataframe tbody tr th:only-of-type {\n",
       "        vertical-align: middle;\n",
       "    }\n",
       "\n",
       "    .dataframe tbody tr th {\n",
       "        vertical-align: top;\n",
       "    }\n",
       "\n",
       "    .dataframe thead th {\n",
       "        text-align: right;\n",
       "    }\n",
       "</style>\n",
       "<table border=\"1\" class=\"dataframe\">\n",
       "  <thead>\n",
       "    <tr style=\"text-align: right;\">\n",
       "      <th></th>\n",
       "      <th>candidates</th>\n",
       "      <th>followers</th>\n",
       "      <th>f_of_f_candidate_followers</th>\n",
       "      <th>n_f_of_f</th>\n",
       "      <th>ratio</th>\n",
       "      <th>n_candidate_followers</th>\n",
       "      <th>ratio_normalized</th>\n",
       "      <th>opponent_followers</th>\n",
       "      <th>candidate_and_opponent_followers</th>\n",
       "      <th>only_candidate</th>\n",
       "      <th>...</th>\n",
       "      <th>Profile Created At</th>\n",
       "      <th>URL</th>\n",
       "      <th>Location</th>\n",
       "      <th>UTC Offset</th>\n",
       "      <th>Time Zone</th>\n",
       "      <th>Favourites Count</th>\n",
       "      <th>Friends Count</th>\n",
       "      <th>Followers Count</th>\n",
       "      <th>Statuses Count</th>\n",
       "      <th>Profile Image URL</th>\n",
       "    </tr>\n",
       "  </thead>\n",
       "  <tbody>\n",
       "    <tr>\n",
       "      <th>219764</th>\n",
       "      <td>172858784</td>\n",
       "      <td>33923443</td>\n",
       "      <td>66247</td>\n",
       "      <td>4501892</td>\n",
       "      <td>0.014715</td>\n",
       "      <td>987620</td>\n",
       "      <td>1.489983e-08</td>\n",
       "      <td>4051</td>\n",
       "      <td>640</td>\n",
       "      <td>65607</td>\n",
       "      <td>...</td>\n",
       "      <td>Fri Jul 30 20:00:32 +0000 2010</td>\n",
       "      <td>https://t.co/YNK0Xrmt2G</td>\n",
       "      <td>Richmond, VA</td>\n",
       "      <td>None</td>\n",
       "      <td>None</td>\n",
       "      <td>836</td>\n",
       "      <td>774</td>\n",
       "      <td>987493</td>\n",
       "      <td>10065</td>\n",
       "      <td>http://pbs.twimg.com/profile_images/9224721183...</td>\n",
       "    </tr>\n",
       "    <tr>\n",
       "      <th>242421</th>\n",
       "      <td>970207298</td>\n",
       "      <td>16383523</td>\n",
       "      <td>37618</td>\n",
       "      <td>296251</td>\n",
       "      <td>0.126980</td>\n",
       "      <td>5304955</td>\n",
       "      <td>2.393614e-08</td>\n",
       "      <td>0</td>\n",
       "      <td>0</td>\n",
       "      <td>37618</td>\n",
       "      <td>...</td>\n",
       "      <td>Sun Nov 25 15:14:27 +0000 2012</td>\n",
       "      <td>http://t.co/wsbNrrUt</td>\n",
       "      <td></td>\n",
       "      <td>None</td>\n",
       "      <td>None</td>\n",
       "      <td>10</td>\n",
       "      <td>493</td>\n",
       "      <td>5305029</td>\n",
       "      <td>4605</td>\n",
       "      <td>http://pbs.twimg.com/profile_images/7220441747...</td>\n",
       "    </tr>\n",
       "    <tr>\n",
       "      <th>218405</th>\n",
       "      <td>172858784</td>\n",
       "      <td>580312540</td>\n",
       "      <td>19398</td>\n",
       "      <td>49601</td>\n",
       "      <td>0.391081</td>\n",
       "      <td>987620</td>\n",
       "      <td>3.959831e-07</td>\n",
       "      <td>100</td>\n",
       "      <td>64</td>\n",
       "      <td>19334</td>\n",
       "      <td>...</td>\n",
       "      <td>Fri Jul 30 20:00:32 +0000 2010</td>\n",
       "      <td>https://t.co/YNK0Xrmt2G</td>\n",
       "      <td>Richmond, VA</td>\n",
       "      <td>None</td>\n",
       "      <td>None</td>\n",
       "      <td>836</td>\n",
       "      <td>774</td>\n",
       "      <td>987493</td>\n",
       "      <td>10065</td>\n",
       "      <td>http://pbs.twimg.com/profile_images/9224721183...</td>\n",
       "    </tr>\n",
       "    <tr>\n",
       "      <th>222668</th>\n",
       "      <td>1074480192</td>\n",
       "      <td>17171142</td>\n",
       "      <td>18372</td>\n",
       "      <td>54728</td>\n",
       "      <td>0.335697</td>\n",
       "      <td>1284975</td>\n",
       "      <td>2.612475e-07</td>\n",
       "      <td>3091</td>\n",
       "      <td>1395</td>\n",
       "      <td>16977</td>\n",
       "      <td>...</td>\n",
       "      <td>Wed Jan 09 18:11:37 +0000 2013</td>\n",
       "      <td>https://t.co/9HWCyvsTvJ</td>\n",
       "      <td>Houston, Texas</td>\n",
       "      <td>None</td>\n",
       "      <td>None</td>\n",
       "      <td>408</td>\n",
       "      <td>6955</td>\n",
       "      <td>1284626</td>\n",
       "      <td>11042</td>\n",
       "      <td>http://pbs.twimg.com/profile_images/1100507943...</td>\n",
       "    </tr>\n",
       "    <tr>\n",
       "      <th>222945</th>\n",
       "      <td>1074480192</td>\n",
       "      <td>2625544698</td>\n",
       "      <td>17374</td>\n",
       "      <td>42561</td>\n",
       "      <td>0.408214</td>\n",
       "      <td>1284975</td>\n",
       "      <td>3.176825e-07</td>\n",
       "      <td>782</td>\n",
       "      <td>547</td>\n",
       "      <td>16827</td>\n",
       "      <td>...</td>\n",
       "      <td>Wed Jan 09 18:11:37 +0000 2013</td>\n",
       "      <td>https://t.co/9HWCyvsTvJ</td>\n",
       "      <td>Houston, Texas</td>\n",
       "      <td>None</td>\n",
       "      <td>None</td>\n",
       "      <td>408</td>\n",
       "      <td>6955</td>\n",
       "      <td>1284626</td>\n",
       "      <td>11042</td>\n",
       "      <td>http://pbs.twimg.com/profile_images/1100507943...</td>\n",
       "    </tr>\n",
       "  </tbody>\n",
       "</table>\n",
       "<p>5 rows × 32 columns</p>\n",
       "</div>"
      ],
      "text/plain": [
       "        candidates   followers  f_of_f_candidate_followers  n_f_of_f  \\\n",
       "219764   172858784    33923443                       66247   4501892   \n",
       "242421   970207298    16383523                       37618    296251   \n",
       "218405   172858784   580312540                       19398     49601   \n",
       "222668  1074480192    17171142                       18372     54728   \n",
       "222945  1074480192  2625544698                       17374     42561   \n",
       "\n",
       "           ratio  n_candidate_followers  ratio_normalized  opponent_followers  \\\n",
       "219764  0.014715                 987620      1.489983e-08                4051   \n",
       "242421  0.126980                5304955      2.393614e-08                   0   \n",
       "218405  0.391081                 987620      3.959831e-07                 100   \n",
       "222668  0.335697                1284975      2.612475e-07                3091   \n",
       "222945  0.408214                1284975      3.176825e-07                 782   \n",
       "\n",
       "        candidate_and_opponent_followers  only_candidate  ...  \\\n",
       "219764                               640           65607  ...   \n",
       "242421                                 0           37618  ...   \n",
       "218405                                64           19334  ...   \n",
       "222668                              1395           16977  ...   \n",
       "222945                               547           16827  ...   \n",
       "\n",
       "                    Profile Created At                      URL  \\\n",
       "219764  Fri Jul 30 20:00:32 +0000 2010  https://t.co/YNK0Xrmt2G   \n",
       "242421  Sun Nov 25 15:14:27 +0000 2012     http://t.co/wsbNrrUt   \n",
       "218405  Fri Jul 30 20:00:32 +0000 2010  https://t.co/YNK0Xrmt2G   \n",
       "222668  Wed Jan 09 18:11:37 +0000 2013  https://t.co/9HWCyvsTvJ   \n",
       "222945  Wed Jan 09 18:11:37 +0000 2013  https://t.co/9HWCyvsTvJ   \n",
       "\n",
       "              Location  UTC Offset  Time Zone  Favourites Count  \\\n",
       "219764    Richmond, VA        None       None               836   \n",
       "242421                        None       None                10   \n",
       "218405    Richmond, VA        None       None               836   \n",
       "222668  Houston, Texas        None       None               408   \n",
       "222945  Houston, Texas        None       None               408   \n",
       "\n",
       "        Friends Count  Followers Count  Statuses Count  \\\n",
       "219764            774           987493           10065   \n",
       "242421            493          5305029            4605   \n",
       "218405            774           987493           10065   \n",
       "222668           6955          1284626           11042   \n",
       "222945           6955          1284626           11042   \n",
       "\n",
       "                                        Profile Image URL  \n",
       "219764  http://pbs.twimg.com/profile_images/9224721183...  \n",
       "242421  http://pbs.twimg.com/profile_images/7220441747...  \n",
       "218405  http://pbs.twimg.com/profile_images/9224721183...  \n",
       "222668  http://pbs.twimg.com/profile_images/1100507943...  \n",
       "222945  http://pbs.twimg.com/profile_images/1100507943...  \n",
       "\n",
       "[5 rows x 32 columns]"
      ]
     },
     "execution_count": 10,
     "metadata": {},
     "output_type": "execute_result"
    }
   ],
   "source": [
    "most_followers_following_candidate = df.nlargest(20, 'f_of_f_candidate_followers')\n",
    "most_followers_following_candidate.head()"
   ]
  },
  {
   "cell_type": "code",
   "execution_count": 46,
   "metadata": {},
   "outputs": [
    {
     "name": "stdout",
     "output_type": "stream",
     "text": [
      "MarQuis Trill Support The Movement with Engagement 66247 1.4899828436641927e-08 Tim Kaine\n",
      "Algernon  Fross 37618 2.393614311380207e-08 Elizabeth Warren\n",
      "Amee Vanderpool 19398 3.959830957082352e-07 Tim Kaine\n",
      "Craig Huey 18372 2.6124752278776737e-07 Senator Ted Cruz\n",
      "♥️👠SassyTrumpChic{⭐️} 17374 3.1768251733612485e-07 Senator Ted Cruz\n",
      "Deplorable Floridian❌ 16674 3.448896433189533e-07 Senator Ted Cruz\n",
      "ᎠᏌNᎬᎷYᎢᎻᎪNᏩ™️ 14961 3.2935186241389677e-07 Tim Kaine\n",
      "Jodi * HR-1 & HR-8 14465 3.405041733569981e-07 Sen Dianne Feinstein\n",
      "Pat Fuller is a Democrat #Antiracist #GutsyWoman 14157 6.034597273288557e-07 Sheldon Whitehouse\n",
      "♥️♥️ Neena ♥️♥️ 🚂🚃🌬 13659 3.733545990471221e-07 Senator Ted Cruz\n",
      "R. Donohue🆘 #Resist #Impeach | arm chair activist 13597 7.038987801683872e-07 Senator Mazie Hirono\n",
      "Vince (pull no punches) Pesce 12964 3.076145744319126e-07 Sen Dianne Feinstein\n",
      "Tipping Point🇺🇸 12430 3.0948745675224026e-07 Senator Ted Cruz\n",
      "Michael Hansen #KAGCaravan 11710 3.308891384841327e-07 Senator Ted Cruz\n",
      "Sensei Ryan 11644 3.4340369689071616e-07 Beto O'Rourke\n",
      "Jim B 11007 3.4832162520775405e-07 Senator Ted Cruz\n",
      "Anonymous Fed 10834 4.75709122786496e-07 Amy Klobuchar\n",
      "Muckmaker™ 10708 3.469136786158369e-07 Senator Ben Cardin\n",
      "Lord Louis 10260 1.0475276739766169e-08 Senator Ted Cruz\n",
      "Lee in Iowa 🆘 #TeamPelosi #Booker2020 9528 2.120647336787246e-06 Dan McCready\n"
     ]
    }
   ],
   "source": [
    "n_following = most_followers_following_candidate.f_of_f_candidate_followers.tolist()\n",
    "echo_chamber = most_followers_following_candidate.ratio_normalized.tolist()\n",
    "candidate_names = most_followers_following_candidate['Real Name'].tolist()\n",
    "\n",
    "for i, follower in enumerate(most_followers_following_candidate.followers):\n",
    "    user = api.GetUser(follower)\n",
    "    print(user.name, n_following[i], echo_chamber[i], candidate_names[i])"
   ]
  },
  {
   "cell_type": "code",
   "execution_count": null,
   "metadata": {},
   "outputs": [],
   "source": []
  },
  {
   "cell_type": "code",
   "execution_count": null,
   "metadata": {},
   "outputs": [],
   "source": []
  },
  {
   "cell_type": "markdown",
   "metadata": {},
   "source": [
    "# Followers who most followers only follow opponent:"
   ]
  },
  {
   "cell_type": "code",
   "execution_count": 88,
   "metadata": {},
   "outputs": [
    {
     "name": "stdout",
     "output_type": "stream",
     "text": [
      "30,000 ARMY SUICIDES 95029 0.11204700425130563 Jenny Wilson\n",
      "@HarjinderKukreja on Instagram 29779 0.019428176635049362 Corey Stewart\n",
      "Red T Raccoon 19669 0.41247488911430674 Kevin de Leόn\n",
      "Lord Louis 16259 0.023544012846482436 Senator Ted Cruz\n",
      "KrisS 🔥 Your Vote, Your Voice 🔥 15730 0.42975941422594144 Kevin de Leόn\n",
      "Ron *Thug* Hall 14183 0.33970167778541194 Kevin de Leόn\n",
      "Etienne Arsenault 14033 0.009860392804994626 Matthew Corey\n",
      "Scott Isbell 13101 0.04010732307989473 Jenny Wilson\n",
      "Lil B THE BASEDGOD 11876 0.008645959961223014 Kevin de Leόn\n",
      "The Spector Report 10350 0.29253410846623196 Kevin de Leόn\n",
      "Charlie Kirk 10342 0.045571677600276216 Corey Stewart\n",
      "Dr. Eric Grabowsky 9407 0.0404852481190295 Jenny Wilson\n",
      "Lord Louis 9252 0.01342767031559945 Kevin de Leόn\n",
      "Furniture Assembly Experts - DC MD VA Baltimore 9070 0.0592097461726176 Corey Stewart\n",
      "Charlie Kirk 8991 0.03812727900494328 Matthew Corey\n",
      "Wes Jordan✌💙 8085 0.08125913806307875 Jenny Wilson\n",
      "Scott Dworkin 7623 0.10487832598785155 Jenny Wilson\n",
      "30,000 ARMY SUICIDES 7548 0.008908667725299892 Mick Rich\n",
      "Erica Rhodes 7481 0.054994188828878104 Kevin de Leόn\n",
      "Taye Diggs 7282 0.010925965928982711 Bob Flanders\n"
     ]
    }
   ],
   "source": [
    "most_followers_also_following_opponent = df.nlargest(20, 'only_opponent')\n",
    "\n",
    "n_following = most_followers_also_following_opponent.only_opponent.tolist()\n",
    "echo_chamber = most_followers_also_following_opponent.ratio_opponent_over_candidate_followers.tolist()\n",
    "candidate_names = most_followers_also_following_opponent['Real Name'].tolist()\n",
    "\n",
    "for i, follower in enumerate(most_followers_also_following_opponent.followers):\n",
    "    user = api.GetUser(follower)\n",
    "    print(user.name, n_following[i], echo_chamber[i], candidate_names[i])"
   ]
  },
  {
   "cell_type": "code",
   "execution_count": null,
   "metadata": {},
   "outputs": [],
   "source": []
  },
  {
   "cell_type": "code",
   "execution_count": null,
   "metadata": {},
   "outputs": [],
   "source": []
  },
  {
   "cell_type": "code",
   "execution_count": null,
   "metadata": {},
   "outputs": [],
   "source": []
  },
  {
   "cell_type": "markdown",
   "metadata": {},
   "source": [
    "# Most echo-chambered Followers: "
   ]
  },
  {
   "cell_type": "code",
   "execution_count": 48,
   "metadata": {},
   "outputs": [],
   "source": [
    "most_echod_followers = df.nlargest(20, 'ratio_normalized')"
   ]
  },
  {
   "cell_type": "code",
   "execution_count": 26,
   "metadata": {},
   "outputs": [
    {
     "name": "stdout",
     "output_type": "stream",
     "text": [
      "An Independent Voice 0.0016775396085740913 Kevin Kimple\n",
      "Not Chris McDaniel 0.0014296606938619901 Shawn O'Hara\n",
      "Childers' Moustache 0.0011796427367711494 Shawn O'Hara\n",
      "Chuckies Beard 0.001143728555089592 Shawn O'Hara\n",
      "Turned Off Lamp of Liberty 0.0009302325581395349 Shawn O'Hara\n",
      "Larry Girouard 0.0009174311926605505 Bob Flanders\n",
      "Monique Chartier 0.0008792048929663609 Bob Flanders\n",
      "Ken Budris 0.0007477833564790087 Kevin Kimple\n",
      "John Carlevale 0.000704563170834083 Bob Flanders\n",
      "J.H. Snider 0.0007008154943934761 Bob Flanders\n",
      "John Hill 0.0006831934413429631 Bob Flanders\n",
      "Make MS Blue 0.0006803562592775854 Shawn O'Hara\n",
      "Maureen Moakley 0.0006689602446483181 Bob Flanders\n",
      "ann flanders 0.000655307994757536 Bob Flanders\n",
      "Bill Felkner 0.0006414243508008086 Bob Flanders\n",
      "Robert G. Flanders 0.0006116207951070336 Bob Flanders\n",
      "Roger Clemente For Hawaii State Senate 0.0005818463925523662 Ron Curtis\n",
      "Larry Berman 0.000576827995385376 Bob Flanders\n",
      "Chuck Barton 0.0005733944954128441 Bob Flanders\n",
      "RenewRI 0.0005610190746485381 Bob Flanders\n"
     ]
    }
   ],
   "source": [
    "echo_chamber = most_echod_followers.ratio_normalized.tolist()\n",
    "candidate_names = most_echod_followers['Real Name'].tolist()\n",
    "for i, follower in enumerate(most_echod_followers.followers):\n",
    "    user = api.GetUser(follower)\n",
    "    print(user.name, echo_chamber[i], candidate_names[i])"
   ]
  },
  {
   "cell_type": "code",
   "execution_count": null,
   "metadata": {},
   "outputs": [],
   "source": []
  },
  {
   "cell_type": "markdown",
   "metadata": {},
   "source": [
    "# Most/Least Echo Chambered Candidates "
   ]
  },
  {
   "cell_type": "code",
   "execution_count": 11,
   "metadata": {},
   "outputs": [],
   "source": [
    "candidate_echo = raw.groupby('candidates').mean()"
   ]
  },
  {
   "cell_type": "code",
   "execution_count": 21,
   "metadata": {},
   "outputs": [
    {
     "data": {
      "text/plain": [
       "count    8.300000e+01\n",
       "mean     3.556624e+05\n",
       "std      1.237608e+06\n",
       "min      2.000000e+00\n",
       "25%      3.079000e+03\n",
       "50%      2.204000e+04\n",
       "75%      1.153390e+05\n",
       "max      9.631743e+06\n",
       "Name: n_candidate_followers, dtype: float64"
      ]
     },
     "execution_count": 21,
     "metadata": {},
     "output_type": "execute_result"
    }
   ],
   "source": [
    "candidate_echo.n_candidate_followers.describe()"
   ]
  },
  {
   "cell_type": "code",
   "execution_count": 22,
   "metadata": {},
   "outputs": [
    {
     "data": {
      "text/html": [
       "<div>\n",
       "<style scoped>\n",
       "    .dataframe tbody tr th:only-of-type {\n",
       "        vertical-align: middle;\n",
       "    }\n",
       "\n",
       "    .dataframe tbody tr th {\n",
       "        vertical-align: top;\n",
       "    }\n",
       "\n",
       "    .dataframe thead th {\n",
       "        text-align: right;\n",
       "    }\n",
       "</style>\n",
       "<table border=\"1\" class=\"dataframe\">\n",
       "  <thead>\n",
       "    <tr style=\"text-align: right;\">\n",
       "      <th></th>\n",
       "      <th>followers</th>\n",
       "      <th>f_of_f_candidate_followers</th>\n",
       "      <th>n_f_of_f</th>\n",
       "      <th>ratio</th>\n",
       "      <th>n_candidate_followers</th>\n",
       "      <th>ratio_normalized</th>\n",
       "      <th>opponent_followers</th>\n",
       "      <th>candidate_and_opponent_followers</th>\n",
       "      <th>only_candidate</th>\n",
       "      <th>only_opponent</th>\n",
       "      <th>...</th>\n",
       "      <th>Profile Created At</th>\n",
       "      <th>URL</th>\n",
       "      <th>Location</th>\n",
       "      <th>UTC Offset</th>\n",
       "      <th>Time Zone</th>\n",
       "      <th>Favourites Count</th>\n",
       "      <th>Friends Count</th>\n",
       "      <th>Followers Count</th>\n",
       "      <th>Statuses Count</th>\n",
       "      <th>Profile Image URL</th>\n",
       "    </tr>\n",
       "  </thead>\n",
       "  <tbody>\n",
       "    <tr>\n",
       "      <th>32</th>\n",
       "      <td>6.393368e+08</td>\n",
       "      <td>0.000000</td>\n",
       "      <td>10514.500000</td>\n",
       "      <td>0.000000</td>\n",
       "      <td>2.0</td>\n",
       "      <td>0.000000e+00</td>\n",
       "      <td>0.000000</td>\n",
       "      <td>0.000000</td>\n",
       "      <td>0.000000</td>\n",
       "      <td>0.000000</td>\n",
       "      <td>...</td>\n",
       "      <td>Sun Jun 02 14:42:30 +0000 2013</td>\n",
       "      <td>None</td>\n",
       "      <td></td>\n",
       "      <td>None</td>\n",
       "      <td>None</td>\n",
       "      <td>0</td>\n",
       "      <td>0</td>\n",
       "      <td>2</td>\n",
       "      <td>0</td>\n",
       "      <td>http://abs.twimg.com/sticky/default_profile_im...</td>\n",
       "    </tr>\n",
       "    <tr>\n",
       "      <th>74</th>\n",
       "      <td>5.127620e+17</td>\n",
       "      <td>0.400000</td>\n",
       "      <td>16224.600000</td>\n",
       "      <td>0.000061</td>\n",
       "      <td>12.0</td>\n",
       "      <td>5.053312e-06</td>\n",
       "      <td>0.000000</td>\n",
       "      <td>0.000000</td>\n",
       "      <td>0.400000</td>\n",
       "      <td>0.000000</td>\n",
       "      <td>...</td>\n",
       "      <td>Fri Mar 02 19:00:33 +0000 2018</td>\n",
       "      <td>None</td>\n",
       "      <td></td>\n",
       "      <td>None</td>\n",
       "      <td>None</td>\n",
       "      <td>2</td>\n",
       "      <td>41</td>\n",
       "      <td>12</td>\n",
       "      <td>13</td>\n",
       "      <td>http://pbs.twimg.com/profile_images/9722347569...</td>\n",
       "    </tr>\n",
       "    <tr>\n",
       "      <th>54</th>\n",
       "      <td>3.327443e+17</td>\n",
       "      <td>0.000000</td>\n",
       "      <td>6497.823529</td>\n",
       "      <td>0.000000</td>\n",
       "      <td>24.0</td>\n",
       "      <td>0.000000e+00</td>\n",
       "      <td>0.000000</td>\n",
       "      <td>0.000000</td>\n",
       "      <td>0.000000</td>\n",
       "      <td>0.000000</td>\n",
       "      <td>...</td>\n",
       "      <td>Sun Jan 11 00:44:11 +0000 2015</td>\n",
       "      <td>https://t.co/8qjPiv2NPG</td>\n",
       "      <td>Seagirt, NJ</td>\n",
       "      <td>None</td>\n",
       "      <td>None</td>\n",
       "      <td>2</td>\n",
       "      <td>17</td>\n",
       "      <td>24</td>\n",
       "      <td>96</td>\n",
       "      <td>http://pbs.twimg.com/profile_images/7239159756...</td>\n",
       "    </tr>\n",
       "    <tr>\n",
       "      <th>51</th>\n",
       "      <td>5.072906e+17</td>\n",
       "      <td>3.407407</td>\n",
       "      <td>1740.925926</td>\n",
       "      <td>0.005505</td>\n",
       "      <td>37.0</td>\n",
       "      <td>1.487851e-04</td>\n",
       "      <td>0.000000</td>\n",
       "      <td>0.000000</td>\n",
       "      <td>3.407407</td>\n",
       "      <td>0.000000</td>\n",
       "      <td>...</td>\n",
       "      <td>Fri Jun 09 17:00:10 +0000 2017</td>\n",
       "      <td>None</td>\n",
       "      <td>New Jersey</td>\n",
       "      <td>None</td>\n",
       "      <td>None</td>\n",
       "      <td>91</td>\n",
       "      <td>56</td>\n",
       "      <td>37</td>\n",
       "      <td>211</td>\n",
       "      <td>http://pbs.twimg.com/profile_images/9584283490...</td>\n",
       "    </tr>\n",
       "    <tr>\n",
       "      <th>35</th>\n",
       "      <td>2.069926e+16</td>\n",
       "      <td>11.555556</td>\n",
       "      <td>61361.765432</td>\n",
       "      <td>0.014571</td>\n",
       "      <td>86.0</td>\n",
       "      <td>1.694312e-04</td>\n",
       "      <td>0.000000</td>\n",
       "      <td>0.000000</td>\n",
       "      <td>11.555556</td>\n",
       "      <td>0.000000</td>\n",
       "      <td>...</td>\n",
       "      <td>Wed Jun 11 02:53:45 +0000 2014</td>\n",
       "      <td>None</td>\n",
       "      <td>H'burg whudup</td>\n",
       "      <td>None</td>\n",
       "      <td>None</td>\n",
       "      <td>2</td>\n",
       "      <td>560</td>\n",
       "      <td>86</td>\n",
       "      <td>134</td>\n",
       "      <td>http://pbs.twimg.com/profile_images/4765601471...</td>\n",
       "    </tr>\n",
       "    <tr>\n",
       "      <th>34</th>\n",
       "      <td>2.639202e+17</td>\n",
       "      <td>11.738095</td>\n",
       "      <td>4094.565476</td>\n",
       "      <td>0.012997</td>\n",
       "      <td>206.0</td>\n",
       "      <td>6.309258e-05</td>\n",
       "      <td>0.000000</td>\n",
       "      <td>0.000000</td>\n",
       "      <td>11.738095</td>\n",
       "      <td>0.000000</td>\n",
       "      <td>...</td>\n",
       "      <td>Sat Aug 06 17:19:42 +0000 2016</td>\n",
       "      <td>https://t.co/tULcJOQDWF</td>\n",
       "      <td></td>\n",
       "      <td>None</td>\n",
       "      <td>None</td>\n",
       "      <td>2855</td>\n",
       "      <td>200</td>\n",
       "      <td>206</td>\n",
       "      <td>1331</td>\n",
       "      <td>http://pbs.twimg.com/profile_images/1004765350...</td>\n",
       "    </tr>\n",
       "    <tr>\n",
       "      <th>28</th>\n",
       "      <td>1.963508e+17</td>\n",
       "      <td>37.492537</td>\n",
       "      <td>5265.489552</td>\n",
       "      <td>0.016774</td>\n",
       "      <td>404.0</td>\n",
       "      <td>4.152087e-05</td>\n",
       "      <td>0.000000</td>\n",
       "      <td>0.000000</td>\n",
       "      <td>37.492537</td>\n",
       "      <td>0.000000</td>\n",
       "      <td>...</td>\n",
       "      <td>Wed Oct 01 16:43:07 +0000 2014</td>\n",
       "      <td>https://t.co/MGWQ6FKhNJ</td>\n",
       "      <td>St Clair Shores, MI</td>\n",
       "      <td>None</td>\n",
       "      <td>None</td>\n",
       "      <td>831</td>\n",
       "      <td>58</td>\n",
       "      <td>405</td>\n",
       "      <td>484</td>\n",
       "      <td>http://pbs.twimg.com/profile_images/7663767444...</td>\n",
       "    </tr>\n",
       "    <tr>\n",
       "      <th>65</th>\n",
       "      <td>1.025802e+17</td>\n",
       "      <td>39.810026</td>\n",
       "      <td>5241.601583</td>\n",
       "      <td>0.063831</td>\n",
       "      <td>436.0</td>\n",
       "      <td>1.464016e-04</td>\n",
       "      <td>299.073879</td>\n",
       "      <td>28.081794</td>\n",
       "      <td>11.728232</td>\n",
       "      <td>270.992084</td>\n",
       "      <td>...</td>\n",
       "      <td>Tue Aug 26 14:27:37 +0000 2014</td>\n",
       "      <td>https://t.co/VgOSJF9YUu</td>\n",
       "      <td>Providence, RI</td>\n",
       "      <td>None</td>\n",
       "      <td>None</td>\n",
       "      <td>18</td>\n",
       "      <td>385</td>\n",
       "      <td>437</td>\n",
       "      <td>78</td>\n",
       "      <td>http://pbs.twimg.com/profile_images/9548651169...</td>\n",
       "    </tr>\n",
       "    <tr>\n",
       "      <th>0</th>\n",
       "      <td>2.983732e+17</td>\n",
       "      <td>11.769417</td>\n",
       "      <td>15142.101942</td>\n",
       "      <td>0.011844</td>\n",
       "      <td>517.0</td>\n",
       "      <td>2.290967e-05</td>\n",
       "      <td>0.000000</td>\n",
       "      <td>0.000000</td>\n",
       "      <td>11.769417</td>\n",
       "      <td>0.000000</td>\n",
       "      <td>...</td>\n",
       "      <td>Mon Aug 21 18:20:53 +0000 2017</td>\n",
       "      <td>https://t.co/LUSeUll12Z</td>\n",
       "      <td>Phoenix, AZ</td>\n",
       "      <td>None</td>\n",
       "      <td>None</td>\n",
       "      <td>139</td>\n",
       "      <td>153</td>\n",
       "      <td>517</td>\n",
       "      <td>255</td>\n",
       "      <td>http://pbs.twimg.com/profile_images/9526583387...</td>\n",
       "    </tr>\n",
       "    <tr>\n",
       "      <th>57</th>\n",
       "      <td>3.175242e+17</td>\n",
       "      <td>23.600316</td>\n",
       "      <td>8010.620853</td>\n",
       "      <td>0.018951</td>\n",
       "      <td>816.0</td>\n",
       "      <td>2.322407e-05</td>\n",
       "      <td>111.232227</td>\n",
       "      <td>6.925750</td>\n",
       "      <td>16.674566</td>\n",
       "      <td>104.306477</td>\n",
       "      <td>...</td>\n",
       "      <td>Tue Jan 19 19:29:41 +0000 2016</td>\n",
       "      <td>https://t.co/Z3g49Hkdjp</td>\n",
       "      <td>Albuquerque, NM</td>\n",
       "      <td>None</td>\n",
       "      <td>None</td>\n",
       "      <td>6</td>\n",
       "      <td>158</td>\n",
       "      <td>815</td>\n",
       "      <td>547</td>\n",
       "      <td>http://pbs.twimg.com/profile_images/1034834484...</td>\n",
       "    </tr>\n",
       "    <tr>\n",
       "      <th>36</th>\n",
       "      <td>2.045176e+17</td>\n",
       "      <td>9.795048</td>\n",
       "      <td>16723.678129</td>\n",
       "      <td>0.008733</td>\n",
       "      <td>851.0</td>\n",
       "      <td>1.026233e-05</td>\n",
       "      <td>0.000000</td>\n",
       "      <td>0.000000</td>\n",
       "      <td>9.795048</td>\n",
       "      <td>0.000000</td>\n",
       "      <td>...</td>\n",
       "      <td>Fri Feb 06 22:24:50 +0000 2009</td>\n",
       "      <td>https://t.co/iBcvmaFoQ9</td>\n",
       "      <td>Springfield, MO</td>\n",
       "      <td>None</td>\n",
       "      <td>None</td>\n",
       "      <td>1331</td>\n",
       "      <td>1032</td>\n",
       "      <td>851</td>\n",
       "      <td>12132</td>\n",
       "      <td>http://pbs.twimg.com/profile_images/3788000004...</td>\n",
       "    </tr>\n",
       "    <tr>\n",
       "      <th>70</th>\n",
       "      <td>2.184411e+17</td>\n",
       "      <td>8.086158</td>\n",
       "      <td>2355.731638</td>\n",
       "      <td>0.014965</td>\n",
       "      <td>873.0</td>\n",
       "      <td>1.714221e-05</td>\n",
       "      <td>0.000000</td>\n",
       "      <td>0.000000</td>\n",
       "      <td>8.086158</td>\n",
       "      <td>0.000000</td>\n",
       "      <td>...</td>\n",
       "      <td>Wed May 29 01:54:58 +0000 2013</td>\n",
       "      <td>https://t.co/MxeAC3Rah2</td>\n",
       "      <td>Houston, TX</td>\n",
       "      <td>None</td>\n",
       "      <td>None</td>\n",
       "      <td>204</td>\n",
       "      <td>376</td>\n",
       "      <td>873</td>\n",
       "      <td>534</td>\n",
       "      <td>http://pbs.twimg.com/profile_images/9933336740...</td>\n",
       "    </tr>\n",
       "    <tr>\n",
       "      <th>22</th>\n",
       "      <td>1.110616e+17</td>\n",
       "      <td>14.760844</td>\n",
       "      <td>8330.949590</td>\n",
       "      <td>0.013286</td>\n",
       "      <td>983.0</td>\n",
       "      <td>1.351617e-05</td>\n",
       "      <td>0.000000</td>\n",
       "      <td>0.000000</td>\n",
       "      <td>14.760844</td>\n",
       "      <td>0.000000</td>\n",
       "      <td>...</td>\n",
       "      <td>Thu Apr 29 20:13:25 +0000 2010</td>\n",
       "      <td>http://t.co/nDS7siDrPo</td>\n",
       "      <td>Bethesda, MD</td>\n",
       "      <td>None</td>\n",
       "      <td>None</td>\n",
       "      <td>2</td>\n",
       "      <td>1794</td>\n",
       "      <td>983</td>\n",
       "      <td>1771</td>\n",
       "      <td>http://pbs.twimg.com/profile_images/860753740/...</td>\n",
       "    </tr>\n",
       "    <tr>\n",
       "      <th>23</th>\n",
       "      <td>3.000391e+17</td>\n",
       "      <td>28.947771</td>\n",
       "      <td>2538.870064</td>\n",
       "      <td>0.034299</td>\n",
       "      <td>1010.0</td>\n",
       "      <td>3.395892e-05</td>\n",
       "      <td>0.000000</td>\n",
       "      <td>0.000000</td>\n",
       "      <td>28.947771</td>\n",
       "      <td>0.000000</td>\n",
       "      <td>...</td>\n",
       "      <td>Sun Jan 03 00:13:37 +0000 2010</td>\n",
       "      <td>https://t.co/L4LK0vAFsg</td>\n",
       "      <td></td>\n",
       "      <td>None</td>\n",
       "      <td>None</td>\n",
       "      <td>14</td>\n",
       "      <td>656</td>\n",
       "      <td>1010</td>\n",
       "      <td>135</td>\n",
       "      <td>http://pbs.twimg.com/profile_images/1060052773...</td>\n",
       "    </tr>\n",
       "    <tr>\n",
       "      <th>21</th>\n",
       "      <td>4.605965e+16</td>\n",
       "      <td>44.000902</td>\n",
       "      <td>39649.816952</td>\n",
       "      <td>0.010275</td>\n",
       "      <td>1185.0</td>\n",
       "      <td>8.670689e-06</td>\n",
       "      <td>0.000000</td>\n",
       "      <td>0.000000</td>\n",
       "      <td>44.000902</td>\n",
       "      <td>0.000000</td>\n",
       "      <td>...</td>\n",
       "      <td>Mon Apr 06 20:22:09 +0000 2015</td>\n",
       "      <td>None</td>\n",
       "      <td>Maryland, U.S.A.</td>\n",
       "      <td>None</td>\n",
       "      <td>None</td>\n",
       "      <td>2576</td>\n",
       "      <td>1252</td>\n",
       "      <td>1185</td>\n",
       "      <td>21025</td>\n",
       "      <td>http://pbs.twimg.com/profile_images/5875913376...</td>\n",
       "    </tr>\n",
       "    <tr>\n",
       "      <th>53</th>\n",
       "      <td>1.474753e+17</td>\n",
       "      <td>25.745878</td>\n",
       "      <td>14592.576140</td>\n",
       "      <td>0.019079</td>\n",
       "      <td>1220.0</td>\n",
       "      <td>1.563893e-05</td>\n",
       "      <td>0.000000</td>\n",
       "      <td>0.000000</td>\n",
       "      <td>25.745878</td>\n",
       "      <td>0.000000</td>\n",
       "      <td>...</td>\n",
       "      <td>Tue Jan 26 01:00:41 +0000 2010</td>\n",
       "      <td>https://t.co/YjQoPgZ435</td>\n",
       "      <td>Ft. Lee, NJ</td>\n",
       "      <td>None</td>\n",
       "      <td>None</td>\n",
       "      <td>82</td>\n",
       "      <td>1980</td>\n",
       "      <td>1220</td>\n",
       "      <td>1565</td>\n",
       "      <td>http://pbs.twimg.com/profile_images/9667376112...</td>\n",
       "    </tr>\n",
       "    <tr>\n",
       "      <th>11</th>\n",
       "      <td>2.648753e+17</td>\n",
       "      <td>66.546875</td>\n",
       "      <td>11314.535156</td>\n",
       "      <td>0.015217</td>\n",
       "      <td>1289.0</td>\n",
       "      <td>1.180504e-05</td>\n",
       "      <td>0.000000</td>\n",
       "      <td>0.000000</td>\n",
       "      <td>66.546875</td>\n",
       "      <td>0.000000</td>\n",
       "      <td>...</td>\n",
       "      <td>Fri May 11 17:53:48 +0000 2018</td>\n",
       "      <td>https://t.co/lQ0iQ4k1vI</td>\n",
       "      <td>Hawaii, USA</td>\n",
       "      <td>None</td>\n",
       "      <td>None</td>\n",
       "      <td>1549</td>\n",
       "      <td>638</td>\n",
       "      <td>1289</td>\n",
       "      <td>289</td>\n",
       "      <td>http://pbs.twimg.com/profile_images/1005985837...</td>\n",
       "    </tr>\n",
       "    <tr>\n",
       "      <th>86</th>\n",
       "      <td>2.389749e+17</td>\n",
       "      <td>35.431979</td>\n",
       "      <td>4969.734099</td>\n",
       "      <td>0.010951</td>\n",
       "      <td>1422.0</td>\n",
       "      <td>7.701374e-06</td>\n",
       "      <td>0.000000</td>\n",
       "      <td>0.000000</td>\n",
       "      <td>35.431979</td>\n",
       "      <td>0.000000</td>\n",
       "      <td>...</td>\n",
       "      <td>Mon Nov 27 18:59:48 +0000 2017</td>\n",
       "      <td>https://t.co/FyBNEW5ZRo</td>\n",
       "      <td>Wyoming, USA</td>\n",
       "      <td>None</td>\n",
       "      <td>None</td>\n",
       "      <td>7</td>\n",
       "      <td>412</td>\n",
       "      <td>1422</td>\n",
       "      <td>226</td>\n",
       "      <td>http://pbs.twimg.com/profile_images/9392187717...</td>\n",
       "    </tr>\n",
       "    <tr>\n",
       "      <th>81</th>\n",
       "      <td>2.628690e+17</td>\n",
       "      <td>14.018410</td>\n",
       "      <td>4107.888703</td>\n",
       "      <td>0.012461</td>\n",
       "      <td>1505.0</td>\n",
       "      <td>8.279446e-06</td>\n",
       "      <td>70.583264</td>\n",
       "      <td>3.247699</td>\n",
       "      <td>10.770711</td>\n",
       "      <td>67.335565</td>\n",
       "      <td>...</td>\n",
       "      <td>Tue May 24 00:37:16 +0000 2011</td>\n",
       "      <td>https://t.co/jEzmRsFjCi</td>\n",
       "      <td>Bellevue, WA</td>\n",
       "      <td>None</td>\n",
       "      <td>None</td>\n",
       "      <td>25</td>\n",
       "      <td>19</td>\n",
       "      <td>1503</td>\n",
       "      <td>357</td>\n",
       "      <td>http://pbs.twimg.com/profile_images/1009498900...</td>\n",
       "    </tr>\n",
       "    <tr>\n",
       "      <th>20</th>\n",
       "      <td>2.171022e+17</td>\n",
       "      <td>18.299379</td>\n",
       "      <td>4798.084472</td>\n",
       "      <td>0.021705</td>\n",
       "      <td>2042.0</td>\n",
       "      <td>1.062946e-05</td>\n",
       "      <td>0.000000</td>\n",
       "      <td>0.000000</td>\n",
       "      <td>18.299379</td>\n",
       "      <td>0.000000</td>\n",
       "      <td>...</td>\n",
       "      <td>Wed Sep 27 16:10:01 +0000 2017</td>\n",
       "      <td>None</td>\n",
       "      <td>Potomac, MD</td>\n",
       "      <td>None</td>\n",
       "      <td>None</td>\n",
       "      <td>581</td>\n",
       "      <td>500</td>\n",
       "      <td>2042</td>\n",
       "      <td>1707</td>\n",
       "      <td>http://pbs.twimg.com/profile_images/9757638973...</td>\n",
       "    </tr>\n",
       "    <tr>\n",
       "      <th>90</th>\n",
       "      <td>2.972193e+17</td>\n",
       "      <td>33.351559</td>\n",
       "      <td>3864.055697</td>\n",
       "      <td>0.011282</td>\n",
       "      <td>2648.0</td>\n",
       "      <td>4.260591e-06</td>\n",
       "      <td>0.000000</td>\n",
       "      <td>0.000000</td>\n",
       "      <td>33.351559</td>\n",
       "      <td>0.000000</td>\n",
       "      <td>...</td>\n",
       "      <td>Mon Feb 25 16:37:04 +0000 2019</td>\n",
       "      <td>https://t.co/zsB2J0ZCbh</td>\n",
       "      <td>Greenville, NC</td>\n",
       "      <td>None</td>\n",
       "      <td>None</td>\n",
       "      <td>96</td>\n",
       "      <td>36</td>\n",
       "      <td>2649</td>\n",
       "      <td>53</td>\n",
       "      <td>http://pbs.twimg.com/profile_images/1100073648...</td>\n",
       "    </tr>\n",
       "    <tr>\n",
       "      <th>88</th>\n",
       "      <td>2.498022e+17</td>\n",
       "      <td>66.339777</td>\n",
       "      <td>4087.304833</td>\n",
       "      <td>0.076427</td>\n",
       "      <td>3510.0</td>\n",
       "      <td>2.177406e-05</td>\n",
       "      <td>0.000000</td>\n",
       "      <td>0.000000</td>\n",
       "      <td>66.339777</td>\n",
       "      <td>0.000000</td>\n",
       "      <td>...</td>\n",
       "      <td>Sat Sep 28 02:03:15 +0000 2013</td>\n",
       "      <td>https://t.co/PhDX5lvOpO</td>\n",
       "      <td>Charlotte, NC</td>\n",
       "      <td>None</td>\n",
       "      <td>None</td>\n",
       "      <td>2257</td>\n",
       "      <td>661</td>\n",
       "      <td>3502</td>\n",
       "      <td>1588</td>\n",
       "      <td>http://pbs.twimg.com/profile_images/8491116209...</td>\n",
       "    </tr>\n",
       "    <tr>\n",
       "      <th>6</th>\n",
       "      <td>1.587696e+17</td>\n",
       "      <td>8.446589</td>\n",
       "      <td>3636.456237</td>\n",
       "      <td>0.010811</td>\n",
       "      <td>3594.0</td>\n",
       "      <td>3.007976e-06</td>\n",
       "      <td>0.000000</td>\n",
       "      <td>0.000000</td>\n",
       "      <td>8.446589</td>\n",
       "      <td>0.000000</td>\n",
       "      <td>...</td>\n",
       "      <td>Fri Oct 31 20:54:02 +0000 2014</td>\n",
       "      <td>http://t.co/aSMNomDgD5</td>\n",
       "      <td></td>\n",
       "      <td>None</td>\n",
       "      <td>None</td>\n",
       "      <td>6</td>\n",
       "      <td>29</td>\n",
       "      <td>3594</td>\n",
       "      <td>1208</td>\n",
       "      <td>http://pbs.twimg.com/profile_images/5286409565...</td>\n",
       "    </tr>\n",
       "    <tr>\n",
       "      <th>89</th>\n",
       "      <td>1.665195e+17</td>\n",
       "      <td>43.913613</td>\n",
       "      <td>3411.947572</td>\n",
       "      <td>0.064823</td>\n",
       "      <td>4164.0</td>\n",
       "      <td>1.556739e-05</td>\n",
       "      <td>0.000000</td>\n",
       "      <td>0.000000</td>\n",
       "      <td>43.913613</td>\n",
       "      <td>0.000000</td>\n",
       "      <td>...</td>\n",
       "      <td>Mon Feb 28 06:22:24 +0000 2011</td>\n",
       "      <td>https://t.co/KEK1NnKzH2</td>\n",
       "      <td>North Carolina</td>\n",
       "      <td>None</td>\n",
       "      <td>None</td>\n",
       "      <td>2076</td>\n",
       "      <td>614</td>\n",
       "      <td>4161</td>\n",
       "      <td>2442</td>\n",
       "      <td>http://pbs.twimg.com/profile_images/1123970131...</td>\n",
       "    </tr>\n",
       "    <tr>\n",
       "      <th>58</th>\n",
       "      <td>2.289037e+17</td>\n",
       "      <td>55.398811</td>\n",
       "      <td>5353.733432</td>\n",
       "      <td>0.025367</td>\n",
       "      <td>4368.0</td>\n",
       "      <td>5.807477e-06</td>\n",
       "      <td>0.000000</td>\n",
       "      <td>0.000000</td>\n",
       "      <td>55.398811</td>\n",
       "      <td>0.000000</td>\n",
       "      <td>...</td>\n",
       "      <td>Wed Jan 31 19:39:01 +0000 2018</td>\n",
       "      <td>https://t.co/Fk8pD5GEfq</td>\n",
       "      <td>New York</td>\n",
       "      <td>None</td>\n",
       "      <td>None</td>\n",
       "      <td>198</td>\n",
       "      <td>638</td>\n",
       "      <td>4370</td>\n",
       "      <td>1360</td>\n",
       "      <td>http://pbs.twimg.com/profile_images/1115430641...</td>\n",
       "    </tr>\n",
       "    <tr>\n",
       "      <th>41</th>\n",
       "      <td>1.106399e+17</td>\n",
       "      <td>31.995953</td>\n",
       "      <td>4756.178806</td>\n",
       "      <td>0.038597</td>\n",
       "      <td>4842.0</td>\n",
       "      <td>7.971206e-06</td>\n",
       "      <td>12.461305</td>\n",
       "      <td>4.513404</td>\n",
       "      <td>27.482549</td>\n",
       "      <td>7.947901</td>\n",
       "      <td>...</td>\n",
       "      <td>Fri Jun 24 22:41:23 +0000 2011</td>\n",
       "      <td>https://t.co/VTiqEYZfOv</td>\n",
       "      <td>Nebraska</td>\n",
       "      <td>None</td>\n",
       "      <td>None</td>\n",
       "      <td>1</td>\n",
       "      <td>1642</td>\n",
       "      <td>4845</td>\n",
       "      <td>881</td>\n",
       "      <td>http://pbs.twimg.com/profile_images/8699674109...</td>\n",
       "    </tr>\n",
       "    <tr>\n",
       "      <th>42</th>\n",
       "      <td>1.518709e+17</td>\n",
       "      <td>29.054564</td>\n",
       "      <td>3594.609638</td>\n",
       "      <td>0.035183</td>\n",
       "      <td>4961.0</td>\n",
       "      <td>7.091981e-06</td>\n",
       "      <td>17.368180</td>\n",
       "      <td>5.921724</td>\n",
       "      <td>23.132840</td>\n",
       "      <td>11.446456</td>\n",
       "      <td>...</td>\n",
       "      <td>Wed Oct 23 23:46:10 +0000 2013</td>\n",
       "      <td>https://t.co/92ZKWC62BP</td>\n",
       "      <td>Lincoln, Nebraska</td>\n",
       "      <td>None</td>\n",
       "      <td>None</td>\n",
       "      <td>196</td>\n",
       "      <td>392</td>\n",
       "      <td>4960</td>\n",
       "      <td>929</td>\n",
       "      <td>http://pbs.twimg.com/profile_images/9921438888...</td>\n",
       "    </tr>\n",
       "    <tr>\n",
       "      <th>4</th>\n",
       "      <td>2.922691e+17</td>\n",
       "      <td>786.369571</td>\n",
       "      <td>11245.012553</td>\n",
       "      <td>0.091620</td>\n",
       "      <td>5910.0</td>\n",
       "      <td>1.550261e-05</td>\n",
       "      <td>197.894552</td>\n",
       "      <td>17.255586</td>\n",
       "      <td>769.113984</td>\n",
       "      <td>180.638966</td>\n",
       "      <td>...</td>\n",
       "      <td>Fri May 16 04:06:12 +0000 2014</td>\n",
       "      <td>https://t.co/GczukKeaqg</td>\n",
       "      <td>Connecticut</td>\n",
       "      <td>None</td>\n",
       "      <td>None</td>\n",
       "      <td>907</td>\n",
       "      <td>5007</td>\n",
       "      <td>5910</td>\n",
       "      <td>1039</td>\n",
       "      <td>http://pbs.twimg.com/profile_images/7300277939...</td>\n",
       "    </tr>\n",
       "    <tr>\n",
       "      <th>73</th>\n",
       "      <td>1.726974e+16</td>\n",
       "      <td>597.291782</td>\n",
       "      <td>10636.238847</td>\n",
       "      <td>0.132538</td>\n",
       "      <td>6182.0</td>\n",
       "      <td>2.143941e-05</td>\n",
       "      <td>0.000000</td>\n",
       "      <td>0.000000</td>\n",
       "      <td>597.291782</td>\n",
       "      <td>0.000000</td>\n",
       "      <td>...</td>\n",
       "      <td>Tue May 01 06:40:57 +0000 2012</td>\n",
       "      <td>https://t.co/MKXYpgs0hS</td>\n",
       "      <td>North Ogden, UT</td>\n",
       "      <td>None</td>\n",
       "      <td>None</td>\n",
       "      <td>802</td>\n",
       "      <td>6010</td>\n",
       "      <td>6185</td>\n",
       "      <td>55055</td>\n",
       "      <td>http://pbs.twimg.com/profile_images/9549610427...</td>\n",
       "    </tr>\n",
       "    <tr>\n",
       "      <th>63</th>\n",
       "      <td>2.056118e+17</td>\n",
       "      <td>26.801252</td>\n",
       "      <td>2906.800730</td>\n",
       "      <td>0.026598</td>\n",
       "      <td>7419.0</td>\n",
       "      <td>3.585135e-06</td>\n",
       "      <td>0.000000</td>\n",
       "      <td>0.000000</td>\n",
       "      <td>26.801252</td>\n",
       "      <td>0.000000</td>\n",
       "      <td>...</td>\n",
       "      <td>Wed Dec 02 19:10:41 +0000 2009</td>\n",
       "      <td>https://t.co/uEp6yqPQSu</td>\n",
       "      <td>Pennsylvania</td>\n",
       "      <td>None</td>\n",
       "      <td>None</td>\n",
       "      <td>7</td>\n",
       "      <td>52</td>\n",
       "      <td>7420</td>\n",
       "      <td>1105</td>\n",
       "      <td>http://pbs.twimg.com/profile_images/9374249304...</td>\n",
       "    </tr>\n",
       "    <tr>\n",
       "      <th>...</th>\n",
       "      <td>...</td>\n",
       "      <td>...</td>\n",
       "      <td>...</td>\n",
       "      <td>...</td>\n",
       "      <td>...</td>\n",
       "      <td>...</td>\n",
       "      <td>...</td>\n",
       "      <td>...</td>\n",
       "      <td>...</td>\n",
       "      <td>...</td>\n",
       "      <td>...</td>\n",
       "      <td>...</td>\n",
       "      <td>...</td>\n",
       "      <td>...</td>\n",
       "      <td>...</td>\n",
       "      <td>...</td>\n",
       "      <td>...</td>\n",
       "      <td>...</td>\n",
       "      <td>...</td>\n",
       "      <td>...</td>\n",
       "      <td>...</td>\n",
       "    </tr>\n",
       "    <tr>\n",
       "      <th>2</th>\n",
       "      <td>1.400769e+17</td>\n",
       "      <td>96.615565</td>\n",
       "      <td>3042.423816</td>\n",
       "      <td>0.093651</td>\n",
       "      <td>55973.0</td>\n",
       "      <td>1.673139e-06</td>\n",
       "      <td>229.825363</td>\n",
       "      <td>49.713315</td>\n",
       "      <td>46.902250</td>\n",
       "      <td>180.112049</td>\n",
       "      <td>...</td>\n",
       "      <td>Mon Apr 13 05:37:44 +0000 2009</td>\n",
       "      <td>https://t.co/xsJqrFFPYL</td>\n",
       "      <td>California, USA</td>\n",
       "      <td>None</td>\n",
       "      <td>None</td>\n",
       "      <td>10374</td>\n",
       "      <td>713</td>\n",
       "      <td>55974</td>\n",
       "      <td>8167</td>\n",
       "      <td>http://pbs.twimg.com/profile_images/1005168086...</td>\n",
       "    </tr>\n",
       "    <tr>\n",
       "      <th>93</th>\n",
       "      <td>4.038820e+17</td>\n",
       "      <td>42.829171</td>\n",
       "      <td>1246.727299</td>\n",
       "      <td>0.093987</td>\n",
       "      <td>56261.0</td>\n",
       "      <td>1.670559e-06</td>\n",
       "      <td>0.000000</td>\n",
       "      <td>0.000000</td>\n",
       "      <td>42.829171</td>\n",
       "      <td>0.000000</td>\n",
       "      <td>...</td>\n",
       "      <td>Wed Jul 14 00:32:49 +0000 2010</td>\n",
       "      <td>https://t.co/rMZvU1zOjy</td>\n",
       "      <td>Louisiana, USA</td>\n",
       "      <td>None</td>\n",
       "      <td>None</td>\n",
       "      <td>5248</td>\n",
       "      <td>5868</td>\n",
       "      <td>56257</td>\n",
       "      <td>5552</td>\n",
       "      <td>http://pbs.twimg.com/profile_images/6849483113...</td>\n",
       "    </tr>\n",
       "    <tr>\n",
       "      <th>24</th>\n",
       "      <td>1.660301e+17</td>\n",
       "      <td>131.073710</td>\n",
       "      <td>3787.187469</td>\n",
       "      <td>0.046553</td>\n",
       "      <td>61586.0</td>\n",
       "      <td>7.559065e-07</td>\n",
       "      <td>0.000000</td>\n",
       "      <td>0.000000</td>\n",
       "      <td>131.073710</td>\n",
       "      <td>0.000000</td>\n",
       "      <td>...</td>\n",
       "      <td>Mon Aug 29 11:56:32 +0000 2011</td>\n",
       "      <td>https://t.co/yD9pUW4Nxn</td>\n",
       "      <td>Cambridge, MA</td>\n",
       "      <td>None</td>\n",
       "      <td>None</td>\n",
       "      <td>15983</td>\n",
       "      <td>2283</td>\n",
       "      <td>61577</td>\n",
       "      <td>17289</td>\n",
       "      <td>http://pbs.twimg.com/profile_images/1152766391...</td>\n",
       "    </tr>\n",
       "    <tr>\n",
       "      <th>61</th>\n",
       "      <td>1.325015e+17</td>\n",
       "      <td>88.623119</td>\n",
       "      <td>1641.696339</td>\n",
       "      <td>0.069768</td>\n",
       "      <td>69873.0</td>\n",
       "      <td>9.984949e-07</td>\n",
       "      <td>6.325476</td>\n",
       "      <td>3.072718</td>\n",
       "      <td>85.550401</td>\n",
       "      <td>3.252758</td>\n",
       "      <td>...</td>\n",
       "      <td>Mon Mar 16 21:01:17 +0000 2009</td>\n",
       "      <td>https://t.co/Dq8GTJzC7w</td>\n",
       "      <td>Ohio</td>\n",
       "      <td>None</td>\n",
       "      <td>None</td>\n",
       "      <td>159</td>\n",
       "      <td>5215</td>\n",
       "      <td>69882</td>\n",
       "      <td>6062</td>\n",
       "      <td>http://pbs.twimg.com/profile_images/1007344365...</td>\n",
       "    </tr>\n",
       "    <tr>\n",
       "      <th>37</th>\n",
       "      <td>2.445931e+17</td>\n",
       "      <td>150.510893</td>\n",
       "      <td>1985.153050</td>\n",
       "      <td>0.079528</td>\n",
       "      <td>72122.0</td>\n",
       "      <td>1.102692e-06</td>\n",
       "      <td>68.412309</td>\n",
       "      <td>15.386438</td>\n",
       "      <td>135.124455</td>\n",
       "      <td>53.025871</td>\n",
       "      <td>...</td>\n",
       "      <td>Thu Feb 20 03:13:57 +0000 2014</td>\n",
       "      <td>https://t.co/rJtdXKw4ol</td>\n",
       "      <td>Missouri, USA</td>\n",
       "      <td>None</td>\n",
       "      <td>None</td>\n",
       "      <td>422</td>\n",
       "      <td>1111</td>\n",
       "      <td>72147</td>\n",
       "      <td>2970</td>\n",
       "      <td>http://pbs.twimg.com/profile_images/1097246042...</td>\n",
       "    </tr>\n",
       "    <tr>\n",
       "      <th>91</th>\n",
       "      <td>4.825366e+17</td>\n",
       "      <td>26.925036</td>\n",
       "      <td>788.131114</td>\n",
       "      <td>0.059183</td>\n",
       "      <td>95016.0</td>\n",
       "      <td>6.228769e-07</td>\n",
       "      <td>0.000000</td>\n",
       "      <td>0.000000</td>\n",
       "      <td>26.925036</td>\n",
       "      <td>0.000000</td>\n",
       "      <td>...</td>\n",
       "      <td>Mon Apr 06 17:25:20 +0000 2015</td>\n",
       "      <td>https://t.co/N7GLPP5aTn</td>\n",
       "      <td>Kentucky, USA</td>\n",
       "      <td>None</td>\n",
       "      <td>None</td>\n",
       "      <td>1480</td>\n",
       "      <td>6</td>\n",
       "      <td>95016</td>\n",
       "      <td>7317</td>\n",
       "      <td>http://pbs.twimg.com/profile_images/7761524110...</td>\n",
       "    </tr>\n",
       "    <tr>\n",
       "      <th>8</th>\n",
       "      <td>3.658568e+17</td>\n",
       "      <td>78.369188</td>\n",
       "      <td>1655.739496</td>\n",
       "      <td>0.103462</td>\n",
       "      <td>96467.0</td>\n",
       "      <td>1.072510e-06</td>\n",
       "      <td>0.000000</td>\n",
       "      <td>0.000000</td>\n",
       "      <td>78.369188</td>\n",
       "      <td>0.000000</td>\n",
       "      <td>...</td>\n",
       "      <td>Wed Feb 09 19:46:42 +0000 2011</td>\n",
       "      <td>http://t.co/0KSoFFra6j</td>\n",
       "      <td>Delaware</td>\n",
       "      <td>None</td>\n",
       "      <td>None</td>\n",
       "      <td>1145</td>\n",
       "      <td>1429</td>\n",
       "      <td>96470</td>\n",
       "      <td>8448</td>\n",
       "      <td>http://pbs.twimg.com/profile_images/3788000004...</td>\n",
       "    </tr>\n",
       "    <tr>\n",
       "      <th>83</th>\n",
       "      <td>3.936119e+17</td>\n",
       "      <td>87.453345</td>\n",
       "      <td>1617.445475</td>\n",
       "      <td>0.132091</td>\n",
       "      <td>111625.0</td>\n",
       "      <td>1.183347e-06</td>\n",
       "      <td>10.576728</td>\n",
       "      <td>4.914278</td>\n",
       "      <td>82.539067</td>\n",
       "      <td>5.662451</td>\n",
       "      <td>...</td>\n",
       "      <td>Wed Jan 09 18:29:44 +0000 2013</td>\n",
       "      <td>http://t.co/p7vErFeoRD</td>\n",
       "      <td>Washington, D.C.</td>\n",
       "      <td>None</td>\n",
       "      <td>None</td>\n",
       "      <td>481</td>\n",
       "      <td>2656</td>\n",
       "      <td>111616</td>\n",
       "      <td>13417</td>\n",
       "      <td>http://pbs.twimg.com/profile_images/8884846911...</td>\n",
       "    </tr>\n",
       "    <tr>\n",
       "      <th>15</th>\n",
       "      <td>3.683538e+17</td>\n",
       "      <td>65.536384</td>\n",
       "      <td>1582.378997</td>\n",
       "      <td>0.089397</td>\n",
       "      <td>112201.0</td>\n",
       "      <td>7.967564e-07</td>\n",
       "      <td>12.096472</td>\n",
       "      <td>3.420066</td>\n",
       "      <td>62.116318</td>\n",
       "      <td>8.676406</td>\n",
       "      <td>...</td>\n",
       "      <td>Tue Nov 16 22:24:01 +0000 2010</td>\n",
       "      <td>http://t.co/fSOunnwiXz</td>\n",
       "      <td></td>\n",
       "      <td>None</td>\n",
       "      <td>None</td>\n",
       "      <td>3</td>\n",
       "      <td>215</td>\n",
       "      <td>112204</td>\n",
       "      <td>6141</td>\n",
       "      <td>http://pbs.twimg.com/profile_images/8577075010...</td>\n",
       "    </tr>\n",
       "    <tr>\n",
       "      <th>85</th>\n",
       "      <td>3.428179e+17</td>\n",
       "      <td>89.369518</td>\n",
       "      <td>2229.923660</td>\n",
       "      <td>0.091623</td>\n",
       "      <td>118477.0</td>\n",
       "      <td>7.733439e-07</td>\n",
       "      <td>0.000000</td>\n",
       "      <td>0.000000</td>\n",
       "      <td>89.369518</td>\n",
       "      <td>0.000000</td>\n",
       "      <td>...</td>\n",
       "      <td>Wed Oct 13 14:49:08 +0000 2010</td>\n",
       "      <td>http://t.co/oAKWpUrAWS</td>\n",
       "      <td></td>\n",
       "      <td>None</td>\n",
       "      <td>None</td>\n",
       "      <td>21</td>\n",
       "      <td>518</td>\n",
       "      <td>118471</td>\n",
       "      <td>4362</td>\n",
       "      <td>http://pbs.twimg.com/profile_images/1143907394...</td>\n",
       "    </tr>\n",
       "    <tr>\n",
       "      <th>82</th>\n",
       "      <td>3.903041e+17</td>\n",
       "      <td>66.522683</td>\n",
       "      <td>1342.002505</td>\n",
       "      <td>0.115076</td>\n",
       "      <td>181764.0</td>\n",
       "      <td>6.331088e-07</td>\n",
       "      <td>0.000000</td>\n",
       "      <td>0.000000</td>\n",
       "      <td>66.522683</td>\n",
       "      <td>0.000000</td>\n",
       "      <td>...</td>\n",
       "      <td>Wed Jan 05 14:13:33 +0000 2011</td>\n",
       "      <td>http://t.co/KZ8ptSeHhI</td>\n",
       "      <td>West Virginia, USA</td>\n",
       "      <td>None</td>\n",
       "      <td>None</td>\n",
       "      <td>193</td>\n",
       "      <td>741</td>\n",
       "      <td>181748</td>\n",
       "      <td>6212</td>\n",
       "      <td>http://pbs.twimg.com/profile_images/9077195172...</td>\n",
       "    </tr>\n",
       "    <tr>\n",
       "      <th>56</th>\n",
       "      <td>5.399919e+17</td>\n",
       "      <td>61.662130</td>\n",
       "      <td>1122.761243</td>\n",
       "      <td>0.134637</td>\n",
       "      <td>189854.0</td>\n",
       "      <td>7.091615e-07</td>\n",
       "      <td>0.347337</td>\n",
       "      <td>0.180473</td>\n",
       "      <td>61.481657</td>\n",
       "      <td>0.166864</td>\n",
       "      <td>...</td>\n",
       "      <td>Thu Jan 17 20:24:19 +0000 2013</td>\n",
       "      <td>https://t.co/97adkYcq3x</td>\n",
       "      <td></td>\n",
       "      <td>None</td>\n",
       "      <td>None</td>\n",
       "      <td>682</td>\n",
       "      <td>575</td>\n",
       "      <td>189848</td>\n",
       "      <td>7652</td>\n",
       "      <td>http://pbs.twimg.com/profile_images/1091387172...</td>\n",
       "    </tr>\n",
       "    <tr>\n",
       "      <th>17</th>\n",
       "      <td>4.826690e+17</td>\n",
       "      <td>60.561439</td>\n",
       "      <td>1262.222734</td>\n",
       "      <td>0.121216</td>\n",
       "      <td>207741.0</td>\n",
       "      <td>5.834954e-07</td>\n",
       "      <td>0.000000</td>\n",
       "      <td>0.000000</td>\n",
       "      <td>60.561439</td>\n",
       "      <td>0.000000</td>\n",
       "      <td>...</td>\n",
       "      <td>Mon Jan 07 14:52:27 +0000 2013</td>\n",
       "      <td>http://t.co/i9TZOoGqOm</td>\n",
       "      <td></td>\n",
       "      <td>None</td>\n",
       "      <td>None</td>\n",
       "      <td>140</td>\n",
       "      <td>546</td>\n",
       "      <td>207742</td>\n",
       "      <td>4237</td>\n",
       "      <td>http://pbs.twimg.com/profile_images/3788000004...</td>\n",
       "    </tr>\n",
       "    <tr>\n",
       "      <th>80</th>\n",
       "      <td>5.141688e+17</td>\n",
       "      <td>56.315973</td>\n",
       "      <td>1036.391330</td>\n",
       "      <td>0.125665</td>\n",
       "      <td>230304.0</td>\n",
       "      <td>5.456482e-07</td>\n",
       "      <td>0.521676</td>\n",
       "      <td>0.247600</td>\n",
       "      <td>56.068374</td>\n",
       "      <td>0.274076</td>\n",
       "      <td>...</td>\n",
       "      <td>Thu Feb 25 19:21:52 +0000 2010</td>\n",
       "      <td>https://t.co/5P50HzPLoB</td>\n",
       "      <td>Washington, DC</td>\n",
       "      <td>None</td>\n",
       "      <td>None</td>\n",
       "      <td>838</td>\n",
       "      <td>2207</td>\n",
       "      <td>230312</td>\n",
       "      <td>8428</td>\n",
       "      <td>http://pbs.twimg.com/profile_images/1112707249...</td>\n",
       "    </tr>\n",
       "    <tr>\n",
       "      <th>19</th>\n",
       "      <td>5.013510e+17</td>\n",
       "      <td>77.785798</td>\n",
       "      <td>1261.457627</td>\n",
       "      <td>0.142885</td>\n",
       "      <td>244607.0</td>\n",
       "      <td>5.841428e-07</td>\n",
       "      <td>0.000000</td>\n",
       "      <td>0.000000</td>\n",
       "      <td>77.785798</td>\n",
       "      <td>0.000000</td>\n",
       "      <td>...</td>\n",
       "      <td>Wed Jan 27 22:03:53 +0000 2010</td>\n",
       "      <td>https://t.co/Vn15gdjyCO</td>\n",
       "      <td>Maryland, USA</td>\n",
       "      <td>None</td>\n",
       "      <td>None</td>\n",
       "      <td>1966</td>\n",
       "      <td>2818</td>\n",
       "      <td>244605</td>\n",
       "      <td>10606</td>\n",
       "      <td>http://pbs.twimg.com/profile_images/1138098556...</td>\n",
       "    </tr>\n",
       "    <tr>\n",
       "      <th>55</th>\n",
       "      <td>7.798443e+16</td>\n",
       "      <td>29.892806</td>\n",
       "      <td>1069.067175</td>\n",
       "      <td>0.045021</td>\n",
       "      <td>306370.0</td>\n",
       "      <td>1.469488e-07</td>\n",
       "      <td>0.000000</td>\n",
       "      <td>0.000000</td>\n",
       "      <td>29.892806</td>\n",
       "      <td>0.000000</td>\n",
       "      <td>...</td>\n",
       "      <td>Wed Dec 09 19:25:37 +0000 2009</td>\n",
       "      <td>https://t.co/3M2npiPOo8</td>\n",
       "      <td>New Mexico</td>\n",
       "      <td>None</td>\n",
       "      <td>None</td>\n",
       "      <td>561</td>\n",
       "      <td>3488</td>\n",
       "      <td>306400</td>\n",
       "      <td>5355</td>\n",
       "      <td>http://pbs.twimg.com/profile_images/9210949062...</td>\n",
       "    </tr>\n",
       "    <tr>\n",
       "      <th>66</th>\n",
       "      <td>4.044551e+17</td>\n",
       "      <td>133.519630</td>\n",
       "      <td>1341.832586</td>\n",
       "      <td>0.157056</td>\n",
       "      <td>332432.0</td>\n",
       "      <td>4.724447e-07</td>\n",
       "      <td>0.554122</td>\n",
       "      <td>0.419518</td>\n",
       "      <td>133.100112</td>\n",
       "      <td>0.134605</td>\n",
       "      <td>...</td>\n",
       "      <td>Tue Jan 25 01:52:03 +0000 2011</td>\n",
       "      <td>https://t.co/zi0ijI1KND</td>\n",
       "      <td>Rhode Island</td>\n",
       "      <td>None</td>\n",
       "      <td>None</td>\n",
       "      <td>484</td>\n",
       "      <td>1836</td>\n",
       "      <td>332376</td>\n",
       "      <td>12494</td>\n",
       "      <td>http://pbs.twimg.com/profile_images/1136336143...</td>\n",
       "    </tr>\n",
       "    <tr>\n",
       "      <th>10</th>\n",
       "      <td>5.925941e+17</td>\n",
       "      <td>50.016628</td>\n",
       "      <td>950.569428</td>\n",
       "      <td>0.105760</td>\n",
       "      <td>347085.0</td>\n",
       "      <td>3.047101e-07</td>\n",
       "      <td>0.000000</td>\n",
       "      <td>0.000000</td>\n",
       "      <td>50.016628</td>\n",
       "      <td>0.000000</td>\n",
       "      <td>...</td>\n",
       "      <td>Wed Feb 11 15:44:25 +0000 2009</td>\n",
       "      <td>None</td>\n",
       "      <td>Florida/ Washington, D.C.</td>\n",
       "      <td>None</td>\n",
       "      <td>None</td>\n",
       "      <td>5</td>\n",
       "      <td>100</td>\n",
       "      <td>347089</td>\n",
       "      <td>1568</td>\n",
       "      <td>http://pbs.twimg.com/profile_images/77360086/s...</td>\n",
       "    </tr>\n",
       "    <tr>\n",
       "      <th>12</th>\n",
       "      <td>4.211353e+17</td>\n",
       "      <td>124.792099</td>\n",
       "      <td>1120.286635</td>\n",
       "      <td>0.148083</td>\n",
       "      <td>414931.0</td>\n",
       "      <td>3.568869e-07</td>\n",
       "      <td>0.000000</td>\n",
       "      <td>0.000000</td>\n",
       "      <td>124.792099</td>\n",
       "      <td>0.000000</td>\n",
       "      <td>...</td>\n",
       "      <td>Tue Nov 24 03:10:37 +0000 2009</td>\n",
       "      <td>http://t.co/m4u3CFOBHg</td>\n",
       "      <td>Hawaii</td>\n",
       "      <td>None</td>\n",
       "      <td>None</td>\n",
       "      <td>99</td>\n",
       "      <td>1426</td>\n",
       "      <td>414932</td>\n",
       "      <td>5658</td>\n",
       "      <td>http://pbs.twimg.com/profile_images/1130916929...</td>\n",
       "    </tr>\n",
       "    <tr>\n",
       "      <th>38</th>\n",
       "      <td>4.002536e+17</td>\n",
       "      <td>106.834534</td>\n",
       "      <td>1062.421840</td>\n",
       "      <td>0.150152</td>\n",
       "      <td>453975.0</td>\n",
       "      <td>3.307491e-07</td>\n",
       "      <td>13.271341</td>\n",
       "      <td>6.980044</td>\n",
       "      <td>99.854490</td>\n",
       "      <td>6.291297</td>\n",
       "      <td>...</td>\n",
       "      <td>Sat Sep 06 20:20:45 +0000 2008</td>\n",
       "      <td>https://t.co/95S80NSH57</td>\n",
       "      <td>Missouri</td>\n",
       "      <td>None</td>\n",
       "      <td>None</td>\n",
       "      <td>22</td>\n",
       "      <td>66</td>\n",
       "      <td>453931</td>\n",
       "      <td>5871</td>\n",
       "      <td>http://pbs.twimg.com/profile_images/9141889133...</td>\n",
       "    </tr>\n",
       "    <tr>\n",
       "      <th>30</th>\n",
       "      <td>3.524469e+17</td>\n",
       "      <td>145.137068</td>\n",
       "      <td>1142.066358</td>\n",
       "      <td>0.173939</td>\n",
       "      <td>756751.0</td>\n",
       "      <td>2.298504e-07</td>\n",
       "      <td>0.000000</td>\n",
       "      <td>0.000000</td>\n",
       "      <td>145.137068</td>\n",
       "      <td>0.000000</td>\n",
       "      <td>...</td>\n",
       "      <td>Mon Apr 20 14:59:36 +0000 2009</td>\n",
       "      <td>http://t.co/mGGFBfggto</td>\n",
       "      <td></td>\n",
       "      <td>None</td>\n",
       "      <td>None</td>\n",
       "      <td>2</td>\n",
       "      <td>140138</td>\n",
       "      <td>756616</td>\n",
       "      <td>9628</td>\n",
       "      <td>http://pbs.twimg.com/profile_images/1059812997...</td>\n",
       "    </tr>\n",
       "    <tr>\n",
       "      <th>5</th>\n",
       "      <td>4.175701e+17</td>\n",
       "      <td>133.840555</td>\n",
       "      <td>978.032852</td>\n",
       "      <td>0.175518</td>\n",
       "      <td>791927.0</td>\n",
       "      <td>2.216335e-07</td>\n",
       "      <td>2.388558</td>\n",
       "      <td>0.333333</td>\n",
       "      <td>133.507222</td>\n",
       "      <td>2.055225</td>\n",
       "      <td>...</td>\n",
       "      <td>Mon May 31 01:22:43 +0000 2010</td>\n",
       "      <td>None</td>\n",
       "      <td></td>\n",
       "      <td>None</td>\n",
       "      <td>None</td>\n",
       "      <td>1212</td>\n",
       "      <td>201</td>\n",
       "      <td>791934</td>\n",
       "      <td>19409</td>\n",
       "      <td>http://pbs.twimg.com/profile_images/8710768449...</td>\n",
       "    </tr>\n",
       "    <tr>\n",
       "      <th>78</th>\n",
       "      <td>3.823795e+17</td>\n",
       "      <td>119.633586</td>\n",
       "      <td>2153.624895</td>\n",
       "      <td>0.134402</td>\n",
       "      <td>987620.0</td>\n",
       "      <td>1.360871e-07</td>\n",
       "      <td>6.608635</td>\n",
       "      <td>2.292403</td>\n",
       "      <td>117.341183</td>\n",
       "      <td>4.316232</td>\n",
       "      <td>...</td>\n",
       "      <td>Fri Jul 30 20:00:32 +0000 2010</td>\n",
       "      <td>https://t.co/YNK0Xrmt2G</td>\n",
       "      <td>Richmond, VA</td>\n",
       "      <td>None</td>\n",
       "      <td>None</td>\n",
       "      <td>836</td>\n",
       "      <td>774</td>\n",
       "      <td>987493</td>\n",
       "      <td>10065</td>\n",
       "      <td>http://pbs.twimg.com/profile_images/9224721183...</td>\n",
       "    </tr>\n",
       "    <tr>\n",
       "      <th>69</th>\n",
       "      <td>2.186443e+17</td>\n",
       "      <td>174.912616</td>\n",
       "      <td>1243.312823</td>\n",
       "      <td>0.175792</td>\n",
       "      <td>1284975.0</td>\n",
       "      <td>1.368054e-07</td>\n",
       "      <td>44.583247</td>\n",
       "      <td>13.952430</td>\n",
       "      <td>160.960186</td>\n",
       "      <td>30.630817</td>\n",
       "      <td>...</td>\n",
       "      <td>Wed Jan 09 18:11:37 +0000 2013</td>\n",
       "      <td>https://t.co/9HWCyvsTvJ</td>\n",
       "      <td>Houston, Texas</td>\n",
       "      <td>None</td>\n",
       "      <td>None</td>\n",
       "      <td>408</td>\n",
       "      <td>6955</td>\n",
       "      <td>1284626</td>\n",
       "      <td>11042</td>\n",
       "      <td>http://pbs.twimg.com/profile_images/1100507943...</td>\n",
       "    </tr>\n",
       "    <tr>\n",
       "      <th>3</th>\n",
       "      <td>5.225039e+17</td>\n",
       "      <td>105.889274</td>\n",
       "      <td>754.392599</td>\n",
       "      <td>0.140443</td>\n",
       "      <td>1366304.0</td>\n",
       "      <td>1.027903e-07</td>\n",
       "      <td>17.896791</td>\n",
       "      <td>10.652501</td>\n",
       "      <td>95.236774</td>\n",
       "      <td>7.244290</td>\n",
       "      <td>...</td>\n",
       "      <td>Fri Jan 27 23:06:59 +0000 2012</td>\n",
       "      <td>https://t.co/nLdPE0lrC6</td>\n",
       "      <td>California</td>\n",
       "      <td>None</td>\n",
       "      <td>None</td>\n",
       "      <td>0</td>\n",
       "      <td>225</td>\n",
       "      <td>1366316</td>\n",
       "      <td>9081</td>\n",
       "      <td>http://pbs.twimg.com/profile_images/1138195246...</td>\n",
       "    </tr>\n",
       "    <tr>\n",
       "      <th>59</th>\n",
       "      <td>4.129130e+17</td>\n",
       "      <td>113.971027</td>\n",
       "      <td>808.302391</td>\n",
       "      <td>0.178652</td>\n",
       "      <td>1463237.0</td>\n",
       "      <td>1.220935e-07</td>\n",
       "      <td>0.000000</td>\n",
       "      <td>0.000000</td>\n",
       "      <td>113.971027</td>\n",
       "      <td>0.000000</td>\n",
       "      <td>...</td>\n",
       "      <td>Mon Sep 07 03:53:24 +0000 2009</td>\n",
       "      <td>https://t.co/qccoyKkdDN</td>\n",
       "      <td>New York</td>\n",
       "      <td>None</td>\n",
       "      <td>None</td>\n",
       "      <td>733</td>\n",
       "      <td>1064</td>\n",
       "      <td>1463112</td>\n",
       "      <td>19109</td>\n",
       "      <td>http://pbs.twimg.com/profile_images/1139649498...</td>\n",
       "    </tr>\n",
       "    <tr>\n",
       "      <th>71</th>\n",
       "      <td>1.921010e+17</td>\n",
       "      <td>118.105947</td>\n",
       "      <td>846.133731</td>\n",
       "      <td>0.121272</td>\n",
       "      <td>1571179.0</td>\n",
       "      <td>7.718567e-08</td>\n",
       "      <td>31.553882</td>\n",
       "      <td>13.453908</td>\n",
       "      <td>104.652038</td>\n",
       "      <td>18.099974</td>\n",
       "      <td>...</td>\n",
       "      <td>Tue Jul 26 18:05:52 +0000 2011</td>\n",
       "      <td>https://t.co/W2jeGJ9ErW</td>\n",
       "      <td>El Paso, TX</td>\n",
       "      <td>None</td>\n",
       "      <td>None</td>\n",
       "      <td>3523</td>\n",
       "      <td>815</td>\n",
       "      <td>1570733</td>\n",
       "      <td>7341</td>\n",
       "      <td>http://pbs.twimg.com/profile_images/1018220845...</td>\n",
       "    </tr>\n",
       "    <tr>\n",
       "      <th>75</th>\n",
       "      <td>8.431883e+16</td>\n",
       "      <td>55.844471</td>\n",
       "      <td>652.505468</td>\n",
       "      <td>0.114687</td>\n",
       "      <td>1963534.0</td>\n",
       "      <td>5.840851e-08</td>\n",
       "      <td>2.618712</td>\n",
       "      <td>0.889672</td>\n",
       "      <td>54.954800</td>\n",
       "      <td>1.729040</td>\n",
       "      <td>...</td>\n",
       "      <td>Tue Jun 23 18:24:04 +0000 2009</td>\n",
       "      <td>https://t.co/dgU6xXHgmU</td>\n",
       "      <td>Holladay, UT</td>\n",
       "      <td>None</td>\n",
       "      <td>None</td>\n",
       "      <td>14</td>\n",
       "      <td>305</td>\n",
       "      <td>1963687</td>\n",
       "      <td>1837</td>\n",
       "      <td>http://pbs.twimg.com/profile_images/9644897166...</td>\n",
       "    </tr>\n",
       "    <tr>\n",
       "      <th>26</th>\n",
       "      <td>4.110570e+17</td>\n",
       "      <td>98.175000</td>\n",
       "      <td>602.496111</td>\n",
       "      <td>0.159911</td>\n",
       "      <td>5304955.0</td>\n",
       "      <td>3.014373e-08</td>\n",
       "      <td>0.000000</td>\n",
       "      <td>0.000000</td>\n",
       "      <td>98.175000</td>\n",
       "      <td>0.000000</td>\n",
       "      <td>...</td>\n",
       "      <td>Sun Nov 25 15:14:27 +0000 2012</td>\n",
       "      <td>http://t.co/wsbNrrUt</td>\n",
       "      <td></td>\n",
       "      <td>None</td>\n",
       "      <td>None</td>\n",
       "      <td>10</td>\n",
       "      <td>493</td>\n",
       "      <td>5305029</td>\n",
       "      <td>4605</td>\n",
       "      <td>http://pbs.twimg.com/profile_images/7220441747...</td>\n",
       "    </tr>\n",
       "    <tr>\n",
       "      <th>77</th>\n",
       "      <td>4.364988e+17</td>\n",
       "      <td>46.327901</td>\n",
       "      <td>456.518685</td>\n",
       "      <td>0.106496</td>\n",
       "      <td>9631743.0</td>\n",
       "      <td>1.105678e-08</td>\n",
       "      <td>0.000000</td>\n",
       "      <td>0.000000</td>\n",
       "      <td>46.327901</td>\n",
       "      <td>0.000000</td>\n",
       "      <td>...</td>\n",
       "      <td>Wed Nov 17 17:53:52 +0000 2010</td>\n",
       "      <td>https://t.co/jpg8Sp1GhR</td>\n",
       "      <td>Vermont</td>\n",
       "      <td>None</td>\n",
       "      <td>None</td>\n",
       "      <td>980</td>\n",
       "      <td>1389</td>\n",
       "      <td>9630248</td>\n",
       "      <td>14633</td>\n",
       "      <td>http://pbs.twimg.com/profile_images/1097820307...</td>\n",
       "    </tr>\n",
       "  </tbody>\n",
       "</table>\n",
       "<p>83 rows × 31 columns</p>\n",
       "</div>"
      ],
      "text/plain": [
       "       followers  f_of_f_candidate_followers      n_f_of_f     ratio  \\\n",
       "32  6.393368e+08                    0.000000  10514.500000  0.000000   \n",
       "74  5.127620e+17                    0.400000  16224.600000  0.000061   \n",
       "54  3.327443e+17                    0.000000   6497.823529  0.000000   \n",
       "51  5.072906e+17                    3.407407   1740.925926  0.005505   \n",
       "35  2.069926e+16                   11.555556  61361.765432  0.014571   \n",
       "34  2.639202e+17                   11.738095   4094.565476  0.012997   \n",
       "28  1.963508e+17                   37.492537   5265.489552  0.016774   \n",
       "65  1.025802e+17                   39.810026   5241.601583  0.063831   \n",
       "0   2.983732e+17                   11.769417  15142.101942  0.011844   \n",
       "57  3.175242e+17                   23.600316   8010.620853  0.018951   \n",
       "36  2.045176e+17                    9.795048  16723.678129  0.008733   \n",
       "70  2.184411e+17                    8.086158   2355.731638  0.014965   \n",
       "22  1.110616e+17                   14.760844   8330.949590  0.013286   \n",
       "23  3.000391e+17                   28.947771   2538.870064  0.034299   \n",
       "21  4.605965e+16                   44.000902  39649.816952  0.010275   \n",
       "53  1.474753e+17                   25.745878  14592.576140  0.019079   \n",
       "11  2.648753e+17                   66.546875  11314.535156  0.015217   \n",
       "86  2.389749e+17                   35.431979   4969.734099  0.010951   \n",
       "81  2.628690e+17                   14.018410   4107.888703  0.012461   \n",
       "20  2.171022e+17                   18.299379   4798.084472  0.021705   \n",
       "90  2.972193e+17                   33.351559   3864.055697  0.011282   \n",
       "88  2.498022e+17                   66.339777   4087.304833  0.076427   \n",
       "6   1.587696e+17                    8.446589   3636.456237  0.010811   \n",
       "89  1.665195e+17                   43.913613   3411.947572  0.064823   \n",
       "58  2.289037e+17                   55.398811   5353.733432  0.025367   \n",
       "41  1.106399e+17                   31.995953   4756.178806  0.038597   \n",
       "42  1.518709e+17                   29.054564   3594.609638  0.035183   \n",
       "4   2.922691e+17                  786.369571  11245.012553  0.091620   \n",
       "73  1.726974e+16                  597.291782  10636.238847  0.132538   \n",
       "63  2.056118e+17                   26.801252   2906.800730  0.026598   \n",
       "..           ...                         ...           ...       ...   \n",
       "2   1.400769e+17                   96.615565   3042.423816  0.093651   \n",
       "93  4.038820e+17                   42.829171   1246.727299  0.093987   \n",
       "24  1.660301e+17                  131.073710   3787.187469  0.046553   \n",
       "61  1.325015e+17                   88.623119   1641.696339  0.069768   \n",
       "37  2.445931e+17                  150.510893   1985.153050  0.079528   \n",
       "91  4.825366e+17                   26.925036    788.131114  0.059183   \n",
       "8   3.658568e+17                   78.369188   1655.739496  0.103462   \n",
       "83  3.936119e+17                   87.453345   1617.445475  0.132091   \n",
       "15  3.683538e+17                   65.536384   1582.378997  0.089397   \n",
       "85  3.428179e+17                   89.369518   2229.923660  0.091623   \n",
       "82  3.903041e+17                   66.522683   1342.002505  0.115076   \n",
       "56  5.399919e+17                   61.662130   1122.761243  0.134637   \n",
       "17  4.826690e+17                   60.561439   1262.222734  0.121216   \n",
       "80  5.141688e+17                   56.315973   1036.391330  0.125665   \n",
       "19  5.013510e+17                   77.785798   1261.457627  0.142885   \n",
       "55  7.798443e+16                   29.892806   1069.067175  0.045021   \n",
       "66  4.044551e+17                  133.519630   1341.832586  0.157056   \n",
       "10  5.925941e+17                   50.016628    950.569428  0.105760   \n",
       "12  4.211353e+17                  124.792099   1120.286635  0.148083   \n",
       "38  4.002536e+17                  106.834534   1062.421840  0.150152   \n",
       "30  3.524469e+17                  145.137068   1142.066358  0.173939   \n",
       "5   4.175701e+17                  133.840555    978.032852  0.175518   \n",
       "78  3.823795e+17                  119.633586   2153.624895  0.134402   \n",
       "69  2.186443e+17                  174.912616   1243.312823  0.175792   \n",
       "3   5.225039e+17                  105.889274    754.392599  0.140443   \n",
       "59  4.129130e+17                  113.971027    808.302391  0.178652   \n",
       "71  1.921010e+17                  118.105947    846.133731  0.121272   \n",
       "75  8.431883e+16                   55.844471    652.505468  0.114687   \n",
       "26  4.110570e+17                   98.175000    602.496111  0.159911   \n",
       "77  4.364988e+17                   46.327901    456.518685  0.106496   \n",
       "\n",
       "    n_candidate_followers  ratio_normalized  opponent_followers  \\\n",
       "32                    2.0      0.000000e+00            0.000000   \n",
       "74                   12.0      5.053312e-06            0.000000   \n",
       "54                   24.0      0.000000e+00            0.000000   \n",
       "51                   37.0      1.487851e-04            0.000000   \n",
       "35                   86.0      1.694312e-04            0.000000   \n",
       "34                  206.0      6.309258e-05            0.000000   \n",
       "28                  404.0      4.152087e-05            0.000000   \n",
       "65                  436.0      1.464016e-04          299.073879   \n",
       "0                   517.0      2.290967e-05            0.000000   \n",
       "57                  816.0      2.322407e-05          111.232227   \n",
       "36                  851.0      1.026233e-05            0.000000   \n",
       "70                  873.0      1.714221e-05            0.000000   \n",
       "22                  983.0      1.351617e-05            0.000000   \n",
       "23                 1010.0      3.395892e-05            0.000000   \n",
       "21                 1185.0      8.670689e-06            0.000000   \n",
       "53                 1220.0      1.563893e-05            0.000000   \n",
       "11                 1289.0      1.180504e-05            0.000000   \n",
       "86                 1422.0      7.701374e-06            0.000000   \n",
       "81                 1505.0      8.279446e-06           70.583264   \n",
       "20                 2042.0      1.062946e-05            0.000000   \n",
       "90                 2648.0      4.260591e-06            0.000000   \n",
       "88                 3510.0      2.177406e-05            0.000000   \n",
       "6                  3594.0      3.007976e-06            0.000000   \n",
       "89                 4164.0      1.556739e-05            0.000000   \n",
       "58                 4368.0      5.807477e-06            0.000000   \n",
       "41                 4842.0      7.971206e-06           12.461305   \n",
       "42                 4961.0      7.091981e-06           17.368180   \n",
       "4                  5910.0      1.550261e-05          197.894552   \n",
       "73                 6182.0      2.143941e-05            0.000000   \n",
       "63                 7419.0      3.585135e-06            0.000000   \n",
       "..                    ...               ...                 ...   \n",
       "2                 55973.0      1.673139e-06          229.825363   \n",
       "93                56261.0      1.670559e-06            0.000000   \n",
       "24                61586.0      7.559065e-07            0.000000   \n",
       "61                69873.0      9.984949e-07            6.325476   \n",
       "37                72122.0      1.102692e-06           68.412309   \n",
       "91                95016.0      6.228769e-07            0.000000   \n",
       "8                 96467.0      1.072510e-06            0.000000   \n",
       "83               111625.0      1.183347e-06           10.576728   \n",
       "15               112201.0      7.967564e-07           12.096472   \n",
       "85               118477.0      7.733439e-07            0.000000   \n",
       "82               181764.0      6.331088e-07            0.000000   \n",
       "56               189854.0      7.091615e-07            0.347337   \n",
       "17               207741.0      5.834954e-07            0.000000   \n",
       "80               230304.0      5.456482e-07            0.521676   \n",
       "19               244607.0      5.841428e-07            0.000000   \n",
       "55               306370.0      1.469488e-07            0.000000   \n",
       "66               332432.0      4.724447e-07            0.554122   \n",
       "10               347085.0      3.047101e-07            0.000000   \n",
       "12               414931.0      3.568869e-07            0.000000   \n",
       "38               453975.0      3.307491e-07           13.271341   \n",
       "30               756751.0      2.298504e-07            0.000000   \n",
       "5                791927.0      2.216335e-07            2.388558   \n",
       "78               987620.0      1.360871e-07            6.608635   \n",
       "69              1284975.0      1.368054e-07           44.583247   \n",
       "3               1366304.0      1.027903e-07           17.896791   \n",
       "59              1463237.0      1.220935e-07            0.000000   \n",
       "71              1571179.0      7.718567e-08           31.553882   \n",
       "75              1963534.0      5.840851e-08            2.618712   \n",
       "26              5304955.0      3.014373e-08            0.000000   \n",
       "77              9631743.0      1.105678e-08            0.000000   \n",
       "\n",
       "    candidate_and_opponent_followers  only_candidate  only_opponent  ...  \\\n",
       "32                          0.000000        0.000000       0.000000  ...   \n",
       "74                          0.000000        0.400000       0.000000  ...   \n",
       "54                          0.000000        0.000000       0.000000  ...   \n",
       "51                          0.000000        3.407407       0.000000  ...   \n",
       "35                          0.000000       11.555556       0.000000  ...   \n",
       "34                          0.000000       11.738095       0.000000  ...   \n",
       "28                          0.000000       37.492537       0.000000  ...   \n",
       "65                         28.081794       11.728232     270.992084  ...   \n",
       "0                           0.000000       11.769417       0.000000  ...   \n",
       "57                          6.925750       16.674566     104.306477  ...   \n",
       "36                          0.000000        9.795048       0.000000  ...   \n",
       "70                          0.000000        8.086158       0.000000  ...   \n",
       "22                          0.000000       14.760844       0.000000  ...   \n",
       "23                          0.000000       28.947771       0.000000  ...   \n",
       "21                          0.000000       44.000902       0.000000  ...   \n",
       "53                          0.000000       25.745878       0.000000  ...   \n",
       "11                          0.000000       66.546875       0.000000  ...   \n",
       "86                          0.000000       35.431979       0.000000  ...   \n",
       "81                          3.247699       10.770711      67.335565  ...   \n",
       "20                          0.000000       18.299379       0.000000  ...   \n",
       "90                          0.000000       33.351559       0.000000  ...   \n",
       "88                          0.000000       66.339777       0.000000  ...   \n",
       "6                           0.000000        8.446589       0.000000  ...   \n",
       "89                          0.000000       43.913613       0.000000  ...   \n",
       "58                          0.000000       55.398811       0.000000  ...   \n",
       "41                          4.513404       27.482549       7.947901  ...   \n",
       "42                          5.921724       23.132840      11.446456  ...   \n",
       "4                          17.255586      769.113984     180.638966  ...   \n",
       "73                          0.000000      597.291782       0.000000  ...   \n",
       "63                          0.000000       26.801252       0.000000  ...   \n",
       "..                               ...             ...            ...  ...   \n",
       "2                          49.713315       46.902250     180.112049  ...   \n",
       "93                          0.000000       42.829171       0.000000  ...   \n",
       "24                          0.000000      131.073710       0.000000  ...   \n",
       "61                          3.072718       85.550401       3.252758  ...   \n",
       "37                         15.386438      135.124455      53.025871  ...   \n",
       "91                          0.000000       26.925036       0.000000  ...   \n",
       "8                           0.000000       78.369188       0.000000  ...   \n",
       "83                          4.914278       82.539067       5.662451  ...   \n",
       "15                          3.420066       62.116318       8.676406  ...   \n",
       "85                          0.000000       89.369518       0.000000  ...   \n",
       "82                          0.000000       66.522683       0.000000  ...   \n",
       "56                          0.180473       61.481657       0.166864  ...   \n",
       "17                          0.000000       60.561439       0.000000  ...   \n",
       "80                          0.247600       56.068374       0.274076  ...   \n",
       "19                          0.000000       77.785798       0.000000  ...   \n",
       "55                          0.000000       29.892806       0.000000  ...   \n",
       "66                          0.419518      133.100112       0.134605  ...   \n",
       "10                          0.000000       50.016628       0.000000  ...   \n",
       "12                          0.000000      124.792099       0.000000  ...   \n",
       "38                          6.980044       99.854490       6.291297  ...   \n",
       "30                          0.000000      145.137068       0.000000  ...   \n",
       "5                           0.333333      133.507222       2.055225  ...   \n",
       "78                          2.292403      117.341183       4.316232  ...   \n",
       "69                         13.952430      160.960186      30.630817  ...   \n",
       "3                          10.652501       95.236774       7.244290  ...   \n",
       "59                          0.000000      113.971027       0.000000  ...   \n",
       "71                         13.453908      104.652038      18.099974  ...   \n",
       "75                          0.889672       54.954800       1.729040  ...   \n",
       "26                          0.000000       98.175000       0.000000  ...   \n",
       "77                          0.000000       46.327901       0.000000  ...   \n",
       "\n",
       "                Profile Created At                      URL  \\\n",
       "32  Sun Jun 02 14:42:30 +0000 2013                     None   \n",
       "74  Fri Mar 02 19:00:33 +0000 2018                     None   \n",
       "54  Sun Jan 11 00:44:11 +0000 2015  https://t.co/8qjPiv2NPG   \n",
       "51  Fri Jun 09 17:00:10 +0000 2017                     None   \n",
       "35  Wed Jun 11 02:53:45 +0000 2014                     None   \n",
       "34  Sat Aug 06 17:19:42 +0000 2016  https://t.co/tULcJOQDWF   \n",
       "28  Wed Oct 01 16:43:07 +0000 2014  https://t.co/MGWQ6FKhNJ   \n",
       "65  Tue Aug 26 14:27:37 +0000 2014  https://t.co/VgOSJF9YUu   \n",
       "0   Mon Aug 21 18:20:53 +0000 2017  https://t.co/LUSeUll12Z   \n",
       "57  Tue Jan 19 19:29:41 +0000 2016  https://t.co/Z3g49Hkdjp   \n",
       "36  Fri Feb 06 22:24:50 +0000 2009  https://t.co/iBcvmaFoQ9   \n",
       "70  Wed May 29 01:54:58 +0000 2013  https://t.co/MxeAC3Rah2   \n",
       "22  Thu Apr 29 20:13:25 +0000 2010   http://t.co/nDS7siDrPo   \n",
       "23  Sun Jan 03 00:13:37 +0000 2010  https://t.co/L4LK0vAFsg   \n",
       "21  Mon Apr 06 20:22:09 +0000 2015                     None   \n",
       "53  Tue Jan 26 01:00:41 +0000 2010  https://t.co/YjQoPgZ435   \n",
       "11  Fri May 11 17:53:48 +0000 2018  https://t.co/lQ0iQ4k1vI   \n",
       "86  Mon Nov 27 18:59:48 +0000 2017  https://t.co/FyBNEW5ZRo   \n",
       "81  Tue May 24 00:37:16 +0000 2011  https://t.co/jEzmRsFjCi   \n",
       "20  Wed Sep 27 16:10:01 +0000 2017                     None   \n",
       "90  Mon Feb 25 16:37:04 +0000 2019  https://t.co/zsB2J0ZCbh   \n",
       "88  Sat Sep 28 02:03:15 +0000 2013  https://t.co/PhDX5lvOpO   \n",
       "6   Fri Oct 31 20:54:02 +0000 2014   http://t.co/aSMNomDgD5   \n",
       "89  Mon Feb 28 06:22:24 +0000 2011  https://t.co/KEK1NnKzH2   \n",
       "58  Wed Jan 31 19:39:01 +0000 2018  https://t.co/Fk8pD5GEfq   \n",
       "41  Fri Jun 24 22:41:23 +0000 2011  https://t.co/VTiqEYZfOv   \n",
       "42  Wed Oct 23 23:46:10 +0000 2013  https://t.co/92ZKWC62BP   \n",
       "4   Fri May 16 04:06:12 +0000 2014  https://t.co/GczukKeaqg   \n",
       "73  Tue May 01 06:40:57 +0000 2012  https://t.co/MKXYpgs0hS   \n",
       "63  Wed Dec 02 19:10:41 +0000 2009  https://t.co/uEp6yqPQSu   \n",
       "..                             ...                      ...   \n",
       "2   Mon Apr 13 05:37:44 +0000 2009  https://t.co/xsJqrFFPYL   \n",
       "93  Wed Jul 14 00:32:49 +0000 2010  https://t.co/rMZvU1zOjy   \n",
       "24  Mon Aug 29 11:56:32 +0000 2011  https://t.co/yD9pUW4Nxn   \n",
       "61  Mon Mar 16 21:01:17 +0000 2009  https://t.co/Dq8GTJzC7w   \n",
       "37  Thu Feb 20 03:13:57 +0000 2014  https://t.co/rJtdXKw4ol   \n",
       "91  Mon Apr 06 17:25:20 +0000 2015  https://t.co/N7GLPP5aTn   \n",
       "8   Wed Feb 09 19:46:42 +0000 2011   http://t.co/0KSoFFra6j   \n",
       "83  Wed Jan 09 18:29:44 +0000 2013   http://t.co/p7vErFeoRD   \n",
       "15  Tue Nov 16 22:24:01 +0000 2010   http://t.co/fSOunnwiXz   \n",
       "85  Wed Oct 13 14:49:08 +0000 2010   http://t.co/oAKWpUrAWS   \n",
       "82  Wed Jan 05 14:13:33 +0000 2011   http://t.co/KZ8ptSeHhI   \n",
       "56  Thu Jan 17 20:24:19 +0000 2013  https://t.co/97adkYcq3x   \n",
       "17  Mon Jan 07 14:52:27 +0000 2013   http://t.co/i9TZOoGqOm   \n",
       "80  Thu Feb 25 19:21:52 +0000 2010  https://t.co/5P50HzPLoB   \n",
       "19  Wed Jan 27 22:03:53 +0000 2010  https://t.co/Vn15gdjyCO   \n",
       "55  Wed Dec 09 19:25:37 +0000 2009  https://t.co/3M2npiPOo8   \n",
       "66  Tue Jan 25 01:52:03 +0000 2011  https://t.co/zi0ijI1KND   \n",
       "10  Wed Feb 11 15:44:25 +0000 2009                     None   \n",
       "12  Tue Nov 24 03:10:37 +0000 2009   http://t.co/m4u3CFOBHg   \n",
       "38  Sat Sep 06 20:20:45 +0000 2008  https://t.co/95S80NSH57   \n",
       "30  Mon Apr 20 14:59:36 +0000 2009   http://t.co/mGGFBfggto   \n",
       "5   Mon May 31 01:22:43 +0000 2010                     None   \n",
       "78  Fri Jul 30 20:00:32 +0000 2010  https://t.co/YNK0Xrmt2G   \n",
       "69  Wed Jan 09 18:11:37 +0000 2013  https://t.co/9HWCyvsTvJ   \n",
       "3   Fri Jan 27 23:06:59 +0000 2012  https://t.co/nLdPE0lrC6   \n",
       "59  Mon Sep 07 03:53:24 +0000 2009  https://t.co/qccoyKkdDN   \n",
       "71  Tue Jul 26 18:05:52 +0000 2011  https://t.co/W2jeGJ9ErW   \n",
       "75  Tue Jun 23 18:24:04 +0000 2009  https://t.co/dgU6xXHgmU   \n",
       "26  Sun Nov 25 15:14:27 +0000 2012     http://t.co/wsbNrrUt   \n",
       "77  Wed Nov 17 17:53:52 +0000 2010  https://t.co/jpg8Sp1GhR   \n",
       "\n",
       "                     Location  UTC Offset  Time Zone  Favourites Count  \\\n",
       "32                                   None       None                 0   \n",
       "74                                   None       None                 2   \n",
       "54                Seagirt, NJ        None       None                 2   \n",
       "51                 New Jersey        None       None                91   \n",
       "35              H'burg whudup        None       None                 2   \n",
       "34                                   None       None              2855   \n",
       "28        St Clair Shores, MI        None       None               831   \n",
       "65             Providence, RI        None       None                18   \n",
       "0                 Phoenix, AZ        None       None               139   \n",
       "57            Albuquerque, NM        None       None                 6   \n",
       "36            Springfield, MO        None       None              1331   \n",
       "70                Houston, TX        None       None               204   \n",
       "22               Bethesda, MD        None       None                 2   \n",
       "23                                   None       None                14   \n",
       "21           Maryland, U.S.A.        None       None              2576   \n",
       "53                Ft. Lee, NJ        None       None                82   \n",
       "11                Hawaii, USA        None       None              1549   \n",
       "86               Wyoming, USA        None       None                 7   \n",
       "81               Bellevue, WA        None       None                25   \n",
       "20                Potomac, MD        None       None               581   \n",
       "90             Greenville, NC        None       None                96   \n",
       "88              Charlotte, NC        None       None              2257   \n",
       "6                                    None       None                 6   \n",
       "89             North Carolina        None       None              2076   \n",
       "58                   New York        None       None               198   \n",
       "41                   Nebraska        None       None                 1   \n",
       "42          Lincoln, Nebraska        None       None               196   \n",
       "4                 Connecticut        None       None               907   \n",
       "73            North Ogden, UT        None       None               802   \n",
       "63               Pennsylvania        None       None                 7   \n",
       "..                        ...         ...        ...               ...   \n",
       "2             California, USA        None       None             10374   \n",
       "93             Louisiana, USA        None       None              5248   \n",
       "24              Cambridge, MA        None       None             15983   \n",
       "61                       Ohio        None       None               159   \n",
       "37              Missouri, USA        None       None               422   \n",
       "91              Kentucky, USA        None       None              1480   \n",
       "8                    Delaware        None       None              1145   \n",
       "83           Washington, D.C.        None       None               481   \n",
       "15                                   None       None                 3   \n",
       "85                                   None       None                21   \n",
       "82         West Virginia, USA        None       None               193   \n",
       "56                                   None       None               682   \n",
       "17                                   None       None               140   \n",
       "80             Washington, DC        None       None               838   \n",
       "19              Maryland, USA        None       None              1966   \n",
       "55                 New Mexico        None       None               561   \n",
       "66               Rhode Island        None       None               484   \n",
       "10  Florida/ Washington, D.C.        None       None                 5   \n",
       "12                     Hawaii        None       None                99   \n",
       "38                   Missouri        None       None                22   \n",
       "30                                   None       None                 2   \n",
       "5                                    None       None              1212   \n",
       "78               Richmond, VA        None       None               836   \n",
       "69             Houston, Texas        None       None               408   \n",
       "3                  California        None       None                 0   \n",
       "59                   New York        None       None               733   \n",
       "71                El Paso, TX        None       None              3523   \n",
       "75               Holladay, UT        None       None                14   \n",
       "26                                   None       None                10   \n",
       "77                    Vermont        None       None               980   \n",
       "\n",
       "    Friends Count  Followers Count Statuses Count  \\\n",
       "32              0                2              0   \n",
       "74             41               12             13   \n",
       "54             17               24             96   \n",
       "51             56               37            211   \n",
       "35            560               86            134   \n",
       "34            200              206           1331   \n",
       "28             58              405            484   \n",
       "65            385              437             78   \n",
       "0             153              517            255   \n",
       "57            158              815            547   \n",
       "36           1032              851          12132   \n",
       "70            376              873            534   \n",
       "22           1794              983           1771   \n",
       "23            656             1010            135   \n",
       "21           1252             1185          21025   \n",
       "53           1980             1220           1565   \n",
       "11            638             1289            289   \n",
       "86            412             1422            226   \n",
       "81             19             1503            357   \n",
       "20            500             2042           1707   \n",
       "90             36             2649             53   \n",
       "88            661             3502           1588   \n",
       "6              29             3594           1208   \n",
       "89            614             4161           2442   \n",
       "58            638             4370           1360   \n",
       "41           1642             4845            881   \n",
       "42            392             4960            929   \n",
       "4            5007             5910           1039   \n",
       "73           6010             6185          55055   \n",
       "63             52             7420           1105   \n",
       "..            ...              ...            ...   \n",
       "2             713            55974           8167   \n",
       "93           5868            56257           5552   \n",
       "24           2283            61577          17289   \n",
       "61           5215            69882           6062   \n",
       "37           1111            72147           2970   \n",
       "91              6            95016           7317   \n",
       "8            1429            96470           8448   \n",
       "83           2656           111616          13417   \n",
       "15            215           112204           6141   \n",
       "85            518           118471           4362   \n",
       "82            741           181748           6212   \n",
       "56            575           189848           7652   \n",
       "17            546           207742           4237   \n",
       "80           2207           230312           8428   \n",
       "19           2818           244605          10606   \n",
       "55           3488           306400           5355   \n",
       "66           1836           332376          12494   \n",
       "10            100           347089           1568   \n",
       "12           1426           414932           5658   \n",
       "38             66           453931           5871   \n",
       "30         140138           756616           9628   \n",
       "5             201           791934          19409   \n",
       "78            774           987493          10065   \n",
       "69           6955          1284626          11042   \n",
       "3             225          1366316           9081   \n",
       "59           1064          1463112          19109   \n",
       "71            815          1570733           7341   \n",
       "75            305          1963687           1837   \n",
       "26            493          5305029           4605   \n",
       "77           1389          9630248          14633   \n",
       "\n",
       "                                    Profile Image URL  \n",
       "32  http://abs.twimg.com/sticky/default_profile_im...  \n",
       "74  http://pbs.twimg.com/profile_images/9722347569...  \n",
       "54  http://pbs.twimg.com/profile_images/7239159756...  \n",
       "51  http://pbs.twimg.com/profile_images/9584283490...  \n",
       "35  http://pbs.twimg.com/profile_images/4765601471...  \n",
       "34  http://pbs.twimg.com/profile_images/1004765350...  \n",
       "28  http://pbs.twimg.com/profile_images/7663767444...  \n",
       "65  http://pbs.twimg.com/profile_images/9548651169...  \n",
       "0   http://pbs.twimg.com/profile_images/9526583387...  \n",
       "57  http://pbs.twimg.com/profile_images/1034834484...  \n",
       "36  http://pbs.twimg.com/profile_images/3788000004...  \n",
       "70  http://pbs.twimg.com/profile_images/9933336740...  \n",
       "22  http://pbs.twimg.com/profile_images/860753740/...  \n",
       "23  http://pbs.twimg.com/profile_images/1060052773...  \n",
       "21  http://pbs.twimg.com/profile_images/5875913376...  \n",
       "53  http://pbs.twimg.com/profile_images/9667376112...  \n",
       "11  http://pbs.twimg.com/profile_images/1005985837...  \n",
       "86  http://pbs.twimg.com/profile_images/9392187717...  \n",
       "81  http://pbs.twimg.com/profile_images/1009498900...  \n",
       "20  http://pbs.twimg.com/profile_images/9757638973...  \n",
       "90  http://pbs.twimg.com/profile_images/1100073648...  \n",
       "88  http://pbs.twimg.com/profile_images/8491116209...  \n",
       "6   http://pbs.twimg.com/profile_images/5286409565...  \n",
       "89  http://pbs.twimg.com/profile_images/1123970131...  \n",
       "58  http://pbs.twimg.com/profile_images/1115430641...  \n",
       "41  http://pbs.twimg.com/profile_images/8699674109...  \n",
       "42  http://pbs.twimg.com/profile_images/9921438888...  \n",
       "4   http://pbs.twimg.com/profile_images/7300277939...  \n",
       "73  http://pbs.twimg.com/profile_images/9549610427...  \n",
       "63  http://pbs.twimg.com/profile_images/9374249304...  \n",
       "..                                                ...  \n",
       "2   http://pbs.twimg.com/profile_images/1005168086...  \n",
       "93  http://pbs.twimg.com/profile_images/6849483113...  \n",
       "24  http://pbs.twimg.com/profile_images/1152766391...  \n",
       "61  http://pbs.twimg.com/profile_images/1007344365...  \n",
       "37  http://pbs.twimg.com/profile_images/1097246042...  \n",
       "91  http://pbs.twimg.com/profile_images/7761524110...  \n",
       "8   http://pbs.twimg.com/profile_images/3788000004...  \n",
       "83  http://pbs.twimg.com/profile_images/8884846911...  \n",
       "15  http://pbs.twimg.com/profile_images/8577075010...  \n",
       "85  http://pbs.twimg.com/profile_images/1143907394...  \n",
       "82  http://pbs.twimg.com/profile_images/9077195172...  \n",
       "56  http://pbs.twimg.com/profile_images/1091387172...  \n",
       "17  http://pbs.twimg.com/profile_images/3788000004...  \n",
       "80  http://pbs.twimg.com/profile_images/1112707249...  \n",
       "19  http://pbs.twimg.com/profile_images/1138098556...  \n",
       "55  http://pbs.twimg.com/profile_images/9210949062...  \n",
       "66  http://pbs.twimg.com/profile_images/1136336143...  \n",
       "10  http://pbs.twimg.com/profile_images/77360086/s...  \n",
       "12  http://pbs.twimg.com/profile_images/1130916929...  \n",
       "38  http://pbs.twimg.com/profile_images/9141889133...  \n",
       "30  http://pbs.twimg.com/profile_images/1059812997...  \n",
       "5   http://pbs.twimg.com/profile_images/8710768449...  \n",
       "78  http://pbs.twimg.com/profile_images/9224721183...  \n",
       "69  http://pbs.twimg.com/profile_images/1100507943...  \n",
       "3   http://pbs.twimg.com/profile_images/1138195246...  \n",
       "59  http://pbs.twimg.com/profile_images/1139649498...  \n",
       "71  http://pbs.twimg.com/profile_images/1018220845...  \n",
       "75  http://pbs.twimg.com/profile_images/9644897166...  \n",
       "26  http://pbs.twimg.com/profile_images/7220441747...  \n",
       "77  http://pbs.twimg.com/profile_images/1097820307...  \n",
       "\n",
       "[83 rows x 31 columns]"
      ]
     },
     "execution_count": 22,
     "metadata": {},
     "output_type": "execute_result"
    }
   ],
   "source": [
    "candidate_echo.sort_values('n_candidate_followers')"
   ]
  },
  {
   "cell_type": "code",
   "execution_count": null,
   "metadata": {},
   "outputs": [],
   "source": []
  },
  {
   "cell_type": "code",
   "execution_count": null,
   "metadata": {},
   "outputs": [],
   "source": []
  },
  {
   "cell_type": "code",
   "execution_count": 19,
   "metadata": {},
   "outputs": [],
   "source": [
    "candidate_echo = pd.merge(candidate_echo, candidate_info, left_index = True, right_on='UserID')"
   ]
  },
  {
   "cell_type": "code",
   "execution_count": 67,
   "metadata": {},
   "outputs": [
    {
     "data": {
      "text/html": [
       "<div>\n",
       "<style scoped>\n",
       "    .dataframe tbody tr th:only-of-type {\n",
       "        vertical-align: middle;\n",
       "    }\n",
       "\n",
       "    .dataframe tbody tr th {\n",
       "        vertical-align: top;\n",
       "    }\n",
       "\n",
       "    .dataframe thead th {\n",
       "        text-align: right;\n",
       "    }\n",
       "</style>\n",
       "<table border=\"1\" class=\"dataframe\">\n",
       "  <thead>\n",
       "    <tr style=\"text-align: right;\">\n",
       "      <th></th>\n",
       "      <th>followers</th>\n",
       "      <th>f_of_f_candidate_followers</th>\n",
       "      <th>n_f_of_f</th>\n",
       "      <th>ratio</th>\n",
       "      <th>n_candidate_followers</th>\n",
       "      <th>ratio_normalized</th>\n",
       "      <th>opponent_followers</th>\n",
       "      <th>candidate_and_opponent_followers</th>\n",
       "      <th>only_candidate</th>\n",
       "      <th>only_opponent</th>\n",
       "      <th>...</th>\n",
       "      <th>Profile Created At</th>\n",
       "      <th>URL</th>\n",
       "      <th>Location</th>\n",
       "      <th>UTC Offset</th>\n",
       "      <th>Time Zone</th>\n",
       "      <th>Favourites Count</th>\n",
       "      <th>Friends Count</th>\n",
       "      <th>Followers Count</th>\n",
       "      <th>Statuses Count</th>\n",
       "      <th>Profile Image URL</th>\n",
       "    </tr>\n",
       "  </thead>\n",
       "  <tbody>\n",
       "    <tr>\n",
       "      <th>77</th>\n",
       "      <td>4.364988e+17</td>\n",
       "      <td>46.327901</td>\n",
       "      <td>456.518685</td>\n",
       "      <td>0.106496</td>\n",
       "      <td>9631743.0</td>\n",
       "      <td>1.105678e-08</td>\n",
       "      <td>0.000000</td>\n",
       "      <td>0.000000</td>\n",
       "      <td>46.327901</td>\n",
       "      <td>0.000000</td>\n",
       "      <td>...</td>\n",
       "      <td>Wed Nov 17 17:53:52 +0000 2010</td>\n",
       "      <td>https://t.co/jpg8Sp1GhR</td>\n",
       "      <td>Vermont</td>\n",
       "      <td>None</td>\n",
       "      <td>None</td>\n",
       "      <td>980</td>\n",
       "      <td>1389</td>\n",
       "      <td>9630248</td>\n",
       "      <td>14633</td>\n",
       "      <td>http://pbs.twimg.com/profile_images/1097820307...</td>\n",
       "    </tr>\n",
       "    <tr>\n",
       "      <th>26</th>\n",
       "      <td>4.110570e+17</td>\n",
       "      <td>98.175000</td>\n",
       "      <td>602.496111</td>\n",
       "      <td>0.159911</td>\n",
       "      <td>5304955.0</td>\n",
       "      <td>3.014373e-08</td>\n",
       "      <td>0.000000</td>\n",
       "      <td>0.000000</td>\n",
       "      <td>98.175000</td>\n",
       "      <td>0.000000</td>\n",
       "      <td>...</td>\n",
       "      <td>Sun Nov 25 15:14:27 +0000 2012</td>\n",
       "      <td>http://t.co/wsbNrrUt</td>\n",
       "      <td></td>\n",
       "      <td>None</td>\n",
       "      <td>None</td>\n",
       "      <td>10</td>\n",
       "      <td>493</td>\n",
       "      <td>5305029</td>\n",
       "      <td>4605</td>\n",
       "      <td>http://pbs.twimg.com/profile_images/7220441747...</td>\n",
       "    </tr>\n",
       "    <tr>\n",
       "      <th>75</th>\n",
       "      <td>8.431883e+16</td>\n",
       "      <td>55.844471</td>\n",
       "      <td>652.505468</td>\n",
       "      <td>0.114687</td>\n",
       "      <td>1963534.0</td>\n",
       "      <td>5.840851e-08</td>\n",
       "      <td>2.618712</td>\n",
       "      <td>0.889672</td>\n",
       "      <td>54.954800</td>\n",
       "      <td>1.729040</td>\n",
       "      <td>...</td>\n",
       "      <td>Tue Jun 23 18:24:04 +0000 2009</td>\n",
       "      <td>https://t.co/dgU6xXHgmU</td>\n",
       "      <td>Holladay, UT</td>\n",
       "      <td>None</td>\n",
       "      <td>None</td>\n",
       "      <td>14</td>\n",
       "      <td>305</td>\n",
       "      <td>1963687</td>\n",
       "      <td>1837</td>\n",
       "      <td>http://pbs.twimg.com/profile_images/9644897166...</td>\n",
       "    </tr>\n",
       "    <tr>\n",
       "      <th>71</th>\n",
       "      <td>1.921010e+17</td>\n",
       "      <td>118.105947</td>\n",
       "      <td>846.133731</td>\n",
       "      <td>0.121272</td>\n",
       "      <td>1571179.0</td>\n",
       "      <td>7.718567e-08</td>\n",
       "      <td>31.553882</td>\n",
       "      <td>13.453908</td>\n",
       "      <td>104.652038</td>\n",
       "      <td>18.099974</td>\n",
       "      <td>...</td>\n",
       "      <td>Tue Jul 26 18:05:52 +0000 2011</td>\n",
       "      <td>https://t.co/W2jeGJ9ErW</td>\n",
       "      <td>El Paso, TX</td>\n",
       "      <td>None</td>\n",
       "      <td>None</td>\n",
       "      <td>3523</td>\n",
       "      <td>815</td>\n",
       "      <td>1570733</td>\n",
       "      <td>7341</td>\n",
       "      <td>http://pbs.twimg.com/profile_images/1018220845...</td>\n",
       "    </tr>\n",
       "    <tr>\n",
       "      <th>59</th>\n",
       "      <td>4.129130e+17</td>\n",
       "      <td>113.971027</td>\n",
       "      <td>808.302391</td>\n",
       "      <td>0.178652</td>\n",
       "      <td>1463237.0</td>\n",
       "      <td>1.220935e-07</td>\n",
       "      <td>0.000000</td>\n",
       "      <td>0.000000</td>\n",
       "      <td>113.971027</td>\n",
       "      <td>0.000000</td>\n",
       "      <td>...</td>\n",
       "      <td>Mon Sep 07 03:53:24 +0000 2009</td>\n",
       "      <td>https://t.co/qccoyKkdDN</td>\n",
       "      <td>New York</td>\n",
       "      <td>None</td>\n",
       "      <td>None</td>\n",
       "      <td>733</td>\n",
       "      <td>1064</td>\n",
       "      <td>1463112</td>\n",
       "      <td>19109</td>\n",
       "      <td>http://pbs.twimg.com/profile_images/1139649498...</td>\n",
       "    </tr>\n",
       "  </tbody>\n",
       "</table>\n",
       "<p>5 rows × 31 columns</p>\n",
       "</div>"
      ],
      "text/plain": [
       "       followers  f_of_f_candidate_followers    n_f_of_f     ratio  \\\n",
       "77  4.364988e+17                   46.327901  456.518685  0.106496   \n",
       "26  4.110570e+17                   98.175000  602.496111  0.159911   \n",
       "75  8.431883e+16                   55.844471  652.505468  0.114687   \n",
       "71  1.921010e+17                  118.105947  846.133731  0.121272   \n",
       "59  4.129130e+17                  113.971027  808.302391  0.178652   \n",
       "\n",
       "    n_candidate_followers  ratio_normalized  opponent_followers  \\\n",
       "77              9631743.0      1.105678e-08            0.000000   \n",
       "26              5304955.0      3.014373e-08            0.000000   \n",
       "75              1963534.0      5.840851e-08            2.618712   \n",
       "71              1571179.0      7.718567e-08           31.553882   \n",
       "59              1463237.0      1.220935e-07            0.000000   \n",
       "\n",
       "    candidate_and_opponent_followers  only_candidate  only_opponent  ...  \\\n",
       "77                          0.000000       46.327901       0.000000  ...   \n",
       "26                          0.000000       98.175000       0.000000  ...   \n",
       "75                          0.889672       54.954800       1.729040  ...   \n",
       "71                         13.453908      104.652038      18.099974  ...   \n",
       "59                          0.000000      113.971027       0.000000  ...   \n",
       "\n",
       "                Profile Created At                      URL      Location  \\\n",
       "77  Wed Nov 17 17:53:52 +0000 2010  https://t.co/jpg8Sp1GhR       Vermont   \n",
       "26  Sun Nov 25 15:14:27 +0000 2012     http://t.co/wsbNrrUt                 \n",
       "75  Tue Jun 23 18:24:04 +0000 2009  https://t.co/dgU6xXHgmU  Holladay, UT   \n",
       "71  Tue Jul 26 18:05:52 +0000 2011  https://t.co/W2jeGJ9ErW   El Paso, TX   \n",
       "59  Mon Sep 07 03:53:24 +0000 2009  https://t.co/qccoyKkdDN      New York   \n",
       "\n",
       "    UTC Offset  Time Zone  Favourites Count  Friends Count  Followers Count  \\\n",
       "77        None       None               980           1389          9630248   \n",
       "26        None       None                10            493          5305029   \n",
       "75        None       None                14            305          1963687   \n",
       "71        None       None              3523            815          1570733   \n",
       "59        None       None               733           1064          1463112   \n",
       "\n",
       "   Statuses Count                                  Profile Image URL  \n",
       "77          14633  http://pbs.twimg.com/profile_images/1097820307...  \n",
       "26           4605  http://pbs.twimg.com/profile_images/7220441747...  \n",
       "75           1837  http://pbs.twimg.com/profile_images/9644897166...  \n",
       "71           7341  http://pbs.twimg.com/profile_images/1018220845...  \n",
       "59          19109  http://pbs.twimg.com/profile_images/1139649498...  \n",
       "\n",
       "[5 rows x 31 columns]"
      ]
     },
     "execution_count": 67,
     "metadata": {},
     "output_type": "execute_result"
    }
   ],
   "source": [
    "candidate_echo.nlargest(20, 'n_candidate_followers').head()"
   ]
  },
  {
   "cell_type": "code",
   "execution_count": 68,
   "metadata": {},
   "outputs": [],
   "source": [
    "most_echod_candidate = candidate_echo.nlargest(20, 'ratio_normalized').sort_values('ratio_normalized', ascending=True)"
   ]
  },
  {
   "cell_type": "code",
   "execution_count": 69,
   "metadata": {},
   "outputs": [
    {
     "data": {
      "image/png": "[encoded data removed]",
      "text/plain": [
       "<Figure size 432x288 with 1 Axes>"
      ]
     },
     "metadata": {
      "needs_background": "light"
     },
     "output_type": "display_data"
    }
   ],
   "source": [
    "plt.barh(most_echod_candidate['Real Name'], most_echod_candidate.ratio_normalized)\n",
    "plt.title('Most Echo Chambered Candidates')\n",
    "plt.show()"
   ]
  },
  {
   "cell_type": "code",
   "execution_count": 70,
   "metadata": {},
   "outputs": [
    {
     "data": {
      "image/png": "[encoded data removed]",
      "text/plain": [
       "<Figure size 432x288 with 1 Axes>"
      ]
     },
     "metadata": {
      "needs_background": "light"
     },
     "output_type": "display_data"
    }
   ],
   "source": [
    "least_echod_candidate = candidate_echo.nsmallest(20, 'ratio_normalized').sort_values('ratio_normalized', ascending=False)\n",
    "\n",
    "plt.barh(least_echod_candidate['Real Name'], least_echod_candidate.ratio_normalized)\n",
    "plt.title('Least Echo Chambered Candidates')\n",
    "plt.show()"
   ]
  },
  {
   "cell_type": "code",
   "execution_count": 71,
   "metadata": {},
   "outputs": [
    {
     "data": {
      "text/html": [
       "<div>\n",
       "<style scoped>\n",
       "    .dataframe tbody tr th:only-of-type {\n",
       "        vertical-align: middle;\n",
       "    }\n",
       "\n",
       "    .dataframe tbody tr th {\n",
       "        vertical-align: top;\n",
       "    }\n",
       "\n",
       "    .dataframe thead th {\n",
       "        text-align: right;\n",
       "    }\n",
       "</style>\n",
       "<table border=\"1\" class=\"dataframe\">\n",
       "  <thead>\n",
       "    <tr style=\"text-align: right;\">\n",
       "      <th></th>\n",
       "      <th>followers</th>\n",
       "      <th>f_of_f_candidate_followers</th>\n",
       "      <th>n_f_of_f</th>\n",
       "      <th>ratio</th>\n",
       "      <th>n_candidate_followers</th>\n",
       "      <th>ratio_normalized</th>\n",
       "      <th>opponent_followers</th>\n",
       "      <th>candidate_and_opponent_followers</th>\n",
       "      <th>only_candidate</th>\n",
       "      <th>only_opponent</th>\n",
       "      <th>...</th>\n",
       "      <th>Profile Created At</th>\n",
       "      <th>URL</th>\n",
       "      <th>Location</th>\n",
       "      <th>UTC Offset</th>\n",
       "      <th>Time Zone</th>\n",
       "      <th>Favourites Count</th>\n",
       "      <th>Friends Count</th>\n",
       "      <th>Followers Count</th>\n",
       "      <th>Statuses Count</th>\n",
       "      <th>Profile Image URL</th>\n",
       "    </tr>\n",
       "  </thead>\n",
       "  <tbody>\n",
       "    <tr>\n",
       "      <th>35</th>\n",
       "      <td>2.069926e+16</td>\n",
       "      <td>11.555556</td>\n",
       "      <td>61361.765432</td>\n",
       "      <td>0.014571</td>\n",
       "      <td>86.0</td>\n",
       "      <td>0.000169</td>\n",
       "      <td>0.0</td>\n",
       "      <td>0.0</td>\n",
       "      <td>11.555556</td>\n",
       "      <td>0.0</td>\n",
       "      <td>...</td>\n",
       "      <td>Wed Jun 11 02:53:45 +0000 2014</td>\n",
       "      <td>None</td>\n",
       "      <td>H'burg whudup</td>\n",
       "      <td>None</td>\n",
       "      <td>None</td>\n",
       "      <td>2</td>\n",
       "      <td>560</td>\n",
       "      <td>86</td>\n",
       "      <td>134</td>\n",
       "      <td>http://pbs.twimg.com/profile_images/4765601471...</td>\n",
       "    </tr>\n",
       "  </tbody>\n",
       "</table>\n",
       "<p>1 rows × 31 columns</p>\n",
       "</div>"
      ],
      "text/plain": [
       "       followers  f_of_f_candidate_followers      n_f_of_f     ratio  \\\n",
       "35  2.069926e+16                   11.555556  61361.765432  0.014571   \n",
       "\n",
       "    n_candidate_followers  ratio_normalized  opponent_followers  \\\n",
       "35                   86.0          0.000169                 0.0   \n",
       "\n",
       "    candidate_and_opponent_followers  only_candidate  only_opponent  ...  \\\n",
       "35                               0.0       11.555556            0.0  ...   \n",
       "\n",
       "                Profile Created At   URL       Location  UTC Offset  \\\n",
       "35  Wed Jun 11 02:53:45 +0000 2014  None  H'burg whudup        None   \n",
       "\n",
       "    Time Zone  Favourites Count  Friends Count  Followers Count  \\\n",
       "35       None                 2            560               86   \n",
       "\n",
       "   Statuses Count                                  Profile Image URL  \n",
       "35            134  http://pbs.twimg.com/profile_images/4765601471...  \n",
       "\n",
       "[1 rows x 31 columns]"
      ]
     },
     "execution_count": 71,
     "metadata": {},
     "output_type": "execute_result"
    }
   ],
   "source": [
    "candidate_echo[candidate_echo['Real Name'] == \"Shawn O'Hara\"]"
   ]
  },
  {
   "cell_type": "code",
   "execution_count": 72,
   "metadata": {},
   "outputs": [],
   "source": [
    "raw['only_candidate'] = raw.f_of_f_candidate_followers - raw.candidate_and_opponent_followers\n",
    "raw['only_opponent'] = raw.opponent_followers - raw.candidate_and_opponent_followers\n",
    "\n",
    "raw['ratio_only_candidate'] = raw.only_candidate / raw.n_f_of_f\n",
    "raw['ratio_only_candidate_normalized'] = raw.ratio_only_candidate / raw.n_candidate_followers\n",
    "\n",
    "raw['ratio_candidate_and_opponent'] = raw.candidate_and_opponent_followers / raw.n_f_of_f\n",
    "raw['ratio_only_candidate_normalized'] = raw.ratio_candidate_and_opponent / raw.n_candidate_followers\n",
    "\n",
    "raw['ratio_opponent_over_candidate_followers'] = raw.opponent_followers / raw.n_f_of_f"
   ]
  },
  {
   "cell_type": "code",
   "execution_count": 73,
   "metadata": {},
   "outputs": [
    {
     "data": {
      "image/png": "[encoded data removed]",
      "text/plain": [
       "<Figure size 432x288 with 1 Axes>"
      ]
     },
     "metadata": {
      "needs_background": "light"
     },
     "output_type": "display_data"
    },
    {
     "data": {
      "image/png": "[encoded data removed]",
      "text/plain": [
       "<Figure size 432x288 with 1 Axes>"
      ]
     },
     "metadata": {
      "needs_background": "light"
     },
     "output_type": "display_data"
    }
   ],
   "source": [
    "variable = 'ratio'\n",
    "most_echod_candidate = candidate_echo.nlargest(20, variable).sort_values(variable, ascending=True)\n",
    "plt.barh(most_echod_candidate['Real Name'], most_echod_candidate[variable])\n",
    "plt.title('Most ' + variable)\n",
    "plt.show()\n",
    "\n",
    "least_echod_candidate = candidate_echo.nsmallest(20, variable).sort_values(variable, ascending=False)\n",
    "plt.barh(least_echod_candidate['Real Name'], least_echod_candidate[variable])\n",
    "plt.title('Least '+variable)\n",
    "plt.show()"
   ]
  },
  {
   "cell_type": "code",
   "execution_count": 74,
   "metadata": {},
   "outputs": [
    {
     "data": {
      "image/png": "[encoded data removed]",
      "text/plain": [
       "<Figure size 432x288 with 1 Axes>"
      ]
     },
     "metadata": {
      "needs_background": "light"
     },
     "output_type": "display_data"
    },
    {
     "data": {
      "image/png": "[encoded data removed]",
      "text/plain": [
       "<Figure size 432x288 with 1 Axes>"
      ]
     },
     "metadata": {
      "needs_background": "light"
     },
     "output_type": "display_data"
    }
   ],
   "source": [
    "variable = 'ratio_only_candidate'\n",
    "most_echod_candidate = candidate_echo.nlargest(20, variable).sort_values(variable, ascending=True)\n",
    "plt.barh(most_echod_candidate['Real Name'], most_echod_candidate[variable])\n",
    "plt.title('Most ' + variable)\n",
    "plt.show()\n",
    "\n",
    "least_echod_candidate = candidate_echo.nsmallest(20, variable).sort_values(variable, ascending=False)\n",
    "plt.barh(least_echod_candidate['Real Name'], least_echod_candidate[variable])\n",
    "plt.title('Least '+variable)\n",
    "plt.show()"
   ]
  },
  {
   "cell_type": "code",
   "execution_count": 75,
   "metadata": {},
   "outputs": [
    {
     "data": {
      "image/png": "[encoded data removed]",
      "text/plain": [
       "<Figure size 432x288 with 1 Axes>"
      ]
     },
     "metadata": {
      "needs_background": "light"
     },
     "output_type": "display_data"
    },
    {
     "data": {
      "image/png": "[encoded data removed]",
      "text/plain": [
       "<Figure size 432x288 with 1 Axes>"
      ]
     },
     "metadata": {
      "needs_background": "light"
     },
     "output_type": "display_data"
    }
   ],
   "source": [
    "variable = 'ratio_only_candidate_normalized'\n",
    "most_echod_candidate = candidate_echo.nlargest(20, variable).sort_values(variable, ascending=True)\n",
    "plt.barh(most_echod_candidate['Real Name'], most_echod_candidate[variable])\n",
    "plt.title('Most ' + variable)\n",
    "plt.show()\n",
    "\n",
    "least_echod_candidate = candidate_echo.nsmallest(20, variable).sort_values(variable, ascending=False)\n",
    "plt.barh(least_echod_candidate['Real Name'], least_echod_candidate[variable])\n",
    "plt.title('Least '+variable)\n",
    "plt.show()"
   ]
  },
  {
   "cell_type": "code",
   "execution_count": 76,
   "metadata": {},
   "outputs": [
    {
     "data": {
      "image/png": "[encoded data removed]",
      "text/plain": [
       "<Figure size 432x288 with 1 Axes>"
      ]
     },
     "metadata": {
      "needs_background": "light"
     },
     "output_type": "display_data"
    },
    {
     "data": {
      "image/png": "[encoded data removed]",
      "text/plain": [
       "<Figure size 432x288 with 1 Axes>"
      ]
     },
     "metadata": {
      "needs_background": "light"
     },
     "output_type": "display_data"
    }
   ],
   "source": [
    "variable = 'ratio_candidate_and_opponent'\n",
    "most_echod_candidate = candidate_echo.nlargest(20, variable).sort_values(variable, ascending=True)\n",
    "plt.barh(most_echod_candidate['Real Name'], most_echod_candidate[variable])\n",
    "plt.title('Most ' + variable)\n",
    "plt.show()\n",
    "\n",
    "least_echod_candidate = candidate_echo.nsmallest(20, variable).sort_values(variable, ascending=False)\n",
    "plt.barh(least_echod_candidate['Real Name'], least_echod_candidate[variable])\n",
    "plt.title('Least '+variable)\n",
    "plt.show()"
   ]
  },
  {
   "cell_type": "code",
   "execution_count": 77,
   "metadata": {},
   "outputs": [
    {
     "data": {
      "image/png": "[encoded data removed]",
      "text/plain": [
       "<Figure size 432x288 with 1 Axes>"
      ]
     },
     "metadata": {
      "needs_background": "light"
     },
     "output_type": "display_data"
    },
    {
     "data": {
      "image/png": "[encoded data removed]",
      "text/plain": [
       "<Figure size 432x288 with 1 Axes>"
      ]
     },
     "metadata": {
      "needs_background": "light"
     },
     "output_type": "display_data"
    }
   ],
   "source": [
    "variable = 'ratio_candidate_and_opponent_normalized'\n",
    "most_echod_candidate = candidate_echo.nlargest(20, variable).sort_values(variable, ascending=True)\n",
    "plt.barh(most_echod_candidate['Real Name'], most_echod_candidate[variable])\n",
    "plt.title('Most ' + variable)\n",
    "plt.show()\n",
    "\n",
    "least_echod_candidate = candidate_echo.nsmallest(20, variable).sort_values(variable, ascending=False)\n",
    "plt.barh(least_echod_candidate['Real Name'], least_echod_candidate[variable])\n",
    "plt.title('Least '+variable)\n",
    "plt.show()"
   ]
  },
  {
   "cell_type": "code",
   "execution_count": 78,
   "metadata": {},
   "outputs": [
    {
     "data": {
      "image/png": "[encoded data removed]",
      "text/plain": [
       "<Figure size 432x288 with 1 Axes>"
      ]
     },
     "metadata": {
      "needs_background": "light"
     },
     "output_type": "display_data"
    },
    {
     "data": {
      "image/png": "[encoded data removed]",
      "text/plain": [
       "<Figure size 432x288 with 1 Axes>"
      ]
     },
     "metadata": {
      "needs_background": "light"
     },
     "output_type": "display_data"
    }
   ],
   "source": [
    "variable = 'ratio_opponent_over_candidate_followers'\n",
    "most_echod_candidate = candidate_echo.nlargest(20, variable).sort_values(variable, ascending=True)\n",
    "plt.barh(most_echod_candidate['Real Name'], most_echod_candidate[variable])\n",
    "plt.title('Most ' + variable)\n",
    "plt.show()\n",
    "\n",
    "least_echod_candidate = candidate_echo.nsmallest(20, variable).sort_values(variable, ascending=False)\n",
    "plt.barh(least_echod_candidate['Real Name'], least_echod_candidate[variable])\n",
    "plt.title('Least '+variable)\n",
    "plt.show()"
   ]
  },
  {
   "cell_type": "code",
   "execution_count": 80,
   "metadata": {},
   "outputs": [
    {
     "data": {
      "image/png": "[encoded data removed]",
      "text/plain": [
       "<Figure size 432x288 with 1 Axes>"
      ]
     },
     "metadata": {
      "needs_background": "light"
     },
     "output_type": "display_data"
    },
    {
     "data": {
      "image/png": "[encoded data removed]",
      "text/plain": [
       "<Figure size 432x288 with 1 Axes>"
      ]
     },
     "metadata": {
      "needs_background": "light"
     },
     "output_type": "display_data"
    }
   ],
   "source": [
    "variable = 'ratio_only_opponent'\n",
    "most_echod_candidate = candidate_echo.nlargest(20, variable).sort_values(variable, ascending=True)\n",
    "plt.barh(most_echod_candidate['Real Name'], most_echod_candidate[variable])\n",
    "plt.title('Most ' + variable)\n",
    "plt.show()\n",
    "\n",
    "least_echod_candidate = candidate_echo.nsmallest(20, variable).sort_values(variable, ascending=False)\n",
    "plt.barh(least_echod_candidate['Real Name'], least_echod_candidate[variable])\n",
    "plt.title('Least '+variable)\n",
    "plt.show()"
   ]
  },
  {
   "cell_type": "code",
   "execution_count": 81,
   "metadata": {},
   "outputs": [
    {
     "data": {
      "image/png": "[encoded data removed]",
      "text/plain": [
       "<Figure size 432x288 with 1 Axes>"
      ]
     },
     "metadata": {
      "needs_background": "light"
     },
     "output_type": "display_data"
    },
    {
     "data": {
      "image/png": "[encoded data removed]",
      "text/plain": [
       "<Figure size 432x288 with 1 Axes>"
      ]
     },
     "metadata": {
      "needs_background": "light"
     },
     "output_type": "display_data"
    }
   ],
   "source": [
    "variable = 'ratio_only_opponent_normalized'\n",
    "most_echod_candidate = candidate_echo.nlargest(20, variable).sort_values(variable, ascending=True)\n",
    "plt.barh(most_echod_candidate['Real Name'], most_echod_candidate[variable])\n",
    "plt.title('Most ' + variable)\n",
    "plt.show()\n",
    "\n",
    "least_echod_candidate = candidate_echo.nsmallest(20, variable).sort_values(variable, ascending=False)\n",
    "plt.barh(least_echod_candidate['Real Name'], least_echod_candidate[variable])\n",
    "plt.title('Least '+variable)\n",
    "plt.show()"
   ]
  },
  {
   "cell_type": "markdown",
   "metadata": {},
   "source": [
    "# Distribution of Echo Chamberedness for Candidates and Followers "
   ]
  },
  {
   "cell_type": "code",
   "execution_count": 54,
   "metadata": {},
   "outputs": [
    {
     "data": {
      "image/png": "[encoded data removed]",
      "text/plain": [
       "<Figure size 432x288 with 1 Axes>"
      ]
     },
     "metadata": {
      "needs_background": "light"
     },
     "output_type": "display_data"
    }
   ],
   "source": [
    "plt.hist(candidate_echo.ratio_normalized, bins=50)\n",
    "plt.title('Echo Chamberedness of Candidates')\n",
    "plt.show()"
   ]
  },
  {
   "cell_type": "code",
   "execution_count": 55,
   "metadata": {},
   "outputs": [
    {
     "data": {
      "image/png": "[encoded data removed]",
      "text/plain": [
       "<Figure size 432x288 with 1 Axes>"
      ]
     },
     "metadata": {
      "needs_background": "light"
     },
     "output_type": "display_data"
    }
   ],
   "source": [
    "plt.hist(df.ratio_normalized, bins=50)\n",
    "plt.title('Echo Chamberedness of Followers')\n",
    "plt.show()"
   ]
  },
  {
   "cell_type": "code",
   "execution_count": null,
   "metadata": {},
   "outputs": [],
   "source": []
  },
  {
   "cell_type": "markdown",
   "metadata": {},
   "source": [
    "# How many followers do candidates have?"
   ]
  },
  {
   "cell_type": "code",
   "execution_count": 56,
   "metadata": {},
   "outputs": [
    {
     "data": {
      "text/plain": [
       "(array([75.,  5.,  1.,  0.,  0.,  1.,  0.,  0.,  0.,  1.]),\n",
       " array([2.0000000e+00, 9.6317610e+05, 1.9263502e+06, 2.8895243e+06,\n",
       "        3.8526984e+06, 4.8158725e+06, 5.7790466e+06, 6.7422207e+06,\n",
       "        7.7053948e+06, 8.6685689e+06, 9.6317430e+06]),\n",
       " <a list of 10 Patch objects>)"
      ]
     },
     "execution_count": 56,
     "metadata": {},
     "output_type": "execute_result"
    },
    {
     "data": {
      "image/png": "[encoded data removed]",
      "text/plain": [
       "<Figure size 432x288 with 1 Axes>"
      ]
     },
     "metadata": {
      "needs_background": "light"
     },
     "output_type": "display_data"
    }
   ],
   "source": [
    "plt.hist(candidate_echo.n_candidate_followers)"
   ]
  },
  {
   "cell_type": "code",
   "execution_count": null,
   "metadata": {},
   "outputs": [],
   "source": []
  },
  {
   "cell_type": "markdown",
   "metadata": {},
   "source": [
    "# How does number of followers correlate with echo chamberedness?"
   ]
  },
  {
   "cell_type": "code",
   "execution_count": null,
   "metadata": {},
   "outputs": [],
   "source": [
    "#remove small candidates and recompute graphs"
   ]
  },
  {
   "cell_type": "code",
   "execution_count": 57,
   "metadata": {},
   "outputs": [
    {
     "data": {
      "image/png": "[encoded data removed]",
      "text/plain": [
       "<Figure size 432x288 with 1 Axes>"
      ]
     },
     "metadata": {
      "needs_background": "light"
     },
     "output_type": "display_data"
    }
   ],
   "source": [
    "plt.scatter(candidate_echo.n_candidate_followers, candidate_echo.ratio_normalized)\n",
    "plt.title('Number of Followers vs Echo Chamberedness of Candidates')\n",
    "plt.ylim(-0.0001, 0.0003)\n",
    "plt.show()"
   ]
  },
  {
   "cell_type": "code",
   "execution_count": 58,
   "metadata": {},
   "outputs": [
    {
     "data": {
      "image/png": "[encoded data removed]",
      "text/plain": [
       "<Figure size 432x288 with 1 Axes>"
      ]
     },
     "metadata": {
      "needs_background": "light"
     },
     "output_type": "display_data"
    }
   ],
   "source": [
    "plt.scatter(candidate_echo.n_candidate_followers, candidate_echo.ratio)\n",
    "plt.title('Number of Followers vs Echo Chamberedness (Non-Normalized) of Candidates')\n",
    "plt.show()"
   ]
  },
  {
   "cell_type": "code",
   "execution_count": null,
   "metadata": {},
   "outputs": [],
   "source": []
  },
  {
   "cell_type": "code",
   "execution_count": null,
   "metadata": {},
   "outputs": [],
   "source": []
  },
  {
   "cell_type": "code",
   "execution_count": null,
   "metadata": {},
   "outputs": [],
   "source": []
  },
  {
   "cell_type": "code",
   "execution_count": null,
   "metadata": {},
   "outputs": [],
   "source": []
  },
  {
   "cell_type": "code",
   "execution_count": null,
   "metadata": {},
   "outputs": [],
   "source": []
  },
  {
   "cell_type": "markdown",
   "metadata": {},
   "source": [
    "# Do candidates appear twice in dataset?"
   ]
  },
  {
   "cell_type": "code",
   "execution_count": 59,
   "metadata": {},
   "outputs": [
    {
     "data": {
      "text/html": [
       "<div>\n",
       "<style scoped>\n",
       "    .dataframe tbody tr th:only-of-type {\n",
       "        vertical-align: middle;\n",
       "    }\n",
       "\n",
       "    .dataframe tbody tr th {\n",
       "        vertical-align: top;\n",
       "    }\n",
       "\n",
       "    .dataframe thead th {\n",
       "        text-align: right;\n",
       "    }\n",
       "</style>\n",
       "<table border=\"1\" class=\"dataframe\">\n",
       "  <thead>\n",
       "    <tr style=\"text-align: right;\">\n",
       "      <th></th>\n",
       "      <th>followers</th>\n",
       "      <th>f_of_f_candidate_followers</th>\n",
       "      <th>n_f_of_f</th>\n",
       "      <th>ratio</th>\n",
       "      <th>n_candidate_followers</th>\n",
       "      <th>ratio_normalized</th>\n",
       "      <th>opponent_followers</th>\n",
       "      <th>candidate_and_opponent_followers</th>\n",
       "      <th>only_candidate</th>\n",
       "      <th>only_opponent</th>\n",
       "      <th>...</th>\n",
       "      <th>Profile Created At</th>\n",
       "      <th>URL</th>\n",
       "      <th>Location</th>\n",
       "      <th>UTC Offset</th>\n",
       "      <th>Time Zone</th>\n",
       "      <th>Favourites Count</th>\n",
       "      <th>Friends Count</th>\n",
       "      <th>Followers Count</th>\n",
       "      <th>Statuses Count</th>\n",
       "      <th>Profile Image URL</th>\n",
       "    </tr>\n",
       "  </thead>\n",
       "  <tbody>\n",
       "    <tr>\n",
       "      <th>22</th>\n",
       "      <td>1.110616e+17</td>\n",
       "      <td>14.760844</td>\n",
       "      <td>8330.94959</td>\n",
       "      <td>0.013286</td>\n",
       "      <td>983.0</td>\n",
       "      <td>0.000014</td>\n",
       "      <td>14.760844</td>\n",
       "      <td>14.760844</td>\n",
       "      <td>0.0</td>\n",
       "      <td>0.0</td>\n",
       "      <td>...</td>\n",
       "      <td>Thu Apr 29 20:13:25 +0000 2010</td>\n",
       "      <td>http://t.co/nDS7siDrPo</td>\n",
       "      <td>Bethesda, MD</td>\n",
       "      <td>None</td>\n",
       "      <td>None</td>\n",
       "      <td>2</td>\n",
       "      <td>1794</td>\n",
       "      <td>983</td>\n",
       "      <td>1771</td>\n",
       "      <td>http://pbs.twimg.com/profile_images/860753740/...</td>\n",
       "    </tr>\n",
       "  </tbody>\n",
       "</table>\n",
       "<p>1 rows × 27 columns</p>\n",
       "</div>"
      ],
      "text/plain": [
       "       followers  f_of_f_candidate_followers    n_f_of_f     ratio  \\\n",
       "22  1.110616e+17                   14.760844  8330.94959  0.013286   \n",
       "\n",
       "    n_candidate_followers  ratio_normalized  opponent_followers  \\\n",
       "22                  983.0          0.000014           14.760844   \n",
       "\n",
       "    candidate_and_opponent_followers  only_candidate  only_opponent  ...  \\\n",
       "22                         14.760844             0.0            0.0  ...   \n",
       "\n",
       "                Profile Created At                     URL      Location  \\\n",
       "22  Thu Apr 29 20:13:25 +0000 2010  http://t.co/nDS7siDrPo  Bethesda, MD   \n",
       "\n",
       "    UTC Offset Time Zone Favourites Count Friends Count Followers Count  \\\n",
       "22        None      None                2          1794             983   \n",
       "\n",
       "   Statuses Count                                  Profile Image URL  \n",
       "22           1771  http://pbs.twimg.com/profile_images/860753740/...  \n",
       "\n",
       "[1 rows x 27 columns]"
      ]
     },
     "execution_count": 59,
     "metadata": {},
     "output_type": "execute_result"
    }
   ],
   "source": [
    "candidate_echo[candidate_echo['Real Name'].duplicated()]"
   ]
  },
  {
   "cell_type": "code",
   "execution_count": null,
   "metadata": {},
   "outputs": [],
   "source": []
  },
  {
   "cell_type": "code",
   "execution_count": null,
   "metadata": {},
   "outputs": [],
   "source": []
  },
  {
   "cell_type": "code",
   "execution_count": null,
   "metadata": {},
   "outputs": [],
   "source": []
  },
  {
   "cell_type": "code",
   "execution_count": null,
   "metadata": {},
   "outputs": [],
   "source": []
  },
  {
   "cell_type": "markdown",
   "metadata": {},
   "source": [
    "# POLLS"
   ]
  },
  {
   "cell_type": "code",
   "execution_count": 60,
   "metadata": {},
   "outputs": [],
   "source": [
    "#polls = pd.read_csv('../poll_variance/poll_variances_2018.csv')"
   ]
  },
  {
   "cell_type": "code",
   "execution_count": 90,
   "metadata": {},
   "outputs": [],
   "source": [
    "from fuzzywuzzy import fuzz\n",
    "\n",
    "def match_name(name, list_names, min_score=0):\n",
    "    # -1 score incase we don't get any matches\n",
    "    max_score = -1\n",
    "    # Returning empty name for no match as well\n",
    "    max_name = \"\"\n",
    "    # Iternating over all names in the other\n",
    "    for name2 in list_names:\n",
    "        #Finding fuzzy match score\n",
    "        score = fuzz.ratio(name, name2)\n",
    "        # Checking if we are above our threshold and have a better score\n",
    "        if (score > min_score) & (score > max_score):\n",
    "            max_name = name2\n",
    "            max_score = score\n",
    "    return (max_name, max_score)"
   ]
  },
  {
   "cell_type": "code",
   "execution_count": 91,
   "metadata": {
    "collapsed": true
   },
   "outputs": [
    {
     "ename": "NameError",
     "evalue": "name 'polls' is not defined",
     "output_type": "error",
     "traceback": [
      "\u001b[0;31m---------------------------------------------------------------------------\u001b[0m",
      "\u001b[0;31mNameError\u001b[0m                                 Traceback (most recent call last)",
      "\u001b[0;32m<ipython-input-91-ad308fc634de>\u001b[0m in \u001b[0;36m<module>\u001b[0;34m\u001b[0m\n\u001b[1;32m      4\u001b[0m \u001b[0;32mfor\u001b[0m \u001b[0mname\u001b[0m \u001b[0;32min\u001b[0m \u001b[0mcandidate_echo\u001b[0m\u001b[0;34m[\u001b[0m\u001b[0;34m'Real Name'\u001b[0m\u001b[0;34m]\u001b[0m\u001b[0;34m:\u001b[0m\u001b[0;34m\u001b[0m\u001b[0;34m\u001b[0m\u001b[0m\n\u001b[1;32m      5\u001b[0m     \u001b[0;31m# Use our method to find best match, we can set a threshold here\u001b[0m\u001b[0;34m\u001b[0m\u001b[0;34m\u001b[0m\u001b[0;34m\u001b[0m\u001b[0m\n\u001b[0;32m----> 6\u001b[0;31m     \u001b[0mmatch\u001b[0m \u001b[0;34m=\u001b[0m \u001b[0mmatch_name\u001b[0m\u001b[0;34m(\u001b[0m\u001b[0mname\u001b[0m\u001b[0;34m,\u001b[0m \u001b[0mpolls\u001b[0m\u001b[0;34m.\u001b[0m\u001b[0mcandidate_name\u001b[0m\u001b[0;34m)\u001b[0m\u001b[0;34m\u001b[0m\u001b[0;34m\u001b[0m\u001b[0m\n\u001b[0m\u001b[1;32m      7\u001b[0m \u001b[0;34m\u001b[0m\u001b[0m\n\u001b[1;32m      8\u001b[0m     \u001b[0;31m# New dict for storing data\u001b[0m\u001b[0;34m\u001b[0m\u001b[0;34m\u001b[0m\u001b[0;34m\u001b[0m\u001b[0m\n",
      "\u001b[0;31mNameError\u001b[0m: name 'polls' is not defined"
     ]
    }
   ],
   "source": [
    "# List for dicts for easy dataframe creation\n",
    "dict_list = []\n",
    "# iterating over our players without salaries found above\n",
    "for name in candidate_echo['Real Name']:\n",
    "    # Use our method to find best match, we can set a threshold here\n",
    "    match = match_name(name, polls.candidate_name)\n",
    "    \n",
    "    # New dict for storing data\n",
    "    dict_ = {}\n",
    "    dict_.update({\"twitter_name\" : name})\n",
    "    dict_.update({\"poll_name\" : match[0]})\n",
    "    dict_.update({\"score\" : match[1]})\n",
    "    dict_list.append(dict_)\n",
    "    \n",
    "merge_table = pd.DataFrame(dict_list)\n",
    "# Display results\n"
   ]
  },
  {
   "cell_type": "code",
   "execution_count": 64,
   "metadata": {
    "collapsed": true
   },
   "outputs": [
    {
     "ename": "NameError",
     "evalue": "name 'polls' is not defined",
     "output_type": "error",
     "traceback": [
      "\u001b[0;31m---------------------------------------------------------------------------\u001b[0m",
      "\u001b[0;31mNameError\u001b[0m                                 Traceback (most recent call last)",
      "\u001b[0;32m<ipython-input-64-affe11b6a58a>\u001b[0m in \u001b[0;36m<module>\u001b[0;34m\u001b[0m\n\u001b[0;32m----> 1\u001b[0;31m \u001b[0mpolls\u001b[0m \u001b[0;34m=\u001b[0m \u001b[0mpd\u001b[0m\u001b[0;34m.\u001b[0m\u001b[0mmerge\u001b[0m\u001b[0;34m(\u001b[0m\u001b[0mpolls\u001b[0m\u001b[0;34m,\u001b[0m \u001b[0mmerge_table\u001b[0m\u001b[0;34m,\u001b[0m \u001b[0mleft_on\u001b[0m\u001b[0;34m=\u001b[0m\u001b[0;34m'candidate_name'\u001b[0m\u001b[0;34m,\u001b[0m \u001b[0mright_on\u001b[0m\u001b[0;34m=\u001b[0m\u001b[0;34m'poll_name'\u001b[0m\u001b[0;34m)\u001b[0m\u001b[0;34m\u001b[0m\u001b[0;34m\u001b[0m\u001b[0m\n\u001b[0m\u001b[1;32m      2\u001b[0m \u001b[0mpolls\u001b[0m\u001b[0;34m.\u001b[0m\u001b[0mto_csv\u001b[0m\u001b[0;34m(\u001b[0m\u001b[0;34m'polls_twitter_names.csv'\u001b[0m\u001b[0;34m,\u001b[0m \u001b[0mindex\u001b[0m\u001b[0;34m=\u001b[0m\u001b[0;32mFalse\u001b[0m\u001b[0;34m)\u001b[0m\u001b[0;34m\u001b[0m\u001b[0;34m\u001b[0m\u001b[0m\n",
      "\u001b[0;31mNameError\u001b[0m: name 'polls' is not defined"
     ]
    }
   ],
   "source": [
    "polls = pd.merge(polls, merge_table, left_on='candidate_name', right_on='poll_name')\n",
    "polls.to_csv('polls_twitter_names.csv', index=False)"
   ]
  },
  {
   "cell_type": "code",
   "execution_count": 92,
   "metadata": {},
   "outputs": [],
   "source": [
    "polls_new = pd.read_csv('polls_twitter_names_clean.csv')"
   ]
  },
  {
   "cell_type": "code",
   "execution_count": 93,
   "metadata": {},
   "outputs": [],
   "source": [
    "poll_analysis = pd.merge(candidate_echo, polls_new, left_on='Real Name', right_on='twitter_name')"
   ]
  },
  {
   "cell_type": "code",
   "execution_count": null,
   "metadata": {},
   "outputs": [],
   "source": [
    "#show correlation NUMBER!"
   ]
  },
  {
   "cell_type": "code",
   "execution_count": 94,
   "metadata": {},
   "outputs": [
    {
     "data": {
      "image/png": "[encoded data removed]",
      "text/plain": [
       "<Figure size 432x288 with 1 Axes>"
      ]
     },
     "metadata": {
      "needs_background": "light"
     },
     "output_type": "display_data"
    }
   ],
   "source": [
    "plt.scatter(poll_analysis.poll_variance, poll_analysis.ratio_normalized)\n",
    "plt.title('Poll Variance (538 Data) vs Normalized Echo Chamber')\n",
    "plt.ylim(-0.00003,0.00025)\n",
    "plt.show()"
   ]
  },
  {
   "cell_type": "code",
   "execution_count": null,
   "metadata": {},
   "outputs": [],
   "source": [
    "# run correlation"
   ]
  },
  {
   "cell_type": "code",
   "execution_count": 95,
   "metadata": {},
   "outputs": [
    {
     "data": {
      "image/png": "[encoded data removed]",
      "text/plain": [
       "<Figure size 432x288 with 1 Axes>"
      ]
     },
     "metadata": {
      "needs_background": "light"
     },
     "output_type": "display_data"
    }
   ],
   "source": [
    "plt.scatter(poll_analysis.poll_variance, poll_analysis.ratio)\n",
    "plt.title('Poll Variance (538 Data) vs Echo Chamber')\n",
    "plt.show()"
   ]
  },
  {
   "cell_type": "markdown",
   "metadata": {},
   "source": [
    "Maybe I made a mistake, but it seems like they aren't related :("
   ]
  },
  {
   "cell_type": "code",
   "execution_count": 96,
   "metadata": {},
   "outputs": [
    {
     "data": {
      "image/png": "[encoded data removed]",
      "text/plain": [
       "<Figure size 432x288 with 1 Axes>"
      ]
     },
     "metadata": {
      "needs_background": "light"
     },
     "output_type": "display_data"
    }
   ],
   "source": [
    "plt.scatter(poll_analysis.poll_variance, poll_analysis.ratio_only_candidate)\n",
    "plt.title('Poll Variance (538 Data) vs Only Candidate')\n",
    "plt.show()"
   ]
  },
  {
   "cell_type": "code",
   "execution_count": 102,
   "metadata": {},
   "outputs": [
    {
     "data": {
      "image/png": "[encoded data removed]",
      "text/plain": [
       "<Figure size 432x288 with 1 Axes>"
      ]
     },
     "metadata": {
      "needs_background": "light"
     },
     "output_type": "display_data"
    }
   ],
   "source": [
    "plt.scatter(poll_analysis.poll_variance, poll_analysis.ratio_only_candidate_normalized*100000)\n",
    "plt.title('Poll Variance (538 Data) vs Only Candidate Normalized')\n",
    "plt.show()"
   ]
  },
  {
   "cell_type": "code",
   "execution_count": 103,
   "metadata": {},
   "outputs": [
    {
     "data": {
      "image/png": "[encoded data removed]",
      "text/plain": [
       "<Figure size 432x288 with 1 Axes>"
      ]
     },
     "metadata": {
      "needs_background": "light"
     },
     "output_type": "display_data"
    }
   ],
   "source": [
    "plt.scatter(poll_analysis.poll_variance, poll_analysis.ratio_only_opponent)\n",
    "plt.title('Poll Variance (538 Data) vs Only Opponent')\n",
    "plt.show()"
   ]
  },
  {
   "cell_type": "code",
   "execution_count": 105,
   "metadata": {},
   "outputs": [
    {
     "data": {
      "image/png": "[encoded data removed]",
      "text/plain": [
       "<Figure size 432x288 with 1 Axes>"
      ]
     },
     "metadata": {
      "needs_background": "light"
     },
     "output_type": "display_data"
    }
   ],
   "source": [
    "plt.scatter(poll_analysis.poll_variance, poll_analysis.ratio_only_opponent_normalized*10000)\n",
    "plt.title('Poll Variance (538 Data) vs Only Opponent')\n",
    "plt.show()"
   ]
  },
  {
   "cell_type": "code",
   "execution_count": null,
   "metadata": {},
   "outputs": [],
   "source": []
  },
  {
   "cell_type": "code",
   "execution_count": null,
   "metadata": {},
   "outputs": [],
   "source": []
  },
  {
   "cell_type": "markdown",
   "metadata": {},
   "source": [
    "# VOTER TURNOUT "
   ]
  },
  {
   "cell_type": "markdown",
   "metadata": {},
   "source": [
    "figure out the state for each twitter account"
   ]
  },
  {
   "cell_type": "code",
   "execution_count": 106,
   "metadata": {},
   "outputs": [],
   "source": [
    "election_results = pd.read_csv('election_results.csv')"
   ]
  },
  {
   "cell_type": "code",
   "execution_count": 107,
   "metadata": {},
   "outputs": [],
   "source": [
    "dem_candidates = election_results.candidate_18_dem.dropna()\n",
    "rep_candidates = election_results.candidate_18_rep.dropna()"
   ]
  },
  {
   "cell_type": "code",
   "execution_count": 108,
   "metadata": {},
   "outputs": [],
   "source": [
    "#match democrats, then republicans\n",
    "# List for dicts for easy dataframe creation\n",
    "dict_list = []\n",
    "# iterating over our players without salaries found above\n",
    "#for name in rep_candidates:\n",
    "for name in dem_candidates:\n",
    "    # Use our method to find best match, we can set a threshold here\n",
    "    match = match_name(name, candidate_echo['Real Name'])\n",
    "\n",
    "    # New dict for storing data\n",
    "    dict_ = {}\n",
    "    dict_.update({\"twitter_name\" : name})\n",
    "    dict_.update({\"dem_name\" : match[0]})\n",
    "    dict_.update({\"score\" : match[1]})\n",
    "    dict_list.append(dict_)\n",
    "\n",
    "\n",
    "merge_table = pd.DataFrame(dict_list)\n",
    "# Display results\n",
    "#merge_table.to_csv('rep_candidates_fuzzy.csv', index=False)\n",
    "merge_table.to_csv('dem_candidates_fuzzy1.csv', index=False)\n"
   ]
  },
  {
   "cell_type": "code",
   "execution_count": 109,
   "metadata": {},
   "outputs": [],
   "source": [
    "rep_candidates_fuzzy = pd.read_csv('rep_candidates_fuzzy.csv')\n",
    "rep_candidates_fuzzy.columns = ['rep_twitter_name', 'score', 'rep_name']\n",
    "dem_candidates_fuzzy = pd.read_csv('dem_candidates_fuzzy.csv')\n",
    "dem_candidates_fuzzy.columns = ['dem_twitter_name', 'score', 'dem_name']"
   ]
  },
  {
   "cell_type": "code",
   "execution_count": 110,
   "metadata": {},
   "outputs": [],
   "source": [
    "election_results = pd.merge(election_results, rep_candidates_fuzzy, left_on='candidate_18_rep', right_on='rep_name')\n",
    "election_results = pd.merge(election_results, dem_candidates_fuzzy, left_on='candidate_18_dem', right_on='dem_name')"
   ]
  },
  {
   "cell_type": "code",
   "execution_count": 111,
   "metadata": {},
   "outputs": [],
   "source": [
    "state_candidate_twitter = election_results[['state', 'dem_twitter_name', 'rep_twitter_name']]\n",
    "state_candidate_twitter = pd.melt(state_candidate_twitter, id_vars='state', value_vars=['dem_twitter_name', 'rep_twitter_name'] )\n"
   ]
  },
  {
   "cell_type": "code",
   "execution_count": 112,
   "metadata": {},
   "outputs": [],
   "source": [
    "candidate_echo_vt = pd.merge(candidate_echo, state_candidate_twitter, left_on='Real Name', right_on='value')"
   ]
  },
  {
   "cell_type": "code",
   "execution_count": null,
   "metadata": {},
   "outputs": [],
   "source": []
  },
  {
   "cell_type": "markdown",
   "metadata": {},
   "source": [
    "now use voter turnout data "
   ]
  },
  {
   "cell_type": "code",
   "execution_count": 23,
   "metadata": {},
   "outputs": [],
   "source": [
    "voter_turnout = pd.read_csv('voter_turnout.csv')[['State', 'Estimated or Actual 2018 Total Ballots Counted VEP Turnout Rate']]\n",
    "voter_turnout.columns = ['state','voter_turnout']\n"
   ]
  },
  {
   "cell_type": "code",
   "execution_count": null,
   "metadata": {},
   "outputs": [],
   "source": []
  },
  {
   "cell_type": "code",
   "execution_count": 114,
   "metadata": {},
   "outputs": [],
   "source": [
    "voter_turnout['voter_turnout'] = voter_turnout.voter_turnout.apply(lambda x: float(x.strip('%')))"
   ]
  },
  {
   "cell_type": "code",
   "execution_count": 115,
   "metadata": {},
   "outputs": [],
   "source": [
    "candidate_echo_vt = pd.merge(candidate_echo_vt, voter_turnout, on='state')"
   ]
  },
  {
   "cell_type": "code",
   "execution_count": 132,
   "metadata": {},
   "outputs": [],
   "source": [
    "vt_analysis = candidate_echo_vt.groupby('state').agg({'voter_turnout': 'mean', \n",
    "                                                      'ratio_normalized': ['mean', 'min', 'max'], \n",
    "                                                      'ratio': ['mean', 'min', 'max'],\n",
    "                                                      'ratio_only_candidate': ['mean', 'min', 'max'],\n",
    "                                                      'ratio_only_candidate_normalized': ['mean', 'min', 'max'],\n",
    "                                                      'ratio_opponent_over_candidate_followers':['mean', 'min', 'max']})"
   ]
  },
  {
   "cell_type": "code",
   "execution_count": 133,
   "metadata": {},
   "outputs": [],
   "source": [
    "vt_analysis.columns = ['%s%s' % (a, '_%s' % b if b else '') for a, b in vt_analysis.columns]"
   ]
  },
  {
   "cell_type": "code",
   "execution_count": 134,
   "metadata": {},
   "outputs": [
    {
     "data": {
      "text/html": [
       "<div>\n",
       "<style scoped>\n",
       "    .dataframe tbody tr th:only-of-type {\n",
       "        vertical-align: middle;\n",
       "    }\n",
       "\n",
       "    .dataframe tbody tr th {\n",
       "        vertical-align: top;\n",
       "    }\n",
       "\n",
       "    .dataframe thead th {\n",
       "        text-align: right;\n",
       "    }\n",
       "</style>\n",
       "<table border=\"1\" class=\"dataframe\">\n",
       "  <thead>\n",
       "    <tr style=\"text-align: right;\">\n",
       "      <th></th>\n",
       "      <th>voter_turnout_mean</th>\n",
       "      <th>ratio_normalized_mean</th>\n",
       "      <th>ratio_normalized_min</th>\n",
       "      <th>ratio_normalized_max</th>\n",
       "      <th>ratio_mean</th>\n",
       "      <th>ratio_min</th>\n",
       "      <th>ratio_max</th>\n",
       "      <th>ratio_only_candidate_mean</th>\n",
       "      <th>ratio_only_candidate_min</th>\n",
       "      <th>ratio_only_candidate_max</th>\n",
       "      <th>ratio_only_candidate_normalized_mean</th>\n",
       "      <th>ratio_only_candidate_normalized_min</th>\n",
       "      <th>ratio_only_candidate_normalized_max</th>\n",
       "      <th>ratio_opponent_over_candidate_followers_mean</th>\n",
       "      <th>ratio_opponent_over_candidate_followers_min</th>\n",
       "      <th>ratio_opponent_over_candidate_followers_max</th>\n",
       "    </tr>\n",
       "    <tr>\n",
       "      <th>state</th>\n",
       "      <th></th>\n",
       "      <th></th>\n",
       "      <th></th>\n",
       "      <th></th>\n",
       "      <th></th>\n",
       "      <th></th>\n",
       "      <th></th>\n",
       "      <th></th>\n",
       "      <th></th>\n",
       "      <th></th>\n",
       "      <th></th>\n",
       "      <th></th>\n",
       "      <th></th>\n",
       "      <th></th>\n",
       "      <th></th>\n",
       "      <th></th>\n",
       "    </tr>\n",
       "  </thead>\n",
       "  <tbody>\n",
       "    <tr>\n",
       "      <th>California</th>\n",
       "      <td>49.6</td>\n",
       "      <td>8.879648e-07</td>\n",
       "      <td>1.027903e-07</td>\n",
       "      <td>1.673139e-06</td>\n",
       "      <td>0.117047</td>\n",
       "      <td>0.093651</td>\n",
       "      <td>0.140443</td>\n",
       "      <td>0.080390</td>\n",
       "      <td>0.042325</td>\n",
       "      <td>0.118455</td>\n",
       "      <td>4.214293e-07</td>\n",
       "      <td>8.669751e-08</td>\n",
       "      <td>7.561611e-07</td>\n",
       "      <td>0.081618</td>\n",
       "      <td>0.032124</td>\n",
       "      <td>0.131112</td>\n",
       "    </tr>\n",
       "    <tr>\n",
       "      <th>Connecticut</th>\n",
       "      <td>54.4</td>\n",
       "      <td>7.862120e-06</td>\n",
       "      <td>2.216335e-07</td>\n",
       "      <td>1.550261e-05</td>\n",
       "      <td>0.133569</td>\n",
       "      <td>0.091620</td>\n",
       "      <td>0.175518</td>\n",
       "      <td>0.129339</td>\n",
       "      <td>0.084568</td>\n",
       "      <td>0.174110</td>\n",
       "      <td>7.264576e-06</td>\n",
       "      <td>2.198561e-07</td>\n",
       "      <td>1.430930e-05</td>\n",
       "      <td>0.023189</td>\n",
       "      <td>0.002351</td>\n",
       "      <td>0.044028</td>\n",
       "    </tr>\n",
       "    <tr>\n",
       "      <th>Delaware</th>\n",
       "      <td>51.4</td>\n",
       "      <td>1.072510e-06</td>\n",
       "      <td>1.072510e-06</td>\n",
       "      <td>1.072510e-06</td>\n",
       "      <td>0.103462</td>\n",
       "      <td>0.103462</td>\n",
       "      <td>0.103462</td>\n",
       "      <td>0.103462</td>\n",
       "      <td>0.103462</td>\n",
       "      <td>0.103462</td>\n",
       "      <td>1.072510e-06</td>\n",
       "      <td>1.072510e-06</td>\n",
       "      <td>1.072510e-06</td>\n",
       "      <td>0.000000</td>\n",
       "      <td>0.000000</td>\n",
       "      <td>0.000000</td>\n",
       "    </tr>\n",
       "    <tr>\n",
       "      <th>Florida</th>\n",
       "      <td>54.9</td>\n",
       "      <td>3.047101e-07</td>\n",
       "      <td>3.047101e-07</td>\n",
       "      <td>3.047101e-07</td>\n",
       "      <td>0.105760</td>\n",
       "      <td>0.105760</td>\n",
       "      <td>0.105760</td>\n",
       "      <td>0.105760</td>\n",
       "      <td>0.105760</td>\n",
       "      <td>0.105760</td>\n",
       "      <td>3.047101e-07</td>\n",
       "      <td>3.047101e-07</td>\n",
       "      <td>3.047101e-07</td>\n",
       "      <td>0.000000</td>\n",
       "      <td>0.000000</td>\n",
       "      <td>0.000000</td>\n",
       "    </tr>\n",
       "    <tr>\n",
       "      <th>Hawaii</th>\n",
       "      <td>39.3</td>\n",
       "      <td>6.080964e-06</td>\n",
       "      <td>3.568869e-07</td>\n",
       "      <td>1.180504e-05</td>\n",
       "      <td>0.081650</td>\n",
       "      <td>0.015217</td>\n",
       "      <td>0.148083</td>\n",
       "      <td>0.081650</td>\n",
       "      <td>0.015217</td>\n",
       "      <td>0.148083</td>\n",
       "      <td>6.080964e-06</td>\n",
       "      <td>3.568869e-07</td>\n",
       "      <td>1.180504e-05</td>\n",
       "      <td>0.000000</td>\n",
       "      <td>0.000000</td>\n",
       "      <td>0.000000</td>\n",
       "    </tr>\n",
       "  </tbody>\n",
       "</table>\n",
       "</div>"
      ],
      "text/plain": [
       "             voter_turnout_mean  ratio_normalized_mean  ratio_normalized_min  \\\n",
       "state                                                                          \n",
       "California                 49.6           8.879648e-07          1.027903e-07   \n",
       "Connecticut                54.4           7.862120e-06          2.216335e-07   \n",
       "Delaware                   51.4           1.072510e-06          1.072510e-06   \n",
       "Florida                    54.9           3.047101e-07          3.047101e-07   \n",
       "Hawaii                     39.3           6.080964e-06          3.568869e-07   \n",
       "\n",
       "             ratio_normalized_max  ratio_mean  ratio_min  ratio_max  \\\n",
       "state                                                                 \n",
       "California           1.673139e-06    0.117047   0.093651   0.140443   \n",
       "Connecticut          1.550261e-05    0.133569   0.091620   0.175518   \n",
       "Delaware             1.072510e-06    0.103462   0.103462   0.103462   \n",
       "Florida              3.047101e-07    0.105760   0.105760   0.105760   \n",
       "Hawaii               1.180504e-05    0.081650   0.015217   0.148083   \n",
       "\n",
       "             ratio_only_candidate_mean  ratio_only_candidate_min  \\\n",
       "state                                                              \n",
       "California                    0.080390                  0.042325   \n",
       "Connecticut                   0.129339                  0.084568   \n",
       "Delaware                      0.103462                  0.103462   \n",
       "Florida                       0.105760                  0.105760   \n",
       "Hawaii                        0.081650                  0.015217   \n",
       "\n",
       "             ratio_only_candidate_max  ratio_only_candidate_normalized_mean  \\\n",
       "state                                                                         \n",
       "California                   0.118455                          4.214293e-07   \n",
       "Connecticut                  0.174110                          7.264576e-06   \n",
       "Delaware                     0.103462                          1.072510e-06   \n",
       "Florida                      0.105760                          3.047101e-07   \n",
       "Hawaii                       0.148083                          6.080964e-06   \n",
       "\n",
       "             ratio_only_candidate_normalized_min  \\\n",
       "state                                              \n",
       "California                          8.669751e-08   \n",
       "Connecticut                         2.198561e-07   \n",
       "Delaware                            1.072510e-06   \n",
       "Florida                             3.047101e-07   \n",
       "Hawaii                              3.568869e-07   \n",
       "\n",
       "             ratio_only_candidate_normalized_max  \\\n",
       "state                                              \n",
       "California                          7.561611e-07   \n",
       "Connecticut                         1.430930e-05   \n",
       "Delaware                            1.072510e-06   \n",
       "Florida                             3.047101e-07   \n",
       "Hawaii                              1.180504e-05   \n",
       "\n",
       "             ratio_opponent_over_candidate_followers_mean  \\\n",
       "state                                                       \n",
       "California                                       0.081618   \n",
       "Connecticut                                      0.023189   \n",
       "Delaware                                         0.000000   \n",
       "Florida                                          0.000000   \n",
       "Hawaii                                           0.000000   \n",
       "\n",
       "             ratio_opponent_over_candidate_followers_min  \\\n",
       "state                                                      \n",
       "California                                      0.032124   \n",
       "Connecticut                                     0.002351   \n",
       "Delaware                                        0.000000   \n",
       "Florida                                         0.000000   \n",
       "Hawaii                                          0.000000   \n",
       "\n",
       "             ratio_opponent_over_candidate_followers_max  \n",
       "state                                                     \n",
       "California                                      0.131112  \n",
       "Connecticut                                     0.044028  \n",
       "Delaware                                        0.000000  \n",
       "Florida                                         0.000000  \n",
       "Hawaii                                          0.000000  "
      ]
     },
     "execution_count": 134,
     "metadata": {},
     "output_type": "execute_result"
    }
   ],
   "source": [
    "vt_analysis.head()"
   ]
  },
  {
   "cell_type": "code",
   "execution_count": null,
   "metadata": {},
   "outputs": [],
   "source": [
    "#and abs(difference)!"
   ]
  },
  {
   "cell_type": "code",
   "execution_count": null,
   "metadata": {},
   "outputs": [],
   "source": [
    "#EVENTUALLY RUN REGRESSION CONTROLLING ON SIZE number of followers of candidate (etc.) "
   ]
  },
  {
   "cell_type": "code",
   "execution_count": 137,
   "metadata": {},
   "outputs": [
    {
     "data": {
      "image/png": "[encoded data removed]",
      "text/plain": [
       "<Figure size 432x288 with 1 Axes>"
      ]
     },
     "metadata": {
      "needs_background": "light"
     },
     "output_type": "display_data"
    }
   ],
   "source": [
    "plt.scatter(vt_analysis.voter_turnout_mean,vt_analysis.ratio_normalized_mean*10000)\n",
    "plt.title('Voter Turnout vs Mean Echo Chamber')\n",
    "plt.show()"
   ]
  },
  {
   "cell_type": "code",
   "execution_count": 139,
   "metadata": {},
   "outputs": [
    {
     "data": {
      "image/png": "[encoded data removed]",
      "text/plain": [
       "<Figure size 432x288 with 1 Axes>"
      ]
     },
     "metadata": {
      "needs_background": "light"
     },
     "output_type": "display_data"
    }
   ],
   "source": [
    "plt.scatter(vt_analysis.voter_turnout_mean,vt_analysis.ratio_normalized_max*10000)\n",
    "plt.title('Voter Turnout vs Max Echo Chamber')\n",
    "plt.show()"
   ]
  },
  {
   "cell_type": "code",
   "execution_count": 140,
   "metadata": {},
   "outputs": [
    {
     "data": {
      "image/png": "[encoded data removed]",
      "text/plain": [
       "<Figure size 432x288 with 1 Axes>"
      ]
     },
     "metadata": {
      "needs_background": "light"
     },
     "output_type": "display_data"
    }
   ],
   "source": [
    "plt.scatter(vt_analysis.voter_turnout_mean,vt_analysis.ratio_normalized_min*10000)\n",
    "plt.title('Voter Turnout vs Min Echo Chamber')\n",
    "plt.show()"
   ]
  },
  {
   "cell_type": "code",
   "execution_count": 141,
   "metadata": {},
   "outputs": [
    {
     "data": {
      "image/png": "[encoded data removed]",
      "text/plain": [
       "<Figure size 432x288 with 1 Axes>"
      ]
     },
     "metadata": {
      "needs_background": "light"
     },
     "output_type": "display_data"
    },
    {
     "data": {
      "image/png": "[encoded data removed]",
      "text/plain": [
       "<Figure size 432x288 with 1 Axes>"
      ]
     },
     "metadata": {
      "needs_background": "light"
     },
     "output_type": "display_data"
    },
    {
     "data": {
      "image/png": "[encoded data removed]",
      "text/plain": [
       "<Figure size 432x288 with 1 Axes>"
      ]
     },
     "metadata": {
      "needs_background": "light"
     },
     "output_type": "display_data"
    }
   ],
   "source": [
    "plt.scatter(vt_analysis.voter_turnout_mean,vt_analysis.ratio_mean*10000)\n",
    "plt.title('Voter Turnout vs Mean Echo Chamber')\n",
    "plt.show()\n",
    "\n",
    "plt.scatter(vt_analysis.voter_turnout_mean,vt_analysis.ratio_max*10000)\n",
    "plt.title('Voter Turnout vs Max Echo Chamber')\n",
    "plt.show()\n",
    "\n",
    "plt.scatter(vt_analysis.voter_turnout_mean,vt_analysis.ratio_min*10000)\n",
    "plt.title('Voter Turnout vs Min Echo Chamber')\n",
    "plt.show()"
   ]
  },
  {
   "cell_type": "code",
   "execution_count": 145,
   "metadata": {},
   "outputs": [
    {
     "data": {
      "image/png": "[encoded data removed]",
      "text/plain": [
       "<Figure size 432x288 with 1 Axes>"
      ]
     },
     "metadata": {
      "needs_background": "light"
     },
     "output_type": "display_data"
    },
    {
     "data": {
      "image/png": "[encoded data removed]",
      "text/plain": [
       "<Figure size 432x288 with 1 Axes>"
      ]
     },
     "metadata": {
      "needs_background": "light"
     },
     "output_type": "display_data"
    },
    {
     "data": {
      "image/png": "[encoded data removed]",
      "text/plain": [
       "<Figure size 432x288 with 1 Axes>"
      ]
     },
     "metadata": {
      "needs_background": "light"
     },
     "output_type": "display_data"
    }
   ],
   "source": [
    "plt.scatter(vt_analysis.voter_turnout_mean,vt_analysis.ratio_only_candidate_mean)\n",
    "plt.title('Voter Turnout vs Mean Echo Chamber')\n",
    "plt.show()\n",
    "\n",
    "plt.scatter(vt_analysis.voter_turnout_mean,vt_analysis.ratio_only_candidate_max)\n",
    "plt.title('Voter Turnout vs Max Echo Chamber')\n",
    "plt.show()\n",
    "\n",
    "plt.scatter(vt_analysis.voter_turnout_mean,vt_analysis.ratio_only_candidate_min)\n",
    "plt.title('Voter Turnout vs Min Echo Chamber')\n",
    "plt.show()"
   ]
  },
  {
   "cell_type": "code",
   "execution_count": 149,
   "metadata": {},
   "outputs": [
    {
     "data": {
      "image/png": "[encoded data removed]",
      "text/plain": [
       "<Figure size 432x288 with 1 Axes>"
      ]
     },
     "metadata": {
      "needs_background": "light"
     },
     "output_type": "display_data"
    },
    {
     "data": {
      "image/png": "[encoded data removed]",
      "text/plain": [
       "<Figure size 432x288 with 1 Axes>"
      ]
     },
     "metadata": {
      "needs_background": "light"
     },
     "output_type": "display_data"
    },
    {
     "data": {
      "image/png": "[encoded data removed]",
      "text/plain": [
       "<Figure size 432x288 with 1 Axes>"
      ]
     },
     "metadata": {
      "needs_background": "light"
     },
     "output_type": "display_data"
    }
   ],
   "source": [
    "plt.scatter(vt_analysis.voter_turnout_mean,vt_analysis.ratio_only_candidate_normalized_mean*10000)\n",
    "plt.title('Voter Turnout vs Mean Echo Chamber')\n",
    "plt.show()\n",
    "\n",
    "plt.scatter(vt_analysis.voter_turnout_mean,vt_analysis.ratio_only_candidate_normalized_max*10000)\n",
    "plt.title('Voter Turnout vs Max Echo Chamber')\n",
    "plt.show()\n",
    "\n",
    "plt.scatter(vt_analysis.voter_turnout_mean,vt_analysis.ratio_only_candidate_normalized_min*10000)\n",
    "plt.title('Voter Turnout vs Min Echo Chamber')\n",
    "plt.show()"
   ]
  },
  {
   "cell_type": "code",
   "execution_count": 150,
   "metadata": {},
   "outputs": [
    {
     "data": {
      "image/png": "[encoded data removed]",
      "text/plain": [
       "<Figure size 432x288 with 1 Axes>"
      ]
     },
     "metadata": {
      "needs_background": "light"
     },
     "output_type": "display_data"
    },
    {
     "data": {
      "image/png": "[encoded data removed]",
      "text/plain": [
       "<Figure size 432x288 with 1 Axes>"
      ]
     },
     "metadata": {
      "needs_background": "light"
     },
     "output_type": "display_data"
    },
    {
     "data": {
      "image/png": "[encoded data removed]",
      "text/plain": [
       "<Figure size 432x288 with 1 Axes>"
      ]
     },
     "metadata": {
      "needs_background": "light"
     },
     "output_type": "display_data"
    }
   ],
   "source": [
    "plt.scatter(vt_analysis.voter_turnout_mean,vt_analysis.ratio_opponent_over_candidate_followers_mean*10000)\n",
    "plt.title('Voter Turnout vs Mean Echo Chamber')\n",
    "plt.show()\n",
    "\n",
    "plt.scatter(vt_analysis.voter_turnout_mean,vt_analysis.ratio_opponent_over_candidate_followers_max*10000)\n",
    "plt.title('Voter Turnout vs Max Echo Chamber')\n",
    "plt.show()\n",
    "\n",
    "plt.scatter(vt_analysis.voter_turnout_mean,vt_analysis.ratio_opponent_over_candidate_followers_min*10000)\n",
    "plt.title('Voter Turnout vs Min Echo Chamber')\n",
    "plt.show()"
   ]
  },
  {
   "cell_type": "code",
   "execution_count": null,
   "metadata": {},
   "outputs": [],
   "source": []
  },
  {
   "cell_type": "markdown",
   "metadata": {},
   "source": [
    "# ELECTION OUTCOME "
   ]
  },
  {
   "cell_type": "code",
   "execution_count": 85,
   "metadata": {},
   "outputs": [],
   "source": [
    "election_results['dem_winner18'] = (election_results.pct_votes_18_dem > election_results.pct_votes_18_rep)*1"
   ]
  },
  {
   "cell_type": "code",
   "execution_count": 86,
   "metadata": {},
   "outputs": [],
   "source": [
    "candidate_echo_simplified = candidate_echo[['Real Name', 'ratio_normalized']]"
   ]
  },
  {
   "cell_type": "code",
   "execution_count": 87,
   "metadata": {},
   "outputs": [],
   "source": [
    "election_results = pd.merge(election_results, candidate_echo_simplified, \n",
    "                            left_on='dem_twitter_name', right_on='Real Name', \n",
    "                            how='left')"
   ]
  },
  {
   "cell_type": "code",
   "execution_count": 88,
   "metadata": {},
   "outputs": [],
   "source": [
    "tmp = list(election_results.columns)[:-1]\n",
    "tmp.append('echo_dem')\n",
    "election_results.columns = tmp"
   ]
  },
  {
   "cell_type": "code",
   "execution_count": 89,
   "metadata": {},
   "outputs": [],
   "source": [
    "election_results = pd.merge(election_results, candidate_echo_simplified, \n",
    "                            left_on='rep_twitter_name', right_on='Real Name', \n",
    "                            how='left')"
   ]
  },
  {
   "cell_type": "code",
   "execution_count": 90,
   "metadata": {},
   "outputs": [],
   "source": [
    "tmp = list(election_results.columns)[:-1]\n",
    "tmp.append('echo_rep')\n",
    "election_results.columns = tmp"
   ]
  },
  {
   "cell_type": "code",
   "execution_count": 91,
   "metadata": {},
   "outputs": [],
   "source": [
    "election_results['dem_more_echoed'] = (election_results.echo_dem > election_results.echo_rep)*1"
   ]
  },
  {
   "cell_type": "code",
   "execution_count": 92,
   "metadata": {},
   "outputs": [
    {
     "data": {
      "text/plain": [
       "array([0])"
      ]
     },
     "execution_count": 92,
     "metadata": {},
     "output_type": "execute_result"
    }
   ],
   "source": [
    "np.correlate(election_results.dem_winner18, election_results.dem_more_echoed)"
   ]
  },
  {
   "cell_type": "code",
   "execution_count": 93,
   "metadata": {},
   "outputs": [
    {
     "data": {
      "text/html": [
       "<div>\n",
       "<style scoped>\n",
       "    .dataframe tbody tr th:only-of-type {\n",
       "        vertical-align: middle;\n",
       "    }\n",
       "\n",
       "    .dataframe tbody tr th {\n",
       "        vertical-align: top;\n",
       "    }\n",
       "\n",
       "    .dataframe thead th {\n",
       "        text-align: right;\n",
       "    }\n",
       "</style>\n",
       "<table border=\"1\" class=\"dataframe\">\n",
       "  <thead>\n",
       "    <tr style=\"text-align: right;\">\n",
       "      <th></th>\n",
       "      <th>dem_winner18</th>\n",
       "      <th>dem_more_echoed</th>\n",
       "    </tr>\n",
       "  </thead>\n",
       "  <tbody>\n",
       "    <tr>\n",
       "      <th>dem_winner18</th>\n",
       "      <td>1.000000</td>\n",
       "      <td>-0.377964</td>\n",
       "    </tr>\n",
       "    <tr>\n",
       "      <th>dem_more_echoed</th>\n",
       "      <td>-0.377964</td>\n",
       "      <td>1.000000</td>\n",
       "    </tr>\n",
       "  </tbody>\n",
       "</table>\n",
       "</div>"
      ],
      "text/plain": [
       "                 dem_winner18  dem_more_echoed\n",
       "dem_winner18         1.000000        -0.377964\n",
       "dem_more_echoed     -0.377964         1.000000"
      ]
     },
     "execution_count": 93,
     "metadata": {},
     "output_type": "execute_result"
    }
   ],
   "source": [
    "election_results[['dem_winner18', 'dem_more_echoed']].corr()"
   ]
  },
  {
   "cell_type": "code",
   "execution_count": null,
   "metadata": {},
   "outputs": [],
   "source": [
    "#RUN IN REGRESSION CONTROLLING FOR SIZE"
   ]
  },
  {
   "cell_type": "code",
   "execution_count": 94,
   "metadata": {
    "scrolled": true
   },
   "outputs": [
    {
     "data": {
      "text/html": [
       "<div>\n",
       "<style scoped>\n",
       "    .dataframe tbody tr th:only-of-type {\n",
       "        vertical-align: middle;\n",
       "    }\n",
       "\n",
       "    .dataframe tbody tr th {\n",
       "        vertical-align: top;\n",
       "    }\n",
       "\n",
       "    .dataframe thead th {\n",
       "        text-align: right;\n",
       "    }\n",
       "</style>\n",
       "<table border=\"1\" class=\"dataframe\">\n",
       "  <thead>\n",
       "    <tr style=\"text-align: right;\">\n",
       "      <th></th>\n",
       "      <th>pct_votes_18_dem</th>\n",
       "      <th>pct_votes_18_rep</th>\n",
       "      <th>echo_dem</th>\n",
       "      <th>echo_rep</th>\n",
       "    </tr>\n",
       "  </thead>\n",
       "  <tbody>\n",
       "    <tr>\n",
       "      <th>pct_votes_18_dem</th>\n",
       "      <td>1.000000</td>\n",
       "      <td>-0.378212</td>\n",
       "      <td>-0.734315</td>\n",
       "      <td>0.272032</td>\n",
       "    </tr>\n",
       "    <tr>\n",
       "      <th>pct_votes_18_rep</th>\n",
       "      <td>-0.378212</td>\n",
       "      <td>1.000000</td>\n",
       "      <td>0.133676</td>\n",
       "      <td>-0.245412</td>\n",
       "    </tr>\n",
       "    <tr>\n",
       "      <th>echo_dem</th>\n",
       "      <td>-0.734315</td>\n",
       "      <td>0.133676</td>\n",
       "      <td>1.000000</td>\n",
       "      <td>-0.114771</td>\n",
       "    </tr>\n",
       "    <tr>\n",
       "      <th>echo_rep</th>\n",
       "      <td>0.272032</td>\n",
       "      <td>-0.245412</td>\n",
       "      <td>-0.114771</td>\n",
       "      <td>1.000000</td>\n",
       "    </tr>\n",
       "  </tbody>\n",
       "</table>\n",
       "</div>"
      ],
      "text/plain": [
       "                  pct_votes_18_dem  pct_votes_18_rep  echo_dem  echo_rep\n",
       "pct_votes_18_dem          1.000000         -0.378212 -0.734315  0.272032\n",
       "pct_votes_18_rep         -0.378212          1.000000  0.133676 -0.245412\n",
       "echo_dem                 -0.734315          0.133676  1.000000 -0.114771\n",
       "echo_rep                  0.272032         -0.245412 -0.114771  1.000000"
      ]
     },
     "execution_count": 94,
     "metadata": {},
     "output_type": "execute_result"
    }
   ],
   "source": [
    "election_results[['pct_votes_18_dem', 'pct_votes_18_rep', 'echo_dem', 'echo_rep']].corr()"
   ]
  },
  {
   "cell_type": "markdown",
   "metadata": {},
   "source": [
    "# Compile List of Candidates and Opponents "
   ]
  },
  {
   "cell_type": "code",
   "execution_count": 95,
   "metadata": {
    "scrolled": true
   },
   "outputs": [
    {
     "data": {
      "text/html": [
       "<div>\n",
       "<style scoped>\n",
       "    .dataframe tbody tr th:only-of-type {\n",
       "        vertical-align: middle;\n",
       "    }\n",
       "\n",
       "    .dataframe tbody tr th {\n",
       "        vertical-align: top;\n",
       "    }\n",
       "\n",
       "    .dataframe thead th {\n",
       "        text-align: right;\n",
       "    }\n",
       "</style>\n",
       "<table border=\"1\" class=\"dataframe\">\n",
       "  <thead>\n",
       "    <tr style=\"text-align: right;\">\n",
       "      <th></th>\n",
       "      <th>rep_twitter_name</th>\n",
       "      <th>dem_twitter_name</th>\n",
       "    </tr>\n",
       "  </thead>\n",
       "  <tbody>\n",
       "    <tr>\n",
       "      <th>0</th>\n",
       "      <td>NaN</td>\n",
       "      <td>NaN</td>\n",
       "    </tr>\n",
       "    <tr>\n",
       "      <th>1</th>\n",
       "      <td>Kevin de Leόn</td>\n",
       "      <td>Sen Dianne Feinstein</td>\n",
       "    </tr>\n",
       "    <tr>\n",
       "      <th>2</th>\n",
       "      <td>Matthew Corey</td>\n",
       "      <td>Chris Murphy</td>\n",
       "    </tr>\n",
       "    <tr>\n",
       "      <th>3</th>\n",
       "      <td>NaN</td>\n",
       "      <td>Senator Tom Carper</td>\n",
       "    </tr>\n",
       "    <tr>\n",
       "      <th>4</th>\n",
       "      <td>NaN</td>\n",
       "      <td>Bill Nelson</td>\n",
       "    </tr>\n",
       "  </tbody>\n",
       "</table>\n",
       "</div>"
      ],
      "text/plain": [
       "  rep_twitter_name      dem_twitter_name\n",
       "0              NaN                   NaN\n",
       "1    Kevin de Leόn  Sen Dianne Feinstein\n",
       "2    Matthew Corey          Chris Murphy\n",
       "3              NaN    Senator Tom Carper\n",
       "4              NaN           Bill Nelson"
      ]
     },
     "execution_count": 95,
     "metadata": {},
     "output_type": "execute_result"
    }
   ],
   "source": [
    "candidates_opponents = election_results[['rep_twitter_name', 'dem_twitter_name']]\n",
    "candidates_opponents.head()"
   ]
  },
  {
   "cell_type": "code",
   "execution_count": 96,
   "metadata": {},
   "outputs": [],
   "source": [
    "candidate_opponents_id = list()\n",
    "for i in candidates_opponents.index:\n",
    "    r = candidates_opponents.iloc[i,0]\n",
    "    d = candidates_opponents.iloc[i,1]\n",
    "    \n",
    "    try:\n",
    "        r_id =candidate_echo[candidate_echo['Real Name'] == r].UserID.tolist()[0]\n",
    "    except:\n",
    "        r_id = None\n",
    "        \n",
    "    try:\n",
    "        d_id =candidate_echo[candidate_echo['Real Name'] == d].UserID.tolist()[0]\n",
    "    except:\n",
    "        d_id = None\n",
    "    \n",
    "    candidate_opponents_id.append((r_id, d_id))"
   ]
  },
  {
   "cell_type": "code",
   "execution_count": 97,
   "metadata": {},
   "outputs": [],
   "source": [
    "candidate_opponents_id_df = pd.DataFrame(candidate_opponents_id, columns=['republican_id', 'democrat_id'])"
   ]
  },
  {
   "cell_type": "code",
   "execution_count": 98,
   "metadata": {},
   "outputs": [
    {
     "data": {
      "text/html": [
       "<div>\n",
       "<style scoped>\n",
       "    .dataframe tbody tr th:only-of-type {\n",
       "        vertical-align: middle;\n",
       "    }\n",
       "\n",
       "    .dataframe tbody tr th {\n",
       "        vertical-align: top;\n",
       "    }\n",
       "\n",
       "    .dataframe thead th {\n",
       "        text-align: right;\n",
       "    }\n",
       "</style>\n",
       "<table border=\"1\" class=\"dataframe\">\n",
       "  <thead>\n",
       "    <tr style=\"text-align: right;\">\n",
       "      <th></th>\n",
       "      <th>republican_id</th>\n",
       "      <th>democrat_id</th>\n",
       "    </tr>\n",
       "  </thead>\n",
       "  <tbody>\n",
       "    <tr>\n",
       "      <th>0</th>\n",
       "      <td>NaN</td>\n",
       "      <td>NaN</td>\n",
       "    </tr>\n",
       "    <tr>\n",
       "      <th>1</th>\n",
       "      <td>3.081594e+07</td>\n",
       "      <td>476256944.0</td>\n",
       "    </tr>\n",
       "    <tr>\n",
       "      <th>2</th>\n",
       "      <td>2.497704e+09</td>\n",
       "      <td>150078976.0</td>\n",
       "    </tr>\n",
       "    <tr>\n",
       "      <th>3</th>\n",
       "      <td>NaN</td>\n",
       "      <td>249787913.0</td>\n",
       "    </tr>\n",
       "    <tr>\n",
       "      <th>4</th>\n",
       "      <td>NaN</td>\n",
       "      <td>20597460.0</td>\n",
       "    </tr>\n",
       "  </tbody>\n",
       "</table>\n",
       "</div>"
      ],
      "text/plain": [
       "   republican_id  democrat_id\n",
       "0            NaN          NaN\n",
       "1   3.081594e+07  476256944.0\n",
       "2   2.497704e+09  150078976.0\n",
       "3            NaN  249787913.0\n",
       "4            NaN   20597460.0"
      ]
     },
     "execution_count": 98,
     "metadata": {},
     "output_type": "execute_result"
    }
   ],
   "source": [
    "candidate_opponents_id_df.head()"
   ]
  },
  {
   "cell_type": "code",
   "execution_count": 99,
   "metadata": {},
   "outputs": [],
   "source": [
    "candidate_opponents_id_df.to_csv('opponents.csv', index=False)"
   ]
  },
  {
   "cell_type": "code",
   "execution_count": 100,
   "metadata": {},
   "outputs": [
    {
     "data": {
      "text/html": [
       "<div>\n",
       "<style scoped>\n",
       "    .dataframe tbody tr th:only-of-type {\n",
       "        vertical-align: middle;\n",
       "    }\n",
       "\n",
       "    .dataframe tbody tr th {\n",
       "        vertical-align: top;\n",
       "    }\n",
       "\n",
       "    .dataframe thead th {\n",
       "        text-align: right;\n",
       "    }\n",
       "</style>\n",
       "<table border=\"1\" class=\"dataframe\">\n",
       "  <thead>\n",
       "    <tr style=\"text-align: right;\">\n",
       "      <th></th>\n",
       "      <th>republican_id</th>\n",
       "      <th>democrat_id</th>\n",
       "    </tr>\n",
       "  </thead>\n",
       "  <tbody>\n",
       "    <tr>\n",
       "      <th>0</th>\n",
       "      <td>NaN</td>\n",
       "      <td>NaN</td>\n",
       "    </tr>\n",
       "    <tr>\n",
       "      <th>1</th>\n",
       "      <td>3.081594e+07</td>\n",
       "      <td>476256944.0</td>\n",
       "    </tr>\n",
       "    <tr>\n",
       "      <th>2</th>\n",
       "      <td>2.497704e+09</td>\n",
       "      <td>150078976.0</td>\n",
       "    </tr>\n",
       "    <tr>\n",
       "      <th>3</th>\n",
       "      <td>NaN</td>\n",
       "      <td>249787913.0</td>\n",
       "    </tr>\n",
       "    <tr>\n",
       "      <th>4</th>\n",
       "      <td>NaN</td>\n",
       "      <td>20597460.0</td>\n",
       "    </tr>\n",
       "  </tbody>\n",
       "</table>\n",
       "</div>"
      ],
      "text/plain": [
       "   republican_id  democrat_id\n",
       "0            NaN          NaN\n",
       "1   3.081594e+07  476256944.0\n",
       "2   2.497704e+09  150078976.0\n",
       "3            NaN  249787913.0\n",
       "4            NaN   20597460.0"
      ]
     },
     "execution_count": 100,
     "metadata": {},
     "output_type": "execute_result"
    }
   ],
   "source": [
    "candidate_opponents_id_df = pd.read_csv('opponents.csv')\n",
    "candidate_opponents_id_df.head()"
   ]
  },
  {
   "cell_type": "markdown",
   "metadata": {},
   "source": [
    "# Data Quality "
   ]
  },
  {
   "cell_type": "markdown",
   "metadata": {},
   "source": [
    "how many candidates are missing?"
   ]
  },
  {
   "cell_type": "code",
   "execution_count": 101,
   "metadata": {},
   "outputs": [
    {
     "data": {
      "text/html": [
       "<div>\n",
       "<style scoped>\n",
       "    .dataframe tbody tr th:only-of-type {\n",
       "        vertical-align: middle;\n",
       "    }\n",
       "\n",
       "    .dataframe tbody tr th {\n",
       "        vertical-align: top;\n",
       "    }\n",
       "\n",
       "    .dataframe thead th {\n",
       "        text-align: right;\n",
       "    }\n",
       "</style>\n",
       "<table border=\"1\" class=\"dataframe\">\n",
       "  <thead>\n",
       "    <tr style=\"text-align: right;\">\n",
       "      <th></th>\n",
       "      <th>rep_twitter_name</th>\n",
       "      <th>score</th>\n",
       "      <th>rep_name</th>\n",
       "    </tr>\n",
       "  </thead>\n",
       "  <tbody>\n",
       "    <tr>\n",
       "      <th>0</th>\n",
       "      <td>NaN</td>\n",
       "      <td>53</td>\n",
       "      <td>Martha McSally</td>\n",
       "    </tr>\n",
       "    <tr>\n",
       "      <th>3</th>\n",
       "      <td>NaN</td>\n",
       "      <td>41</td>\n",
       "      <td>Robert B Arlett</td>\n",
       "    </tr>\n",
       "    <tr>\n",
       "      <th>4</th>\n",
       "      <td>NaN</td>\n",
       "      <td>53</td>\n",
       "      <td>Rick Scott</td>\n",
       "    </tr>\n",
       "    <tr>\n",
       "      <th>8</th>\n",
       "      <td>NaN</td>\n",
       "      <td>62</td>\n",
       "      <td>Tony Campbell</td>\n",
       "    </tr>\n",
       "    <tr>\n",
       "      <th>10</th>\n",
       "      <td>NaN</td>\n",
       "      <td>60</td>\n",
       "      <td>John James</td>\n",
       "    </tr>\n",
       "    <tr>\n",
       "      <th>11</th>\n",
       "      <td>NaN</td>\n",
       "      <td>43</td>\n",
       "      <td>Jim Newberger</td>\n",
       "    </tr>\n",
       "    <tr>\n",
       "      <th>12</th>\n",
       "      <td>NaN</td>\n",
       "      <td>38</td>\n",
       "      <td>Roger F. Wicker</td>\n",
       "    </tr>\n",
       "    <tr>\n",
       "      <th>17</th>\n",
       "      <td>NaN</td>\n",
       "      <td>48</td>\n",
       "      <td>Bob Hugin</td>\n",
       "    </tr>\n",
       "    <tr>\n",
       "      <th>20</th>\n",
       "      <td>NaN</td>\n",
       "      <td>67</td>\n",
       "      <td>Kevin Cramer</td>\n",
       "    </tr>\n",
       "    <tr>\n",
       "      <th>22</th>\n",
       "      <td>NaN</td>\n",
       "      <td>43</td>\n",
       "      <td>Louis J. Barletta</td>\n",
       "    </tr>\n",
       "    <tr>\n",
       "      <th>27</th>\n",
       "      <td>NaN</td>\n",
       "      <td>43</td>\n",
       "      <td>Lawrence Zupan</td>\n",
       "    </tr>\n",
       "    <tr>\n",
       "      <th>30</th>\n",
       "      <td>NaN</td>\n",
       "      <td>52</td>\n",
       "      <td>Patrick Morrisey</td>\n",
       "    </tr>\n",
       "  </tbody>\n",
       "</table>\n",
       "</div>"
      ],
      "text/plain": [
       "   rep_twitter_name  score           rep_name\n",
       "0               NaN     53     Martha McSally\n",
       "3               NaN     41    Robert B Arlett\n",
       "4               NaN     53         Rick Scott\n",
       "8               NaN     62      Tony Campbell\n",
       "10              NaN     60         John James\n",
       "11              NaN     43      Jim Newberger\n",
       "12              NaN     38    Roger F. Wicker\n",
       "17              NaN     48          Bob Hugin\n",
       "20              NaN     67       Kevin Cramer\n",
       "22              NaN     43  Louis J. Barletta\n",
       "27              NaN     43     Lawrence Zupan\n",
       "30              NaN     52   Patrick Morrisey"
      ]
     },
     "execution_count": 101,
     "metadata": {},
     "output_type": "execute_result"
    }
   ],
   "source": [
    "rep_candidates_fuzzy[rep_candidates_fuzzy.rep_twitter_name.isna()]"
   ]
  },
  {
   "cell_type": "code",
   "execution_count": 102,
   "metadata": {},
   "outputs": [
    {
     "data": {
      "text/plain": [
       "12"
      ]
     },
     "execution_count": 102,
     "metadata": {},
     "output_type": "execute_result"
    }
   ],
   "source": [
    "rep_candidates_fuzzy.rep_twitter_name.isna().sum()"
   ]
  },
  {
   "cell_type": "code",
   "execution_count": 103,
   "metadata": {},
   "outputs": [
    {
     "data": {
      "text/html": [
       "<div>\n",
       "<style scoped>\n",
       "    .dataframe tbody tr th:only-of-type {\n",
       "        vertical-align: middle;\n",
       "    }\n",
       "\n",
       "    .dataframe tbody tr th {\n",
       "        vertical-align: top;\n",
       "    }\n",
       "\n",
       "    .dataframe thead th {\n",
       "        text-align: right;\n",
       "    }\n",
       "</style>\n",
       "<table border=\"1\" class=\"dataframe\">\n",
       "  <thead>\n",
       "    <tr style=\"text-align: right;\">\n",
       "      <th></th>\n",
       "      <th>dem_twitter_name</th>\n",
       "      <th>score</th>\n",
       "      <th>dem_name</th>\n",
       "    </tr>\n",
       "  </thead>\n",
       "  <tbody>\n",
       "    <tr>\n",
       "      <th>0</th>\n",
       "      <td>NaN</td>\n",
       "      <td>56</td>\n",
       "      <td>Kyrsten Sinema</td>\n",
       "    </tr>\n",
       "    <tr>\n",
       "      <th>7</th>\n",
       "      <td>NaN</td>\n",
       "      <td>51</td>\n",
       "      <td>Zak Ringelstein</td>\n",
       "    </tr>\n",
       "  </tbody>\n",
       "</table>\n",
       "</div>"
      ],
      "text/plain": [
       "  dem_twitter_name  score         dem_name\n",
       "0              NaN     56   Kyrsten Sinema\n",
       "7              NaN     51  Zak Ringelstein"
      ]
     },
     "execution_count": 103,
     "metadata": {},
     "output_type": "execute_result"
    }
   ],
   "source": [
    "dem_candidates_fuzzy[dem_candidates_fuzzy.dem_twitter_name.isna()]"
   ]
  },
  {
   "cell_type": "code",
   "execution_count": null,
   "metadata": {},
   "outputs": [],
   "source": []
  },
  {
   "cell_type": "markdown",
   "metadata": {},
   "source": [
    "which twitter accounts seem off?"
   ]
  },
  {
   "cell_type": "code",
   "execution_count": 104,
   "metadata": {},
   "outputs": [
    {
     "data": {
      "text/html": [
       "<div>\n",
       "<style scoped>\n",
       "    .dataframe tbody tr th:only-of-type {\n",
       "        vertical-align: middle;\n",
       "    }\n",
       "\n",
       "    .dataframe tbody tr th {\n",
       "        vertical-align: top;\n",
       "    }\n",
       "\n",
       "    .dataframe thead th {\n",
       "        text-align: right;\n",
       "    }\n",
       "</style>\n",
       "<table border=\"1\" class=\"dataframe\">\n",
       "  <thead>\n",
       "    <tr style=\"text-align: right;\">\n",
       "      <th></th>\n",
       "      <th>followers</th>\n",
       "      <th>f_of_f_candidate_followers</th>\n",
       "      <th>n_f_of_f</th>\n",
       "      <th>ratio</th>\n",
       "      <th>n_candidate_followers</th>\n",
       "      <th>ratio_normalized</th>\n",
       "      <th>opponent_followers</th>\n",
       "      <th>candidate_and_opponent_followers</th>\n",
       "      <th>only_candidate</th>\n",
       "      <th>only_opponent</th>\n",
       "      <th>...</th>\n",
       "      <th>Profile Created At</th>\n",
       "      <th>URL</th>\n",
       "      <th>Location</th>\n",
       "      <th>UTC Offset</th>\n",
       "      <th>Time Zone</th>\n",
       "      <th>Favourites Count</th>\n",
       "      <th>Friends Count</th>\n",
       "      <th>Followers Count</th>\n",
       "      <th>Statuses Count</th>\n",
       "      <th>Profile Image URL</th>\n",
       "    </tr>\n",
       "  </thead>\n",
       "  <tbody>\n",
       "    <tr>\n",
       "      <th>32</th>\n",
       "      <td>6.393368e+08</td>\n",
       "      <td>0.000000</td>\n",
       "      <td>10514.500000</td>\n",
       "      <td>0.000000</td>\n",
       "      <td>2.0</td>\n",
       "      <td>0.000000</td>\n",
       "      <td>0.000000</td>\n",
       "      <td>0.000000</td>\n",
       "      <td>0.0</td>\n",
       "      <td>0.0</td>\n",
       "      <td>...</td>\n",
       "      <td>Sun Jun 02 14:42:30 +0000 2013</td>\n",
       "      <td>None</td>\n",
       "      <td></td>\n",
       "      <td>None</td>\n",
       "      <td>None</td>\n",
       "      <td>0</td>\n",
       "      <td>0</td>\n",
       "      <td>2</td>\n",
       "      <td>0</td>\n",
       "      <td>http://abs.twimg.com/sticky/default_profile_im...</td>\n",
       "    </tr>\n",
       "    <tr>\n",
       "      <th>74</th>\n",
       "      <td>5.127620e+17</td>\n",
       "      <td>0.400000</td>\n",
       "      <td>16224.600000</td>\n",
       "      <td>0.000061</td>\n",
       "      <td>12.0</td>\n",
       "      <td>0.000005</td>\n",
       "      <td>0.400000</td>\n",
       "      <td>0.400000</td>\n",
       "      <td>0.0</td>\n",
       "      <td>0.0</td>\n",
       "      <td>...</td>\n",
       "      <td>Fri Mar 02 19:00:33 +0000 2018</td>\n",
       "      <td>None</td>\n",
       "      <td></td>\n",
       "      <td>None</td>\n",
       "      <td>None</td>\n",
       "      <td>2</td>\n",
       "      <td>41</td>\n",
       "      <td>12</td>\n",
       "      <td>13</td>\n",
       "      <td>http://pbs.twimg.com/profile_images/9722347569...</td>\n",
       "    </tr>\n",
       "    <tr>\n",
       "      <th>54</th>\n",
       "      <td>3.327443e+17</td>\n",
       "      <td>0.000000</td>\n",
       "      <td>6497.823529</td>\n",
       "      <td>0.000000</td>\n",
       "      <td>24.0</td>\n",
       "      <td>0.000000</td>\n",
       "      <td>0.000000</td>\n",
       "      <td>0.000000</td>\n",
       "      <td>0.0</td>\n",
       "      <td>0.0</td>\n",
       "      <td>...</td>\n",
       "      <td>Sun Jan 11 00:44:11 +0000 2015</td>\n",
       "      <td>https://t.co/8qjPiv2NPG</td>\n",
       "      <td>Seagirt, NJ</td>\n",
       "      <td>None</td>\n",
       "      <td>None</td>\n",
       "      <td>2</td>\n",
       "      <td>17</td>\n",
       "      <td>24</td>\n",
       "      <td>96</td>\n",
       "      <td>http://pbs.twimg.com/profile_images/7239159756...</td>\n",
       "    </tr>\n",
       "    <tr>\n",
       "      <th>51</th>\n",
       "      <td>5.072906e+17</td>\n",
       "      <td>3.407407</td>\n",
       "      <td>1740.925926</td>\n",
       "      <td>0.005505</td>\n",
       "      <td>37.0</td>\n",
       "      <td>0.000149</td>\n",
       "      <td>3.407407</td>\n",
       "      <td>3.407407</td>\n",
       "      <td>0.0</td>\n",
       "      <td>0.0</td>\n",
       "      <td>...</td>\n",
       "      <td>Fri Jun 09 17:00:10 +0000 2017</td>\n",
       "      <td>None</td>\n",
       "      <td>New Jersey</td>\n",
       "      <td>None</td>\n",
       "      <td>None</td>\n",
       "      <td>91</td>\n",
       "      <td>56</td>\n",
       "      <td>37</td>\n",
       "      <td>211</td>\n",
       "      <td>http://pbs.twimg.com/profile_images/9584283490...</td>\n",
       "    </tr>\n",
       "    <tr>\n",
       "      <th>35</th>\n",
       "      <td>2.069926e+16</td>\n",
       "      <td>11.555556</td>\n",
       "      <td>61361.765432</td>\n",
       "      <td>0.014571</td>\n",
       "      <td>86.0</td>\n",
       "      <td>0.000169</td>\n",
       "      <td>11.555556</td>\n",
       "      <td>11.555556</td>\n",
       "      <td>0.0</td>\n",
       "      <td>0.0</td>\n",
       "      <td>...</td>\n",
       "      <td>Wed Jun 11 02:53:45 +0000 2014</td>\n",
       "      <td>None</td>\n",
       "      <td>H'burg whudup</td>\n",
       "      <td>None</td>\n",
       "      <td>None</td>\n",
       "      <td>2</td>\n",
       "      <td>560</td>\n",
       "      <td>86</td>\n",
       "      <td>134</td>\n",
       "      <td>http://pbs.twimg.com/profile_images/4765601471...</td>\n",
       "    </tr>\n",
       "    <tr>\n",
       "      <th>34</th>\n",
       "      <td>2.639202e+17</td>\n",
       "      <td>11.738095</td>\n",
       "      <td>4094.565476</td>\n",
       "      <td>0.012997</td>\n",
       "      <td>206.0</td>\n",
       "      <td>0.000063</td>\n",
       "      <td>11.738095</td>\n",
       "      <td>11.738095</td>\n",
       "      <td>0.0</td>\n",
       "      <td>0.0</td>\n",
       "      <td>...</td>\n",
       "      <td>Sat Aug 06 17:19:42 +0000 2016</td>\n",
       "      <td>https://t.co/tULcJOQDWF</td>\n",
       "      <td></td>\n",
       "      <td>None</td>\n",
       "      <td>None</td>\n",
       "      <td>2855</td>\n",
       "      <td>200</td>\n",
       "      <td>206</td>\n",
       "      <td>1331</td>\n",
       "      <td>http://pbs.twimg.com/profile_images/1004765350...</td>\n",
       "    </tr>\n",
       "    <tr>\n",
       "      <th>28</th>\n",
       "      <td>1.963508e+17</td>\n",
       "      <td>37.492537</td>\n",
       "      <td>5265.489552</td>\n",
       "      <td>0.016774</td>\n",
       "      <td>404.0</td>\n",
       "      <td>0.000042</td>\n",
       "      <td>37.492537</td>\n",
       "      <td>37.492537</td>\n",
       "      <td>0.0</td>\n",
       "      <td>0.0</td>\n",
       "      <td>...</td>\n",
       "      <td>Wed Oct 01 16:43:07 +0000 2014</td>\n",
       "      <td>https://t.co/MGWQ6FKhNJ</td>\n",
       "      <td>St Clair Shores, MI</td>\n",
       "      <td>None</td>\n",
       "      <td>None</td>\n",
       "      <td>831</td>\n",
       "      <td>58</td>\n",
       "      <td>405</td>\n",
       "      <td>484</td>\n",
       "      <td>http://pbs.twimg.com/profile_images/7663767444...</td>\n",
       "    </tr>\n",
       "    <tr>\n",
       "      <th>65</th>\n",
       "      <td>1.025802e+17</td>\n",
       "      <td>39.810026</td>\n",
       "      <td>5241.601583</td>\n",
       "      <td>0.063831</td>\n",
       "      <td>436.0</td>\n",
       "      <td>0.000146</td>\n",
       "      <td>39.810026</td>\n",
       "      <td>39.810026</td>\n",
       "      <td>0.0</td>\n",
       "      <td>0.0</td>\n",
       "      <td>...</td>\n",
       "      <td>Tue Aug 26 14:27:37 +0000 2014</td>\n",
       "      <td>https://t.co/VgOSJF9YUu</td>\n",
       "      <td>Providence, RI</td>\n",
       "      <td>None</td>\n",
       "      <td>None</td>\n",
       "      <td>18</td>\n",
       "      <td>385</td>\n",
       "      <td>437</td>\n",
       "      <td>78</td>\n",
       "      <td>http://pbs.twimg.com/profile_images/9548651169...</td>\n",
       "    </tr>\n",
       "    <tr>\n",
       "      <th>0</th>\n",
       "      <td>2.983732e+17</td>\n",
       "      <td>11.769417</td>\n",
       "      <td>15142.101942</td>\n",
       "      <td>0.011844</td>\n",
       "      <td>517.0</td>\n",
       "      <td>0.000023</td>\n",
       "      <td>11.769417</td>\n",
       "      <td>11.769417</td>\n",
       "      <td>0.0</td>\n",
       "      <td>0.0</td>\n",
       "      <td>...</td>\n",
       "      <td>Mon Aug 21 18:20:53 +0000 2017</td>\n",
       "      <td>https://t.co/LUSeUll12Z</td>\n",
       "      <td>Phoenix, AZ</td>\n",
       "      <td>None</td>\n",
       "      <td>None</td>\n",
       "      <td>139</td>\n",
       "      <td>153</td>\n",
       "      <td>517</td>\n",
       "      <td>255</td>\n",
       "      <td>http://pbs.twimg.com/profile_images/9526583387...</td>\n",
       "    </tr>\n",
       "    <tr>\n",
       "      <th>57</th>\n",
       "      <td>3.175242e+17</td>\n",
       "      <td>23.600316</td>\n",
       "      <td>8010.620853</td>\n",
       "      <td>0.018951</td>\n",
       "      <td>816.0</td>\n",
       "      <td>0.000023</td>\n",
       "      <td>23.600316</td>\n",
       "      <td>23.600316</td>\n",
       "      <td>0.0</td>\n",
       "      <td>0.0</td>\n",
       "      <td>...</td>\n",
       "      <td>Tue Jan 19 19:29:41 +0000 2016</td>\n",
       "      <td>https://t.co/Z3g49Hkdjp</td>\n",
       "      <td>Albuquerque, NM</td>\n",
       "      <td>None</td>\n",
       "      <td>None</td>\n",
       "      <td>6</td>\n",
       "      <td>158</td>\n",
       "      <td>815</td>\n",
       "      <td>547</td>\n",
       "      <td>http://pbs.twimg.com/profile_images/1034834484...</td>\n",
       "    </tr>\n",
       "  </tbody>\n",
       "</table>\n",
       "<p>10 rows × 27 columns</p>\n",
       "</div>"
      ],
      "text/plain": [
       "       followers  f_of_f_candidate_followers      n_f_of_f     ratio  \\\n",
       "32  6.393368e+08                    0.000000  10514.500000  0.000000   \n",
       "74  5.127620e+17                    0.400000  16224.600000  0.000061   \n",
       "54  3.327443e+17                    0.000000   6497.823529  0.000000   \n",
       "51  5.072906e+17                    3.407407   1740.925926  0.005505   \n",
       "35  2.069926e+16                   11.555556  61361.765432  0.014571   \n",
       "34  2.639202e+17                   11.738095   4094.565476  0.012997   \n",
       "28  1.963508e+17                   37.492537   5265.489552  0.016774   \n",
       "65  1.025802e+17                   39.810026   5241.601583  0.063831   \n",
       "0   2.983732e+17                   11.769417  15142.101942  0.011844   \n",
       "57  3.175242e+17                   23.600316   8010.620853  0.018951   \n",
       "\n",
       "    n_candidate_followers  ratio_normalized  opponent_followers  \\\n",
       "32                    2.0          0.000000            0.000000   \n",
       "74                   12.0          0.000005            0.400000   \n",
       "54                   24.0          0.000000            0.000000   \n",
       "51                   37.0          0.000149            3.407407   \n",
       "35                   86.0          0.000169           11.555556   \n",
       "34                  206.0          0.000063           11.738095   \n",
       "28                  404.0          0.000042           37.492537   \n",
       "65                  436.0          0.000146           39.810026   \n",
       "0                   517.0          0.000023           11.769417   \n",
       "57                  816.0          0.000023           23.600316   \n",
       "\n",
       "    candidate_and_opponent_followers  only_candidate  only_opponent  ...  \\\n",
       "32                          0.000000             0.0            0.0  ...   \n",
       "74                          0.400000             0.0            0.0  ...   \n",
       "54                          0.000000             0.0            0.0  ...   \n",
       "51                          3.407407             0.0            0.0  ...   \n",
       "35                         11.555556             0.0            0.0  ...   \n",
       "34                         11.738095             0.0            0.0  ...   \n",
       "28                         37.492537             0.0            0.0  ...   \n",
       "65                         39.810026             0.0            0.0  ...   \n",
       "0                          11.769417             0.0            0.0  ...   \n",
       "57                         23.600316             0.0            0.0  ...   \n",
       "\n",
       "                Profile Created At                      URL  \\\n",
       "32  Sun Jun 02 14:42:30 +0000 2013                     None   \n",
       "74  Fri Mar 02 19:00:33 +0000 2018                     None   \n",
       "54  Sun Jan 11 00:44:11 +0000 2015  https://t.co/8qjPiv2NPG   \n",
       "51  Fri Jun 09 17:00:10 +0000 2017                     None   \n",
       "35  Wed Jun 11 02:53:45 +0000 2014                     None   \n",
       "34  Sat Aug 06 17:19:42 +0000 2016  https://t.co/tULcJOQDWF   \n",
       "28  Wed Oct 01 16:43:07 +0000 2014  https://t.co/MGWQ6FKhNJ   \n",
       "65  Tue Aug 26 14:27:37 +0000 2014  https://t.co/VgOSJF9YUu   \n",
       "0   Mon Aug 21 18:20:53 +0000 2017  https://t.co/LUSeUll12Z   \n",
       "57  Tue Jan 19 19:29:41 +0000 2016  https://t.co/Z3g49Hkdjp   \n",
       "\n",
       "               Location  UTC Offset Time Zone Favourites Count Friends Count  \\\n",
       "32                             None      None                0             0   \n",
       "74                             None      None                2            41   \n",
       "54          Seagirt, NJ        None      None                2            17   \n",
       "51           New Jersey        None      None               91            56   \n",
       "35        H'burg whudup        None      None                2           560   \n",
       "34                             None      None             2855           200   \n",
       "28  St Clair Shores, MI        None      None              831            58   \n",
       "65       Providence, RI        None      None               18           385   \n",
       "0           Phoenix, AZ        None      None              139           153   \n",
       "57      Albuquerque, NM        None      None                6           158   \n",
       "\n",
       "   Followers Count Statuses Count  \\\n",
       "32               2              0   \n",
       "74              12             13   \n",
       "54              24             96   \n",
       "51              37            211   \n",
       "35              86            134   \n",
       "34             206           1331   \n",
       "28             405            484   \n",
       "65             437             78   \n",
       "0              517            255   \n",
       "57             815            547   \n",
       "\n",
       "                                    Profile Image URL  \n",
       "32  http://abs.twimg.com/sticky/default_profile_im...  \n",
       "74  http://pbs.twimg.com/profile_images/9722347569...  \n",
       "54  http://pbs.twimg.com/profile_images/7239159756...  \n",
       "51  http://pbs.twimg.com/profile_images/9584283490...  \n",
       "35  http://pbs.twimg.com/profile_images/4765601471...  \n",
       "34  http://pbs.twimg.com/profile_images/1004765350...  \n",
       "28  http://pbs.twimg.com/profile_images/7663767444...  \n",
       "65  http://pbs.twimg.com/profile_images/9548651169...  \n",
       "0   http://pbs.twimg.com/profile_images/9526583387...  \n",
       "57  http://pbs.twimg.com/profile_images/1034834484...  \n",
       "\n",
       "[10 rows x 27 columns]"
      ]
     },
     "execution_count": 104,
     "metadata": {},
     "output_type": "execute_result"
    }
   ],
   "source": [
    "candidate_echo.sort_values('Followers Count').head(10)"
   ]
  },
  {
   "cell_type": "code",
   "execution_count": 105,
   "metadata": {},
   "outputs": [],
   "source": [
    "#Paula overby: \n",
    "    #the account that we're tracking seems off: https://twitter.com/paulaoverby\n",
    "    #this account seems better: https://twitter.com/PaulaOverby2014\n",
    "\n",
    "#Reed McCandless only got 1.2% of the vote. Not sure if he's relevant for the analysis\n",
    "\n",
    "#Kevin Kimple:\n",
    "    #he got 0.29% of the votes. \n",
    "    #perhaps we should track bob hugin instead, who got 42.8%\n",
    "\n",
    "#Bob Flanders\n",
    "    #this is the account we're tracking: https://twitter.com/rgflandersjr\n",
    "    #this account seems better: https://twitter.com/flanders4senate\n",
    "    \n",
    "#Maybe i should eliminate independents with almost no votes from analysis \n",
    "#Go through other acccounts to make sure there isn't an official campaign one for the person"
   ]
  },
  {
   "cell_type": "code",
   "execution_count": null,
   "metadata": {},
   "outputs": [],
   "source": []
  },
  {
   "cell_type": "markdown",
   "metadata": {},
   "source": [
    "Todo: \n",
    "Only look at major candidates\n",
    "    - only look at mid 50% PERCENTILE?\n",
    "    - also only remove bottom 25% # followers\n",
    "Compute correlation number  \n",
    "Compute regression controlling by size "
   ]
  },
  {
   "cell_type": "code",
   "execution_count": null,
   "metadata": {},
   "outputs": [],
   "source": []
  }
 ],
 "metadata": {
  "kernelspec": {
   "display_name": "Python 3",
   "language": "python",
   "name": "python3"
  },
  "language_info": {
   "codemirror_mode": {
    "name": "ipython",
    "version": 3
   },
   "file_extension": ".py",
   "mimetype": "text/x-python",
   "name": "python",
   "nbconvert_exporter": "python",
   "pygments_lexer": "ipython3",
   "version": "3.7.3"
  }
 },
 "nbformat": 4,
 "nbformat_minor": 2
}
